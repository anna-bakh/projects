{
 "cells": [
  {
   "cell_type": "markdown",
   "metadata": {},
   "source": [
    "# A/B testing"
   ]
  },
  {
   "cell_type": "markdown",
   "metadata": {},
   "source": [
    "**Objective:**\n",
    "\n",
    "Assess the correctness of the A/B test execution and analyze its results."
   ]
  },
  {
   "cell_type": "markdown",
   "metadata": {},
   "source": [
    "**Terms of reference**\n",
    "- Test name: `recommender_system_test`;\n",
    "- Groups: А (control), B (new payment funnel);\n",
    "- Start date: 2020-12-07;\n",
    "- Stop date for adding new users: 2020-12-21;\n",
    "- End date: 2021-01-04;\n",
    "- Audience: 15% of new users should be from the EU region;\n",
    "- Purpose of the test: testing changes associated with the implementation of an improved recommendation system;\n",
    "- Expected number of test participants: 6000;\n",
    "- Expected effect: within 14 days of registration in the system, users will show an improvement in each metric by at least 10%:\n",
    "  - conversion to viewing product pages — event `product_page`\n",
    "  - conversion to viewing product cart — `product_cart`\n",
    "  - conversion in purchase — `purchase`."
   ]
  },
  {
   "cell_type": "markdown",
   "metadata": {},
   "source": [
    "**Data Description:**\n",
    "\n",
    "`/datasets/ab_project_marketing_events.csv` — calendar of marketing events for 2020;\n",
    "- File structure: \n",
    "  - name — name of the marketing event;\n",
    "  - regions — regions where the marketing campaign will be held;\n",
    "  - start_dt — start date of the campaign;\n",
    "  - finish_dt — end date of the campaign.\n",
    "\n",
    "\n",
    "`/datasets/final_ab_new_users.csv` — all users who registered in the online store from December 7 to 21, 2020;\n",
    "- File structure:\n",
    "  - user_id — user identifier;\n",
    "  - first_date — registration date;\n",
    "  - region — user region;\n",
    "  - device — the device from which the registration was made.\n",
    "\n",
    "`/datasets/final_ab_events.csv` — all events of new users from December 7, 2020 to January 4, 2021;\n",
    "- File structure:\n",
    "  - user_id — user identifier;\n",
    "  - event_dt — date and time of the event;\n",
    "  - event_name — type of event;\n",
    "  - details — additional data about the event. For example, for purchases this field stores the purchase cost in dollars.\n",
    "\n",
    "\n",
    "`/datasets/final_ab_participants.csv` — table of test participants.\n",
    "- File structure:\n",
    "  - user_id — user identifier;\n",
    "  - ab_test — test name;\n",
    "  - group — user group."
   ]
  },
  {
   "cell_type": "markdown",
   "metadata": {},
   "source": [
    "## Data examination"
   ]
  },
  {
   "cell_type": "code",
   "execution_count": 121,
   "metadata": {},
   "outputs": [],
   "source": [
    "import pandas as pd\n",
    "\n",
    "import matplotlib.pyplot as plt\n",
    "%matplotlib inline\n",
    "from plotly import graph_objects as go\n",
    "import seaborn as sns\n",
    "\n",
    "from datetime import datetime, timedelta\n",
    "from scipy import stats as st\n",
    "import numpy as np\n",
    "import math as mth"
   ]
  },
  {
   "cell_type": "code",
   "execution_count": 122,
   "metadata": {},
   "outputs": [],
   "source": [
    "marketing_events = pd.read_csv('https://code.s3.yandex.net/datasets/ab_project_marketing_events.csv')\n",
    "users = pd.read_csv('https://code.s3.yandex.net/datasets/final_ab_new_users.csv')\n",
    "events = pd.read_csv('https://code.s3.yandex.net/datasets/final_ab_events.csv')\n",
    "participants = pd.read_csv('https://code.s3.yandex.net/datasets/final_ab_participants.csv')"
   ]
  },
  {
   "cell_type": "code",
   "execution_count": 123,
   "metadata": {},
   "outputs": [
    {
     "data": {
      "text/html": [
       "<div>\n",
       "<style scoped>\n",
       "    .dataframe tbody tr th:only-of-type {\n",
       "        vertical-align: middle;\n",
       "    }\n",
       "\n",
       "    .dataframe tbody tr th {\n",
       "        vertical-align: top;\n",
       "    }\n",
       "\n",
       "    .dataframe thead th {\n",
       "        text-align: right;\n",
       "    }\n",
       "</style>\n",
       "<table border=\"1\" class=\"dataframe\">\n",
       "  <thead>\n",
       "    <tr style=\"text-align: right;\">\n",
       "      <th></th>\n",
       "      <th>name</th>\n",
       "      <th>regions</th>\n",
       "      <th>start_dt</th>\n",
       "      <th>finish_dt</th>\n",
       "    </tr>\n",
       "  </thead>\n",
       "  <tbody>\n",
       "    <tr>\n",
       "      <th>0</th>\n",
       "      <td>Christmas&amp;New Year Promo</td>\n",
       "      <td>EU, N.America</td>\n",
       "      <td>2020-12-25</td>\n",
       "      <td>2021-01-03</td>\n",
       "    </tr>\n",
       "    <tr>\n",
       "      <th>1</th>\n",
       "      <td>St. Valentine's Day Giveaway</td>\n",
       "      <td>EU, CIS, APAC, N.America</td>\n",
       "      <td>2020-02-14</td>\n",
       "      <td>2020-02-16</td>\n",
       "    </tr>\n",
       "    <tr>\n",
       "      <th>2</th>\n",
       "      <td>St. Patric's Day Promo</td>\n",
       "      <td>EU, N.America</td>\n",
       "      <td>2020-03-17</td>\n",
       "      <td>2020-03-19</td>\n",
       "    </tr>\n",
       "    <tr>\n",
       "      <th>3</th>\n",
       "      <td>Easter Promo</td>\n",
       "      <td>EU, CIS, APAC, N.America</td>\n",
       "      <td>2020-04-12</td>\n",
       "      <td>2020-04-19</td>\n",
       "    </tr>\n",
       "    <tr>\n",
       "      <th>4</th>\n",
       "      <td>4th of July Promo</td>\n",
       "      <td>N.America</td>\n",
       "      <td>2020-07-04</td>\n",
       "      <td>2020-07-11</td>\n",
       "    </tr>\n",
       "  </tbody>\n",
       "</table>\n",
       "</div>"
      ],
      "text/plain": [
       "                           name                   regions    start_dt  \\\n",
       "0      Christmas&New Year Promo             EU, N.America  2020-12-25   \n",
       "1  St. Valentine's Day Giveaway  EU, CIS, APAC, N.America  2020-02-14   \n",
       "2        St. Patric's Day Promo             EU, N.America  2020-03-17   \n",
       "3                  Easter Promo  EU, CIS, APAC, N.America  2020-04-12   \n",
       "4             4th of July Promo                 N.America  2020-07-04   \n",
       "\n",
       "    finish_dt  \n",
       "0  2021-01-03  \n",
       "1  2020-02-16  \n",
       "2  2020-03-19  \n",
       "3  2020-04-19  \n",
       "4  2020-07-11  "
      ]
     },
     "execution_count": 123,
     "metadata": {},
     "output_type": "execute_result"
    }
   ],
   "source": [
    "marketing_events.head()"
   ]
  },
  {
   "cell_type": "code",
   "execution_count": 124,
   "metadata": {},
   "outputs": [
    {
     "name": "stdout",
     "output_type": "stream",
     "text": [
      "<class 'pandas.core.frame.DataFrame'>\n",
      "RangeIndex: 14 entries, 0 to 13\n",
      "Data columns (total 4 columns):\n",
      " #   Column     Non-Null Count  Dtype \n",
      "---  ------     --------------  ----- \n",
      " 0   name       14 non-null     object\n",
      " 1   regions    14 non-null     object\n",
      " 2   start_dt   14 non-null     object\n",
      " 3   finish_dt  14 non-null     object\n",
      "dtypes: object(4)\n",
      "memory usage: 576.0+ bytes\n"
     ]
    }
   ],
   "source": [
    "marketing_events.info()"
   ]
  },
  {
   "cell_type": "code",
   "execution_count": 125,
   "metadata": {},
   "outputs": [],
   "source": [
    "# changing the datatype\n",
    "marketing_events['start_dt'] = pd.to_datetime(marketing_events['start_dt'])\n",
    "marketing_events['finish_dt'] = pd.to_datetime(marketing_events['finish_dt'])"
   ]
  },
  {
   "cell_type": "code",
   "execution_count": 126,
   "metadata": {},
   "outputs": [
    {
     "data": {
      "text/html": [
       "<div>\n",
       "<style scoped>\n",
       "    .dataframe tbody tr th:only-of-type {\n",
       "        vertical-align: middle;\n",
       "    }\n",
       "\n",
       "    .dataframe tbody tr th {\n",
       "        vertical-align: top;\n",
       "    }\n",
       "\n",
       "    .dataframe thead th {\n",
       "        text-align: right;\n",
       "    }\n",
       "</style>\n",
       "<table border=\"1\" class=\"dataframe\">\n",
       "  <thead>\n",
       "    <tr style=\"text-align: right;\">\n",
       "      <th></th>\n",
       "      <th>user_id</th>\n",
       "      <th>first_date</th>\n",
       "      <th>region</th>\n",
       "      <th>device</th>\n",
       "    </tr>\n",
       "  </thead>\n",
       "  <tbody>\n",
       "    <tr>\n",
       "      <th>0</th>\n",
       "      <td>D72A72121175D8BE</td>\n",
       "      <td>2020-12-07</td>\n",
       "      <td>EU</td>\n",
       "      <td>PC</td>\n",
       "    </tr>\n",
       "    <tr>\n",
       "      <th>1</th>\n",
       "      <td>F1C668619DFE6E65</td>\n",
       "      <td>2020-12-07</td>\n",
       "      <td>N.America</td>\n",
       "      <td>Android</td>\n",
       "    </tr>\n",
       "    <tr>\n",
       "      <th>2</th>\n",
       "      <td>2E1BF1D4C37EA01F</td>\n",
       "      <td>2020-12-07</td>\n",
       "      <td>EU</td>\n",
       "      <td>PC</td>\n",
       "    </tr>\n",
       "    <tr>\n",
       "      <th>3</th>\n",
       "      <td>50734A22C0C63768</td>\n",
       "      <td>2020-12-07</td>\n",
       "      <td>EU</td>\n",
       "      <td>iPhone</td>\n",
       "    </tr>\n",
       "    <tr>\n",
       "      <th>4</th>\n",
       "      <td>E1BDDCE0DAFA2679</td>\n",
       "      <td>2020-12-07</td>\n",
       "      <td>N.America</td>\n",
       "      <td>iPhone</td>\n",
       "    </tr>\n",
       "  </tbody>\n",
       "</table>\n",
       "</div>"
      ],
      "text/plain": [
       "            user_id  first_date     region   device\n",
       "0  D72A72121175D8BE  2020-12-07         EU       PC\n",
       "1  F1C668619DFE6E65  2020-12-07  N.America  Android\n",
       "2  2E1BF1D4C37EA01F  2020-12-07         EU       PC\n",
       "3  50734A22C0C63768  2020-12-07         EU   iPhone\n",
       "4  E1BDDCE0DAFA2679  2020-12-07  N.America   iPhone"
      ]
     },
     "execution_count": 126,
     "metadata": {},
     "output_type": "execute_result"
    }
   ],
   "source": [
    "users.head()"
   ]
  },
  {
   "cell_type": "code",
   "execution_count": 127,
   "metadata": {},
   "outputs": [
    {
     "name": "stdout",
     "output_type": "stream",
     "text": [
      "<class 'pandas.core.frame.DataFrame'>\n",
      "RangeIndex: 61733 entries, 0 to 61732\n",
      "Data columns (total 4 columns):\n",
      " #   Column      Non-Null Count  Dtype \n",
      "---  ------      --------------  ----- \n",
      " 0   user_id     61733 non-null  object\n",
      " 1   first_date  61733 non-null  object\n",
      " 2   region      61733 non-null  object\n",
      " 3   device      61733 non-null  object\n",
      "dtypes: object(4)\n",
      "memory usage: 1.9+ MB\n"
     ]
    }
   ],
   "source": [
    "users.info()"
   ]
  },
  {
   "cell_type": "code",
   "execution_count": 128,
   "metadata": {},
   "outputs": [],
   "source": [
    "# changing the datatype\n",
    "users['first_date'] = pd.to_datetime(users['first_date'])"
   ]
  },
  {
   "cell_type": "code",
   "execution_count": 129,
   "metadata": {},
   "outputs": [
    {
     "data": {
      "text/plain": [
       "61733"
      ]
     },
     "execution_count": 129,
     "metadata": {},
     "output_type": "execute_result"
    }
   ],
   "source": [
    "# number of users\n",
    "users['user_id'].nunique()"
   ]
  },
  {
   "cell_type": "markdown",
   "metadata": {},
   "source": [
    "Every row in the table is a unique user."
   ]
  },
  {
   "cell_type": "code",
   "execution_count": 130,
   "metadata": {},
   "outputs": [
    {
     "data": {
      "text/plain": [
       "region\n",
       "APAC          3153\n",
       "CIS           3155\n",
       "N.America     9155\n",
       "EU           46270\n",
       "Name: user_id, dtype: int64"
      ]
     },
     "execution_count": 130,
     "metadata": {},
     "output_type": "execute_result"
    }
   ],
   "source": [
    "#  number of users by region\n",
    "users.groupby('region')['user_id'].count().sort_values()"
   ]
  },
  {
   "cell_type": "code",
   "execution_count": 131,
   "metadata": {},
   "outputs": [
    {
     "data": {
      "text/html": [
       "<div>\n",
       "<style scoped>\n",
       "    .dataframe tbody tr th:only-of-type {\n",
       "        vertical-align: middle;\n",
       "    }\n",
       "\n",
       "    .dataframe tbody tr th {\n",
       "        vertical-align: top;\n",
       "    }\n",
       "\n",
       "    .dataframe thead th {\n",
       "        text-align: right;\n",
       "    }\n",
       "</style>\n",
       "<table border=\"1\" class=\"dataframe\">\n",
       "  <thead>\n",
       "    <tr style=\"text-align: right;\">\n",
       "      <th></th>\n",
       "      <th>user_id</th>\n",
       "      <th>event_dt</th>\n",
       "      <th>event_name</th>\n",
       "      <th>details</th>\n",
       "    </tr>\n",
       "  </thead>\n",
       "  <tbody>\n",
       "    <tr>\n",
       "      <th>0</th>\n",
       "      <td>E1BDDCE0DAFA2679</td>\n",
       "      <td>2020-12-07 20:22:03</td>\n",
       "      <td>purchase</td>\n",
       "      <td>99.99</td>\n",
       "    </tr>\n",
       "    <tr>\n",
       "      <th>1</th>\n",
       "      <td>7B6452F081F49504</td>\n",
       "      <td>2020-12-07 09:22:53</td>\n",
       "      <td>purchase</td>\n",
       "      <td>9.99</td>\n",
       "    </tr>\n",
       "    <tr>\n",
       "      <th>2</th>\n",
       "      <td>9CD9F34546DF254C</td>\n",
       "      <td>2020-12-07 12:59:29</td>\n",
       "      <td>purchase</td>\n",
       "      <td>4.99</td>\n",
       "    </tr>\n",
       "    <tr>\n",
       "      <th>3</th>\n",
       "      <td>96F27A054B191457</td>\n",
       "      <td>2020-12-07 04:02:40</td>\n",
       "      <td>purchase</td>\n",
       "      <td>4.99</td>\n",
       "    </tr>\n",
       "    <tr>\n",
       "      <th>4</th>\n",
       "      <td>1FD7660FDF94CA1F</td>\n",
       "      <td>2020-12-07 10:15:09</td>\n",
       "      <td>purchase</td>\n",
       "      <td>4.99</td>\n",
       "    </tr>\n",
       "  </tbody>\n",
       "</table>\n",
       "</div>"
      ],
      "text/plain": [
       "            user_id             event_dt event_name  details\n",
       "0  E1BDDCE0DAFA2679  2020-12-07 20:22:03   purchase    99.99\n",
       "1  7B6452F081F49504  2020-12-07 09:22:53   purchase     9.99\n",
       "2  9CD9F34546DF254C  2020-12-07 12:59:29   purchase     4.99\n",
       "3  96F27A054B191457  2020-12-07 04:02:40   purchase     4.99\n",
       "4  1FD7660FDF94CA1F  2020-12-07 10:15:09   purchase     4.99"
      ]
     },
     "execution_count": 131,
     "metadata": {},
     "output_type": "execute_result"
    }
   ],
   "source": [
    "events.head()"
   ]
  },
  {
   "cell_type": "code",
   "execution_count": 132,
   "metadata": {},
   "outputs": [
    {
     "name": "stdout",
     "output_type": "stream",
     "text": [
      "<class 'pandas.core.frame.DataFrame'>\n",
      "RangeIndex: 440317 entries, 0 to 440316\n",
      "Data columns (total 4 columns):\n",
      " #   Column      Non-Null Count   Dtype  \n",
      "---  ------      --------------   -----  \n",
      " 0   user_id     440317 non-null  object \n",
      " 1   event_dt    440317 non-null  object \n",
      " 2   event_name  440317 non-null  object \n",
      " 3   details     62740 non-null   float64\n",
      "dtypes: float64(1), object(3)\n",
      "memory usage: 13.4+ MB\n"
     ]
    }
   ],
   "source": [
    "events.info()"
   ]
  },
  {
   "cell_type": "code",
   "execution_count": 133,
   "metadata": {},
   "outputs": [],
   "source": [
    "# changing the datatype\n",
    "events['event_dt'] = pd.to_datetime(events['event_dt'])"
   ]
  },
  {
   "cell_type": "code",
   "execution_count": 134,
   "metadata": {},
   "outputs": [
    {
     "data": {
      "text/html": [
       "<div>\n",
       "<style scoped>\n",
       "    .dataframe tbody tr th:only-of-type {\n",
       "        vertical-align: middle;\n",
       "    }\n",
       "\n",
       "    .dataframe tbody tr th {\n",
       "        vertical-align: top;\n",
       "    }\n",
       "\n",
       "    .dataframe thead th {\n",
       "        text-align: right;\n",
       "    }\n",
       "</style>\n",
       "<table border=\"1\" class=\"dataframe\">\n",
       "  <thead>\n",
       "    <tr style=\"text-align: right;\">\n",
       "      <th></th>\n",
       "      <th>user_id</th>\n",
       "      <th>group</th>\n",
       "      <th>ab_test</th>\n",
       "    </tr>\n",
       "  </thead>\n",
       "  <tbody>\n",
       "    <tr>\n",
       "      <th>0</th>\n",
       "      <td>D1ABA3E2887B6A73</td>\n",
       "      <td>A</td>\n",
       "      <td>recommender_system_test</td>\n",
       "    </tr>\n",
       "    <tr>\n",
       "      <th>1</th>\n",
       "      <td>A7A3664BD6242119</td>\n",
       "      <td>A</td>\n",
       "      <td>recommender_system_test</td>\n",
       "    </tr>\n",
       "    <tr>\n",
       "      <th>2</th>\n",
       "      <td>DABC14FDDFADD29E</td>\n",
       "      <td>A</td>\n",
       "      <td>recommender_system_test</td>\n",
       "    </tr>\n",
       "    <tr>\n",
       "      <th>3</th>\n",
       "      <td>04988C5DF189632E</td>\n",
       "      <td>A</td>\n",
       "      <td>recommender_system_test</td>\n",
       "    </tr>\n",
       "    <tr>\n",
       "      <th>4</th>\n",
       "      <td>482F14783456D21B</td>\n",
       "      <td>B</td>\n",
       "      <td>recommender_system_test</td>\n",
       "    </tr>\n",
       "  </tbody>\n",
       "</table>\n",
       "</div>"
      ],
      "text/plain": [
       "            user_id group                  ab_test\n",
       "0  D1ABA3E2887B6A73     A  recommender_system_test\n",
       "1  A7A3664BD6242119     A  recommender_system_test\n",
       "2  DABC14FDDFADD29E     A  recommender_system_test\n",
       "3  04988C5DF189632E     A  recommender_system_test\n",
       "4  482F14783456D21B     B  recommender_system_test"
      ]
     },
     "execution_count": 134,
     "metadata": {},
     "output_type": "execute_result"
    }
   ],
   "source": [
    "participants.head()"
   ]
  },
  {
   "cell_type": "code",
   "execution_count": 135,
   "metadata": {},
   "outputs": [
    {
     "name": "stdout",
     "output_type": "stream",
     "text": [
      "<class 'pandas.core.frame.DataFrame'>\n",
      "RangeIndex: 18268 entries, 0 to 18267\n",
      "Data columns (total 3 columns):\n",
      " #   Column   Non-Null Count  Dtype \n",
      "---  ------   --------------  ----- \n",
      " 0   user_id  18268 non-null  object\n",
      " 1   group    18268 non-null  object\n",
      " 2   ab_test  18268 non-null  object\n",
      "dtypes: object(3)\n",
      "memory usage: 428.3+ KB\n"
     ]
    }
   ],
   "source": [
    "participants.info()"
   ]
  },
  {
   "cell_type": "code",
   "execution_count": 136,
   "metadata": {},
   "outputs": [
    {
     "data": {
      "text/plain": [
       "array(['recommender_system_test', 'interface_eu_test'], dtype=object)"
      ]
     },
     "execution_count": 136,
     "metadata": {},
     "output_type": "execute_result"
    }
   ],
   "source": [
    "participants['ab_test'].unique()"
   ]
  },
  {
   "cell_type": "markdown",
   "metadata": {},
   "source": [
    "We have two tests:\n",
    " - recommender_system_test,\n",
    " - interface_eu_test.\n",
    "\n",
    "The test that we need to analyze is called \"recommender_system_test.\""
   ]
  },
  {
   "cell_type": "code",
   "execution_count": 137,
   "metadata": {},
   "outputs": [
    {
     "data": {
      "text/plain": [
       "6701"
      ]
     },
     "execution_count": 137,
     "metadata": {},
     "output_type": "execute_result"
    }
   ],
   "source": [
    "# number of participants in recommender_system_test\n",
    "len(participants.query('ab_test == \"recommender_system_test\"'))"
   ]
  },
  {
   "cell_type": "code",
   "execution_count": 138,
   "metadata": {},
   "outputs": [
    {
     "data": {
      "text/plain": [
       "11567"
      ]
     },
     "execution_count": 138,
     "metadata": {},
     "output_type": "execute_result"
    }
   ],
   "source": [
    "# number of participants in interface_eu_test\n",
    "len(participants.query('ab_test == \"interface_eu_test\"'))"
   ]
  },
  {
   "cell_type": "code",
   "execution_count": 139,
   "metadata": {},
   "outputs": [
    {
     "data": {
      "text/plain": [
       "name         0\n",
       "regions      0\n",
       "start_dt     0\n",
       "finish_dt    0\n",
       "dtype: int64"
      ]
     },
     "execution_count": 139,
     "metadata": {},
     "output_type": "execute_result"
    }
   ],
   "source": [
    "# checking for missing values\n",
    "marketing_events.isna().sum()"
   ]
  },
  {
   "cell_type": "code",
   "execution_count": 140,
   "metadata": {},
   "outputs": [
    {
     "data": {
      "text/plain": [
       "0"
      ]
     },
     "execution_count": 140,
     "metadata": {},
     "output_type": "execute_result"
    }
   ],
   "source": [
    "# checking for duplicates\n",
    "marketing_events.duplicated().sum()"
   ]
  },
  {
   "cell_type": "code",
   "execution_count": 141,
   "metadata": {},
   "outputs": [
    {
     "data": {
      "text/plain": [
       "user_id       0\n",
       "first_date    0\n",
       "region        0\n",
       "device        0\n",
       "dtype: int64"
      ]
     },
     "execution_count": 141,
     "metadata": {},
     "output_type": "execute_result"
    }
   ],
   "source": [
    "# checking for missing values\n",
    "users.isna().sum()"
   ]
  },
  {
   "cell_type": "code",
   "execution_count": 142,
   "metadata": {},
   "outputs": [
    {
     "data": {
      "text/plain": [
       "0"
      ]
     },
     "execution_count": 142,
     "metadata": {},
     "output_type": "execute_result"
    }
   ],
   "source": [
    "# checking for duplicates\n",
    "users.duplicated().sum()"
   ]
  },
  {
   "cell_type": "code",
   "execution_count": 143,
   "metadata": {},
   "outputs": [
    {
     "name": "stdout",
     "output_type": "stream",
     "text": [
      "Min date: 2020-12-07 00:00:00\n",
      "Max date: 2020-12-23 00:00:00\n"
     ]
    }
   ],
   "source": [
    "# min and max date\n",
    "print(\"Min date:\", users['first_date'].min())\n",
    "print(\"Max date:\", users['first_date'].max())"
   ]
  },
  {
   "cell_type": "code",
   "execution_count": 144,
   "metadata": {},
   "outputs": [
    {
     "data": {
      "text/plain": [
       "user_id            0\n",
       "event_dt           0\n",
       "event_name         0\n",
       "details       377577\n",
       "dtype: int64"
      ]
     },
     "execution_count": 144,
     "metadata": {},
     "output_type": "execute_result"
    }
   ],
   "source": [
    "# checking for missing values\n",
    "events.isna().sum()"
   ]
  },
  {
   "cell_type": "code",
   "execution_count": 145,
   "metadata": {},
   "outputs": [
    {
     "data": {
      "text/plain": [
       "['product_cart', 'product_page', 'login']"
      ]
     },
     "execution_count": 145,
     "metadata": {},
     "output_type": "execute_result"
    }
   ],
   "source": [
    "# find unique event names from the rows where the 'details' column is missing\n",
    "list(events.loc[events['details'].isna()]['event_name'].unique())"
   ]
  },
  {
   "cell_type": "markdown",
   "metadata": {},
   "source": [
    "Everything is ok, there are missing values only in those cells where the purchase amount is not specified."
   ]
  },
  {
   "cell_type": "code",
   "execution_count": 146,
   "metadata": {},
   "outputs": [
    {
     "data": {
      "text/plain": [
       "0"
      ]
     },
     "execution_count": 146,
     "metadata": {},
     "output_type": "execute_result"
    }
   ],
   "source": [
    "# checking for duplicates\n",
    "events.duplicated().sum()"
   ]
  },
  {
   "cell_type": "code",
   "execution_count": 147,
   "metadata": {},
   "outputs": [
    {
     "data": {
      "text/plain": [
       "user_id    0\n",
       "group      0\n",
       "ab_test    0\n",
       "dtype: int64"
      ]
     },
     "execution_count": 147,
     "metadata": {},
     "output_type": "execute_result"
    }
   ],
   "source": [
    "# checking for missing values\n",
    "participants.isna().sum()"
   ]
  },
  {
   "cell_type": "code",
   "execution_count": 148,
   "metadata": {},
   "outputs": [
    {
     "data": {
      "text/plain": [
       "0"
      ]
     },
     "execution_count": 148,
     "metadata": {},
     "output_type": "execute_result"
    }
   ],
   "source": [
    "# checking for duplicates\n",
    "participants.duplicated().sum()"
   ]
  },
  {
   "cell_type": "markdown",
   "metadata": {},
   "source": [
    "**Summary:**\n",
    "\n",
    "In the data preprocessing and exploration block, the data type has been modified, column names have been renamed, duplicates are absent. Missing values in the `details` column are due to the specific nature of the column: where there was no purchase amount, there is a missing value.\n",
    "\n",
    "Each row in the `users` table represents a unique user.\n",
    "\n",
    "The `participants` table contains 2 tests - `recommender_system_test`, `interface_eu_test`."
   ]
  },
  {
   "cell_type": "markdown",
   "metadata": {},
   "source": [
    "## Assess the correctness of the test"
   ]
  },
  {
   "cell_type": "markdown",
   "metadata": {},
   "source": [
    "### Timeline of the tests"
   ]
  },
  {
   "cell_type": "markdown",
   "metadata": {},
   "source": [
    "Let's see the earliest and latest registration dates of users in the `users` table."
   ]
  },
  {
   "cell_type": "code",
   "execution_count": 149,
   "metadata": {},
   "outputs": [
    {
     "name": "stdout",
     "output_type": "stream",
     "text": [
      "Min date: 2020-12-07 00:00:00\n",
      "Max date: 2020-12-23 00:00:00\n"
     ]
    }
   ],
   "source": [
    "print(\"Min date:\", users['first_date'].min())\n",
    "print(\"Max date:\", users['first_date'].max())"
   ]
  },
  {
   "cell_type": "code",
   "execution_count": 150,
   "metadata": {},
   "outputs": [
    {
     "data": {
      "text/plain": [
       "'2020-12-21'"
      ]
     },
     "execution_count": 150,
     "metadata": {},
     "output_type": "execute_result"
    }
   ],
   "source": [
    "new_users = pd.read_csv('https://code.s3.yandex.net/datasets/final_ab_new_users.csv')\n",
    "new_participants = pd.read_csv('https://code.s3.yandex.net/datasets/final_ab_participants.csv')\n",
    "\n",
    "new_participants.merge(new_users, on = 'user_id', how = 'left')\\\n",
    "    .query('ab_test == \"recommender_system_test\"')['first_date'].max()"
   ]
  },
  {
   "cell_type": "markdown",
   "metadata": {},
   "source": [
    "It is known that the launch date is 2020-12-07, and the date for stopping the acquisition of new users is 2020-12-21."
   ]
  },
  {
   "cell_type": "code",
   "execution_count": 151,
   "metadata": {
    "scrolled": false
   },
   "outputs": [],
   "source": [
    "# create a new table by filtering the users whose \"first_date\" is later than December 21, 2020.\n",
    "users12_21 = users.query('first_date <= \"2020-12-21\"')"
   ]
  },
  {
   "cell_type": "markdown",
   "metadata": {},
   "source": [
    "End date: 2021-01-04. The 'events' table should contain all events of new users from December 7, 2020, to January 4, 2021. Let's check this statement:"
   ]
  },
  {
   "cell_type": "code",
   "execution_count": 152,
   "metadata": {},
   "outputs": [
    {
     "name": "stdout",
     "output_type": "stream",
     "text": [
      "Min date: 2020-12-07 00:00:33\n",
      "Max date: 2020-12-30 23:36:33\n"
     ]
    }
   ],
   "source": [
    "print(\"Min date:\", events['event_dt'].min())\n",
    "print(\"Max date:\", events['event_dt'].max())"
   ]
  },
  {
   "cell_type": "markdown",
   "metadata": {},
   "source": [
    "We see that for some reason, our data ends on December 30, 2020. The test was stopped 5 days earlier."
   ]
  },
  {
   "cell_type": "code",
   "execution_count": 153,
   "metadata": {},
   "outputs": [],
   "source": [
    "# merge events and test_users\n",
    "events_new = users12_21.merge(events, on='user_id', how='right')"
   ]
  },
  {
   "cell_type": "markdown",
   "metadata": {},
   "source": [
    "Since we are interested in improving the metric only within 14 days from a user's registration, we need to check that events occurring after 14 days from a user's registration are excluded to focus on the 14-day lifetime."
   ]
  },
  {
   "cell_type": "code",
   "execution_count": 154,
   "metadata": {},
   "outputs": [],
   "source": [
    "# calculate liftime for each event\n",
    "events_new['lifetime'] = (\n",
    "events_new['event_dt'] - events_new['first_date']).dt.days\n",
    "\n",
    "# limit the events in the table to those performed by users within a 2-week lifetime\n",
    "events_new = events_new.query('lifetime < 14')"
   ]
  },
  {
   "cell_type": "code",
   "execution_count": 155,
   "metadata": {},
   "outputs": [
    {
     "data": {
      "text/html": [
       "<div>\n",
       "<style scoped>\n",
       "    .dataframe tbody tr th:only-of-type {\n",
       "        vertical-align: middle;\n",
       "    }\n",
       "\n",
       "    .dataframe tbody tr th {\n",
       "        vertical-align: top;\n",
       "    }\n",
       "\n",
       "    .dataframe thead th {\n",
       "        text-align: right;\n",
       "    }\n",
       "</style>\n",
       "<table border=\"1\" class=\"dataframe\">\n",
       "  <thead>\n",
       "    <tr style=\"text-align: right;\">\n",
       "      <th></th>\n",
       "      <th>user_id</th>\n",
       "      <th>first_date</th>\n",
       "      <th>region</th>\n",
       "      <th>device</th>\n",
       "      <th>event_dt</th>\n",
       "      <th>event_name</th>\n",
       "      <th>details</th>\n",
       "      <th>lifetime</th>\n",
       "    </tr>\n",
       "  </thead>\n",
       "  <tbody>\n",
       "    <tr>\n",
       "      <th>0</th>\n",
       "      <td>E1BDDCE0DAFA2679</td>\n",
       "      <td>2020-12-07</td>\n",
       "      <td>N.America</td>\n",
       "      <td>iPhone</td>\n",
       "      <td>2020-12-07 20:22:03</td>\n",
       "      <td>purchase</td>\n",
       "      <td>99.99</td>\n",
       "      <td>0.0</td>\n",
       "    </tr>\n",
       "    <tr>\n",
       "      <th>1</th>\n",
       "      <td>7B6452F081F49504</td>\n",
       "      <td>2020-12-07</td>\n",
       "      <td>EU</td>\n",
       "      <td>iPhone</td>\n",
       "      <td>2020-12-07 09:22:53</td>\n",
       "      <td>purchase</td>\n",
       "      <td>9.99</td>\n",
       "      <td>0.0</td>\n",
       "    </tr>\n",
       "    <tr>\n",
       "      <th>2</th>\n",
       "      <td>9CD9F34546DF254C</td>\n",
       "      <td>2020-12-07</td>\n",
       "      <td>N.America</td>\n",
       "      <td>iPhone</td>\n",
       "      <td>2020-12-07 12:59:29</td>\n",
       "      <td>purchase</td>\n",
       "      <td>4.99</td>\n",
       "      <td>0.0</td>\n",
       "    </tr>\n",
       "    <tr>\n",
       "      <th>3</th>\n",
       "      <td>96F27A054B191457</td>\n",
       "      <td>2020-12-07</td>\n",
       "      <td>EU</td>\n",
       "      <td>iPhone</td>\n",
       "      <td>2020-12-07 04:02:40</td>\n",
       "      <td>purchase</td>\n",
       "      <td>4.99</td>\n",
       "      <td>0.0</td>\n",
       "    </tr>\n",
       "    <tr>\n",
       "      <th>4</th>\n",
       "      <td>1FD7660FDF94CA1F</td>\n",
       "      <td>2020-12-07</td>\n",
       "      <td>EU</td>\n",
       "      <td>Android</td>\n",
       "      <td>2020-12-07 10:15:09</td>\n",
       "      <td>purchase</td>\n",
       "      <td>4.99</td>\n",
       "      <td>0.0</td>\n",
       "    </tr>\n",
       "    <tr>\n",
       "      <th>...</th>\n",
       "      <td>...</td>\n",
       "      <td>...</td>\n",
       "      <td>...</td>\n",
       "      <td>...</td>\n",
       "      <td>...</td>\n",
       "      <td>...</td>\n",
       "      <td>...</td>\n",
       "      <td>...</td>\n",
       "    </tr>\n",
       "    <tr>\n",
       "      <th>440276</th>\n",
       "      <td>F393A2F75D0E8ED2</td>\n",
       "      <td>2020-12-20</td>\n",
       "      <td>EU</td>\n",
       "      <td>PC</td>\n",
       "      <td>2020-12-29 21:46:04</td>\n",
       "      <td>login</td>\n",
       "      <td>NaN</td>\n",
       "      <td>9.0</td>\n",
       "    </tr>\n",
       "    <tr>\n",
       "      <th>440277</th>\n",
       "      <td>9724329882446FD2</td>\n",
       "      <td>2020-12-20</td>\n",
       "      <td>EU</td>\n",
       "      <td>iPhone</td>\n",
       "      <td>2020-12-29 04:17:35</td>\n",
       "      <td>login</td>\n",
       "      <td>NaN</td>\n",
       "      <td>9.0</td>\n",
       "    </tr>\n",
       "    <tr>\n",
       "      <th>440278</th>\n",
       "      <td>DFAD5EDCE6BB4FD7</td>\n",
       "      <td>2020-12-20</td>\n",
       "      <td>N.America</td>\n",
       "      <td>PC</td>\n",
       "      <td>2020-12-29 10:40:54</td>\n",
       "      <td>login</td>\n",
       "      <td>NaN</td>\n",
       "      <td>9.0</td>\n",
       "    </tr>\n",
       "    <tr>\n",
       "      <th>440279</th>\n",
       "      <td>CAF67C6E072476F2</td>\n",
       "      <td>2020-12-20</td>\n",
       "      <td>N.America</td>\n",
       "      <td>PC</td>\n",
       "      <td>2020-12-29 14:54:02</td>\n",
       "      <td>login</td>\n",
       "      <td>NaN</td>\n",
       "      <td>9.0</td>\n",
       "    </tr>\n",
       "    <tr>\n",
       "      <th>440280</th>\n",
       "      <td>2C29721DDDA76B2A</td>\n",
       "      <td>2020-12-20</td>\n",
       "      <td>EU</td>\n",
       "      <td>iPhone</td>\n",
       "      <td>2020-12-29 05:58:20</td>\n",
       "      <td>login</td>\n",
       "      <td>NaN</td>\n",
       "      <td>9.0</td>\n",
       "    </tr>\n",
       "  </tbody>\n",
       "</table>\n",
       "<p>387576 rows × 8 columns</p>\n",
       "</div>"
      ],
      "text/plain": [
       "                 user_id first_date     region   device            event_dt  \\\n",
       "0       E1BDDCE0DAFA2679 2020-12-07  N.America   iPhone 2020-12-07 20:22:03   \n",
       "1       7B6452F081F49504 2020-12-07         EU   iPhone 2020-12-07 09:22:53   \n",
       "2       9CD9F34546DF254C 2020-12-07  N.America   iPhone 2020-12-07 12:59:29   \n",
       "3       96F27A054B191457 2020-12-07         EU   iPhone 2020-12-07 04:02:40   \n",
       "4       1FD7660FDF94CA1F 2020-12-07         EU  Android 2020-12-07 10:15:09   \n",
       "...                  ...        ...        ...      ...                 ...   \n",
       "440276  F393A2F75D0E8ED2 2020-12-20         EU       PC 2020-12-29 21:46:04   \n",
       "440277  9724329882446FD2 2020-12-20         EU   iPhone 2020-12-29 04:17:35   \n",
       "440278  DFAD5EDCE6BB4FD7 2020-12-20  N.America       PC 2020-12-29 10:40:54   \n",
       "440279  CAF67C6E072476F2 2020-12-20  N.America       PC 2020-12-29 14:54:02   \n",
       "440280  2C29721DDDA76B2A 2020-12-20         EU   iPhone 2020-12-29 05:58:20   \n",
       "\n",
       "       event_name  details  lifetime  \n",
       "0        purchase    99.99       0.0  \n",
       "1        purchase     9.99       0.0  \n",
       "2        purchase     4.99       0.0  \n",
       "3        purchase     4.99       0.0  \n",
       "4        purchase     4.99       0.0  \n",
       "...           ...      ...       ...  \n",
       "440276      login      NaN       9.0  \n",
       "440277      login      NaN       9.0  \n",
       "440278      login      NaN       9.0  \n",
       "440279      login      NaN       9.0  \n",
       "440280      login      NaN       9.0  \n",
       "\n",
       "[387576 rows x 8 columns]"
      ]
     },
     "execution_count": 155,
     "metadata": {},
     "output_type": "execute_result"
    }
   ],
   "source": [
    "events_new"
   ]
  },
  {
   "cell_type": "code",
   "execution_count": 156,
   "metadata": {},
   "outputs": [],
   "source": [
    "# changing the name of the column\n",
    "events_new = events_new.rename(columns={'event_dt': 'event_time'})\n",
    "# creatin a new column with event date\n",
    "events_new['event_date'] = events_new['event_time'].astype('datetime64[D]')"
   ]
  },
  {
   "cell_type": "code",
   "execution_count": 157,
   "metadata": {},
   "outputs": [],
   "source": [
    "#result_grouped = events_new.pivot_table(index=['event_date'], columns='lifetime', values='user_id', aggfunc='nunique')\n",
    "#result_grouped"
   ]
  },
  {
   "cell_type": "markdown",
   "metadata": {},
   "source": [
    "The data in the user table was filtered until 2020-12-21. It was discovered that, for some reason, the test was stopped 5 days earlier (the `events` table ends on December 30, 2020). Events that occurred more than 14 days after the user's registration date were discarded."
   ]
  },
  {
   "cell_type": "markdown",
   "metadata": {},
   "source": [
    "### Overlap of test with marketing activities"
   ]
  },
  {
   "cell_type": "markdown",
   "metadata": {},
   "source": [
    "Let's check for any overlap of test with marketing activities:"
   ]
  },
  {
   "cell_type": "code",
   "execution_count": 158,
   "metadata": {},
   "outputs": [
    {
     "data": {
      "text/html": [
       "<div>\n",
       "<style scoped>\n",
       "    .dataframe tbody tr th:only-of-type {\n",
       "        vertical-align: middle;\n",
       "    }\n",
       "\n",
       "    .dataframe tbody tr th {\n",
       "        vertical-align: top;\n",
       "    }\n",
       "\n",
       "    .dataframe thead th {\n",
       "        text-align: right;\n",
       "    }\n",
       "</style>\n",
       "<table border=\"1\" class=\"dataframe\">\n",
       "  <thead>\n",
       "    <tr style=\"text-align: right;\">\n",
       "      <th></th>\n",
       "      <th>name</th>\n",
       "      <th>regions</th>\n",
       "      <th>start_dt</th>\n",
       "      <th>finish_dt</th>\n",
       "    </tr>\n",
       "  </thead>\n",
       "  <tbody>\n",
       "    <tr>\n",
       "      <th>0</th>\n",
       "      <td>Christmas&amp;New Year Promo</td>\n",
       "      <td>EU, N.America</td>\n",
       "      <td>2020-12-25</td>\n",
       "      <td>2021-01-03</td>\n",
       "    </tr>\n",
       "    <tr>\n",
       "      <th>10</th>\n",
       "      <td>CIS New Year Gift Lottery</td>\n",
       "      <td>CIS</td>\n",
       "      <td>2020-12-30</td>\n",
       "      <td>2021-01-07</td>\n",
       "    </tr>\n",
       "  </tbody>\n",
       "</table>\n",
       "</div>"
      ],
      "text/plain": [
       "                         name        regions   start_dt  finish_dt\n",
       "0    Christmas&New Year Promo  EU, N.America 2020-12-25 2021-01-03\n",
       "10  CIS New Year Gift Lottery            CIS 2020-12-30 2021-01-07"
      ]
     },
     "execution_count": 158,
     "metadata": {},
     "output_type": "execute_result"
    }
   ],
   "source": [
    "marketing_events.query('start_dt >= \"2020-12-07\" or finish_dt >= \"2020-12-30\"')"
   ]
  },
  {
   "cell_type": "code",
   "execution_count": 159,
   "metadata": {},
   "outputs": [
    {
     "data": {
      "text/html": [
       "<div>\n",
       "<style scoped>\n",
       "    .dataframe tbody tr th:only-of-type {\n",
       "        vertical-align: middle;\n",
       "    }\n",
       "\n",
       "    .dataframe tbody tr th {\n",
       "        vertical-align: top;\n",
       "    }\n",
       "\n",
       "    .dataframe thead th {\n",
       "        text-align: right;\n",
       "    }\n",
       "</style>\n",
       "<table border=\"1\" class=\"dataframe\">\n",
       "  <thead>\n",
       "    <tr style=\"text-align: right;\">\n",
       "      <th></th>\n",
       "      <th>user_id</th>\n",
       "      <th>first_date</th>\n",
       "      <th>region</th>\n",
       "      <th>device</th>\n",
       "      <th>event_time</th>\n",
       "      <th>event_name</th>\n",
       "      <th>details</th>\n",
       "      <th>lifetime</th>\n",
       "      <th>event_date</th>\n",
       "    </tr>\n",
       "  </thead>\n",
       "  <tbody>\n",
       "    <tr>\n",
       "      <th>0</th>\n",
       "      <td>E1BDDCE0DAFA2679</td>\n",
       "      <td>2020-12-07</td>\n",
       "      <td>N.America</td>\n",
       "      <td>iPhone</td>\n",
       "      <td>2020-12-07 20:22:03</td>\n",
       "      <td>purchase</td>\n",
       "      <td>99.99</td>\n",
       "      <td>0.0</td>\n",
       "      <td>2020-12-07</td>\n",
       "    </tr>\n",
       "    <tr>\n",
       "      <th>1</th>\n",
       "      <td>7B6452F081F49504</td>\n",
       "      <td>2020-12-07</td>\n",
       "      <td>EU</td>\n",
       "      <td>iPhone</td>\n",
       "      <td>2020-12-07 09:22:53</td>\n",
       "      <td>purchase</td>\n",
       "      <td>9.99</td>\n",
       "      <td>0.0</td>\n",
       "      <td>2020-12-07</td>\n",
       "    </tr>\n",
       "    <tr>\n",
       "      <th>2</th>\n",
       "      <td>9CD9F34546DF254C</td>\n",
       "      <td>2020-12-07</td>\n",
       "      <td>N.America</td>\n",
       "      <td>iPhone</td>\n",
       "      <td>2020-12-07 12:59:29</td>\n",
       "      <td>purchase</td>\n",
       "      <td>4.99</td>\n",
       "      <td>0.0</td>\n",
       "      <td>2020-12-07</td>\n",
       "    </tr>\n",
       "    <tr>\n",
       "      <th>3</th>\n",
       "      <td>96F27A054B191457</td>\n",
       "      <td>2020-12-07</td>\n",
       "      <td>EU</td>\n",
       "      <td>iPhone</td>\n",
       "      <td>2020-12-07 04:02:40</td>\n",
       "      <td>purchase</td>\n",
       "      <td>4.99</td>\n",
       "      <td>0.0</td>\n",
       "      <td>2020-12-07</td>\n",
       "    </tr>\n",
       "    <tr>\n",
       "      <th>4</th>\n",
       "      <td>1FD7660FDF94CA1F</td>\n",
       "      <td>2020-12-07</td>\n",
       "      <td>EU</td>\n",
       "      <td>Android</td>\n",
       "      <td>2020-12-07 10:15:09</td>\n",
       "      <td>purchase</td>\n",
       "      <td>4.99</td>\n",
       "      <td>0.0</td>\n",
       "      <td>2020-12-07</td>\n",
       "    </tr>\n",
       "    <tr>\n",
       "      <th>...</th>\n",
       "      <td>...</td>\n",
       "      <td>...</td>\n",
       "      <td>...</td>\n",
       "      <td>...</td>\n",
       "      <td>...</td>\n",
       "      <td>...</td>\n",
       "      <td>...</td>\n",
       "      <td>...</td>\n",
       "      <td>...</td>\n",
       "    </tr>\n",
       "    <tr>\n",
       "      <th>440276</th>\n",
       "      <td>F393A2F75D0E8ED2</td>\n",
       "      <td>2020-12-20</td>\n",
       "      <td>EU</td>\n",
       "      <td>PC</td>\n",
       "      <td>2020-12-29 21:46:04</td>\n",
       "      <td>login</td>\n",
       "      <td>NaN</td>\n",
       "      <td>9.0</td>\n",
       "      <td>2020-12-29</td>\n",
       "    </tr>\n",
       "    <tr>\n",
       "      <th>440277</th>\n",
       "      <td>9724329882446FD2</td>\n",
       "      <td>2020-12-20</td>\n",
       "      <td>EU</td>\n",
       "      <td>iPhone</td>\n",
       "      <td>2020-12-29 04:17:35</td>\n",
       "      <td>login</td>\n",
       "      <td>NaN</td>\n",
       "      <td>9.0</td>\n",
       "      <td>2020-12-29</td>\n",
       "    </tr>\n",
       "    <tr>\n",
       "      <th>440278</th>\n",
       "      <td>DFAD5EDCE6BB4FD7</td>\n",
       "      <td>2020-12-20</td>\n",
       "      <td>N.America</td>\n",
       "      <td>PC</td>\n",
       "      <td>2020-12-29 10:40:54</td>\n",
       "      <td>login</td>\n",
       "      <td>NaN</td>\n",
       "      <td>9.0</td>\n",
       "      <td>2020-12-29</td>\n",
       "    </tr>\n",
       "    <tr>\n",
       "      <th>440279</th>\n",
       "      <td>CAF67C6E072476F2</td>\n",
       "      <td>2020-12-20</td>\n",
       "      <td>N.America</td>\n",
       "      <td>PC</td>\n",
       "      <td>2020-12-29 14:54:02</td>\n",
       "      <td>login</td>\n",
       "      <td>NaN</td>\n",
       "      <td>9.0</td>\n",
       "      <td>2020-12-29</td>\n",
       "    </tr>\n",
       "    <tr>\n",
       "      <th>440280</th>\n",
       "      <td>2C29721DDDA76B2A</td>\n",
       "      <td>2020-12-20</td>\n",
       "      <td>EU</td>\n",
       "      <td>iPhone</td>\n",
       "      <td>2020-12-29 05:58:20</td>\n",
       "      <td>login</td>\n",
       "      <td>NaN</td>\n",
       "      <td>9.0</td>\n",
       "      <td>2020-12-29</td>\n",
       "    </tr>\n",
       "  </tbody>\n",
       "</table>\n",
       "<p>387576 rows × 9 columns</p>\n",
       "</div>"
      ],
      "text/plain": [
       "                 user_id first_date     region   device          event_time  \\\n",
       "0       E1BDDCE0DAFA2679 2020-12-07  N.America   iPhone 2020-12-07 20:22:03   \n",
       "1       7B6452F081F49504 2020-12-07         EU   iPhone 2020-12-07 09:22:53   \n",
       "2       9CD9F34546DF254C 2020-12-07  N.America   iPhone 2020-12-07 12:59:29   \n",
       "3       96F27A054B191457 2020-12-07         EU   iPhone 2020-12-07 04:02:40   \n",
       "4       1FD7660FDF94CA1F 2020-12-07         EU  Android 2020-12-07 10:15:09   \n",
       "...                  ...        ...        ...      ...                 ...   \n",
       "440276  F393A2F75D0E8ED2 2020-12-20         EU       PC 2020-12-29 21:46:04   \n",
       "440277  9724329882446FD2 2020-12-20         EU   iPhone 2020-12-29 04:17:35   \n",
       "440278  DFAD5EDCE6BB4FD7 2020-12-20  N.America       PC 2020-12-29 10:40:54   \n",
       "440279  CAF67C6E072476F2 2020-12-20  N.America       PC 2020-12-29 14:54:02   \n",
       "440280  2C29721DDDA76B2A 2020-12-20         EU   iPhone 2020-12-29 05:58:20   \n",
       "\n",
       "       event_name  details  lifetime event_date  \n",
       "0        purchase    99.99       0.0 2020-12-07  \n",
       "1        purchase     9.99       0.0 2020-12-07  \n",
       "2        purchase     4.99       0.0 2020-12-07  \n",
       "3        purchase     4.99       0.0 2020-12-07  \n",
       "4        purchase     4.99       0.0 2020-12-07  \n",
       "...           ...      ...       ...        ...  \n",
       "440276      login      NaN       9.0 2020-12-29  \n",
       "440277      login      NaN       9.0 2020-12-29  \n",
       "440278      login      NaN       9.0 2020-12-29  \n",
       "440279      login      NaN       9.0 2020-12-29  \n",
       "440280      login      NaN       9.0 2020-12-29  \n",
       "\n",
       "[387576 rows x 9 columns]"
      ]
     },
     "execution_count": 159,
     "metadata": {},
     "output_type": "execute_result"
    }
   ],
   "source": [
    "events_new"
   ]
  },
  {
   "cell_type": "code",
   "execution_count": 160,
   "metadata": {},
   "outputs": [
    {
     "data": {
      "image/png": "[encoded data removed]",
      "text/plain": [
       "<Figure size 864x360 with 1 Axes>"
      ]
     },
     "metadata": {
      "needs_background": "light"
     },
     "output_type": "display_data"
    }
   ],
   "source": [
    "events_new.groupby('event_date')['event_time'].count().plot(kind='bar', figsize =(12,5))\n",
    "plt.title('Actions over the time')\n",
    "plt.ylabel(\"Actions\")\n",
    "plt.xlabel(\"Date\")\n",
    "plt.show()"
   ]
  },
  {
   "cell_type": "code",
   "execution_count": 161,
   "metadata": {},
   "outputs": [
    {
     "data": {
      "text/html": [
       "<div>\n",
       "<style scoped>\n",
       "    .dataframe tbody tr th:only-of-type {\n",
       "        vertical-align: middle;\n",
       "    }\n",
       "\n",
       "    .dataframe tbody tr th {\n",
       "        vertical-align: top;\n",
       "    }\n",
       "\n",
       "    .dataframe thead th {\n",
       "        text-align: right;\n",
       "    }\n",
       "</style>\n",
       "<table border=\"1\" class=\"dataframe\">\n",
       "  <thead>\n",
       "    <tr style=\"text-align: right;\">\n",
       "      <th></th>\n",
       "      <th>user_id</th>\n",
       "      <th>first_date</th>\n",
       "      <th>region</th>\n",
       "      <th>device</th>\n",
       "      <th>event_time</th>\n",
       "      <th>event_name</th>\n",
       "      <th>details</th>\n",
       "      <th>lifetime</th>\n",
       "      <th>event_date</th>\n",
       "      <th>group</th>\n",
       "      <th>ab_test</th>\n",
       "    </tr>\n",
       "  </thead>\n",
       "  <tbody>\n",
       "    <tr>\n",
       "      <th>0</th>\n",
       "      <td>96F27A054B191457</td>\n",
       "      <td>2020-12-07</td>\n",
       "      <td>EU</td>\n",
       "      <td>iPhone</td>\n",
       "      <td>2020-12-07 04:02:40</td>\n",
       "      <td>purchase</td>\n",
       "      <td>4.99</td>\n",
       "      <td>0.0</td>\n",
       "      <td>2020-12-07</td>\n",
       "      <td>B</td>\n",
       "      <td>interface_eu_test</td>\n",
       "    </tr>\n",
       "    <tr>\n",
       "      <th>1</th>\n",
       "      <td>96F27A054B191457</td>\n",
       "      <td>2020-12-07</td>\n",
       "      <td>EU</td>\n",
       "      <td>iPhone</td>\n",
       "      <td>2020-12-08 09:43:14</td>\n",
       "      <td>purchase</td>\n",
       "      <td>4.99</td>\n",
       "      <td>1.0</td>\n",
       "      <td>2020-12-08</td>\n",
       "      <td>B</td>\n",
       "      <td>interface_eu_test</td>\n",
       "    </tr>\n",
       "    <tr>\n",
       "      <th>2</th>\n",
       "      <td>96F27A054B191457</td>\n",
       "      <td>2020-12-07</td>\n",
       "      <td>EU</td>\n",
       "      <td>iPhone</td>\n",
       "      <td>2020-12-09 00:44:10</td>\n",
       "      <td>purchase</td>\n",
       "      <td>4.99</td>\n",
       "      <td>2.0</td>\n",
       "      <td>2020-12-09</td>\n",
       "      <td>B</td>\n",
       "      <td>interface_eu_test</td>\n",
       "    </tr>\n",
       "    <tr>\n",
       "      <th>3</th>\n",
       "      <td>96F27A054B191457</td>\n",
       "      <td>2020-12-07</td>\n",
       "      <td>EU</td>\n",
       "      <td>iPhone</td>\n",
       "      <td>2020-12-07 04:02:41</td>\n",
       "      <td>product_page</td>\n",
       "      <td>NaN</td>\n",
       "      <td>0.0</td>\n",
       "      <td>2020-12-07</td>\n",
       "      <td>B</td>\n",
       "      <td>interface_eu_test</td>\n",
       "    </tr>\n",
       "    <tr>\n",
       "      <th>4</th>\n",
       "      <td>96F27A054B191457</td>\n",
       "      <td>2020-12-07</td>\n",
       "      <td>EU</td>\n",
       "      <td>iPhone</td>\n",
       "      <td>2020-12-08 09:43:18</td>\n",
       "      <td>product_page</td>\n",
       "      <td>NaN</td>\n",
       "      <td>1.0</td>\n",
       "      <td>2020-12-08</td>\n",
       "      <td>B</td>\n",
       "      <td>interface_eu_test</td>\n",
       "    </tr>\n",
       "  </tbody>\n",
       "</table>\n",
       "</div>"
      ],
      "text/plain": [
       "            user_id first_date region  device          event_time  \\\n",
       "0  96F27A054B191457 2020-12-07     EU  iPhone 2020-12-07 04:02:40   \n",
       "1  96F27A054B191457 2020-12-07     EU  iPhone 2020-12-08 09:43:14   \n",
       "2  96F27A054B191457 2020-12-07     EU  iPhone 2020-12-09 00:44:10   \n",
       "3  96F27A054B191457 2020-12-07     EU  iPhone 2020-12-07 04:02:41   \n",
       "4  96F27A054B191457 2020-12-07     EU  iPhone 2020-12-08 09:43:18   \n",
       "\n",
       "     event_name  details  lifetime event_date group            ab_test  \n",
       "0      purchase     4.99       0.0 2020-12-07     B  interface_eu_test  \n",
       "1      purchase     4.99       1.0 2020-12-08     B  interface_eu_test  \n",
       "2      purchase     4.99       2.0 2020-12-09     B  interface_eu_test  \n",
       "3  product_page      NaN       0.0 2020-12-07     B  interface_eu_test  \n",
       "4  product_page      NaN       1.0 2020-12-08     B  interface_eu_test  "
      ]
     },
     "execution_count": 161,
     "metadata": {},
     "output_type": "execute_result"
    }
   ],
   "source": [
    "test = events_new.merge(participants, on='user_id', how='inner')\n",
    "test.head()"
   ]
  },
  {
   "cell_type": "code",
   "execution_count": 162,
   "metadata": {},
   "outputs": [
    {
     "data": {
      "text/plain": [
       "12634"
      ]
     },
     "execution_count": 162,
     "metadata": {},
     "output_type": "execute_result"
    }
   ],
   "source": [
    "# unique users in both tests\n",
    "test['user_id'].nunique()"
   ]
  },
  {
   "cell_type": "code",
   "execution_count": 163,
   "metadata": {},
   "outputs": [
    {
     "data": {
      "image/png": "[encoded data removed]",
      "text/plain": [
       "<Figure size 864x360 with 1 Axes>"
      ]
     },
     "metadata": {
      "needs_background": "light"
     },
     "output_type": "display_data"
    }
   ],
   "source": [
    "test.groupby('event_date')['event_time'].count().plot(kind='bar', figsize =(12,5))\n",
    "plt.title('Actions over the time')\n",
    "plt.ylabel(\"Actions\")\n",
    "plt.xlabel(\"Date\")\n",
    "plt.show()"
   ]
  },
  {
   "cell_type": "markdown",
   "metadata": {},
   "source": [
    "There is an overlap between the test time and marketing activities, but they have no impact on the test."
   ]
  },
  {
   "cell_type": "markdown",
   "metadata": {},
   "source": [
    "### Number of participants "
   ]
  },
  {
   "cell_type": "code",
   "execution_count": 164,
   "metadata": {},
   "outputs": [
    {
     "data": {
      "text/html": [
       "<div>\n",
       "<style scoped>\n",
       "    .dataframe tbody tr th:only-of-type {\n",
       "        vertical-align: middle;\n",
       "    }\n",
       "\n",
       "    .dataframe tbody tr th {\n",
       "        vertical-align: top;\n",
       "    }\n",
       "\n",
       "    .dataframe thead th {\n",
       "        text-align: right;\n",
       "    }\n",
       "</style>\n",
       "<table border=\"1\" class=\"dataframe\">\n",
       "  <thead>\n",
       "    <tr style=\"text-align: right;\">\n",
       "      <th></th>\n",
       "      <th>user_id</th>\n",
       "      <th>first_date</th>\n",
       "      <th>region</th>\n",
       "      <th>device</th>\n",
       "      <th>event_time</th>\n",
       "      <th>event_name</th>\n",
       "      <th>details</th>\n",
       "      <th>lifetime</th>\n",
       "      <th>event_date</th>\n",
       "      <th>group</th>\n",
       "      <th>ab_test</th>\n",
       "    </tr>\n",
       "  </thead>\n",
       "  <tbody>\n",
       "    <tr>\n",
       "      <th>0</th>\n",
       "      <td>96F27A054B191457</td>\n",
       "      <td>2020-12-07</td>\n",
       "      <td>EU</td>\n",
       "      <td>iPhone</td>\n",
       "      <td>2020-12-07 04:02:40</td>\n",
       "      <td>purchase</td>\n",
       "      <td>4.99</td>\n",
       "      <td>0.0</td>\n",
       "      <td>2020-12-07</td>\n",
       "      <td>B</td>\n",
       "      <td>interface_eu_test</td>\n",
       "    </tr>\n",
       "    <tr>\n",
       "      <th>1</th>\n",
       "      <td>96F27A054B191457</td>\n",
       "      <td>2020-12-07</td>\n",
       "      <td>EU</td>\n",
       "      <td>iPhone</td>\n",
       "      <td>2020-12-08 09:43:14</td>\n",
       "      <td>purchase</td>\n",
       "      <td>4.99</td>\n",
       "      <td>1.0</td>\n",
       "      <td>2020-12-08</td>\n",
       "      <td>B</td>\n",
       "      <td>interface_eu_test</td>\n",
       "    </tr>\n",
       "    <tr>\n",
       "      <th>2</th>\n",
       "      <td>96F27A054B191457</td>\n",
       "      <td>2020-12-07</td>\n",
       "      <td>EU</td>\n",
       "      <td>iPhone</td>\n",
       "      <td>2020-12-09 00:44:10</td>\n",
       "      <td>purchase</td>\n",
       "      <td>4.99</td>\n",
       "      <td>2.0</td>\n",
       "      <td>2020-12-09</td>\n",
       "      <td>B</td>\n",
       "      <td>interface_eu_test</td>\n",
       "    </tr>\n",
       "    <tr>\n",
       "      <th>3</th>\n",
       "      <td>96F27A054B191457</td>\n",
       "      <td>2020-12-07</td>\n",
       "      <td>EU</td>\n",
       "      <td>iPhone</td>\n",
       "      <td>2020-12-07 04:02:41</td>\n",
       "      <td>product_page</td>\n",
       "      <td>NaN</td>\n",
       "      <td>0.0</td>\n",
       "      <td>2020-12-07</td>\n",
       "      <td>B</td>\n",
       "      <td>interface_eu_test</td>\n",
       "    </tr>\n",
       "    <tr>\n",
       "      <th>4</th>\n",
       "      <td>96F27A054B191457</td>\n",
       "      <td>2020-12-07</td>\n",
       "      <td>EU</td>\n",
       "      <td>iPhone</td>\n",
       "      <td>2020-12-08 09:43:18</td>\n",
       "      <td>product_page</td>\n",
       "      <td>NaN</td>\n",
       "      <td>1.0</td>\n",
       "      <td>2020-12-08</td>\n",
       "      <td>B</td>\n",
       "      <td>interface_eu_test</td>\n",
       "    </tr>\n",
       "  </tbody>\n",
       "</table>\n",
       "</div>"
      ],
      "text/plain": [
       "            user_id first_date region  device          event_time  \\\n",
       "0  96F27A054B191457 2020-12-07     EU  iPhone 2020-12-07 04:02:40   \n",
       "1  96F27A054B191457 2020-12-07     EU  iPhone 2020-12-08 09:43:14   \n",
       "2  96F27A054B191457 2020-12-07     EU  iPhone 2020-12-09 00:44:10   \n",
       "3  96F27A054B191457 2020-12-07     EU  iPhone 2020-12-07 04:02:41   \n",
       "4  96F27A054B191457 2020-12-07     EU  iPhone 2020-12-08 09:43:18   \n",
       "\n",
       "     event_name  details  lifetime event_date group            ab_test  \n",
       "0      purchase     4.99       0.0 2020-12-07     B  interface_eu_test  \n",
       "1      purchase     4.99       1.0 2020-12-08     B  interface_eu_test  \n",
       "2      purchase     4.99       2.0 2020-12-09     B  interface_eu_test  \n",
       "3  product_page      NaN       0.0 2020-12-07     B  interface_eu_test  \n",
       "4  product_page      NaN       1.0 2020-12-08     B  interface_eu_test  "
      ]
     },
     "execution_count": 164,
     "metadata": {},
     "output_type": "execute_result"
    }
   ],
   "source": [
    "test.head()"
   ]
  },
  {
   "cell_type": "markdown",
   "metadata": {},
   "source": [
    "Let's check the number of participants in the `recommender_system_test`. The expected number is 6000:"
   ]
  },
  {
   "cell_type": "code",
   "execution_count": 165,
   "metadata": {},
   "outputs": [],
   "source": [
    "recommender_system_test = test.query('ab_test == \"recommender_system_test\"')"
   ]
  },
  {
   "cell_type": "code",
   "execution_count": 166,
   "metadata": {},
   "outputs": [
    {
     "name": "stdout",
     "output_type": "stream",
     "text": [
      "Number of unique users in \"recommender_system_test\" = 3675\n",
      "The number of users in the test is less than expected\n"
     ]
    }
   ],
   "source": [
    "user_number_expected = 6000\n",
    "\n",
    "# actual number of unique users in the recommender_system_test\n",
    "user_number_fact = recommender_system_test['user_id'].nunique()\n",
    "print('Number of unique users in \"recommender_system_test\" =', user_number_fact)\n",
    "\n",
    "if user_number_fact >= user_number_expected:\n",
    "    print('The number of users in the test meets the requirements')\n",
    "else:\n",
    "    print('The number of users in the test is less than expected')"
   ]
  },
  {
   "cell_type": "markdown",
   "metadata": {},
   "source": [
    "The number of users in the recommender_system_test is clearly insufficient. \n",
    "Let's check if groups A and B are balanced:"
   ]
  },
  {
   "cell_type": "code",
   "execution_count": 167,
   "metadata": {},
   "outputs": [
    {
     "data": {
      "text/html": [
       "<div>\n",
       "<style scoped>\n",
       "    .dataframe tbody tr th:only-of-type {\n",
       "        vertical-align: middle;\n",
       "    }\n",
       "\n",
       "    .dataframe tbody tr th {\n",
       "        vertical-align: top;\n",
       "    }\n",
       "\n",
       "    .dataframe thead th {\n",
       "        text-align: right;\n",
       "    }\n",
       "</style>\n",
       "<table border=\"1\" class=\"dataframe\">\n",
       "  <thead>\n",
       "    <tr style=\"text-align: right;\">\n",
       "      <th></th>\n",
       "      <th>group</th>\n",
       "      <th>user_id</th>\n",
       "    </tr>\n",
       "  </thead>\n",
       "  <tbody>\n",
       "    <tr>\n",
       "      <th>0</th>\n",
       "      <td>A</td>\n",
       "      <td>2747</td>\n",
       "    </tr>\n",
       "    <tr>\n",
       "      <th>1</th>\n",
       "      <td>B</td>\n",
       "      <td>928</td>\n",
       "    </tr>\n",
       "  </tbody>\n",
       "</table>\n",
       "</div>"
      ],
      "text/plain": [
       "  group  user_id\n",
       "0     A     2747\n",
       "1     B      928"
      ]
     },
     "execution_count": 167,
     "metadata": {},
     "output_type": "execute_result"
    }
   ],
   "source": [
    "# number of users in groups A and B in recommender_system_test\n",
    "recommender_system_test.groupby('group')['user_id'].nunique().reset_index()"
   ]
  },
  {
   "cell_type": "markdown",
   "metadata": {},
   "source": [
    "We can see that in group A, the number of participants is significantly higher than in group B, indicating an uneven distribution of users."
   ]
  },
  {
   "cell_type": "markdown",
   "metadata": {},
   "source": [
    "### Intersection of test audience"
   ]
  },
  {
   "cell_type": "code",
   "execution_count": 168,
   "metadata": {},
   "outputs": [
    {
     "data": {
      "text/plain": [
       "0"
      ]
     },
     "execution_count": 168,
     "metadata": {},
     "output_type": "execute_result"
    }
   ],
   "source": [
    "# number of users who are in both group A and B of \"recommender_system_test\" at the same time\n",
    "len(np.intersect1d(recommender_system_test.query('group == \"A\"')['user_id'].unique(), \n",
    "                   recommender_system_test.query('group == \"B\"')['user_id'].unique()))"
   ]
  },
  {
   "cell_type": "code",
   "execution_count": 169,
   "metadata": {},
   "outputs": [
    {
     "data": {
      "text/plain": [
       "887"
      ]
     },
     "execution_count": 169,
     "metadata": {},
     "output_type": "execute_result"
    }
   ],
   "source": [
    "# number of users participating in both tests\n",
    "len(np.intersect1d(recommender_system_test['user_id'].unique(), \n",
    "                   test.query('ab_test == \"interface_eu_test\"')['user_id'].unique()))"
   ]
  },
  {
   "cell_type": "markdown",
   "metadata": {},
   "source": [
    "In this situation, the most appropriate solution would be to check which specific groups of `interface_eu_test` the users from `recommender_system_test` were assigned to. If they were only assigned to the control group, it means that the `interface_eu_test` test had no impact on them."
   ]
  },
  {
   "cell_type": "code",
   "execution_count": 170,
   "metadata": {},
   "outputs": [
    {
     "name": "stdout",
     "output_type": "stream",
     "text": [
      "Number of users participating in the competitive test in group A (control): 456\n"
     ]
    }
   ],
   "source": [
    "print(\"Number of users participating in the competitive test in group A (control):\",\n",
    "      len(np.intersect1d(recommender_system_test['user_id'].unique(), \n",
    "                   test.query('ab_test == \"interface_eu_test\" & group == \"A\"')['user_id'].unique())))"
   ]
  },
  {
   "cell_type": "code",
   "execution_count": 171,
   "metadata": {},
   "outputs": [
    {
     "name": "stdout",
     "output_type": "stream",
     "text": [
      "Number of users participating in the competitive test in group B (test): 431\n"
     ]
    }
   ],
   "source": [
    "print(\"Number of users participating in the competitive test in group B (test):\",\n",
    "      len(np.intersect1d(recommender_system_test['user_id'].unique(), \n",
    "                   test.query('ab_test == \"interface_eu_test\" & group == \"B\"')['user_id'].unique())))"
   ]
  },
  {
   "cell_type": "markdown",
   "metadata": {},
   "source": [
    "We must discard the number of users participating in the competitive test in group B:"
   ]
  },
  {
   "cell_type": "code",
   "execution_count": 172,
   "metadata": {},
   "outputs": [],
   "source": [
    "# list of users from our test to remove\n",
    "users_to_remove = np.intersect1d(recommender_system_test['user_id'].unique(), \n",
    "                   test.query('ab_test == \"interface_eu_test\" & group == \"B\"')['user_id'].unique()).tolist()\n",
    "\n",
    "# remove these users from the table\n",
    "recommender_system_test = recommender_system_test[~recommender_system_test['user_id'].isin(users_to_remove)]\n",
    "recommender_system_test.reset_index(drop=True, inplace=True) "
   ]
  },
  {
   "cell_type": "code",
   "execution_count": 173,
   "metadata": {},
   "outputs": [
    {
     "data": {
      "text/plain": [
       "3244"
      ]
     },
     "execution_count": 173,
     "metadata": {},
     "output_type": "execute_result"
    }
   ],
   "source": [
    "recommender_system_test['user_id'].nunique()"
   ]
  },
  {
   "cell_type": "markdown",
   "metadata": {},
   "source": [
    "To determine the share of users from the European Union who participated in the test, out of the total number of users from that region registered on the platform between December 07 and December 21 (inclusive):"
   ]
  },
  {
   "cell_type": "code",
   "execution_count": 174,
   "metadata": {},
   "outputs": [
    {
     "data": {
      "text/plain": [
       "7.2"
      ]
     },
     "execution_count": 174,
     "metadata": {},
     "output_type": "execute_result"
    }
   ],
   "source": [
    "# доля участников теста из ЕС из общего числа пользователей ЕС с 07 по 21 декабря\n",
    "round(recommender_system_test.query('region == \"EU\"')['user_id'].nunique() /\n",
    "users12_21.query('region == \"EU\"')['user_id'].nunique() * 100 ,1)"
   ]
  },
  {
   "cell_type": "code",
   "execution_count": 175,
   "metadata": {},
   "outputs": [
    {
     "data": {
      "text/plain": [
       "42340"
      ]
     },
     "execution_count": 175,
     "metadata": {},
     "output_type": "execute_result"
    }
   ],
   "source": [
    "users12_21.query('region == \"EU\"')['user_id'].nunique()"
   ]
  },
  {
   "cell_type": "code",
   "execution_count": 176,
   "metadata": {},
   "outputs": [
    {
     "data": {
      "text/html": [
       "<div>\n",
       "<style scoped>\n",
       "    .dataframe tbody tr th:only-of-type {\n",
       "        vertical-align: middle;\n",
       "    }\n",
       "\n",
       "    .dataframe tbody tr th {\n",
       "        vertical-align: top;\n",
       "    }\n",
       "\n",
       "    .dataframe thead th {\n",
       "        text-align: right;\n",
       "    }\n",
       "</style>\n",
       "<table border=\"1\" class=\"dataframe\">\n",
       "  <thead>\n",
       "    <tr style=\"text-align: right;\">\n",
       "      <th></th>\n",
       "      <th>region</th>\n",
       "      <th>user_id</th>\n",
       "      <th>share</th>\n",
       "    </tr>\n",
       "  </thead>\n",
       "  <tbody>\n",
       "    <tr>\n",
       "      <th>0</th>\n",
       "      <td>APAC</td>\n",
       "      <td>45</td>\n",
       "      <td>1.4</td>\n",
       "    </tr>\n",
       "    <tr>\n",
       "      <th>1</th>\n",
       "      <td>CIS</td>\n",
       "      <td>30</td>\n",
       "      <td>0.9</td>\n",
       "    </tr>\n",
       "    <tr>\n",
       "      <th>2</th>\n",
       "      <td>EU</td>\n",
       "      <td>3050</td>\n",
       "      <td>94.0</td>\n",
       "    </tr>\n",
       "    <tr>\n",
       "      <th>3</th>\n",
       "      <td>N.America</td>\n",
       "      <td>119</td>\n",
       "      <td>3.7</td>\n",
       "    </tr>\n",
       "  </tbody>\n",
       "</table>\n",
       "</div>"
      ],
      "text/plain": [
       "      region  user_id  share\n",
       "0       APAC       45    1.4\n",
       "1        CIS       30    0.9\n",
       "2         EU     3050   94.0\n",
       "3  N.America      119    3.7"
      ]
     },
     "execution_count": 176,
     "metadata": {},
     "output_type": "execute_result"
    }
   ],
   "source": [
    "regions = recommender_system_test.groupby('region')['user_id'].nunique().reset_index()\n",
    "regions['share'] = round(regions['user_id'] / recommender_system_test['user_id'].nunique() * 100,1)\n",
    "regions"
   ]
  },
  {
   "cell_type": "markdown",
   "metadata": {},
   "source": [
    "The share of participants from the EU is 7%, instead of the stated 15%.\n",
    "\n",
    "We fell short of nearly half of the new users from the EU, but also, the total number of participants is almost 2 times lower than the stated number. Additionally, we removed users who are part of a competing test from the test group B."
   ]
  },
  {
   "cell_type": "markdown",
   "metadata": {},
   "source": [
    "**Conclusion:**\n",
    "\n",
    "- We filtered the user table data and now only have users who registered no later than December 21, 2020.\n",
    "- We discovered that for some reason, the `events` table data ends on December 30, 2020.\n",
    "- We discarded events that occurred more than 14 days after a user's registration.\n",
    "- We found out that marketing activities overlap with the test period but do not impact it in any way.\n",
    "- We identified that the number of users in the `recommender_system_test` is less than expected (3244 vs 6000).\n",
    "- We found that group A has significantly more participants than group B, indicating an uneven distribution of users.\n",
    "- We determined that the share of test participants from the EU is 7%, instead of the projected 15%.\n",
    "- We found out that in the `recommender_system_test`, there are no users who ended up in both group A and group B at the same time. However, there are 887 users who participated in both the `recommender_system_test` and the `interface_eu_test`."
   ]
  },
  {
   "cell_type": "markdown",
   "metadata": {},
   "source": [
    "## Exploratory data analysis"
   ]
  },
  {
   "cell_type": "markdown",
   "metadata": {},
   "source": [
    "### Average number of events per user"
   ]
  },
  {
   "cell_type": "code",
   "execution_count": 177,
   "metadata": {},
   "outputs": [
    {
     "data": {
      "text/plain": [
       "6"
      ]
     },
     "execution_count": 177,
     "metadata": {},
     "output_type": "execute_result"
    }
   ],
   "source": [
    "# average number of events per user\n",
    "round(recommender_system_test.shape[0] / recommender_system_test['user_id'].nunique())"
   ]
  },
  {
   "cell_type": "code",
   "execution_count": 178,
   "metadata": {},
   "outputs": [],
   "source": [
    "recommender_system_test_a = recommender_system_test.query('group == \"A\"')\n",
    "recommender_system_test_b = recommender_system_test.query('group == \"B\"')"
   ]
  },
  {
   "cell_type": "code",
   "execution_count": 179,
   "metadata": {},
   "outputs": [
    {
     "data": {
      "text/plain": [
       "7"
      ]
     },
     "execution_count": 179,
     "metadata": {},
     "output_type": "execute_result"
    }
   ],
   "source": [
    "# average number of events per user in group A\n",
    "round(recommender_system_test_a.shape[0] \n",
    "      / recommender_system_test_a['user_id'].nunique())"
   ]
  },
  {
   "cell_type": "code",
   "execution_count": 180,
   "metadata": {},
   "outputs": [
    {
     "data": {
      "text/plain": [
       "5"
      ]
     },
     "execution_count": 180,
     "metadata": {},
     "output_type": "execute_result"
    }
   ],
   "source": [
    "# average number of events per user in group B\n",
    "round(recommender_system_test_b.shape[0] \n",
    "      / recommender_system_test_b['user_id'].nunique())"
   ]
  },
  {
   "cell_type": "markdown",
   "metadata": {},
   "source": [
    "Alpha (statistical significance level) - 0.05.\n",
    "\n",
    "Define hypothesis (Null and Alternate):\n",
    "\n",
    "- Null Hypothesis (H0) - users in groups A and B perform an equal number of actions on average.\n",
    "- Alternative Hypothesis (H1) - users in groups A and B perform a different number of actions on average."
   ]
  },
  {
   "cell_type": "code",
   "execution_count": 181,
   "metadata": {},
   "outputs": [],
   "source": [
    "# find the number of actions users in group A perform\n",
    "events_a = recommender_system_test_a.groupby('user_id')['event_time'].count()\n",
    "# find the number of actions users in group B perform\n",
    "events_b = recommender_system_test_b.groupby('user_id')['event_time'].count()"
   ]
  },
  {
   "cell_type": "code",
   "execution_count": 182,
   "metadata": {
    "scrolled": true
   },
   "outputs": [
    {
     "name": "stdout",
     "output_type": "stream",
     "text": [
      "p-value: 2.4206912959458938e-29\n",
      "Reject the null hypothesis, the average number of events per user is not equal\n"
     ]
    }
   ],
   "source": [
    "alpha = 0.05\n",
    "# if p-value is less than alpha, we reject the null hypothesis\n",
    "\n",
    "results = st.ttest_ind(events_a, events_b, equal_var=False)\n",
    "\n",
    "print('p-value:', results.pvalue)\n",
    "\n",
    "if results.pvalue < alpha:\n",
    "    print('Reject the null hypothesis, the average number of events per user is not equal')\n",
    "else:\n",
    "    print('Do not reject the null hypothesis, the average number of events per user is equal') "
   ]
  },
  {
   "cell_type": "markdown",
   "metadata": {},
   "source": [
    "### How is the number of events distributed per day in the groups?"
   ]
  },
  {
   "cell_type": "code",
   "execution_count": 183,
   "metadata": {
    "scrolled": false
   },
   "outputs": [
    {
     "data": {
      "image/png": "[encoded data removed]",
      "text/plain": [
       "<Figure size 720x360 with 1 Axes>"
      ]
     },
     "metadata": {
      "needs_background": "light"
     },
     "output_type": "display_data"
    }
   ],
   "source": [
    "(recommender_system_test_a.groupby('event_date')['event_name']\n",
    ".count().plot(color='r', figsize =(10,5)))\n",
    "sns.lineplot(data = recommender_system_test_b.groupby('event_date')['event_name']\n",
    "             .count(), label='label1', color='green')\n",
    "\n",
    "plt.title('Distribution of event number over time')\n",
    "plt.ylabel(\"Events\")\n",
    "plt.xlabel(\"Date\")\n",
    "plt.legend(['Group A', 'Group B'])\n",
    "plt.show()"
   ]
  },
  {
   "cell_type": "markdown",
   "metadata": {},
   "source": [
    "Group A stands out noticeably on the graph, as it has significantly more events compared to group B."
   ]
  },
  {
   "cell_type": "markdown",
   "metadata": {},
   "source": [
    "## Let's examine what could be the reason for the spike in events in group A on December 14th. We can explore the dynamics of user acquisition to gain insights."
   ]
  },
  {
   "cell_type": "code",
   "execution_count": 184,
   "metadata": {},
   "outputs": [
    {
     "data": {
      "image/png": "[encoded data removed]",
      "text/plain": [
       "<Figure size 720x360 with 1 Axes>"
      ]
     },
     "metadata": {
      "needs_background": "light"
     },
     "output_type": "display_data"
    }
   ],
   "source": [
    "(recommender_system_test_a.groupby('first_date')['user_id']\n",
    ".count().plot(color='r', figsize =(10,5)))\n",
    "sns.lineplot(data = recommender_system_test_b.groupby('first_date')['user_id']\n",
    "             .count(), label='label1', color='green')\n",
    "\n",
    "plt.title('User acquisition dynamics')\n",
    "plt.ylabel(\"Number of new users\")\n",
    "plt.xlabel(\"Date\")\n",
    "plt.legend(['Group A', 'Group B'])\n",
    "plt.show()"
   ]
  },
  {
   "cell_type": "markdown",
   "metadata": {},
   "source": [
    "A significant number of participants were added to group A on December 14th. User acquisition in the groups was unevenly distributed. This outlier is likely to distort the results."
   ]
  },
  {
   "cell_type": "markdown",
   "metadata": {},
   "source": [
    "### Conversion Funnel"
   ]
  },
  {
   "cell_type": "code",
   "execution_count": 185,
   "metadata": {},
   "outputs": [],
   "source": [
    "#funnel_ab = (recommender_system_test.groupby('event_name')['user_id'].nunique().sort_values(ascending=False).reset_index())\n",
    "\n",
    "# swap the positions of the \"purchase\" and \"product_cart\" rows\n",
    "#funnel_ab.iloc[2:4,:] = funnel_ab.iloc[[3,2],:]\n",
    "\n",
    "#funnel_ab "
   ]
  },
  {
   "cell_type": "code",
   "execution_count": 186,
   "metadata": {},
   "outputs": [
    {
     "data": {
      "application/vnd.plotly.v1+json": {
       "config": {
        "plotlyServerURL": "https://plot.ly"
       },
       "data": [
        {
         "textinfo": "value+percent initial",
         "type": "funnel",
         "x": [
          3243,
          2030,
          953,
          999
         ],
         "y": [
          "login",
          "product_page",
          "product_cart",
          "purchase"
         ]
        }
       ],
       "layout": {
        "template": {
         "data": {
          "bar": [
           {
            "error_x": {
             "color": "#2a3f5f"
            },
            "error_y": {
             "color": "#2a3f5f"
            },
            "marker": {
             "line": {
              "color": "#E5ECF6",
              "width": 0.5
             },
             "pattern": {
              "fillmode": "overlay",
              "size": 10,
              "solidity": 0.2
             }
            },
            "type": "bar"
           }
          ],
          "barpolar": [
           {
            "marker": {
             "line": {
              "color": "#E5ECF6",
              "width": 0.5
             },
             "pattern": {
              "fillmode": "overlay",
              "size": 10,
              "solidity": 0.2
             }
            },
            "type": "barpolar"
           }
          ],
          "carpet": [
           {
            "aaxis": {
             "endlinecolor": "#2a3f5f",
             "gridcolor": "white",
             "linecolor": "white",
             "minorgridcolor": "white",
             "startlinecolor": "#2a3f5f"
            },
            "baxis": {
             "endlinecolor": "#2a3f5f",
             "gridcolor": "white",
             "linecolor": "white",
             "minorgridcolor": "white",
             "startlinecolor": "#2a3f5f"
            },
            "type": "carpet"
           }
          ],
          "choropleth": [
           {
            "colorbar": {
             "outlinewidth": 0,
             "ticks": ""
            },
            "type": "choropleth"
           }
          ],
          "contour": [
           {
            "colorbar": {
             "outlinewidth": 0,
             "ticks": ""
            },
            "colorscale": [
             [
              0,
              "#0d0887"
             ],
             [
              0.1111111111111111,
              "#46039f"
             ],
             [
              0.2222222222222222,
              "#7201a8"
             ],
             [
              0.3333333333333333,
              "#9c179e"
             ],
             [
              0.4444444444444444,
              "#bd3786"
             ],
             [
              0.5555555555555556,
              "#d8576b"
             ],
             [
              0.6666666666666666,
              "#ed7953"
             ],
             [
              0.7777777777777778,
              "#fb9f3a"
             ],
             [
              0.8888888888888888,
              "#fdca26"
             ],
             [
              1,
              "#f0f921"
             ]
            ],
            "type": "contour"
           }
          ],
          "contourcarpet": [
           {
            "colorbar": {
             "outlinewidth": 0,
             "ticks": ""
            },
            "type": "contourcarpet"
           }
          ],
          "heatmap": [
           {
            "colorbar": {
             "outlinewidth": 0,
             "ticks": ""
            },
            "colorscale": [
             [
              0,
              "#0d0887"
             ],
             [
              0.1111111111111111,
              "#46039f"
             ],
             [
              0.2222222222222222,
              "#7201a8"
             ],
             [
              0.3333333333333333,
              "#9c179e"
             ],
             [
              0.4444444444444444,
              "#bd3786"
             ],
             [
              0.5555555555555556,
              "#d8576b"
             ],
             [
              0.6666666666666666,
              "#ed7953"
             ],
             [
              0.7777777777777778,
              "#fb9f3a"
             ],
             [
              0.8888888888888888,
              "#fdca26"
             ],
             [
              1,
              "#f0f921"
             ]
            ],
            "type": "heatmap"
           }
          ],
          "heatmapgl": [
           {
            "colorbar": {
             "outlinewidth": 0,
             "ticks": ""
            },
            "colorscale": [
             [
              0,
              "#0d0887"
             ],
             [
              0.1111111111111111,
              "#46039f"
             ],
             [
              0.2222222222222222,
              "#7201a8"
             ],
             [
              0.3333333333333333,
              "#9c179e"
             ],
             [
              0.4444444444444444,
              "#bd3786"
             ],
             [
              0.5555555555555556,
              "#d8576b"
             ],
             [
              0.6666666666666666,
              "#ed7953"
             ],
             [
              0.7777777777777778,
              "#fb9f3a"
             ],
             [
              0.8888888888888888,
              "#fdca26"
             ],
             [
              1,
              "#f0f921"
             ]
            ],
            "type": "heatmapgl"
           }
          ],
          "histogram": [
           {
            "marker": {
             "pattern": {
              "fillmode": "overlay",
              "size": 10,
              "solidity": 0.2
             }
            },
            "type": "histogram"
           }
          ],
          "histogram2d": [
           {
            "colorbar": {
             "outlinewidth": 0,
             "ticks": ""
            },
            "colorscale": [
             [
              0,
              "#0d0887"
             ],
             [
              0.1111111111111111,
              "#46039f"
             ],
             [
              0.2222222222222222,
              "#7201a8"
             ],
             [
              0.3333333333333333,
              "#9c179e"
             ],
             [
              0.4444444444444444,
              "#bd3786"
             ],
             [
              0.5555555555555556,
              "#d8576b"
             ],
             [
              0.6666666666666666,
              "#ed7953"
             ],
             [
              0.7777777777777778,
              "#fb9f3a"
             ],
             [
              0.8888888888888888,
              "#fdca26"
             ],
             [
              1,
              "#f0f921"
             ]
            ],
            "type": "histogram2d"
           }
          ],
          "histogram2dcontour": [
           {
            "colorbar": {
             "outlinewidth": 0,
             "ticks": ""
            },
            "colorscale": [
             [
              0,
              "#0d0887"
             ],
             [
              0.1111111111111111,
              "#46039f"
             ],
             [
              0.2222222222222222,
              "#7201a8"
             ],
             [
              0.3333333333333333,
              "#9c179e"
             ],
             [
              0.4444444444444444,
              "#bd3786"
             ],
             [
              0.5555555555555556,
              "#d8576b"
             ],
             [
              0.6666666666666666,
              "#ed7953"
             ],
             [
              0.7777777777777778,
              "#fb9f3a"
             ],
             [
              0.8888888888888888,
              "#fdca26"
             ],
             [
              1,
              "#f0f921"
             ]
            ],
            "type": "histogram2dcontour"
           }
          ],
          "mesh3d": [
           {
            "colorbar": {
             "outlinewidth": 0,
             "ticks": ""
            },
            "type": "mesh3d"
           }
          ],
          "parcoords": [
           {
            "line": {
             "colorbar": {
              "outlinewidth": 0,
              "ticks": ""
             }
            },
            "type": "parcoords"
           }
          ],
          "pie": [
           {
            "automargin": true,
            "type": "pie"
           }
          ],
          "scatter": [
           {
            "marker": {
             "colorbar": {
              "outlinewidth": 0,
              "ticks": ""
             }
            },
            "type": "scatter"
           }
          ],
          "scatter3d": [
           {
            "line": {
             "colorbar": {
              "outlinewidth": 0,
              "ticks": ""
             }
            },
            "marker": {
             "colorbar": {
              "outlinewidth": 0,
              "ticks": ""
             }
            },
            "type": "scatter3d"
           }
          ],
          "scattercarpet": [
           {
            "marker": {
             "colorbar": {
              "outlinewidth": 0,
              "ticks": ""
             }
            },
            "type": "scattercarpet"
           }
          ],
          "scattergeo": [
           {
            "marker": {
             "colorbar": {
              "outlinewidth": 0,
              "ticks": ""
             }
            },
            "type": "scattergeo"
           }
          ],
          "scattergl": [
           {
            "marker": {
             "colorbar": {
              "outlinewidth": 0,
              "ticks": ""
             }
            },
            "type": "scattergl"
           }
          ],
          "scattermapbox": [
           {
            "marker": {
             "colorbar": {
              "outlinewidth": 0,
              "ticks": ""
             }
            },
            "type": "scattermapbox"
           }
          ],
          "scatterpolar": [
           {
            "marker": {
             "colorbar": {
              "outlinewidth": 0,
              "ticks": ""
             }
            },
            "type": "scatterpolar"
           }
          ],
          "scatterpolargl": [
           {
            "marker": {
             "colorbar": {
              "outlinewidth": 0,
              "ticks": ""
             }
            },
            "type": "scatterpolargl"
           }
          ],
          "scatterternary": [
           {
            "marker": {
             "colorbar": {
              "outlinewidth": 0,
              "ticks": ""
             }
            },
            "type": "scatterternary"
           }
          ],
          "surface": [
           {
            "colorbar": {
             "outlinewidth": 0,
             "ticks": ""
            },
            "colorscale": [
             [
              0,
              "#0d0887"
             ],
             [
              0.1111111111111111,
              "#46039f"
             ],
             [
              0.2222222222222222,
              "#7201a8"
             ],
             [
              0.3333333333333333,
              "#9c179e"
             ],
             [
              0.4444444444444444,
              "#bd3786"
             ],
             [
              0.5555555555555556,
              "#d8576b"
             ],
             [
              0.6666666666666666,
              "#ed7953"
             ],
             [
              0.7777777777777778,
              "#fb9f3a"
             ],
             [
              0.8888888888888888,
              "#fdca26"
             ],
             [
              1,
              "#f0f921"
             ]
            ],
            "type": "surface"
           }
          ],
          "table": [
           {
            "cells": {
             "fill": {
              "color": "#EBF0F8"
             },
             "line": {
              "color": "white"
             }
            },
            "header": {
             "fill": {
              "color": "#C8D4E3"
             },
             "line": {
              "color": "white"
             }
            },
            "type": "table"
           }
          ]
         },
         "layout": {
          "annotationdefaults": {
           "arrowcolor": "#2a3f5f",
           "arrowhead": 0,
           "arrowwidth": 1
          },
          "autotypenumbers": "strict",
          "coloraxis": {
           "colorbar": {
            "outlinewidth": 0,
            "ticks": ""
           }
          },
          "colorscale": {
           "diverging": [
            [
             0,
             "#8e0152"
            ],
            [
             0.1,
             "#c51b7d"
            ],
            [
             0.2,
             "#de77ae"
            ],
            [
             0.3,
             "#f1b6da"
            ],
            [
             0.4,
             "#fde0ef"
            ],
            [
             0.5,
             "#f7f7f7"
            ],
            [
             0.6,
             "#e6f5d0"
            ],
            [
             0.7,
             "#b8e186"
            ],
            [
             0.8,
             "#7fbc41"
            ],
            [
             0.9,
             "#4d9221"
            ],
            [
             1,
             "#276419"
            ]
           ],
           "sequential": [
            [
             0,
             "#0d0887"
            ],
            [
             0.1111111111111111,
             "#46039f"
            ],
            [
             0.2222222222222222,
             "#7201a8"
            ],
            [
             0.3333333333333333,
             "#9c179e"
            ],
            [
             0.4444444444444444,
             "#bd3786"
            ],
            [
             0.5555555555555556,
             "#d8576b"
            ],
            [
             0.6666666666666666,
             "#ed7953"
            ],
            [
             0.7777777777777778,
             "#fb9f3a"
            ],
            [
             0.8888888888888888,
             "#fdca26"
            ],
            [
             1,
             "#f0f921"
            ]
           ],
           "sequentialminus": [
            [
             0,
             "#0d0887"
            ],
            [
             0.1111111111111111,
             "#46039f"
            ],
            [
             0.2222222222222222,
             "#7201a8"
            ],
            [
             0.3333333333333333,
             "#9c179e"
            ],
            [
             0.4444444444444444,
             "#bd3786"
            ],
            [
             0.5555555555555556,
             "#d8576b"
            ],
            [
             0.6666666666666666,
             "#ed7953"
            ],
            [
             0.7777777777777778,
             "#fb9f3a"
            ],
            [
             0.8888888888888888,
             "#fdca26"
            ],
            [
             1,
             "#f0f921"
            ]
           ]
          },
          "colorway": [
           "#636efa",
           "#EF553B",
           "#00cc96",
           "#ab63fa",
           "#FFA15A",
           "#19d3f3",
           "#FF6692",
           "#B6E880",
           "#FF97FF",
           "#FECB52"
          ],
          "font": {
           "color": "#2a3f5f"
          },
          "geo": {
           "bgcolor": "white",
           "lakecolor": "white",
           "landcolor": "#E5ECF6",
           "showlakes": true,
           "showland": true,
           "subunitcolor": "white"
          },
          "hoverlabel": {
           "align": "left"
          },
          "hovermode": "closest",
          "mapbox": {
           "style": "light"
          },
          "paper_bgcolor": "white",
          "plot_bgcolor": "#E5ECF6",
          "polar": {
           "angularaxis": {
            "gridcolor": "white",
            "linecolor": "white",
            "ticks": ""
           },
           "bgcolor": "#E5ECF6",
           "radialaxis": {
            "gridcolor": "white",
            "linecolor": "white",
            "ticks": ""
           }
          },
          "scene": {
           "xaxis": {
            "backgroundcolor": "#E5ECF6",
            "gridcolor": "white",
            "gridwidth": 2,
            "linecolor": "white",
            "showbackground": true,
            "ticks": "",
            "zerolinecolor": "white"
           },
           "yaxis": {
            "backgroundcolor": "#E5ECF6",
            "gridcolor": "white",
            "gridwidth": 2,
            "linecolor": "white",
            "showbackground": true,
            "ticks": "",
            "zerolinecolor": "white"
           },
           "zaxis": {
            "backgroundcolor": "#E5ECF6",
            "gridcolor": "white",
            "gridwidth": 2,
            "linecolor": "white",
            "showbackground": true,
            "ticks": "",
            "zerolinecolor": "white"
           }
          },
          "shapedefaults": {
           "line": {
            "color": "#2a3f5f"
           }
          },
          "ternary": {
           "aaxis": {
            "gridcolor": "white",
            "linecolor": "white",
            "ticks": ""
           },
           "baxis": {
            "gridcolor": "white",
            "linecolor": "white",
            "ticks": ""
           },
           "bgcolor": "#E5ECF6",
           "caxis": {
            "gridcolor": "white",
            "linecolor": "white",
            "ticks": ""
           }
          },
          "title": {
           "x": 0.05
          },
          "xaxis": {
           "automargin": true,
           "gridcolor": "white",
           "linecolor": "white",
           "ticks": "",
           "title": {
            "standoff": 15
           },
           "zerolinecolor": "white",
           "zerolinewidth": 2
          },
          "yaxis": {
           "automargin": true,
           "gridcolor": "white",
           "linecolor": "white",
           "ticks": "",
           "title": {
            "standoff": 15
           },
           "zerolinecolor": "white",
           "zerolinewidth": 2
          }
         }
        },
        "title": {
         "text": "A & B funnel"
        }
       }
      },
      "text/html": [
       "<div>                            <div id=\"dab651d8-c033-43ba-b97a-69f8e2cb5ee3\" class=\"plotly-graph-div\" style=\"height:525px; width:100%;\"></div>            <script type=\"text/javascript\">                require([\"plotly\"], function(Plotly) {                    window.PLOTLYENV=window.PLOTLYENV || {};                                    if (document.getElementById(\"dab651d8-c033-43ba-b97a-69f8e2cb5ee3\")) {                    Plotly.newPlot(                        \"dab651d8-c033-43ba-b97a-69f8e2cb5ee3\",                        [{\"textinfo\":\"value+percent initial\",\"x\":[3243,2030,953,999],\"y\":[\"login\",\"product_page\",\"product_cart\",\"purchase\"],\"type\":\"funnel\"}],                        {\"template\":{\"data\":{\"bar\":[{\"error_x\":{\"color\":\"#2a3f5f\"},\"error_y\":{\"color\":\"#2a3f5f\"},\"marker\":{\"line\":{\"color\":\"#E5ECF6\",\"width\":0.5},\"pattern\":{\"fillmode\":\"overlay\",\"size\":10,\"solidity\":0.2}},\"type\":\"bar\"}],\"barpolar\":[{\"marker\":{\"line\":{\"color\":\"#E5ECF6\",\"width\":0.5},\"pattern\":{\"fillmode\":\"overlay\",\"size\":10,\"solidity\":0.2}},\"type\":\"barpolar\"}],\"carpet\":[{\"aaxis\":{\"endlinecolor\":\"#2a3f5f\",\"gridcolor\":\"white\",\"linecolor\":\"white\",\"minorgridcolor\":\"white\",\"startlinecolor\":\"#2a3f5f\"},\"baxis\":{\"endlinecolor\":\"#2a3f5f\",\"gridcolor\":\"white\",\"linecolor\":\"white\",\"minorgridcolor\":\"white\",\"startlinecolor\":\"#2a3f5f\"},\"type\":\"carpet\"}],\"choropleth\":[{\"colorbar\":{\"outlinewidth\":0,\"ticks\":\"\"},\"type\":\"choropleth\"}],\"contour\":[{\"colorbar\":{\"outlinewidth\":0,\"ticks\":\"\"},\"colorscale\":[[0.0,\"#0d0887\"],[0.1111111111111111,\"#46039f\"],[0.2222222222222222,\"#7201a8\"],[0.3333333333333333,\"#9c179e\"],[0.4444444444444444,\"#bd3786\"],[0.5555555555555556,\"#d8576b\"],[0.6666666666666666,\"#ed7953\"],[0.7777777777777778,\"#fb9f3a\"],[0.8888888888888888,\"#fdca26\"],[1.0,\"#f0f921\"]],\"type\":\"contour\"}],\"contourcarpet\":[{\"colorbar\":{\"outlinewidth\":0,\"ticks\":\"\"},\"type\":\"contourcarpet\"}],\"heatmap\":[{\"colorbar\":{\"outlinewidth\":0,\"ticks\":\"\"},\"colorscale\":[[0.0,\"#0d0887\"],[0.1111111111111111,\"#46039f\"],[0.2222222222222222,\"#7201a8\"],[0.3333333333333333,\"#9c179e\"],[0.4444444444444444,\"#bd3786\"],[0.5555555555555556,\"#d8576b\"],[0.6666666666666666,\"#ed7953\"],[0.7777777777777778,\"#fb9f3a\"],[0.8888888888888888,\"#fdca26\"],[1.0,\"#f0f921\"]],\"type\":\"heatmap\"}],\"heatmapgl\":[{\"colorbar\":{\"outlinewidth\":0,\"ticks\":\"\"},\"colorscale\":[[0.0,\"#0d0887\"],[0.1111111111111111,\"#46039f\"],[0.2222222222222222,\"#7201a8\"],[0.3333333333333333,\"#9c179e\"],[0.4444444444444444,\"#bd3786\"],[0.5555555555555556,\"#d8576b\"],[0.6666666666666666,\"#ed7953\"],[0.7777777777777778,\"#fb9f3a\"],[0.8888888888888888,\"#fdca26\"],[1.0,\"#f0f921\"]],\"type\":\"heatmapgl\"}],\"histogram\":[{\"marker\":{\"pattern\":{\"fillmode\":\"overlay\",\"size\":10,\"solidity\":0.2}},\"type\":\"histogram\"}],\"histogram2d\":[{\"colorbar\":{\"outlinewidth\":0,\"ticks\":\"\"},\"colorscale\":[[0.0,\"#0d0887\"],[0.1111111111111111,\"#46039f\"],[0.2222222222222222,\"#7201a8\"],[0.3333333333333333,\"#9c179e\"],[0.4444444444444444,\"#bd3786\"],[0.5555555555555556,\"#d8576b\"],[0.6666666666666666,\"#ed7953\"],[0.7777777777777778,\"#fb9f3a\"],[0.8888888888888888,\"#fdca26\"],[1.0,\"#f0f921\"]],\"type\":\"histogram2d\"}],\"histogram2dcontour\":[{\"colorbar\":{\"outlinewidth\":0,\"ticks\":\"\"},\"colorscale\":[[0.0,\"#0d0887\"],[0.1111111111111111,\"#46039f\"],[0.2222222222222222,\"#7201a8\"],[0.3333333333333333,\"#9c179e\"],[0.4444444444444444,\"#bd3786\"],[0.5555555555555556,\"#d8576b\"],[0.6666666666666666,\"#ed7953\"],[0.7777777777777778,\"#fb9f3a\"],[0.8888888888888888,\"#fdca26\"],[1.0,\"#f0f921\"]],\"type\":\"histogram2dcontour\"}],\"mesh3d\":[{\"colorbar\":{\"outlinewidth\":0,\"ticks\":\"\"},\"type\":\"mesh3d\"}],\"parcoords\":[{\"line\":{\"colorbar\":{\"outlinewidth\":0,\"ticks\":\"\"}},\"type\":\"parcoords\"}],\"pie\":[{\"automargin\":true,\"type\":\"pie\"}],\"scatter\":[{\"marker\":{\"colorbar\":{\"outlinewidth\":0,\"ticks\":\"\"}},\"type\":\"scatter\"}],\"scatter3d\":[{\"line\":{\"colorbar\":{\"outlinewidth\":0,\"ticks\":\"\"}},\"marker\":{\"colorbar\":{\"outlinewidth\":0,\"ticks\":\"\"}},\"type\":\"scatter3d\"}],\"scattercarpet\":[{\"marker\":{\"colorbar\":{\"outlinewidth\":0,\"ticks\":\"\"}},\"type\":\"scattercarpet\"}],\"scattergeo\":[{\"marker\":{\"colorbar\":{\"outlinewidth\":0,\"ticks\":\"\"}},\"type\":\"scattergeo\"}],\"scattergl\":[{\"marker\":{\"colorbar\":{\"outlinewidth\":0,\"ticks\":\"\"}},\"type\":\"scattergl\"}],\"scattermapbox\":[{\"marker\":{\"colorbar\":{\"outlinewidth\":0,\"ticks\":\"\"}},\"type\":\"scattermapbox\"}],\"scatterpolar\":[{\"marker\":{\"colorbar\":{\"outlinewidth\":0,\"ticks\":\"\"}},\"type\":\"scatterpolar\"}],\"scatterpolargl\":[{\"marker\":{\"colorbar\":{\"outlinewidth\":0,\"ticks\":\"\"}},\"type\":\"scatterpolargl\"}],\"scatterternary\":[{\"marker\":{\"colorbar\":{\"outlinewidth\":0,\"ticks\":\"\"}},\"type\":\"scatterternary\"}],\"surface\":[{\"colorbar\":{\"outlinewidth\":0,\"ticks\":\"\"},\"colorscale\":[[0.0,\"#0d0887\"],[0.1111111111111111,\"#46039f\"],[0.2222222222222222,\"#7201a8\"],[0.3333333333333333,\"#9c179e\"],[0.4444444444444444,\"#bd3786\"],[0.5555555555555556,\"#d8576b\"],[0.6666666666666666,\"#ed7953\"],[0.7777777777777778,\"#fb9f3a\"],[0.8888888888888888,\"#fdca26\"],[1.0,\"#f0f921\"]],\"type\":\"surface\"}],\"table\":[{\"cells\":{\"fill\":{\"color\":\"#EBF0F8\"},\"line\":{\"color\":\"white\"}},\"header\":{\"fill\":{\"color\":\"#C8D4E3\"},\"line\":{\"color\":\"white\"}},\"type\":\"table\"}]},\"layout\":{\"annotationdefaults\":{\"arrowcolor\":\"#2a3f5f\",\"arrowhead\":0,\"arrowwidth\":1},\"autotypenumbers\":\"strict\",\"coloraxis\":{\"colorbar\":{\"outlinewidth\":0,\"ticks\":\"\"}},\"colorscale\":{\"diverging\":[[0,\"#8e0152\"],[0.1,\"#c51b7d\"],[0.2,\"#de77ae\"],[0.3,\"#f1b6da\"],[0.4,\"#fde0ef\"],[0.5,\"#f7f7f7\"],[0.6,\"#e6f5d0\"],[0.7,\"#b8e186\"],[0.8,\"#7fbc41\"],[0.9,\"#4d9221\"],[1,\"#276419\"]],\"sequential\":[[0.0,\"#0d0887\"],[0.1111111111111111,\"#46039f\"],[0.2222222222222222,\"#7201a8\"],[0.3333333333333333,\"#9c179e\"],[0.4444444444444444,\"#bd3786\"],[0.5555555555555556,\"#d8576b\"],[0.6666666666666666,\"#ed7953\"],[0.7777777777777778,\"#fb9f3a\"],[0.8888888888888888,\"#fdca26\"],[1.0,\"#f0f921\"]],\"sequentialminus\":[[0.0,\"#0d0887\"],[0.1111111111111111,\"#46039f\"],[0.2222222222222222,\"#7201a8\"],[0.3333333333333333,\"#9c179e\"],[0.4444444444444444,\"#bd3786\"],[0.5555555555555556,\"#d8576b\"],[0.6666666666666666,\"#ed7953\"],[0.7777777777777778,\"#fb9f3a\"],[0.8888888888888888,\"#fdca26\"],[1.0,\"#f0f921\"]]},\"colorway\":[\"#636efa\",\"#EF553B\",\"#00cc96\",\"#ab63fa\",\"#FFA15A\",\"#19d3f3\",\"#FF6692\",\"#B6E880\",\"#FF97FF\",\"#FECB52\"],\"font\":{\"color\":\"#2a3f5f\"},\"geo\":{\"bgcolor\":\"white\",\"lakecolor\":\"white\",\"landcolor\":\"#E5ECF6\",\"showlakes\":true,\"showland\":true,\"subunitcolor\":\"white\"},\"hoverlabel\":{\"align\":\"left\"},\"hovermode\":\"closest\",\"mapbox\":{\"style\":\"light\"},\"paper_bgcolor\":\"white\",\"plot_bgcolor\":\"#E5ECF6\",\"polar\":{\"angularaxis\":{\"gridcolor\":\"white\",\"linecolor\":\"white\",\"ticks\":\"\"},\"bgcolor\":\"#E5ECF6\",\"radialaxis\":{\"gridcolor\":\"white\",\"linecolor\":\"white\",\"ticks\":\"\"}},\"scene\":{\"xaxis\":{\"backgroundcolor\":\"#E5ECF6\",\"gridcolor\":\"white\",\"gridwidth\":2,\"linecolor\":\"white\",\"showbackground\":true,\"ticks\":\"\",\"zerolinecolor\":\"white\"},\"yaxis\":{\"backgroundcolor\":\"#E5ECF6\",\"gridcolor\":\"white\",\"gridwidth\":2,\"linecolor\":\"white\",\"showbackground\":true,\"ticks\":\"\",\"zerolinecolor\":\"white\"},\"zaxis\":{\"backgroundcolor\":\"#E5ECF6\",\"gridcolor\":\"white\",\"gridwidth\":2,\"linecolor\":\"white\",\"showbackground\":true,\"ticks\":\"\",\"zerolinecolor\":\"white\"}},\"shapedefaults\":{\"line\":{\"color\":\"#2a3f5f\"}},\"ternary\":{\"aaxis\":{\"gridcolor\":\"white\",\"linecolor\":\"white\",\"ticks\":\"\"},\"baxis\":{\"gridcolor\":\"white\",\"linecolor\":\"white\",\"ticks\":\"\"},\"bgcolor\":\"#E5ECF6\",\"caxis\":{\"gridcolor\":\"white\",\"linecolor\":\"white\",\"ticks\":\"\"}},\"title\":{\"x\":0.05},\"xaxis\":{\"automargin\":true,\"gridcolor\":\"white\",\"linecolor\":\"white\",\"ticks\":\"\",\"title\":{\"standoff\":15},\"zerolinecolor\":\"white\",\"zerolinewidth\":2},\"yaxis\":{\"automargin\":true,\"gridcolor\":\"white\",\"linecolor\":\"white\",\"ticks\":\"\",\"title\":{\"standoff\":15},\"zerolinecolor\":\"white\",\"zerolinewidth\":2}}},\"title\":{\"text\":\"A & B funnel\"}},                        {\"responsive\": true}                    ).then(function(){\n",
       "                            \n",
       "var gd = document.getElementById('dab651d8-c033-43ba-b97a-69f8e2cb5ee3');\n",
       "var x = new MutationObserver(function (mutations, observer) {{\n",
       "        var display = window.getComputedStyle(gd).display;\n",
       "        if (!display || display === 'none') {{\n",
       "            console.log([gd, 'removed!']);\n",
       "            Plotly.purge(gd);\n",
       "            observer.disconnect();\n",
       "        }}\n",
       "}});\n",
       "\n",
       "// Listen for the removal of the full notebook cells\n",
       "var notebookContainer = gd.closest('#notebook-container');\n",
       "if (notebookContainer) {{\n",
       "    x.observe(notebookContainer, {childList: true});\n",
       "}}\n",
       "\n",
       "// Listen for the clearing of the current output cell\n",
       "var outputEl = gd.closest('.output');\n",
       "if (outputEl) {{\n",
       "    x.observe(outputEl, {childList: true});\n",
       "}}\n",
       "\n",
       "                        })                };                });            </script>        </div>"
      ]
     },
     "metadata": {},
     "output_type": "display_data"
    }
   ],
   "source": [
    "funnel_stage = ['login', 'product_page', 'product_cart', 'purchase']\n",
    "\n",
    "def get_funnel(test, stages, title):\n",
    "    funnel = (test.groupby('event_name')['user_id'].nunique()\n",
    "             .sort_values(ascending=False).reset_index())\n",
    "\n",
    "# building the funnel in the right order\n",
    "    funnel['event_name'] = pd.Categorical(funnel['event_name'], categories=funnel_stage)\n",
    "    funnel = funnel.sort_values('event_name')\n",
    "    \n",
    "    fig = go.Figure(go.Funnel(x=funnel['user_id'], y=stages, textinfo = 'value+percent initial'))\n",
    "    fig.update_layout(title=title)\n",
    "    \n",
    "    return fig\n",
    "\n",
    "funnel_ab = get_funnel(recommender_system_test, funnel_stage, 'A & B funnel')\n",
    "funnel_ab.show()"
   ]
  },
  {
   "cell_type": "code",
   "execution_count": 187,
   "metadata": {},
   "outputs": [
    {
     "data": {
      "application/vnd.plotly.v1+json": {
       "config": {
        "plotlyServerURL": "https://plot.ly"
       },
       "data": [
        {
         "textinfo": "value+percent initial",
         "type": "funnel",
         "x": [
          2422,
          1571,
          728,
          773
         ],
         "y": [
          "login",
          "product_page",
          "product_cart",
          "purchase"
         ]
        }
       ],
       "layout": {
        "template": {
         "data": {
          "bar": [
           {
            "error_x": {
             "color": "#2a3f5f"
            },
            "error_y": {
             "color": "#2a3f5f"
            },
            "marker": {
             "line": {
              "color": "#E5ECF6",
              "width": 0.5
             },
             "pattern": {
              "fillmode": "overlay",
              "size": 10,
              "solidity": 0.2
             }
            },
            "type": "bar"
           }
          ],
          "barpolar": [
           {
            "marker": {
             "line": {
              "color": "#E5ECF6",
              "width": 0.5
             },
             "pattern": {
              "fillmode": "overlay",
              "size": 10,
              "solidity": 0.2
             }
            },
            "type": "barpolar"
           }
          ],
          "carpet": [
           {
            "aaxis": {
             "endlinecolor": "#2a3f5f",
             "gridcolor": "white",
             "linecolor": "white",
             "minorgridcolor": "white",
             "startlinecolor": "#2a3f5f"
            },
            "baxis": {
             "endlinecolor": "#2a3f5f",
             "gridcolor": "white",
             "linecolor": "white",
             "minorgridcolor": "white",
             "startlinecolor": "#2a3f5f"
            },
            "type": "carpet"
           }
          ],
          "choropleth": [
           {
            "colorbar": {
             "outlinewidth": 0,
             "ticks": ""
            },
            "type": "choropleth"
           }
          ],
          "contour": [
           {
            "colorbar": {
             "outlinewidth": 0,
             "ticks": ""
            },
            "colorscale": [
             [
              0,
              "#0d0887"
             ],
             [
              0.1111111111111111,
              "#46039f"
             ],
             [
              0.2222222222222222,
              "#7201a8"
             ],
             [
              0.3333333333333333,
              "#9c179e"
             ],
             [
              0.4444444444444444,
              "#bd3786"
             ],
             [
              0.5555555555555556,
              "#d8576b"
             ],
             [
              0.6666666666666666,
              "#ed7953"
             ],
             [
              0.7777777777777778,
              "#fb9f3a"
             ],
             [
              0.8888888888888888,
              "#fdca26"
             ],
             [
              1,
              "#f0f921"
             ]
            ],
            "type": "contour"
           }
          ],
          "contourcarpet": [
           {
            "colorbar": {
             "outlinewidth": 0,
             "ticks": ""
            },
            "type": "contourcarpet"
           }
          ],
          "heatmap": [
           {
            "colorbar": {
             "outlinewidth": 0,
             "ticks": ""
            },
            "colorscale": [
             [
              0,
              "#0d0887"
             ],
             [
              0.1111111111111111,
              "#46039f"
             ],
             [
              0.2222222222222222,
              "#7201a8"
             ],
             [
              0.3333333333333333,
              "#9c179e"
             ],
             [
              0.4444444444444444,
              "#bd3786"
             ],
             [
              0.5555555555555556,
              "#d8576b"
             ],
             [
              0.6666666666666666,
              "#ed7953"
             ],
             [
              0.7777777777777778,
              "#fb9f3a"
             ],
             [
              0.8888888888888888,
              "#fdca26"
             ],
             [
              1,
              "#f0f921"
             ]
            ],
            "type": "heatmap"
           }
          ],
          "heatmapgl": [
           {
            "colorbar": {
             "outlinewidth": 0,
             "ticks": ""
            },
            "colorscale": [
             [
              0,
              "#0d0887"
             ],
             [
              0.1111111111111111,
              "#46039f"
             ],
             [
              0.2222222222222222,
              "#7201a8"
             ],
             [
              0.3333333333333333,
              "#9c179e"
             ],
             [
              0.4444444444444444,
              "#bd3786"
             ],
             [
              0.5555555555555556,
              "#d8576b"
             ],
             [
              0.6666666666666666,
              "#ed7953"
             ],
             [
              0.7777777777777778,
              "#fb9f3a"
             ],
             [
              0.8888888888888888,
              "#fdca26"
             ],
             [
              1,
              "#f0f921"
             ]
            ],
            "type": "heatmapgl"
           }
          ],
          "histogram": [
           {
            "marker": {
             "pattern": {
              "fillmode": "overlay",
              "size": 10,
              "solidity": 0.2
             }
            },
            "type": "histogram"
           }
          ],
          "histogram2d": [
           {
            "colorbar": {
             "outlinewidth": 0,
             "ticks": ""
            },
            "colorscale": [
             [
              0,
              "#0d0887"
             ],
             [
              0.1111111111111111,
              "#46039f"
             ],
             [
              0.2222222222222222,
              "#7201a8"
             ],
             [
              0.3333333333333333,
              "#9c179e"
             ],
             [
              0.4444444444444444,
              "#bd3786"
             ],
             [
              0.5555555555555556,
              "#d8576b"
             ],
             [
              0.6666666666666666,
              "#ed7953"
             ],
             [
              0.7777777777777778,
              "#fb9f3a"
             ],
             [
              0.8888888888888888,
              "#fdca26"
             ],
             [
              1,
              "#f0f921"
             ]
            ],
            "type": "histogram2d"
           }
          ],
          "histogram2dcontour": [
           {
            "colorbar": {
             "outlinewidth": 0,
             "ticks": ""
            },
            "colorscale": [
             [
              0,
              "#0d0887"
             ],
             [
              0.1111111111111111,
              "#46039f"
             ],
             [
              0.2222222222222222,
              "#7201a8"
             ],
             [
              0.3333333333333333,
              "#9c179e"
             ],
             [
              0.4444444444444444,
              "#bd3786"
             ],
             [
              0.5555555555555556,
              "#d8576b"
             ],
             [
              0.6666666666666666,
              "#ed7953"
             ],
             [
              0.7777777777777778,
              "#fb9f3a"
             ],
             [
              0.8888888888888888,
              "#fdca26"
             ],
             [
              1,
              "#f0f921"
             ]
            ],
            "type": "histogram2dcontour"
           }
          ],
          "mesh3d": [
           {
            "colorbar": {
             "outlinewidth": 0,
             "ticks": ""
            },
            "type": "mesh3d"
           }
          ],
          "parcoords": [
           {
            "line": {
             "colorbar": {
              "outlinewidth": 0,
              "ticks": ""
             }
            },
            "type": "parcoords"
           }
          ],
          "pie": [
           {
            "automargin": true,
            "type": "pie"
           }
          ],
          "scatter": [
           {
            "marker": {
             "colorbar": {
              "outlinewidth": 0,
              "ticks": ""
             }
            },
            "type": "scatter"
           }
          ],
          "scatter3d": [
           {
            "line": {
             "colorbar": {
              "outlinewidth": 0,
              "ticks": ""
             }
            },
            "marker": {
             "colorbar": {
              "outlinewidth": 0,
              "ticks": ""
             }
            },
            "type": "scatter3d"
           }
          ],
          "scattercarpet": [
           {
            "marker": {
             "colorbar": {
              "outlinewidth": 0,
              "ticks": ""
             }
            },
            "type": "scattercarpet"
           }
          ],
          "scattergeo": [
           {
            "marker": {
             "colorbar": {
              "outlinewidth": 0,
              "ticks": ""
             }
            },
            "type": "scattergeo"
           }
          ],
          "scattergl": [
           {
            "marker": {
             "colorbar": {
              "outlinewidth": 0,
              "ticks": ""
             }
            },
            "type": "scattergl"
           }
          ],
          "scattermapbox": [
           {
            "marker": {
             "colorbar": {
              "outlinewidth": 0,
              "ticks": ""
             }
            },
            "type": "scattermapbox"
           }
          ],
          "scatterpolar": [
           {
            "marker": {
             "colorbar": {
              "outlinewidth": 0,
              "ticks": ""
             }
            },
            "type": "scatterpolar"
           }
          ],
          "scatterpolargl": [
           {
            "marker": {
             "colorbar": {
              "outlinewidth": 0,
              "ticks": ""
             }
            },
            "type": "scatterpolargl"
           }
          ],
          "scatterternary": [
           {
            "marker": {
             "colorbar": {
              "outlinewidth": 0,
              "ticks": ""
             }
            },
            "type": "scatterternary"
           }
          ],
          "surface": [
           {
            "colorbar": {
             "outlinewidth": 0,
             "ticks": ""
            },
            "colorscale": [
             [
              0,
              "#0d0887"
             ],
             [
              0.1111111111111111,
              "#46039f"
             ],
             [
              0.2222222222222222,
              "#7201a8"
             ],
             [
              0.3333333333333333,
              "#9c179e"
             ],
             [
              0.4444444444444444,
              "#bd3786"
             ],
             [
              0.5555555555555556,
              "#d8576b"
             ],
             [
              0.6666666666666666,
              "#ed7953"
             ],
             [
              0.7777777777777778,
              "#fb9f3a"
             ],
             [
              0.8888888888888888,
              "#fdca26"
             ],
             [
              1,
              "#f0f921"
             ]
            ],
            "type": "surface"
           }
          ],
          "table": [
           {
            "cells": {
             "fill": {
              "color": "#EBF0F8"
             },
             "line": {
              "color": "white"
             }
            },
            "header": {
             "fill": {
              "color": "#C8D4E3"
             },
             "line": {
              "color": "white"
             }
            },
            "type": "table"
           }
          ]
         },
         "layout": {
          "annotationdefaults": {
           "arrowcolor": "#2a3f5f",
           "arrowhead": 0,
           "arrowwidth": 1
          },
          "autotypenumbers": "strict",
          "coloraxis": {
           "colorbar": {
            "outlinewidth": 0,
            "ticks": ""
           }
          },
          "colorscale": {
           "diverging": [
            [
             0,
             "#8e0152"
            ],
            [
             0.1,
             "#c51b7d"
            ],
            [
             0.2,
             "#de77ae"
            ],
            [
             0.3,
             "#f1b6da"
            ],
            [
             0.4,
             "#fde0ef"
            ],
            [
             0.5,
             "#f7f7f7"
            ],
            [
             0.6,
             "#e6f5d0"
            ],
            [
             0.7,
             "#b8e186"
            ],
            [
             0.8,
             "#7fbc41"
            ],
            [
             0.9,
             "#4d9221"
            ],
            [
             1,
             "#276419"
            ]
           ],
           "sequential": [
            [
             0,
             "#0d0887"
            ],
            [
             0.1111111111111111,
             "#46039f"
            ],
            [
             0.2222222222222222,
             "#7201a8"
            ],
            [
             0.3333333333333333,
             "#9c179e"
            ],
            [
             0.4444444444444444,
             "#bd3786"
            ],
            [
             0.5555555555555556,
             "#d8576b"
            ],
            [
             0.6666666666666666,
             "#ed7953"
            ],
            [
             0.7777777777777778,
             "#fb9f3a"
            ],
            [
             0.8888888888888888,
             "#fdca26"
            ],
            [
             1,
             "#f0f921"
            ]
           ],
           "sequentialminus": [
            [
             0,
             "#0d0887"
            ],
            [
             0.1111111111111111,
             "#46039f"
            ],
            [
             0.2222222222222222,
             "#7201a8"
            ],
            [
             0.3333333333333333,
             "#9c179e"
            ],
            [
             0.4444444444444444,
             "#bd3786"
            ],
            [
             0.5555555555555556,
             "#d8576b"
            ],
            [
             0.6666666666666666,
             "#ed7953"
            ],
            [
             0.7777777777777778,
             "#fb9f3a"
            ],
            [
             0.8888888888888888,
             "#fdca26"
            ],
            [
             1,
             "#f0f921"
            ]
           ]
          },
          "colorway": [
           "#636efa",
           "#EF553B",
           "#00cc96",
           "#ab63fa",
           "#FFA15A",
           "#19d3f3",
           "#FF6692",
           "#B6E880",
           "#FF97FF",
           "#FECB52"
          ],
          "font": {
           "color": "#2a3f5f"
          },
          "geo": {
           "bgcolor": "white",
           "lakecolor": "white",
           "landcolor": "#E5ECF6",
           "showlakes": true,
           "showland": true,
           "subunitcolor": "white"
          },
          "hoverlabel": {
           "align": "left"
          },
          "hovermode": "closest",
          "mapbox": {
           "style": "light"
          },
          "paper_bgcolor": "white",
          "plot_bgcolor": "#E5ECF6",
          "polar": {
           "angularaxis": {
            "gridcolor": "white",
            "linecolor": "white",
            "ticks": ""
           },
           "bgcolor": "#E5ECF6",
           "radialaxis": {
            "gridcolor": "white",
            "linecolor": "white",
            "ticks": ""
           }
          },
          "scene": {
           "xaxis": {
            "backgroundcolor": "#E5ECF6",
            "gridcolor": "white",
            "gridwidth": 2,
            "linecolor": "white",
            "showbackground": true,
            "ticks": "",
            "zerolinecolor": "white"
           },
           "yaxis": {
            "backgroundcolor": "#E5ECF6",
            "gridcolor": "white",
            "gridwidth": 2,
            "linecolor": "white",
            "showbackground": true,
            "ticks": "",
            "zerolinecolor": "white"
           },
           "zaxis": {
            "backgroundcolor": "#E5ECF6",
            "gridcolor": "white",
            "gridwidth": 2,
            "linecolor": "white",
            "showbackground": true,
            "ticks": "",
            "zerolinecolor": "white"
           }
          },
          "shapedefaults": {
           "line": {
            "color": "#2a3f5f"
           }
          },
          "ternary": {
           "aaxis": {
            "gridcolor": "white",
            "linecolor": "white",
            "ticks": ""
           },
           "baxis": {
            "gridcolor": "white",
            "linecolor": "white",
            "ticks": ""
           },
           "bgcolor": "#E5ECF6",
           "caxis": {
            "gridcolor": "white",
            "linecolor": "white",
            "ticks": ""
           }
          },
          "title": {
           "x": 0.05
          },
          "xaxis": {
           "automargin": true,
           "gridcolor": "white",
           "linecolor": "white",
           "ticks": "",
           "title": {
            "standoff": 15
           },
           "zerolinecolor": "white",
           "zerolinewidth": 2
          },
          "yaxis": {
           "automargin": true,
           "gridcolor": "white",
           "linecolor": "white",
           "ticks": "",
           "title": {
            "standoff": 15
           },
           "zerolinecolor": "white",
           "zerolinewidth": 2
          }
         }
        },
        "title": {
         "text": "Group A funnel"
        }
       }
      },
      "text/html": [
       "<div>                            <div id=\"a54b7e6e-dcf1-4213-adb4-46b44a04e8dc\" class=\"plotly-graph-div\" style=\"height:525px; width:100%;\"></div>            <script type=\"text/javascript\">                require([\"plotly\"], function(Plotly) {                    window.PLOTLYENV=window.PLOTLYENV || {};                                    if (document.getElementById(\"a54b7e6e-dcf1-4213-adb4-46b44a04e8dc\")) {                    Plotly.newPlot(                        \"a54b7e6e-dcf1-4213-adb4-46b44a04e8dc\",                        [{\"textinfo\":\"value+percent initial\",\"x\":[2422,1571,728,773],\"y\":[\"login\",\"product_page\",\"product_cart\",\"purchase\"],\"type\":\"funnel\"}],                        {\"template\":{\"data\":{\"bar\":[{\"error_x\":{\"color\":\"#2a3f5f\"},\"error_y\":{\"color\":\"#2a3f5f\"},\"marker\":{\"line\":{\"color\":\"#E5ECF6\",\"width\":0.5},\"pattern\":{\"fillmode\":\"overlay\",\"size\":10,\"solidity\":0.2}},\"type\":\"bar\"}],\"barpolar\":[{\"marker\":{\"line\":{\"color\":\"#E5ECF6\",\"width\":0.5},\"pattern\":{\"fillmode\":\"overlay\",\"size\":10,\"solidity\":0.2}},\"type\":\"barpolar\"}],\"carpet\":[{\"aaxis\":{\"endlinecolor\":\"#2a3f5f\",\"gridcolor\":\"white\",\"linecolor\":\"white\",\"minorgridcolor\":\"white\",\"startlinecolor\":\"#2a3f5f\"},\"baxis\":{\"endlinecolor\":\"#2a3f5f\",\"gridcolor\":\"white\",\"linecolor\":\"white\",\"minorgridcolor\":\"white\",\"startlinecolor\":\"#2a3f5f\"},\"type\":\"carpet\"}],\"choropleth\":[{\"colorbar\":{\"outlinewidth\":0,\"ticks\":\"\"},\"type\":\"choropleth\"}],\"contour\":[{\"colorbar\":{\"outlinewidth\":0,\"ticks\":\"\"},\"colorscale\":[[0.0,\"#0d0887\"],[0.1111111111111111,\"#46039f\"],[0.2222222222222222,\"#7201a8\"],[0.3333333333333333,\"#9c179e\"],[0.4444444444444444,\"#bd3786\"],[0.5555555555555556,\"#d8576b\"],[0.6666666666666666,\"#ed7953\"],[0.7777777777777778,\"#fb9f3a\"],[0.8888888888888888,\"#fdca26\"],[1.0,\"#f0f921\"]],\"type\":\"contour\"}],\"contourcarpet\":[{\"colorbar\":{\"outlinewidth\":0,\"ticks\":\"\"},\"type\":\"contourcarpet\"}],\"heatmap\":[{\"colorbar\":{\"outlinewidth\":0,\"ticks\":\"\"},\"colorscale\":[[0.0,\"#0d0887\"],[0.1111111111111111,\"#46039f\"],[0.2222222222222222,\"#7201a8\"],[0.3333333333333333,\"#9c179e\"],[0.4444444444444444,\"#bd3786\"],[0.5555555555555556,\"#d8576b\"],[0.6666666666666666,\"#ed7953\"],[0.7777777777777778,\"#fb9f3a\"],[0.8888888888888888,\"#fdca26\"],[1.0,\"#f0f921\"]],\"type\":\"heatmap\"}],\"heatmapgl\":[{\"colorbar\":{\"outlinewidth\":0,\"ticks\":\"\"},\"colorscale\":[[0.0,\"#0d0887\"],[0.1111111111111111,\"#46039f\"],[0.2222222222222222,\"#7201a8\"],[0.3333333333333333,\"#9c179e\"],[0.4444444444444444,\"#bd3786\"],[0.5555555555555556,\"#d8576b\"],[0.6666666666666666,\"#ed7953\"],[0.7777777777777778,\"#fb9f3a\"],[0.8888888888888888,\"#fdca26\"],[1.0,\"#f0f921\"]],\"type\":\"heatmapgl\"}],\"histogram\":[{\"marker\":{\"pattern\":{\"fillmode\":\"overlay\",\"size\":10,\"solidity\":0.2}},\"type\":\"histogram\"}],\"histogram2d\":[{\"colorbar\":{\"outlinewidth\":0,\"ticks\":\"\"},\"colorscale\":[[0.0,\"#0d0887\"],[0.1111111111111111,\"#46039f\"],[0.2222222222222222,\"#7201a8\"],[0.3333333333333333,\"#9c179e\"],[0.4444444444444444,\"#bd3786\"],[0.5555555555555556,\"#d8576b\"],[0.6666666666666666,\"#ed7953\"],[0.7777777777777778,\"#fb9f3a\"],[0.8888888888888888,\"#fdca26\"],[1.0,\"#f0f921\"]],\"type\":\"histogram2d\"}],\"histogram2dcontour\":[{\"colorbar\":{\"outlinewidth\":0,\"ticks\":\"\"},\"colorscale\":[[0.0,\"#0d0887\"],[0.1111111111111111,\"#46039f\"],[0.2222222222222222,\"#7201a8\"],[0.3333333333333333,\"#9c179e\"],[0.4444444444444444,\"#bd3786\"],[0.5555555555555556,\"#d8576b\"],[0.6666666666666666,\"#ed7953\"],[0.7777777777777778,\"#fb9f3a\"],[0.8888888888888888,\"#fdca26\"],[1.0,\"#f0f921\"]],\"type\":\"histogram2dcontour\"}],\"mesh3d\":[{\"colorbar\":{\"outlinewidth\":0,\"ticks\":\"\"},\"type\":\"mesh3d\"}],\"parcoords\":[{\"line\":{\"colorbar\":{\"outlinewidth\":0,\"ticks\":\"\"}},\"type\":\"parcoords\"}],\"pie\":[{\"automargin\":true,\"type\":\"pie\"}],\"scatter\":[{\"marker\":{\"colorbar\":{\"outlinewidth\":0,\"ticks\":\"\"}},\"type\":\"scatter\"}],\"scatter3d\":[{\"line\":{\"colorbar\":{\"outlinewidth\":0,\"ticks\":\"\"}},\"marker\":{\"colorbar\":{\"outlinewidth\":0,\"ticks\":\"\"}},\"type\":\"scatter3d\"}],\"scattercarpet\":[{\"marker\":{\"colorbar\":{\"outlinewidth\":0,\"ticks\":\"\"}},\"type\":\"scattercarpet\"}],\"scattergeo\":[{\"marker\":{\"colorbar\":{\"outlinewidth\":0,\"ticks\":\"\"}},\"type\":\"scattergeo\"}],\"scattergl\":[{\"marker\":{\"colorbar\":{\"outlinewidth\":0,\"ticks\":\"\"}},\"type\":\"scattergl\"}],\"scattermapbox\":[{\"marker\":{\"colorbar\":{\"outlinewidth\":0,\"ticks\":\"\"}},\"type\":\"scattermapbox\"}],\"scatterpolar\":[{\"marker\":{\"colorbar\":{\"outlinewidth\":0,\"ticks\":\"\"}},\"type\":\"scatterpolar\"}],\"scatterpolargl\":[{\"marker\":{\"colorbar\":{\"outlinewidth\":0,\"ticks\":\"\"}},\"type\":\"scatterpolargl\"}],\"scatterternary\":[{\"marker\":{\"colorbar\":{\"outlinewidth\":0,\"ticks\":\"\"}},\"type\":\"scatterternary\"}],\"surface\":[{\"colorbar\":{\"outlinewidth\":0,\"ticks\":\"\"},\"colorscale\":[[0.0,\"#0d0887\"],[0.1111111111111111,\"#46039f\"],[0.2222222222222222,\"#7201a8\"],[0.3333333333333333,\"#9c179e\"],[0.4444444444444444,\"#bd3786\"],[0.5555555555555556,\"#d8576b\"],[0.6666666666666666,\"#ed7953\"],[0.7777777777777778,\"#fb9f3a\"],[0.8888888888888888,\"#fdca26\"],[1.0,\"#f0f921\"]],\"type\":\"surface\"}],\"table\":[{\"cells\":{\"fill\":{\"color\":\"#EBF0F8\"},\"line\":{\"color\":\"white\"}},\"header\":{\"fill\":{\"color\":\"#C8D4E3\"},\"line\":{\"color\":\"white\"}},\"type\":\"table\"}]},\"layout\":{\"annotationdefaults\":{\"arrowcolor\":\"#2a3f5f\",\"arrowhead\":0,\"arrowwidth\":1},\"autotypenumbers\":\"strict\",\"coloraxis\":{\"colorbar\":{\"outlinewidth\":0,\"ticks\":\"\"}},\"colorscale\":{\"diverging\":[[0,\"#8e0152\"],[0.1,\"#c51b7d\"],[0.2,\"#de77ae\"],[0.3,\"#f1b6da\"],[0.4,\"#fde0ef\"],[0.5,\"#f7f7f7\"],[0.6,\"#e6f5d0\"],[0.7,\"#b8e186\"],[0.8,\"#7fbc41\"],[0.9,\"#4d9221\"],[1,\"#276419\"]],\"sequential\":[[0.0,\"#0d0887\"],[0.1111111111111111,\"#46039f\"],[0.2222222222222222,\"#7201a8\"],[0.3333333333333333,\"#9c179e\"],[0.4444444444444444,\"#bd3786\"],[0.5555555555555556,\"#d8576b\"],[0.6666666666666666,\"#ed7953\"],[0.7777777777777778,\"#fb9f3a\"],[0.8888888888888888,\"#fdca26\"],[1.0,\"#f0f921\"]],\"sequentialminus\":[[0.0,\"#0d0887\"],[0.1111111111111111,\"#46039f\"],[0.2222222222222222,\"#7201a8\"],[0.3333333333333333,\"#9c179e\"],[0.4444444444444444,\"#bd3786\"],[0.5555555555555556,\"#d8576b\"],[0.6666666666666666,\"#ed7953\"],[0.7777777777777778,\"#fb9f3a\"],[0.8888888888888888,\"#fdca26\"],[1.0,\"#f0f921\"]]},\"colorway\":[\"#636efa\",\"#EF553B\",\"#00cc96\",\"#ab63fa\",\"#FFA15A\",\"#19d3f3\",\"#FF6692\",\"#B6E880\",\"#FF97FF\",\"#FECB52\"],\"font\":{\"color\":\"#2a3f5f\"},\"geo\":{\"bgcolor\":\"white\",\"lakecolor\":\"white\",\"landcolor\":\"#E5ECF6\",\"showlakes\":true,\"showland\":true,\"subunitcolor\":\"white\"},\"hoverlabel\":{\"align\":\"left\"},\"hovermode\":\"closest\",\"mapbox\":{\"style\":\"light\"},\"paper_bgcolor\":\"white\",\"plot_bgcolor\":\"#E5ECF6\",\"polar\":{\"angularaxis\":{\"gridcolor\":\"white\",\"linecolor\":\"white\",\"ticks\":\"\"},\"bgcolor\":\"#E5ECF6\",\"radialaxis\":{\"gridcolor\":\"white\",\"linecolor\":\"white\",\"ticks\":\"\"}},\"scene\":{\"xaxis\":{\"backgroundcolor\":\"#E5ECF6\",\"gridcolor\":\"white\",\"gridwidth\":2,\"linecolor\":\"white\",\"showbackground\":true,\"ticks\":\"\",\"zerolinecolor\":\"white\"},\"yaxis\":{\"backgroundcolor\":\"#E5ECF6\",\"gridcolor\":\"white\",\"gridwidth\":2,\"linecolor\":\"white\",\"showbackground\":true,\"ticks\":\"\",\"zerolinecolor\":\"white\"},\"zaxis\":{\"backgroundcolor\":\"#E5ECF6\",\"gridcolor\":\"white\",\"gridwidth\":2,\"linecolor\":\"white\",\"showbackground\":true,\"ticks\":\"\",\"zerolinecolor\":\"white\"}},\"shapedefaults\":{\"line\":{\"color\":\"#2a3f5f\"}},\"ternary\":{\"aaxis\":{\"gridcolor\":\"white\",\"linecolor\":\"white\",\"ticks\":\"\"},\"baxis\":{\"gridcolor\":\"white\",\"linecolor\":\"white\",\"ticks\":\"\"},\"bgcolor\":\"#E5ECF6\",\"caxis\":{\"gridcolor\":\"white\",\"linecolor\":\"white\",\"ticks\":\"\"}},\"title\":{\"x\":0.05},\"xaxis\":{\"automargin\":true,\"gridcolor\":\"white\",\"linecolor\":\"white\",\"ticks\":\"\",\"title\":{\"standoff\":15},\"zerolinecolor\":\"white\",\"zerolinewidth\":2},\"yaxis\":{\"automargin\":true,\"gridcolor\":\"white\",\"linecolor\":\"white\",\"ticks\":\"\",\"title\":{\"standoff\":15},\"zerolinecolor\":\"white\",\"zerolinewidth\":2}}},\"title\":{\"text\":\"Group A funnel\"}},                        {\"responsive\": true}                    ).then(function(){\n",
       "                            \n",
       "var gd = document.getElementById('a54b7e6e-dcf1-4213-adb4-46b44a04e8dc');\n",
       "var x = new MutationObserver(function (mutations, observer) {{\n",
       "        var display = window.getComputedStyle(gd).display;\n",
       "        if (!display || display === 'none') {{\n",
       "            console.log([gd, 'removed!']);\n",
       "            Plotly.purge(gd);\n",
       "            observer.disconnect();\n",
       "        }}\n",
       "}});\n",
       "\n",
       "// Listen for the removal of the full notebook cells\n",
       "var notebookContainer = gd.closest('#notebook-container');\n",
       "if (notebookContainer) {{\n",
       "    x.observe(notebookContainer, {childList: true});\n",
       "}}\n",
       "\n",
       "// Listen for the clearing of the current output cell\n",
       "var outputEl = gd.closest('.output');\n",
       "if (outputEl) {{\n",
       "    x.observe(outputEl, {childList: true});\n",
       "}}\n",
       "\n",
       "                        })                };                });            </script>        </div>"
      ]
     },
     "metadata": {},
     "output_type": "display_data"
    }
   ],
   "source": [
    "funnel_a = get_funnel(recommender_system_test_a, funnel_stage, 'Group A funnel')\n",
    "funnel_a.show()"
   ]
  },
  {
   "cell_type": "code",
   "execution_count": 188,
   "metadata": {
    "scrolled": false
   },
   "outputs": [
    {
     "data": {
      "application/vnd.plotly.v1+json": {
       "config": {
        "plotlyServerURL": "https://plot.ly"
       },
       "data": [
        {
         "textinfo": "value+percent initial",
         "type": "funnel",
         "x": [
          821,
          459,
          225,
          226
         ],
         "y": [
          "login",
          "product_page",
          "product_cart",
          "purchase"
         ]
        }
       ],
       "layout": {
        "template": {
         "data": {
          "bar": [
           {
            "error_x": {
             "color": "#2a3f5f"
            },
            "error_y": {
             "color": "#2a3f5f"
            },
            "marker": {
             "line": {
              "color": "#E5ECF6",
              "width": 0.5
             },
             "pattern": {
              "fillmode": "overlay",
              "size": 10,
              "solidity": 0.2
             }
            },
            "type": "bar"
           }
          ],
          "barpolar": [
           {
            "marker": {
             "line": {
              "color": "#E5ECF6",
              "width": 0.5
             },
             "pattern": {
              "fillmode": "overlay",
              "size": 10,
              "solidity": 0.2
             }
            },
            "type": "barpolar"
           }
          ],
          "carpet": [
           {
            "aaxis": {
             "endlinecolor": "#2a3f5f",
             "gridcolor": "white",
             "linecolor": "white",
             "minorgridcolor": "white",
             "startlinecolor": "#2a3f5f"
            },
            "baxis": {
             "endlinecolor": "#2a3f5f",
             "gridcolor": "white",
             "linecolor": "white",
             "minorgridcolor": "white",
             "startlinecolor": "#2a3f5f"
            },
            "type": "carpet"
           }
          ],
          "choropleth": [
           {
            "colorbar": {
             "outlinewidth": 0,
             "ticks": ""
            },
            "type": "choropleth"
           }
          ],
          "contour": [
           {
            "colorbar": {
             "outlinewidth": 0,
             "ticks": ""
            },
            "colorscale": [
             [
              0,
              "#0d0887"
             ],
             [
              0.1111111111111111,
              "#46039f"
             ],
             [
              0.2222222222222222,
              "#7201a8"
             ],
             [
              0.3333333333333333,
              "#9c179e"
             ],
             [
              0.4444444444444444,
              "#bd3786"
             ],
             [
              0.5555555555555556,
              "#d8576b"
             ],
             [
              0.6666666666666666,
              "#ed7953"
             ],
             [
              0.7777777777777778,
              "#fb9f3a"
             ],
             [
              0.8888888888888888,
              "#fdca26"
             ],
             [
              1,
              "#f0f921"
             ]
            ],
            "type": "contour"
           }
          ],
          "contourcarpet": [
           {
            "colorbar": {
             "outlinewidth": 0,
             "ticks": ""
            },
            "type": "contourcarpet"
           }
          ],
          "heatmap": [
           {
            "colorbar": {
             "outlinewidth": 0,
             "ticks": ""
            },
            "colorscale": [
             [
              0,
              "#0d0887"
             ],
             [
              0.1111111111111111,
              "#46039f"
             ],
             [
              0.2222222222222222,
              "#7201a8"
             ],
             [
              0.3333333333333333,
              "#9c179e"
             ],
             [
              0.4444444444444444,
              "#bd3786"
             ],
             [
              0.5555555555555556,
              "#d8576b"
             ],
             [
              0.6666666666666666,
              "#ed7953"
             ],
             [
              0.7777777777777778,
              "#fb9f3a"
             ],
             [
              0.8888888888888888,
              "#fdca26"
             ],
             [
              1,
              "#f0f921"
             ]
            ],
            "type": "heatmap"
           }
          ],
          "heatmapgl": [
           {
            "colorbar": {
             "outlinewidth": 0,
             "ticks": ""
            },
            "colorscale": [
             [
              0,
              "#0d0887"
             ],
             [
              0.1111111111111111,
              "#46039f"
             ],
             [
              0.2222222222222222,
              "#7201a8"
             ],
             [
              0.3333333333333333,
              "#9c179e"
             ],
             [
              0.4444444444444444,
              "#bd3786"
             ],
             [
              0.5555555555555556,
              "#d8576b"
             ],
             [
              0.6666666666666666,
              "#ed7953"
             ],
             [
              0.7777777777777778,
              "#fb9f3a"
             ],
             [
              0.8888888888888888,
              "#fdca26"
             ],
             [
              1,
              "#f0f921"
             ]
            ],
            "type": "heatmapgl"
           }
          ],
          "histogram": [
           {
            "marker": {
             "pattern": {
              "fillmode": "overlay",
              "size": 10,
              "solidity": 0.2
             }
            },
            "type": "histogram"
           }
          ],
          "histogram2d": [
           {
            "colorbar": {
             "outlinewidth": 0,
             "ticks": ""
            },
            "colorscale": [
             [
              0,
              "#0d0887"
             ],
             [
              0.1111111111111111,
              "#46039f"
             ],
             [
              0.2222222222222222,
              "#7201a8"
             ],
             [
              0.3333333333333333,
              "#9c179e"
             ],
             [
              0.4444444444444444,
              "#bd3786"
             ],
             [
              0.5555555555555556,
              "#d8576b"
             ],
             [
              0.6666666666666666,
              "#ed7953"
             ],
             [
              0.7777777777777778,
              "#fb9f3a"
             ],
             [
              0.8888888888888888,
              "#fdca26"
             ],
             [
              1,
              "#f0f921"
             ]
            ],
            "type": "histogram2d"
           }
          ],
          "histogram2dcontour": [
           {
            "colorbar": {
             "outlinewidth": 0,
             "ticks": ""
            },
            "colorscale": [
             [
              0,
              "#0d0887"
             ],
             [
              0.1111111111111111,
              "#46039f"
             ],
             [
              0.2222222222222222,
              "#7201a8"
             ],
             [
              0.3333333333333333,
              "#9c179e"
             ],
             [
              0.4444444444444444,
              "#bd3786"
             ],
             [
              0.5555555555555556,
              "#d8576b"
             ],
             [
              0.6666666666666666,
              "#ed7953"
             ],
             [
              0.7777777777777778,
              "#fb9f3a"
             ],
             [
              0.8888888888888888,
              "#fdca26"
             ],
             [
              1,
              "#f0f921"
             ]
            ],
            "type": "histogram2dcontour"
           }
          ],
          "mesh3d": [
           {
            "colorbar": {
             "outlinewidth": 0,
             "ticks": ""
            },
            "type": "mesh3d"
           }
          ],
          "parcoords": [
           {
            "line": {
             "colorbar": {
              "outlinewidth": 0,
              "ticks": ""
             }
            },
            "type": "parcoords"
           }
          ],
          "pie": [
           {
            "automargin": true,
            "type": "pie"
           }
          ],
          "scatter": [
           {
            "marker": {
             "colorbar": {
              "outlinewidth": 0,
              "ticks": ""
             }
            },
            "type": "scatter"
           }
          ],
          "scatter3d": [
           {
            "line": {
             "colorbar": {
              "outlinewidth": 0,
              "ticks": ""
             }
            },
            "marker": {
             "colorbar": {
              "outlinewidth": 0,
              "ticks": ""
             }
            },
            "type": "scatter3d"
           }
          ],
          "scattercarpet": [
           {
            "marker": {
             "colorbar": {
              "outlinewidth": 0,
              "ticks": ""
             }
            },
            "type": "scattercarpet"
           }
          ],
          "scattergeo": [
           {
            "marker": {
             "colorbar": {
              "outlinewidth": 0,
              "ticks": ""
             }
            },
            "type": "scattergeo"
           }
          ],
          "scattergl": [
           {
            "marker": {
             "colorbar": {
              "outlinewidth": 0,
              "ticks": ""
             }
            },
            "type": "scattergl"
           }
          ],
          "scattermapbox": [
           {
            "marker": {
             "colorbar": {
              "outlinewidth": 0,
              "ticks": ""
             }
            },
            "type": "scattermapbox"
           }
          ],
          "scatterpolar": [
           {
            "marker": {
             "colorbar": {
              "outlinewidth": 0,
              "ticks": ""
             }
            },
            "type": "scatterpolar"
           }
          ],
          "scatterpolargl": [
           {
            "marker": {
             "colorbar": {
              "outlinewidth": 0,
              "ticks": ""
             }
            },
            "type": "scatterpolargl"
           }
          ],
          "scatterternary": [
           {
            "marker": {
             "colorbar": {
              "outlinewidth": 0,
              "ticks": ""
             }
            },
            "type": "scatterternary"
           }
          ],
          "surface": [
           {
            "colorbar": {
             "outlinewidth": 0,
             "ticks": ""
            },
            "colorscale": [
             [
              0,
              "#0d0887"
             ],
             [
              0.1111111111111111,
              "#46039f"
             ],
             [
              0.2222222222222222,
              "#7201a8"
             ],
             [
              0.3333333333333333,
              "#9c179e"
             ],
             [
              0.4444444444444444,
              "#bd3786"
             ],
             [
              0.5555555555555556,
              "#d8576b"
             ],
             [
              0.6666666666666666,
              "#ed7953"
             ],
             [
              0.7777777777777778,
              "#fb9f3a"
             ],
             [
              0.8888888888888888,
              "#fdca26"
             ],
             [
              1,
              "#f0f921"
             ]
            ],
            "type": "surface"
           }
          ],
          "table": [
           {
            "cells": {
             "fill": {
              "color": "#EBF0F8"
             },
             "line": {
              "color": "white"
             }
            },
            "header": {
             "fill": {
              "color": "#C8D4E3"
             },
             "line": {
              "color": "white"
             }
            },
            "type": "table"
           }
          ]
         },
         "layout": {
          "annotationdefaults": {
           "arrowcolor": "#2a3f5f",
           "arrowhead": 0,
           "arrowwidth": 1
          },
          "autotypenumbers": "strict",
          "coloraxis": {
           "colorbar": {
            "outlinewidth": 0,
            "ticks": ""
           }
          },
          "colorscale": {
           "diverging": [
            [
             0,
             "#8e0152"
            ],
            [
             0.1,
             "#c51b7d"
            ],
            [
             0.2,
             "#de77ae"
            ],
            [
             0.3,
             "#f1b6da"
            ],
            [
             0.4,
             "#fde0ef"
            ],
            [
             0.5,
             "#f7f7f7"
            ],
            [
             0.6,
             "#e6f5d0"
            ],
            [
             0.7,
             "#b8e186"
            ],
            [
             0.8,
             "#7fbc41"
            ],
            [
             0.9,
             "#4d9221"
            ],
            [
             1,
             "#276419"
            ]
           ],
           "sequential": [
            [
             0,
             "#0d0887"
            ],
            [
             0.1111111111111111,
             "#46039f"
            ],
            [
             0.2222222222222222,
             "#7201a8"
            ],
            [
             0.3333333333333333,
             "#9c179e"
            ],
            [
             0.4444444444444444,
             "#bd3786"
            ],
            [
             0.5555555555555556,
             "#d8576b"
            ],
            [
             0.6666666666666666,
             "#ed7953"
            ],
            [
             0.7777777777777778,
             "#fb9f3a"
            ],
            [
             0.8888888888888888,
             "#fdca26"
            ],
            [
             1,
             "#f0f921"
            ]
           ],
           "sequentialminus": [
            [
             0,
             "#0d0887"
            ],
            [
             0.1111111111111111,
             "#46039f"
            ],
            [
             0.2222222222222222,
             "#7201a8"
            ],
            [
             0.3333333333333333,
             "#9c179e"
            ],
            [
             0.4444444444444444,
             "#bd3786"
            ],
            [
             0.5555555555555556,
             "#d8576b"
            ],
            [
             0.6666666666666666,
             "#ed7953"
            ],
            [
             0.7777777777777778,
             "#fb9f3a"
            ],
            [
             0.8888888888888888,
             "#fdca26"
            ],
            [
             1,
             "#f0f921"
            ]
           ]
          },
          "colorway": [
           "#636efa",
           "#EF553B",
           "#00cc96",
           "#ab63fa",
           "#FFA15A",
           "#19d3f3",
           "#FF6692",
           "#B6E880",
           "#FF97FF",
           "#FECB52"
          ],
          "font": {
           "color": "#2a3f5f"
          },
          "geo": {
           "bgcolor": "white",
           "lakecolor": "white",
           "landcolor": "#E5ECF6",
           "showlakes": true,
           "showland": true,
           "subunitcolor": "white"
          },
          "hoverlabel": {
           "align": "left"
          },
          "hovermode": "closest",
          "mapbox": {
           "style": "light"
          },
          "paper_bgcolor": "white",
          "plot_bgcolor": "#E5ECF6",
          "polar": {
           "angularaxis": {
            "gridcolor": "white",
            "linecolor": "white",
            "ticks": ""
           },
           "bgcolor": "#E5ECF6",
           "radialaxis": {
            "gridcolor": "white",
            "linecolor": "white",
            "ticks": ""
           }
          },
          "scene": {
           "xaxis": {
            "backgroundcolor": "#E5ECF6",
            "gridcolor": "white",
            "gridwidth": 2,
            "linecolor": "white",
            "showbackground": true,
            "ticks": "",
            "zerolinecolor": "white"
           },
           "yaxis": {
            "backgroundcolor": "#E5ECF6",
            "gridcolor": "white",
            "gridwidth": 2,
            "linecolor": "white",
            "showbackground": true,
            "ticks": "",
            "zerolinecolor": "white"
           },
           "zaxis": {
            "backgroundcolor": "#E5ECF6",
            "gridcolor": "white",
            "gridwidth": 2,
            "linecolor": "white",
            "showbackground": true,
            "ticks": "",
            "zerolinecolor": "white"
           }
          },
          "shapedefaults": {
           "line": {
            "color": "#2a3f5f"
           }
          },
          "ternary": {
           "aaxis": {
            "gridcolor": "white",
            "linecolor": "white",
            "ticks": ""
           },
           "baxis": {
            "gridcolor": "white",
            "linecolor": "white",
            "ticks": ""
           },
           "bgcolor": "#E5ECF6",
           "caxis": {
            "gridcolor": "white",
            "linecolor": "white",
            "ticks": ""
           }
          },
          "title": {
           "x": 0.05
          },
          "xaxis": {
           "automargin": true,
           "gridcolor": "white",
           "linecolor": "white",
           "ticks": "",
           "title": {
            "standoff": 15
           },
           "zerolinecolor": "white",
           "zerolinewidth": 2
          },
          "yaxis": {
           "automargin": true,
           "gridcolor": "white",
           "linecolor": "white",
           "ticks": "",
           "title": {
            "standoff": 15
           },
           "zerolinecolor": "white",
           "zerolinewidth": 2
          }
         }
        },
        "title": {
         "text": "Group B funnel"
        }
       }
      },
      "text/html": [
       "<div>                            <div id=\"7bbcf687-82e6-4ec2-8af4-c24eb37c9f7e\" class=\"plotly-graph-div\" style=\"height:525px; width:100%;\"></div>            <script type=\"text/javascript\">                require([\"plotly\"], function(Plotly) {                    window.PLOTLYENV=window.PLOTLYENV || {};                                    if (document.getElementById(\"7bbcf687-82e6-4ec2-8af4-c24eb37c9f7e\")) {                    Plotly.newPlot(                        \"7bbcf687-82e6-4ec2-8af4-c24eb37c9f7e\",                        [{\"textinfo\":\"value+percent initial\",\"x\":[821,459,225,226],\"y\":[\"login\",\"product_page\",\"product_cart\",\"purchase\"],\"type\":\"funnel\"}],                        {\"template\":{\"data\":{\"bar\":[{\"error_x\":{\"color\":\"#2a3f5f\"},\"error_y\":{\"color\":\"#2a3f5f\"},\"marker\":{\"line\":{\"color\":\"#E5ECF6\",\"width\":0.5},\"pattern\":{\"fillmode\":\"overlay\",\"size\":10,\"solidity\":0.2}},\"type\":\"bar\"}],\"barpolar\":[{\"marker\":{\"line\":{\"color\":\"#E5ECF6\",\"width\":0.5},\"pattern\":{\"fillmode\":\"overlay\",\"size\":10,\"solidity\":0.2}},\"type\":\"barpolar\"}],\"carpet\":[{\"aaxis\":{\"endlinecolor\":\"#2a3f5f\",\"gridcolor\":\"white\",\"linecolor\":\"white\",\"minorgridcolor\":\"white\",\"startlinecolor\":\"#2a3f5f\"},\"baxis\":{\"endlinecolor\":\"#2a3f5f\",\"gridcolor\":\"white\",\"linecolor\":\"white\",\"minorgridcolor\":\"white\",\"startlinecolor\":\"#2a3f5f\"},\"type\":\"carpet\"}],\"choropleth\":[{\"colorbar\":{\"outlinewidth\":0,\"ticks\":\"\"},\"type\":\"choropleth\"}],\"contour\":[{\"colorbar\":{\"outlinewidth\":0,\"ticks\":\"\"},\"colorscale\":[[0.0,\"#0d0887\"],[0.1111111111111111,\"#46039f\"],[0.2222222222222222,\"#7201a8\"],[0.3333333333333333,\"#9c179e\"],[0.4444444444444444,\"#bd3786\"],[0.5555555555555556,\"#d8576b\"],[0.6666666666666666,\"#ed7953\"],[0.7777777777777778,\"#fb9f3a\"],[0.8888888888888888,\"#fdca26\"],[1.0,\"#f0f921\"]],\"type\":\"contour\"}],\"contourcarpet\":[{\"colorbar\":{\"outlinewidth\":0,\"ticks\":\"\"},\"type\":\"contourcarpet\"}],\"heatmap\":[{\"colorbar\":{\"outlinewidth\":0,\"ticks\":\"\"},\"colorscale\":[[0.0,\"#0d0887\"],[0.1111111111111111,\"#46039f\"],[0.2222222222222222,\"#7201a8\"],[0.3333333333333333,\"#9c179e\"],[0.4444444444444444,\"#bd3786\"],[0.5555555555555556,\"#d8576b\"],[0.6666666666666666,\"#ed7953\"],[0.7777777777777778,\"#fb9f3a\"],[0.8888888888888888,\"#fdca26\"],[1.0,\"#f0f921\"]],\"type\":\"heatmap\"}],\"heatmapgl\":[{\"colorbar\":{\"outlinewidth\":0,\"ticks\":\"\"},\"colorscale\":[[0.0,\"#0d0887\"],[0.1111111111111111,\"#46039f\"],[0.2222222222222222,\"#7201a8\"],[0.3333333333333333,\"#9c179e\"],[0.4444444444444444,\"#bd3786\"],[0.5555555555555556,\"#d8576b\"],[0.6666666666666666,\"#ed7953\"],[0.7777777777777778,\"#fb9f3a\"],[0.8888888888888888,\"#fdca26\"],[1.0,\"#f0f921\"]],\"type\":\"heatmapgl\"}],\"histogram\":[{\"marker\":{\"pattern\":{\"fillmode\":\"overlay\",\"size\":10,\"solidity\":0.2}},\"type\":\"histogram\"}],\"histogram2d\":[{\"colorbar\":{\"outlinewidth\":0,\"ticks\":\"\"},\"colorscale\":[[0.0,\"#0d0887\"],[0.1111111111111111,\"#46039f\"],[0.2222222222222222,\"#7201a8\"],[0.3333333333333333,\"#9c179e\"],[0.4444444444444444,\"#bd3786\"],[0.5555555555555556,\"#d8576b\"],[0.6666666666666666,\"#ed7953\"],[0.7777777777777778,\"#fb9f3a\"],[0.8888888888888888,\"#fdca26\"],[1.0,\"#f0f921\"]],\"type\":\"histogram2d\"}],\"histogram2dcontour\":[{\"colorbar\":{\"outlinewidth\":0,\"ticks\":\"\"},\"colorscale\":[[0.0,\"#0d0887\"],[0.1111111111111111,\"#46039f\"],[0.2222222222222222,\"#7201a8\"],[0.3333333333333333,\"#9c179e\"],[0.4444444444444444,\"#bd3786\"],[0.5555555555555556,\"#d8576b\"],[0.6666666666666666,\"#ed7953\"],[0.7777777777777778,\"#fb9f3a\"],[0.8888888888888888,\"#fdca26\"],[1.0,\"#f0f921\"]],\"type\":\"histogram2dcontour\"}],\"mesh3d\":[{\"colorbar\":{\"outlinewidth\":0,\"ticks\":\"\"},\"type\":\"mesh3d\"}],\"parcoords\":[{\"line\":{\"colorbar\":{\"outlinewidth\":0,\"ticks\":\"\"}},\"type\":\"parcoords\"}],\"pie\":[{\"automargin\":true,\"type\":\"pie\"}],\"scatter\":[{\"marker\":{\"colorbar\":{\"outlinewidth\":0,\"ticks\":\"\"}},\"type\":\"scatter\"}],\"scatter3d\":[{\"line\":{\"colorbar\":{\"outlinewidth\":0,\"ticks\":\"\"}},\"marker\":{\"colorbar\":{\"outlinewidth\":0,\"ticks\":\"\"}},\"type\":\"scatter3d\"}],\"scattercarpet\":[{\"marker\":{\"colorbar\":{\"outlinewidth\":0,\"ticks\":\"\"}},\"type\":\"scattercarpet\"}],\"scattergeo\":[{\"marker\":{\"colorbar\":{\"outlinewidth\":0,\"ticks\":\"\"}},\"type\":\"scattergeo\"}],\"scattergl\":[{\"marker\":{\"colorbar\":{\"outlinewidth\":0,\"ticks\":\"\"}},\"type\":\"scattergl\"}],\"scattermapbox\":[{\"marker\":{\"colorbar\":{\"outlinewidth\":0,\"ticks\":\"\"}},\"type\":\"scattermapbox\"}],\"scatterpolar\":[{\"marker\":{\"colorbar\":{\"outlinewidth\":0,\"ticks\":\"\"}},\"type\":\"scatterpolar\"}],\"scatterpolargl\":[{\"marker\":{\"colorbar\":{\"outlinewidth\":0,\"ticks\":\"\"}},\"type\":\"scatterpolargl\"}],\"scatterternary\":[{\"marker\":{\"colorbar\":{\"outlinewidth\":0,\"ticks\":\"\"}},\"type\":\"scatterternary\"}],\"surface\":[{\"colorbar\":{\"outlinewidth\":0,\"ticks\":\"\"},\"colorscale\":[[0.0,\"#0d0887\"],[0.1111111111111111,\"#46039f\"],[0.2222222222222222,\"#7201a8\"],[0.3333333333333333,\"#9c179e\"],[0.4444444444444444,\"#bd3786\"],[0.5555555555555556,\"#d8576b\"],[0.6666666666666666,\"#ed7953\"],[0.7777777777777778,\"#fb9f3a\"],[0.8888888888888888,\"#fdca26\"],[1.0,\"#f0f921\"]],\"type\":\"surface\"}],\"table\":[{\"cells\":{\"fill\":{\"color\":\"#EBF0F8\"},\"line\":{\"color\":\"white\"}},\"header\":{\"fill\":{\"color\":\"#C8D4E3\"},\"line\":{\"color\":\"white\"}},\"type\":\"table\"}]},\"layout\":{\"annotationdefaults\":{\"arrowcolor\":\"#2a3f5f\",\"arrowhead\":0,\"arrowwidth\":1},\"autotypenumbers\":\"strict\",\"coloraxis\":{\"colorbar\":{\"outlinewidth\":0,\"ticks\":\"\"}},\"colorscale\":{\"diverging\":[[0,\"#8e0152\"],[0.1,\"#c51b7d\"],[0.2,\"#de77ae\"],[0.3,\"#f1b6da\"],[0.4,\"#fde0ef\"],[0.5,\"#f7f7f7\"],[0.6,\"#e6f5d0\"],[0.7,\"#b8e186\"],[0.8,\"#7fbc41\"],[0.9,\"#4d9221\"],[1,\"#276419\"]],\"sequential\":[[0.0,\"#0d0887\"],[0.1111111111111111,\"#46039f\"],[0.2222222222222222,\"#7201a8\"],[0.3333333333333333,\"#9c179e\"],[0.4444444444444444,\"#bd3786\"],[0.5555555555555556,\"#d8576b\"],[0.6666666666666666,\"#ed7953\"],[0.7777777777777778,\"#fb9f3a\"],[0.8888888888888888,\"#fdca26\"],[1.0,\"#f0f921\"]],\"sequentialminus\":[[0.0,\"#0d0887\"],[0.1111111111111111,\"#46039f\"],[0.2222222222222222,\"#7201a8\"],[0.3333333333333333,\"#9c179e\"],[0.4444444444444444,\"#bd3786\"],[0.5555555555555556,\"#d8576b\"],[0.6666666666666666,\"#ed7953\"],[0.7777777777777778,\"#fb9f3a\"],[0.8888888888888888,\"#fdca26\"],[1.0,\"#f0f921\"]]},\"colorway\":[\"#636efa\",\"#EF553B\",\"#00cc96\",\"#ab63fa\",\"#FFA15A\",\"#19d3f3\",\"#FF6692\",\"#B6E880\",\"#FF97FF\",\"#FECB52\"],\"font\":{\"color\":\"#2a3f5f\"},\"geo\":{\"bgcolor\":\"white\",\"lakecolor\":\"white\",\"landcolor\":\"#E5ECF6\",\"showlakes\":true,\"showland\":true,\"subunitcolor\":\"white\"},\"hoverlabel\":{\"align\":\"left\"},\"hovermode\":\"closest\",\"mapbox\":{\"style\":\"light\"},\"paper_bgcolor\":\"white\",\"plot_bgcolor\":\"#E5ECF6\",\"polar\":{\"angularaxis\":{\"gridcolor\":\"white\",\"linecolor\":\"white\",\"ticks\":\"\"},\"bgcolor\":\"#E5ECF6\",\"radialaxis\":{\"gridcolor\":\"white\",\"linecolor\":\"white\",\"ticks\":\"\"}},\"scene\":{\"xaxis\":{\"backgroundcolor\":\"#E5ECF6\",\"gridcolor\":\"white\",\"gridwidth\":2,\"linecolor\":\"white\",\"showbackground\":true,\"ticks\":\"\",\"zerolinecolor\":\"white\"},\"yaxis\":{\"backgroundcolor\":\"#E5ECF6\",\"gridcolor\":\"white\",\"gridwidth\":2,\"linecolor\":\"white\",\"showbackground\":true,\"ticks\":\"\",\"zerolinecolor\":\"white\"},\"zaxis\":{\"backgroundcolor\":\"#E5ECF6\",\"gridcolor\":\"white\",\"gridwidth\":2,\"linecolor\":\"white\",\"showbackground\":true,\"ticks\":\"\",\"zerolinecolor\":\"white\"}},\"shapedefaults\":{\"line\":{\"color\":\"#2a3f5f\"}},\"ternary\":{\"aaxis\":{\"gridcolor\":\"white\",\"linecolor\":\"white\",\"ticks\":\"\"},\"baxis\":{\"gridcolor\":\"white\",\"linecolor\":\"white\",\"ticks\":\"\"},\"bgcolor\":\"#E5ECF6\",\"caxis\":{\"gridcolor\":\"white\",\"linecolor\":\"white\",\"ticks\":\"\"}},\"title\":{\"x\":0.05},\"xaxis\":{\"automargin\":true,\"gridcolor\":\"white\",\"linecolor\":\"white\",\"ticks\":\"\",\"title\":{\"standoff\":15},\"zerolinecolor\":\"white\",\"zerolinewidth\":2},\"yaxis\":{\"automargin\":true,\"gridcolor\":\"white\",\"linecolor\":\"white\",\"ticks\":\"\",\"title\":{\"standoff\":15},\"zerolinecolor\":\"white\",\"zerolinewidth\":2}}},\"title\":{\"text\":\"Group B funnel\"}},                        {\"responsive\": true}                    ).then(function(){\n",
       "                            \n",
       "var gd = document.getElementById('7bbcf687-82e6-4ec2-8af4-c24eb37c9f7e');\n",
       "var x = new MutationObserver(function (mutations, observer) {{\n",
       "        var display = window.getComputedStyle(gd).display;\n",
       "        if (!display || display === 'none') {{\n",
       "            console.log([gd, 'removed!']);\n",
       "            Plotly.purge(gd);\n",
       "            observer.disconnect();\n",
       "        }}\n",
       "}});\n",
       "\n",
       "// Listen for the removal of the full notebook cells\n",
       "var notebookContainer = gd.closest('#notebook-container');\n",
       "if (notebookContainer) {{\n",
       "    x.observe(notebookContainer, {childList: true});\n",
       "}}\n",
       "\n",
       "// Listen for the clearing of the current output cell\n",
       "var outputEl = gd.closest('.output');\n",
       "if (outputEl) {{\n",
       "    x.observe(outputEl, {childList: true});\n",
       "}}\n",
       "\n",
       "                        })                };                });            </script>        </div>"
      ]
     },
     "metadata": {},
     "output_type": "display_data"
    }
   ],
   "source": [
    "funnel_b = get_funnel(recommender_system_test_b, funnel_stage, 'Group B funnel')\n",
    "funnel_b.show()"
   ]
  },
  {
   "cell_type": "markdown",
   "metadata": {},
   "source": [
    "We can see that group B has lower conversion rates at all stages. It is possible that the uneven distribution of users between groups A and B has influenced the distortion of the results.\n",
    "\n",
    "Additionally, we can notice a nuance where some users made a purchase without going through the cart. Most likely, they purchased only one item. This could indicate that the funnel on the platform is not strict, and it is possible to make a purchase without going through certain stages. \n",
    "\n",
    "Let's assume that making a purchase can be done in 1 click without the need to visit the cart view."
   ]
  },
  {
   "cell_type": "markdown",
   "metadata": {},
   "source": [
    "### A/B test user segmentation"
   ]
  },
  {
   "cell_type": "code",
   "execution_count": 189,
   "metadata": {},
   "outputs": [],
   "source": [
    "table = recommender_system_test.groupby(['group', 'device']).agg({'user_id': 'nunique'}).reset_index()\n",
    "\n",
    "# add the column with number of users in A & B \n",
    "table_by_device = (table.merge(recommender_system_test.groupby('group')\n",
    "                     .agg({'user_id': 'nunique'}).reset_index(), on='group'))\n",
    "# changing names\n",
    "table_by_device = table_by_device.rename(columns={'user_id_x': 'users_by_device', 'user_id_y': 'total_users'})\n",
    "\n",
    "# add the column \"share\"\n",
    "table_by_device['share'] = round(table_by_device['users_by_device'] / table_by_device['total_users'],2)"
   ]
  },
  {
   "cell_type": "code",
   "execution_count": 190,
   "metadata": {},
   "outputs": [
    {
     "data": {
      "text/html": [
       "<div>\n",
       "<style scoped>\n",
       "    .dataframe tbody tr th:only-of-type {\n",
       "        vertical-align: middle;\n",
       "    }\n",
       "\n",
       "    .dataframe tbody tr th {\n",
       "        vertical-align: top;\n",
       "    }\n",
       "\n",
       "    .dataframe thead th {\n",
       "        text-align: right;\n",
       "    }\n",
       "</style>\n",
       "<table border=\"1\" class=\"dataframe\">\n",
       "  <thead>\n",
       "    <tr style=\"text-align: right;\">\n",
       "      <th></th>\n",
       "      <th>group</th>\n",
       "      <th>device</th>\n",
       "      <th>users_by_device</th>\n",
       "      <th>total_users</th>\n",
       "      <th>share</th>\n",
       "    </tr>\n",
       "  </thead>\n",
       "  <tbody>\n",
       "    <tr>\n",
       "      <th>0</th>\n",
       "      <td>A</td>\n",
       "      <td>Android</td>\n",
       "      <td>1061</td>\n",
       "      <td>2422</td>\n",
       "      <td>0.44</td>\n",
       "    </tr>\n",
       "    <tr>\n",
       "      <th>1</th>\n",
       "      <td>A</td>\n",
       "      <td>Mac</td>\n",
       "      <td>226</td>\n",
       "      <td>2422</td>\n",
       "      <td>0.09</td>\n",
       "    </tr>\n",
       "    <tr>\n",
       "      <th>2</th>\n",
       "      <td>A</td>\n",
       "      <td>PC</td>\n",
       "      <td>630</td>\n",
       "      <td>2422</td>\n",
       "      <td>0.26</td>\n",
       "    </tr>\n",
       "    <tr>\n",
       "      <th>3</th>\n",
       "      <td>A</td>\n",
       "      <td>iPhone</td>\n",
       "      <td>505</td>\n",
       "      <td>2422</td>\n",
       "      <td>0.21</td>\n",
       "    </tr>\n",
       "    <tr>\n",
       "      <th>4</th>\n",
       "      <td>B</td>\n",
       "      <td>Android</td>\n",
       "      <td>383</td>\n",
       "      <td>822</td>\n",
       "      <td>0.47</td>\n",
       "    </tr>\n",
       "    <tr>\n",
       "      <th>5</th>\n",
       "      <td>B</td>\n",
       "      <td>Mac</td>\n",
       "      <td>69</td>\n",
       "      <td>822</td>\n",
       "      <td>0.08</td>\n",
       "    </tr>\n",
       "    <tr>\n",
       "      <th>6</th>\n",
       "      <td>B</td>\n",
       "      <td>PC</td>\n",
       "      <td>200</td>\n",
       "      <td>822</td>\n",
       "      <td>0.24</td>\n",
       "    </tr>\n",
       "    <tr>\n",
       "      <th>7</th>\n",
       "      <td>B</td>\n",
       "      <td>iPhone</td>\n",
       "      <td>170</td>\n",
       "      <td>822</td>\n",
       "      <td>0.21</td>\n",
       "    </tr>\n",
       "  </tbody>\n",
       "</table>\n",
       "</div>"
      ],
      "text/plain": [
       "  group   device  users_by_device  total_users  share\n",
       "0     A  Android             1061         2422   0.44\n",
       "1     A      Mac              226         2422   0.09\n",
       "2     A       PC              630         2422   0.26\n",
       "3     A   iPhone              505         2422   0.21\n",
       "4     B  Android              383          822   0.47\n",
       "5     B      Mac               69          822   0.08\n",
       "6     B       PC              200          822   0.24\n",
       "7     B   iPhone              170          822   0.21"
      ]
     },
     "execution_count": 190,
     "metadata": {},
     "output_type": "execute_result"
    }
   ],
   "source": [
    "table_by_device"
   ]
  },
  {
   "cell_type": "code",
   "execution_count": 191,
   "metadata": {},
   "outputs": [
    {
     "data": {
      "text/html": [
       "<div>\n",
       "<style scoped>\n",
       "    .dataframe tbody tr th:only-of-type {\n",
       "        vertical-align: middle;\n",
       "    }\n",
       "\n",
       "    .dataframe tbody tr th {\n",
       "        vertical-align: top;\n",
       "    }\n",
       "\n",
       "    .dataframe thead th {\n",
       "        text-align: right;\n",
       "    }\n",
       "</style>\n",
       "<table border=\"1\" class=\"dataframe\">\n",
       "  <thead>\n",
       "    <tr style=\"text-align: right;\">\n",
       "      <th></th>\n",
       "      <th>group</th>\n",
       "      <th>region</th>\n",
       "      <th>users_by_region</th>\n",
       "      <th>total_users</th>\n",
       "      <th>share</th>\n",
       "    </tr>\n",
       "  </thead>\n",
       "  <tbody>\n",
       "    <tr>\n",
       "      <th>0</th>\n",
       "      <td>A</td>\n",
       "      <td>APAC</td>\n",
       "      <td>28</td>\n",
       "      <td>2422</td>\n",
       "      <td>0.01</td>\n",
       "    </tr>\n",
       "    <tr>\n",
       "      <th>1</th>\n",
       "      <td>A</td>\n",
       "      <td>CIS</td>\n",
       "      <td>19</td>\n",
       "      <td>2422</td>\n",
       "      <td>0.01</td>\n",
       "    </tr>\n",
       "    <tr>\n",
       "      <th>2</th>\n",
       "      <td>A</td>\n",
       "      <td>EU</td>\n",
       "      <td>2279</td>\n",
       "      <td>2422</td>\n",
       "      <td>0.94</td>\n",
       "    </tr>\n",
       "    <tr>\n",
       "      <th>3</th>\n",
       "      <td>A</td>\n",
       "      <td>N.America</td>\n",
       "      <td>96</td>\n",
       "      <td>2422</td>\n",
       "      <td>0.04</td>\n",
       "    </tr>\n",
       "    <tr>\n",
       "      <th>4</th>\n",
       "      <td>B</td>\n",
       "      <td>APAC</td>\n",
       "      <td>17</td>\n",
       "      <td>822</td>\n",
       "      <td>0.02</td>\n",
       "    </tr>\n",
       "    <tr>\n",
       "      <th>5</th>\n",
       "      <td>B</td>\n",
       "      <td>CIS</td>\n",
       "      <td>11</td>\n",
       "      <td>822</td>\n",
       "      <td>0.01</td>\n",
       "    </tr>\n",
       "    <tr>\n",
       "      <th>6</th>\n",
       "      <td>B</td>\n",
       "      <td>EU</td>\n",
       "      <td>771</td>\n",
       "      <td>822</td>\n",
       "      <td>0.94</td>\n",
       "    </tr>\n",
       "    <tr>\n",
       "      <th>7</th>\n",
       "      <td>B</td>\n",
       "      <td>N.America</td>\n",
       "      <td>23</td>\n",
       "      <td>822</td>\n",
       "      <td>0.03</td>\n",
       "    </tr>\n",
       "  </tbody>\n",
       "</table>\n",
       "</div>"
      ],
      "text/plain": [
       "  group     region  users_by_region  total_users  share\n",
       "0     A       APAC               28         2422   0.01\n",
       "1     A        CIS               19         2422   0.01\n",
       "2     A         EU             2279         2422   0.94\n",
       "3     A  N.America               96         2422   0.04\n",
       "4     B       APAC               17          822   0.02\n",
       "5     B        CIS               11          822   0.01\n",
       "6     B         EU              771          822   0.94\n",
       "7     B  N.America               23          822   0.03"
      ]
     },
     "execution_count": 191,
     "metadata": {},
     "output_type": "execute_result"
    }
   ],
   "source": [
    "table_by_region = recommender_system_test.groupby(['group', 'region']).agg({'user_id': 'nunique'}).reset_index()\n",
    "\n",
    "# add the column with number of users in A & B \n",
    "table_by_region = (table_by_region.merge(recommender_system_test.groupby('group')\n",
    "                     .agg({'user_id': 'nunique'}).reset_index(), on='group'))\n",
    "# changing names\n",
    "table_by_region = table_by_region.rename(columns={'user_id_x': 'users_by_region', 'user_id_y': 'total_users'})\n",
    "\n",
    "# add the column \"share\"\n",
    "table_by_region['share'] = round(table_by_region['users_by_region'] / table_by_region['total_users'],2)\n",
    "table_by_region"
   ]
  },
  {
   "cell_type": "markdown",
   "metadata": {},
   "source": [
    "There is no significant distortion of proportions observed."
   ]
  },
  {
   "cell_type": "markdown",
   "metadata": {},
   "source": [
    "Prior to initiating A/B testing, it's essential to consider certain aspects of the data to ensure the validity of the results:\n",
    "\n",
    "- The effects of outliers and anomalies within the total sample set should be mitigated;\n",
    "- The tool utilized for traffic segmentation should perform without errors;\n",
    "- Data should be accurately transmitted to the analytics systems;\n",
    "- The disparity in user numbers across different groups should not exceed 1%;\n",
    "- Uniform types of data should be captured for all groups and sent to the analytics systems;\n",
    "- The divergence in key metrics between groups should not surpass 1% and should not hold statistical significance;\n",
    "- Once a user is assigned to a group, they should remain within that group for the entire duration of the test. (Inconsistent user experiences across different versions of the test page may cloud the interpretation of results.)\n",
    "\n",
    "Upon examining our specific case, we identify the following observations:\n",
    "- The user count participating in the 'recommender_system_test' falls short of the expected number (3244 vs. 6000);\n",
    "- Group A comprises thrice the number of participants as in group B, indicating an uneven user distribution;\n",
    "- The mean number of events per user is 7 in group A and 5 in group B;\n",
    "- Only 7% of the test participants are from the EU, as opposed to the expected 15%;\n",
    "- User distribution across different devices is not homogeneous."
   ]
  },
  {
   "cell_type": "markdown",
   "metadata": {},
   "source": [
    "## Evaluation of the outcomes from the A/B testing"
   ]
  },
  {
   "cell_type": "code",
   "execution_count": 192,
   "metadata": {},
   "outputs": [
    {
     "data": {
      "text/plain": [
       "2422"
      ]
     },
     "execution_count": 192,
     "metadata": {},
     "output_type": "execute_result"
    }
   ],
   "source": [
    "# number of unique users in Group A\n",
    "a_users = recommender_system_test.query('group == \"A\"')['user_id'].nunique()\n",
    "a_users"
   ]
  },
  {
   "cell_type": "code",
   "execution_count": 193,
   "metadata": {},
   "outputs": [
    {
     "data": {
      "text/plain": [
       "822"
      ]
     },
     "execution_count": 193,
     "metadata": {},
     "output_type": "execute_result"
    }
   ],
   "source": [
    "# number of unique users in Group B\n",
    "b_users = recommender_system_test.query('group == \"B\"')['user_id'].nunique()\n",
    "b_users"
   ]
  },
  {
   "cell_type": "code",
   "execution_count": 194,
   "metadata": {},
   "outputs": [
    {
     "data": {
      "text/html": [
       "<div>\n",
       "<style scoped>\n",
       "    .dataframe tbody tr th:only-of-type {\n",
       "        vertical-align: middle;\n",
       "    }\n",
       "\n",
       "    .dataframe tbody tr th {\n",
       "        vertical-align: top;\n",
       "    }\n",
       "\n",
       "    .dataframe thead th {\n",
       "        text-align: right;\n",
       "    }\n",
       "</style>\n",
       "<table border=\"1\" class=\"dataframe\">\n",
       "  <thead>\n",
       "    <tr style=\"text-align: right;\">\n",
       "      <th>group</th>\n",
       "      <th>A</th>\n",
       "      <th>B</th>\n",
       "    </tr>\n",
       "    <tr>\n",
       "      <th>event_name</th>\n",
       "      <th></th>\n",
       "      <th></th>\n",
       "    </tr>\n",
       "  </thead>\n",
       "  <tbody>\n",
       "    <tr>\n",
       "      <th>product_page</th>\n",
       "      <td>1571</td>\n",
       "      <td>459</td>\n",
       "    </tr>\n",
       "    <tr>\n",
       "      <th>product_cart</th>\n",
       "      <td>728</td>\n",
       "      <td>225</td>\n",
       "    </tr>\n",
       "    <tr>\n",
       "      <th>purchase</th>\n",
       "      <td>773</td>\n",
       "      <td>226</td>\n",
       "    </tr>\n",
       "  </tbody>\n",
       "</table>\n",
       "</div>"
      ],
      "text/plain": [
       "group            A    B\n",
       "event_name             \n",
       "product_page  1571  459\n",
       "product_cart   728  225\n",
       "purchase       773  226"
      ]
     },
     "execution_count": 194,
     "metadata": {},
     "output_type": "execute_result"
    }
   ],
   "source": [
    "ab_funnels = (recommender_system_test\n",
    "              .pivot_table(index='event_name', columns='group', values='user_id', aggfunc='nunique')\n",
    "              .sort_values('A', ascending = False).reset_index())\n",
    "# swap the positions of the \"purchase\" and \"product_cart\" rows\n",
    "ab_funnels.iloc[2:4,:] = ab_funnels.iloc[[3,2],:]\n",
    "\n",
    "# remove login stage\n",
    "ab_funnels = ab_funnels.drop([0]).set_index(ab_funnels.columns[0])\n",
    "ab_funnels"
   ]
  },
  {
   "cell_type": "markdown",
   "metadata": {},
   "source": [
    "As the threshold of statistical significance elevates, the risk of committing a Type I error—incorrectly rejecting a true null hypothesis—also escalates. For instance, with a statistical significance level set at 0.1, there's a 10% chance of falsely identifying a significant effect, leading to inaccurate conclusions. When conducting A/B testing, we leveraged the Shidak correction method to adjust the significance level, applying the formula: 1 - (1 - alpha)^(1/m), where m = 3 (the number of hypotheses).\n",
    "\n",
    "Where alpha represents the statistical significance level.\n",
    "\n",
    "Our hypotheses were articulated as follows:\n",
    "\n",
    "- Null hypothesis (H0) - The users from groups A and B display no significant difference in conversion rates.\n",
    "- Alternative hypothesis (H1) - The users from groups A and B display a significant difference in conversion rates."
   ]
  },
  {
   "cell_type": "code",
   "execution_count": 195,
   "metadata": {},
   "outputs": [],
   "source": [
    "alpha = 1 - (1 - 0.05)**(1/3)\n",
    "\n",
    "def z_test(event_name):\n",
    "    \n",
    "    p1_event = ab_funnels.loc[event_name, 'A']\n",
    "    p2_event = ab_funnels.loc[event_name, 'B'] \n",
    "    \n",
    "    p1_users = recommender_system_test.query('group == \"A\"')['user_id'].nunique()\n",
    "    p2_users = recommender_system_test.query('group == \"B\"')['user_id'].nunique()\n",
    "    \n",
    "    p1 = p1_event / p1_users # proportion of successes in the first group\n",
    "    p2 = p2_event / p2_users # proportion of successes in the second group\n",
    "    \n",
    "    print('p1_event:', p1_event, 'p2_event:', p2_event, 'p1_users:', p1_users, 'p2_users:', p2_users)\n",
    "   \n",
    "    \n",
    "    # proportion of successes in the combined dataset:\n",
    "    p_combined = (p1_event + p2_event) / (p1_users + p2_users)\n",
    "    \n",
    "    difference = p1 - p2 # difference in proportions in the datasets\n",
    "    \n",
    "    z_value = difference / mth.sqrt(p_combined * (1 - p_combined) * (1 / p1_users + 1 / p2_users))\n",
    "    \n",
    "    distr = st.norm(0, 1)  \n",
    "    \n",
    "    p_value = (1 - distr.cdf(abs(z_value))) * 2\n",
    "    \n",
    "    print('Funnel stage - ', event_name)\n",
    "    print('p-value: {:.2f}'.format(p_value))\n",
    "\n",
    "    if p_value < alpha: \n",
    "        print('Reject the null hypothesis: there is a significant difference between the conversions')\n",
    "    else:\n",
    "        print('Failed to reject the null hypothesis, there is no reason to consider the conversions different')\n",
    "    "
   ]
  },
  {
   "cell_type": "code",
   "execution_count": 196,
   "metadata": {},
   "outputs": [
    {
     "name": "stdout",
     "output_type": "stream",
     "text": [
      "p1_event: 1571 p2_event: 459 p1_users: 2422 p2_users: 822\n",
      "Funnel stage -  product_page\n",
      "p-value: 0.00\n",
      "Reject the null hypothesis: there is a significant difference between the conversions\n",
      "\n",
      "p1_event: 728 p2_event: 225 p1_users: 2422 p2_users: 822\n",
      "Funnel stage -  product_cart\n",
      "p-value: 0.14\n",
      "Failed to reject the null hypothesis, there is no reason to consider the conversions different\n",
      "\n",
      "p1_event: 773 p2_event: 226 p1_users: 2422 p2_users: 822\n",
      "Funnel stage -  purchase\n",
      "p-value: 0.02\n",
      "Failed to reject the null hypothesis, there is no reason to consider the conversions different\n",
      "\n"
     ]
    }
   ],
   "source": [
    "for event_name in ab_funnels.index:\n",
    "    z_test(event_name)\n",
    "    print()"
   ]
  },
  {
   "cell_type": "markdown",
   "metadata": {},
   "source": [
    "There is no reason to consider that users in groups A and B show different conversions of the `product_cart` and `purchase` events.\n",
    "\n",
    "There is a difference between the conversions of the `product_page` event in groups A and B."
   ]
  },
  {
   "cell_type": "markdown",
   "metadata": {},
   "source": [
    "## Conclusion"
   ]
  },
  {
   "cell_type": "markdown",
   "metadata": {},
   "source": [
    "The test has been conducted improperly due to several reasons:\n",
    "\n",
    "- The test was stopped 5 days earlier;\n",
    "- The participation count in the `recommender_system_test` is subpar, with only 3244 users instead of the projected 6000;\n",
    "- the number of participants in group A is three times greater than in group B, which might be acceptable but deserves attention;\n",
    "- The distribution of users into the two groups was not equal, as evidenced by an unexpected spike in new users in group A on December 14;\n",
    "- The average event count per user varies across groups, with group A reporting 7 events per user, while group B accounts for only 5;\n",
    "- The geographic representation is skewed, with only 7% of users from the EU, contrary to the anticipated 15%;\n",
    "- The distribution of users across various devices is imbalanced.\n",
    "\n",
    "The results of the A/B test cannot be considered conclusive. It's advisable to re-initiate the test, carefully addressing the shortcomings observed in this run. Furthermore, parallel testing should be avoided due to the potential for user overlap, which could compromise the results of both tests."
   ]
  }
 ],
 "metadata": {
  "ExecuteTimeLog": [
   {
    "duration": 377,
    "start_time": "2023-05-03T18:16:48.053Z"
   },
   {
    "duration": 93,
    "start_time": "2023-05-03T18:17:26.128Z"
   },
   {
    "duration": 27,
    "start_time": "2023-05-03T18:17:50.952Z"
   },
   {
    "duration": 281,
    "start_time": "2023-05-03T18:18:40.244Z"
   },
   {
    "duration": 1700,
    "start_time": "2023-05-03T18:19:28.912Z"
   },
   {
    "duration": 769,
    "start_time": "2023-05-03T18:19:57.030Z"
   },
   {
    "duration": 11,
    "start_time": "2023-05-03T18:20:26.922Z"
   },
   {
    "duration": 14,
    "start_time": "2023-05-03T18:20:34.635Z"
   },
   {
    "duration": 4,
    "start_time": "2023-05-03T18:21:33.546Z"
   },
   {
    "duration": 4,
    "start_time": "2023-05-03T18:21:52.667Z"
   },
   {
    "duration": 12,
    "start_time": "2023-05-03T18:22:02.824Z"
   },
   {
    "duration": 12,
    "start_time": "2023-05-03T18:22:03.482Z"
   },
   {
    "duration": 582,
    "start_time": "2023-05-03T18:22:47.415Z"
   },
   {
    "duration": 8,
    "start_time": "2023-05-03T18:22:57.271Z"
   },
   {
    "duration": 19,
    "start_time": "2023-05-03T18:23:07.623Z"
   },
   {
    "duration": 12,
    "start_time": "2023-05-03T18:23:45.254Z"
   },
   {
    "duration": 9,
    "start_time": "2023-05-03T18:24:04.565Z"
   },
   {
    "duration": 62,
    "start_time": "2023-05-03T18:24:13.572Z"
   },
   {
    "duration": 83,
    "start_time": "2023-05-03T18:25:07.994Z"
   },
   {
    "duration": 10,
    "start_time": "2023-05-03T18:25:21.208Z"
   },
   {
    "duration": 12,
    "start_time": "2023-05-03T18:25:31.093Z"
   },
   {
    "duration": 7,
    "start_time": "2023-05-03T18:40:24.823Z"
   },
   {
    "duration": 6,
    "start_time": "2023-05-03T18:40:46.106Z"
   },
   {
    "duration": 22,
    "start_time": "2023-05-03T18:41:06.612Z"
   },
   {
    "duration": 33,
    "start_time": "2023-05-03T18:41:06.919Z"
   },
   {
    "duration": 44,
    "start_time": "2023-05-03T18:41:31.033Z"
   },
   {
    "duration": 206,
    "start_time": "2023-05-03T18:41:31.340Z"
   },
   {
    "duration": 13,
    "start_time": "2023-05-03T18:41:53.321Z"
   },
   {
    "duration": 12,
    "start_time": "2023-05-03T18:41:57.311Z"
   },
   {
    "duration": 47,
    "start_time": "2023-05-03T18:54:57.074Z"
   },
   {
    "duration": 14,
    "start_time": "2023-05-03T18:55:06.587Z"
   },
   {
    "duration": 97,
    "start_time": "2023-05-03T18:55:37.777Z"
   },
   {
    "duration": 53,
    "start_time": "2023-05-03T18:55:40.882Z"
   },
   {
    "duration": 18,
    "start_time": "2023-05-03T18:57:06.372Z"
   },
   {
    "duration": 36,
    "start_time": "2023-05-03T18:57:13.876Z"
   },
   {
    "duration": 44,
    "start_time": "2023-05-03T18:57:23.197Z"
   },
   {
    "duration": 46,
    "start_time": "2023-05-03T19:00:10.767Z"
   },
   {
    "duration": 173,
    "start_time": "2023-05-03T19:00:27.660Z"
   },
   {
    "duration": 44,
    "start_time": "2023-05-03T19:01:27.938Z"
   },
   {
    "duration": 7,
    "start_time": "2023-05-03T19:04:04.348Z"
   },
   {
    "duration": 33,
    "start_time": "2023-05-03T19:04:19.775Z"
   },
   {
    "duration": 53,
    "start_time": "2023-05-03T19:05:01.724Z"
   },
   {
    "duration": 7,
    "start_time": "2023-05-03T19:12:50.683Z"
   },
   {
    "duration": 8,
    "start_time": "2023-05-03T19:22:07.057Z"
   },
   {
    "duration": 28,
    "start_time": "2023-05-03T19:22:08.506Z"
   },
   {
    "duration": 18,
    "start_time": "2023-05-03T19:22:33.081Z"
   },
   {
    "duration": 4,
    "start_time": "2023-05-03T19:22:36.097Z"
   },
   {
    "duration": 802,
    "start_time": "2023-05-03T19:22:36.103Z"
   },
   {
    "duration": 38,
    "start_time": "2023-05-03T19:22:36.908Z"
   },
   {
    "duration": 38,
    "start_time": "2023-05-03T19:22:36.949Z"
   },
   {
    "duration": 56,
    "start_time": "2023-05-03T19:22:36.991Z"
   },
   {
    "duration": 61,
    "start_time": "2023-05-03T19:22:37.050Z"
   },
   {
    "duration": 79,
    "start_time": "2023-05-03T19:22:37.113Z"
   },
   {
    "duration": 70,
    "start_time": "2023-05-03T19:22:37.194Z"
   },
   {
    "duration": 29,
    "start_time": "2023-05-03T19:22:37.266Z"
   },
   {
    "duration": 165,
    "start_time": "2023-05-03T19:22:37.297Z"
   },
   {
    "duration": 94,
    "start_time": "2023-05-03T19:22:37.464Z"
   },
   {
    "duration": 70,
    "start_time": "2023-05-03T19:22:37.560Z"
   },
   {
    "duration": 47,
    "start_time": "2023-05-03T19:22:37.637Z"
   },
   {
    "duration": 58,
    "start_time": "2023-05-03T19:22:37.687Z"
   },
   {
    "duration": 28,
    "start_time": "2023-05-03T19:22:37.747Z"
   },
   {
    "duration": 35,
    "start_time": "2023-05-03T19:22:37.776Z"
   },
   {
    "duration": 50,
    "start_time": "2023-05-03T19:22:37.813Z"
   },
   {
    "duration": 30,
    "start_time": "2023-05-03T19:22:37.865Z"
   },
   {
    "duration": 46,
    "start_time": "2023-05-03T19:22:37.897Z"
   },
   {
    "duration": 61,
    "start_time": "2023-05-03T19:22:37.946Z"
   },
   {
    "duration": 69,
    "start_time": "2023-05-03T19:22:38.009Z"
   },
   {
    "duration": 90,
    "start_time": "2023-05-03T19:22:38.080Z"
   },
   {
    "duration": 270,
    "start_time": "2023-05-03T19:22:38.172Z"
   },
   {
    "duration": 8,
    "start_time": "2023-05-03T19:22:38.444Z"
   },
   {
    "duration": 25,
    "start_time": "2023-05-03T19:22:38.456Z"
   },
   {
    "duration": 17,
    "start_time": "2023-05-03T19:37:59.237Z"
   },
   {
    "duration": 36,
    "start_time": "2023-05-03T19:38:03.313Z"
   },
   {
    "duration": 12,
    "start_time": "2023-05-03T19:44:03.356Z"
   },
   {
    "duration": 13,
    "start_time": "2023-05-03T19:44:25.328Z"
   },
   {
    "duration": 15,
    "start_time": "2023-05-03T19:54:58.909Z"
   },
   {
    "duration": 435,
    "start_time": "2023-05-04T07:28:32.957Z"
   },
   {
    "duration": 1142,
    "start_time": "2023-05-04T07:28:33.394Z"
   },
   {
    "duration": 17,
    "start_time": "2023-05-04T07:28:34.540Z"
   },
   {
    "duration": 15,
    "start_time": "2023-05-04T07:28:34.559Z"
   },
   {
    "duration": 9,
    "start_time": "2023-05-04T07:28:34.576Z"
   },
   {
    "duration": 18,
    "start_time": "2023-05-04T07:28:34.588Z"
   },
   {
    "duration": 33,
    "start_time": "2023-05-04T07:28:34.608Z"
   },
   {
    "duration": 12,
    "start_time": "2023-05-04T07:28:34.643Z"
   },
   {
    "duration": 54,
    "start_time": "2023-05-04T07:28:34.657Z"
   },
   {
    "duration": 21,
    "start_time": "2023-05-04T07:28:34.715Z"
   },
   {
    "duration": 18,
    "start_time": "2023-05-04T07:28:34.738Z"
   },
   {
    "duration": 83,
    "start_time": "2023-05-04T07:28:34.758Z"
   },
   {
    "duration": 130,
    "start_time": "2023-05-04T07:28:34.844Z"
   },
   {
    "duration": 19,
    "start_time": "2023-05-04T07:28:34.975Z"
   },
   {
    "duration": 23,
    "start_time": "2023-05-04T07:28:34.996Z"
   },
   {
    "duration": 7,
    "start_time": "2023-05-04T07:28:35.022Z"
   },
   {
    "duration": 17,
    "start_time": "2023-05-04T07:28:35.031Z"
   },
   {
    "duration": 13,
    "start_time": "2023-05-04T07:28:35.050Z"
   },
   {
    "duration": 31,
    "start_time": "2023-05-04T07:28:35.065Z"
   },
   {
    "duration": 7,
    "start_time": "2023-05-04T07:28:35.098Z"
   },
   {
    "duration": 12,
    "start_time": "2023-05-04T07:28:35.107Z"
   },
   {
    "duration": 29,
    "start_time": "2023-05-04T07:28:35.121Z"
   },
   {
    "duration": 92,
    "start_time": "2023-05-04T07:28:35.153Z"
   },
   {
    "duration": 63,
    "start_time": "2023-05-04T07:28:35.247Z"
   },
   {
    "duration": 214,
    "start_time": "2023-05-04T07:28:35.312Z"
   },
   {
    "duration": 8,
    "start_time": "2023-05-04T07:28:35.528Z"
   },
   {
    "duration": 9,
    "start_time": "2023-05-04T07:28:35.537Z"
   },
   {
    "duration": 5,
    "start_time": "2023-05-04T07:29:15.991Z"
   },
   {
    "duration": 7,
    "start_time": "2023-05-04T07:29:54.264Z"
   },
   {
    "duration": 8,
    "start_time": "2023-05-04T07:29:58.313Z"
   },
   {
    "duration": 93,
    "start_time": "2023-05-04T07:30:04.353Z"
   },
   {
    "duration": 8,
    "start_time": "2023-05-04T07:30:12.605Z"
   },
   {
    "duration": 8,
    "start_time": "2023-05-04T07:30:18.730Z"
   },
   {
    "duration": 5,
    "start_time": "2023-05-04T07:30:23.829Z"
   },
   {
    "duration": 7,
    "start_time": "2023-05-04T07:30:42.428Z"
   },
   {
    "duration": 9,
    "start_time": "2023-05-04T07:30:48.979Z"
   },
   {
    "duration": 8,
    "start_time": "2023-05-04T07:31:15.100Z"
   },
   {
    "duration": 6,
    "start_time": "2023-05-04T07:31:44.205Z"
   },
   {
    "duration": 75,
    "start_time": "2023-05-04T07:32:30.890Z"
   },
   {
    "duration": 58,
    "start_time": "2023-05-04T07:32:35.435Z"
   },
   {
    "duration": 9,
    "start_time": "2023-05-04T07:32:51.348Z"
   },
   {
    "duration": 71,
    "start_time": "2023-05-04T07:32:54.050Z"
   },
   {
    "duration": 8,
    "start_time": "2023-05-04T07:40:32.737Z"
   },
   {
    "duration": 12,
    "start_time": "2023-05-04T07:40:36.707Z"
   },
   {
    "duration": 7,
    "start_time": "2023-05-04T07:40:50.623Z"
   },
   {
    "duration": 3,
    "start_time": "2023-05-04T07:40:54.204Z"
   },
   {
    "duration": 650,
    "start_time": "2023-05-04T07:40:54.209Z"
   },
   {
    "duration": 9,
    "start_time": "2023-05-04T07:40:54.861Z"
   },
   {
    "duration": 25,
    "start_time": "2023-05-04T07:40:54.872Z"
   },
   {
    "duration": 9,
    "start_time": "2023-05-04T07:40:54.901Z"
   },
   {
    "duration": 19,
    "start_time": "2023-05-04T07:40:54.912Z"
   },
   {
    "duration": 17,
    "start_time": "2023-05-04T07:40:54.933Z"
   },
   {
    "duration": 16,
    "start_time": "2023-05-04T07:40:54.952Z"
   },
   {
    "duration": 38,
    "start_time": "2023-05-04T07:40:54.970Z"
   },
   {
    "duration": 22,
    "start_time": "2023-05-04T07:40:55.011Z"
   },
   {
    "duration": 17,
    "start_time": "2023-05-04T07:40:55.038Z"
   },
   {
    "duration": 102,
    "start_time": "2023-05-04T07:40:55.057Z"
   },
   {
    "duration": 92,
    "start_time": "2023-05-04T07:40:55.161Z"
   },
   {
    "duration": 8,
    "start_time": "2023-05-04T07:40:55.255Z"
   },
   {
    "duration": 31,
    "start_time": "2023-05-04T07:40:55.265Z"
   },
   {
    "duration": 8,
    "start_time": "2023-05-04T07:40:55.298Z"
   },
   {
    "duration": 18,
    "start_time": "2023-05-04T07:40:55.308Z"
   },
   {
    "duration": 9,
    "start_time": "2023-05-04T07:40:55.328Z"
   },
   {
    "duration": 13,
    "start_time": "2023-05-04T07:40:55.339Z"
   },
   {
    "duration": 8,
    "start_time": "2023-05-04T07:40:55.354Z"
   },
   {
    "duration": 10,
    "start_time": "2023-05-04T07:40:55.393Z"
   },
   {
    "duration": 21,
    "start_time": "2023-05-04T07:40:55.405Z"
   },
   {
    "duration": 34,
    "start_time": "2023-05-04T07:40:55.428Z"
   },
   {
    "duration": 8,
    "start_time": "2023-05-04T07:40:55.493Z"
   },
   {
    "duration": 67,
    "start_time": "2023-05-04T07:40:55.502Z"
   },
   {
    "duration": 68,
    "start_time": "2023-05-04T07:40:55.571Z"
   },
   {
    "duration": 256,
    "start_time": "2023-05-04T07:40:55.641Z"
   },
   {
    "duration": 8,
    "start_time": "2023-05-04T07:40:55.900Z"
   },
   {
    "duration": 12,
    "start_time": "2023-05-04T07:40:55.912Z"
   },
   {
    "duration": 14,
    "start_time": "2023-05-04T07:40:55.927Z"
   },
   {
    "duration": 610,
    "start_time": "2023-05-04T07:47:04.110Z"
   },
   {
    "duration": 20,
    "start_time": "2023-05-04T08:10:07.249Z"
   },
   {
    "duration": 11,
    "start_time": "2023-05-04T08:12:25.053Z"
   },
   {
    "duration": 387,
    "start_time": "2023-05-04T08:14:36.053Z"
   },
   {
    "duration": 28,
    "start_time": "2023-05-04T08:14:46.405Z"
   },
   {
    "duration": 9,
    "start_time": "2023-05-04T08:15:10.809Z"
   },
   {
    "duration": 410,
    "start_time": "2023-05-04T08:21:44.875Z"
   },
   {
    "duration": 1049,
    "start_time": "2023-05-04T08:21:58.003Z"
   },
   {
    "duration": 6,
    "start_time": "2023-05-04T08:22:38.418Z"
   },
   {
    "duration": 544,
    "start_time": "2023-05-04T08:23:02.206Z"
   },
   {
    "duration": 23,
    "start_time": "2023-05-04T08:23:21.398Z"
   },
   {
    "duration": 26,
    "start_time": "2023-05-04T08:23:23.531Z"
   },
   {
    "duration": 47,
    "start_time": "2023-05-04T08:24:45.472Z"
   },
   {
    "duration": 17,
    "start_time": "2023-05-04T08:25:00.252Z"
   },
   {
    "duration": 17,
    "start_time": "2023-05-04T08:25:10.248Z"
   },
   {
    "duration": 8,
    "start_time": "2023-05-04T08:25:22.806Z"
   },
   {
    "duration": 9,
    "start_time": "2023-05-04T08:25:26.285Z"
   },
   {
    "duration": 9,
    "start_time": "2023-05-04T08:25:57.306Z"
   },
   {
    "duration": 6,
    "start_time": "2023-05-04T08:25:58.350Z"
   },
   {
    "duration": 3,
    "start_time": "2023-05-04T08:26:03.044Z"
   },
   {
    "duration": 578,
    "start_time": "2023-05-04T08:26:03.049Z"
   },
   {
    "duration": 8,
    "start_time": "2023-05-04T08:26:03.628Z"
   },
   {
    "duration": 11,
    "start_time": "2023-05-04T08:26:03.637Z"
   },
   {
    "duration": 9,
    "start_time": "2023-05-04T08:26:03.650Z"
   },
   {
    "duration": 9,
    "start_time": "2023-05-04T08:26:03.660Z"
   },
   {
    "duration": 42,
    "start_time": "2023-05-04T08:26:03.670Z"
   },
   {
    "duration": 23,
    "start_time": "2023-05-04T08:26:03.714Z"
   },
   {
    "duration": 23,
    "start_time": "2023-05-04T08:26:03.739Z"
   },
   {
    "duration": 33,
    "start_time": "2023-05-04T08:26:03.764Z"
   },
   {
    "duration": 12,
    "start_time": "2023-05-04T08:26:03.804Z"
   },
   {
    "duration": 56,
    "start_time": "2023-05-04T08:26:03.818Z"
   },
   {
    "duration": 90,
    "start_time": "2023-05-04T08:26:03.876Z"
   },
   {
    "duration": 8,
    "start_time": "2023-05-04T08:26:03.969Z"
   },
   {
    "duration": 29,
    "start_time": "2023-05-04T08:26:03.979Z"
   },
   {
    "duration": 6,
    "start_time": "2023-05-04T08:26:04.010Z"
   },
   {
    "duration": 12,
    "start_time": "2023-05-04T08:26:04.017Z"
   },
   {
    "duration": 10,
    "start_time": "2023-05-04T08:26:04.030Z"
   },
   {
    "duration": 11,
    "start_time": "2023-05-04T08:26:04.041Z"
   },
   {
    "duration": 52,
    "start_time": "2023-05-04T08:26:04.054Z"
   },
   {
    "duration": 7,
    "start_time": "2023-05-04T08:26:04.109Z"
   },
   {
    "duration": 13,
    "start_time": "2023-05-04T08:26:04.118Z"
   },
   {
    "duration": 29,
    "start_time": "2023-05-04T08:26:04.132Z"
   },
   {
    "duration": 4,
    "start_time": "2023-05-04T08:26:04.163Z"
   },
   {
    "duration": 43,
    "start_time": "2023-05-04T08:26:04.193Z"
   },
   {
    "duration": 66,
    "start_time": "2023-05-04T08:26:04.238Z"
   },
   {
    "duration": 196,
    "start_time": "2023-05-04T08:26:04.308Z"
   },
   {
    "duration": 9,
    "start_time": "2023-05-04T08:26:04.505Z"
   },
   {
    "duration": 11,
    "start_time": "2023-05-04T08:26:04.515Z"
   },
   {
    "duration": 25,
    "start_time": "2023-05-04T08:26:04.528Z"
   },
   {
    "duration": 4,
    "start_time": "2023-05-04T08:26:04.555Z"
   },
   {
    "duration": 9,
    "start_time": "2023-05-04T08:26:04.561Z"
   },
   {
    "duration": 5,
    "start_time": "2023-05-04T08:26:04.572Z"
   },
   {
    "duration": 13,
    "start_time": "2023-05-04T08:27:26.119Z"
   },
   {
    "duration": 7,
    "start_time": "2023-05-04T08:27:52.306Z"
   },
   {
    "duration": 91,
    "start_time": "2023-05-04T08:27:55.853Z"
   },
   {
    "duration": 21,
    "start_time": "2023-05-04T08:27:56.654Z"
   },
   {
    "duration": 3,
    "start_time": "2023-05-04T08:28:04.145Z"
   },
   {
    "duration": 620,
    "start_time": "2023-05-04T08:28:04.151Z"
   },
   {
    "duration": 11,
    "start_time": "2023-05-04T08:28:04.774Z"
   },
   {
    "duration": 20,
    "start_time": "2023-05-04T08:28:04.788Z"
   },
   {
    "duration": 6,
    "start_time": "2023-05-04T08:28:04.810Z"
   },
   {
    "duration": 19,
    "start_time": "2023-05-04T08:28:04.817Z"
   },
   {
    "duration": 32,
    "start_time": "2023-05-04T08:28:04.838Z"
   },
   {
    "duration": 702,
    "start_time": "2023-05-04T08:28:04.872Z"
   },
   {
    "duration": 0,
    "start_time": "2023-05-04T08:28:05.577Z"
   },
   {
    "duration": 0,
    "start_time": "2023-05-04T08:28:05.579Z"
   },
   {
    "duration": 0,
    "start_time": "2023-05-04T08:28:05.581Z"
   },
   {
    "duration": 0,
    "start_time": "2023-05-04T08:28:05.582Z"
   },
   {
    "duration": 0,
    "start_time": "2023-05-04T08:28:05.584Z"
   },
   {
    "duration": 0,
    "start_time": "2023-05-04T08:28:05.586Z"
   },
   {
    "duration": 0,
    "start_time": "2023-05-04T08:28:05.587Z"
   },
   {
    "duration": 0,
    "start_time": "2023-05-04T08:28:05.588Z"
   },
   {
    "duration": 0,
    "start_time": "2023-05-04T08:28:05.589Z"
   },
   {
    "duration": 0,
    "start_time": "2023-05-04T08:28:05.591Z"
   },
   {
    "duration": 0,
    "start_time": "2023-05-04T08:28:05.592Z"
   },
   {
    "duration": 0,
    "start_time": "2023-05-04T08:28:05.592Z"
   },
   {
    "duration": 0,
    "start_time": "2023-05-04T08:28:05.593Z"
   },
   {
    "duration": 0,
    "start_time": "2023-05-04T08:28:05.594Z"
   },
   {
    "duration": 0,
    "start_time": "2023-05-04T08:28:05.596Z"
   },
   {
    "duration": 0,
    "start_time": "2023-05-04T08:28:05.597Z"
   },
   {
    "duration": 0,
    "start_time": "2023-05-04T08:28:05.598Z"
   },
   {
    "duration": 0,
    "start_time": "2023-05-04T08:28:05.602Z"
   },
   {
    "duration": 0,
    "start_time": "2023-05-04T08:28:05.603Z"
   },
   {
    "duration": 0,
    "start_time": "2023-05-04T08:28:05.604Z"
   },
   {
    "duration": 0,
    "start_time": "2023-05-04T08:28:05.606Z"
   },
   {
    "duration": 0,
    "start_time": "2023-05-04T08:28:05.607Z"
   },
   {
    "duration": 0,
    "start_time": "2023-05-04T08:28:05.608Z"
   },
   {
    "duration": 0,
    "start_time": "2023-05-04T08:28:05.609Z"
   },
   {
    "duration": 0,
    "start_time": "2023-05-04T08:28:05.610Z"
   },
   {
    "duration": 0,
    "start_time": "2023-05-04T08:28:05.611Z"
   },
   {
    "duration": 3,
    "start_time": "2023-05-04T08:29:18.232Z"
   },
   {
    "duration": 667,
    "start_time": "2023-05-04T08:29:18.238Z"
   },
   {
    "duration": 10,
    "start_time": "2023-05-04T08:29:18.909Z"
   },
   {
    "duration": 75,
    "start_time": "2023-05-04T08:29:18.923Z"
   },
   {
    "duration": 51,
    "start_time": "2023-05-04T08:29:19.008Z"
   },
   {
    "duration": 40,
    "start_time": "2023-05-04T08:29:19.062Z"
   },
   {
    "duration": 44,
    "start_time": "2023-05-04T08:29:19.107Z"
   },
   {
    "duration": 663,
    "start_time": "2023-05-04T08:29:19.154Z"
   },
   {
    "duration": 0,
    "start_time": "2023-05-04T08:29:19.820Z"
   },
   {
    "duration": 0,
    "start_time": "2023-05-04T08:29:19.822Z"
   },
   {
    "duration": 0,
    "start_time": "2023-05-04T08:29:19.822Z"
   },
   {
    "duration": 0,
    "start_time": "2023-05-04T08:29:19.823Z"
   },
   {
    "duration": 0,
    "start_time": "2023-05-04T08:29:19.825Z"
   },
   {
    "duration": 0,
    "start_time": "2023-05-04T08:29:19.826Z"
   },
   {
    "duration": 0,
    "start_time": "2023-05-04T08:29:19.827Z"
   },
   {
    "duration": 0,
    "start_time": "2023-05-04T08:29:19.828Z"
   },
   {
    "duration": 0,
    "start_time": "2023-05-04T08:29:19.829Z"
   },
   {
    "duration": 0,
    "start_time": "2023-05-04T08:29:19.830Z"
   },
   {
    "duration": 0,
    "start_time": "2023-05-04T08:29:19.832Z"
   },
   {
    "duration": 0,
    "start_time": "2023-05-04T08:29:19.833Z"
   },
   {
    "duration": 0,
    "start_time": "2023-05-04T08:29:19.834Z"
   },
   {
    "duration": 0,
    "start_time": "2023-05-04T08:29:19.835Z"
   },
   {
    "duration": 0,
    "start_time": "2023-05-04T08:29:19.837Z"
   },
   {
    "duration": 0,
    "start_time": "2023-05-04T08:29:19.838Z"
   },
   {
    "duration": 0,
    "start_time": "2023-05-04T08:29:19.839Z"
   },
   {
    "duration": 0,
    "start_time": "2023-05-04T08:29:19.840Z"
   },
   {
    "duration": 0,
    "start_time": "2023-05-04T08:29:19.841Z"
   },
   {
    "duration": 0,
    "start_time": "2023-05-04T08:29:19.842Z"
   },
   {
    "duration": 1,
    "start_time": "2023-05-04T08:29:19.843Z"
   },
   {
    "duration": 0,
    "start_time": "2023-05-04T08:29:19.844Z"
   },
   {
    "duration": 0,
    "start_time": "2023-05-04T08:29:19.846Z"
   },
   {
    "duration": 0,
    "start_time": "2023-05-04T08:29:19.847Z"
   },
   {
    "duration": 0,
    "start_time": "2023-05-04T08:29:19.848Z"
   },
   {
    "duration": 0,
    "start_time": "2023-05-04T08:29:19.849Z"
   },
   {
    "duration": 709,
    "start_time": "2023-05-04T08:31:35.679Z"
   },
   {
    "duration": 8,
    "start_time": "2023-05-04T08:31:45.425Z"
   },
   {
    "duration": 668,
    "start_time": "2023-05-04T08:31:49.206Z"
   },
   {
    "duration": 784,
    "start_time": "2023-05-04T08:31:59.711Z"
   },
   {
    "duration": 617,
    "start_time": "2023-05-04T08:32:12.525Z"
   },
   {
    "duration": 9,
    "start_time": "2023-05-04T08:32:16.575Z"
   },
   {
    "duration": 688,
    "start_time": "2023-05-04T08:32:27.952Z"
   },
   {
    "duration": 716,
    "start_time": "2023-05-04T08:32:42.690Z"
   },
   {
    "duration": 701,
    "start_time": "2023-05-04T08:32:47.638Z"
   },
   {
    "duration": 15,
    "start_time": "2023-05-04T08:32:52.067Z"
   },
   {
    "duration": 3,
    "start_time": "2023-05-04T08:32:58.606Z"
   },
   {
    "duration": 631,
    "start_time": "2023-05-04T08:32:58.611Z"
   },
   {
    "duration": 9,
    "start_time": "2023-05-04T08:32:59.244Z"
   },
   {
    "duration": 16,
    "start_time": "2023-05-04T08:32:59.255Z"
   },
   {
    "duration": 5,
    "start_time": "2023-05-04T08:32:59.276Z"
   },
   {
    "duration": 22,
    "start_time": "2023-05-04T08:32:59.296Z"
   },
   {
    "duration": 34,
    "start_time": "2023-05-04T08:32:59.321Z"
   },
   {
    "duration": 14,
    "start_time": "2023-05-04T08:32:59.358Z"
   },
   {
    "duration": 35,
    "start_time": "2023-05-04T08:32:59.374Z"
   },
   {
    "duration": 12,
    "start_time": "2023-05-04T08:32:59.411Z"
   },
   {
    "duration": 9,
    "start_time": "2023-05-04T08:32:59.425Z"
   },
   {
    "duration": 76,
    "start_time": "2023-05-04T08:32:59.435Z"
   },
   {
    "duration": 91,
    "start_time": "2023-05-04T08:32:59.513Z"
   },
   {
    "duration": 9,
    "start_time": "2023-05-04T08:32:59.609Z"
   },
   {
    "duration": 21,
    "start_time": "2023-05-04T08:32:59.619Z"
   },
   {
    "duration": 7,
    "start_time": "2023-05-04T08:32:59.642Z"
   },
   {
    "duration": 35,
    "start_time": "2023-05-04T08:32:59.651Z"
   },
   {
    "duration": 19,
    "start_time": "2023-05-04T08:32:59.693Z"
   },
   {
    "duration": 25,
    "start_time": "2023-05-04T08:32:59.715Z"
   },
   {
    "duration": 12,
    "start_time": "2023-05-04T08:32:59.743Z"
   },
   {
    "duration": 9,
    "start_time": "2023-05-04T08:32:59.757Z"
   },
   {
    "duration": 42,
    "start_time": "2023-05-04T08:32:59.767Z"
   },
   {
    "duration": 46,
    "start_time": "2023-05-04T08:32:59.811Z"
   },
   {
    "duration": 5,
    "start_time": "2023-05-04T08:32:59.859Z"
   },
   {
    "duration": 62,
    "start_time": "2023-05-04T08:32:59.865Z"
   },
   {
    "duration": 40,
    "start_time": "2023-05-04T08:32:59.929Z"
   },
   {
    "duration": 213,
    "start_time": "2023-05-04T08:32:59.970Z"
   },
   {
    "duration": 10,
    "start_time": "2023-05-04T08:33:00.184Z"
   },
   {
    "duration": 43,
    "start_time": "2023-05-04T08:33:00.196Z"
   },
   {
    "duration": 38,
    "start_time": "2023-05-04T08:33:00.240Z"
   },
   {
    "duration": 37,
    "start_time": "2023-05-04T08:33:00.280Z"
   },
   {
    "duration": 24,
    "start_time": "2023-05-04T08:33:00.319Z"
   },
   {
    "duration": 30,
    "start_time": "2023-05-04T08:33:00.345Z"
   },
   {
    "duration": 44,
    "start_time": "2023-05-04T08:33:00.377Z"
   },
   {
    "duration": 5,
    "start_time": "2023-05-04T08:35:23.029Z"
   },
   {
    "duration": 13,
    "start_time": "2023-05-04T08:35:34.716Z"
   },
   {
    "duration": 15,
    "start_time": "2023-05-04T08:35:55.372Z"
   },
   {
    "duration": 20,
    "start_time": "2023-05-04T09:02:56.688Z"
   },
   {
    "duration": 3,
    "start_time": "2023-05-04T09:07:14.145Z"
   },
   {
    "duration": 624,
    "start_time": "2023-05-04T09:07:14.150Z"
   },
   {
    "duration": 10,
    "start_time": "2023-05-04T09:07:14.777Z"
   },
   {
    "duration": 11,
    "start_time": "2023-05-04T09:07:14.793Z"
   },
   {
    "duration": 21,
    "start_time": "2023-05-04T09:07:14.806Z"
   },
   {
    "duration": 12,
    "start_time": "2023-05-04T09:07:14.829Z"
   },
   {
    "duration": 27,
    "start_time": "2023-05-04T09:07:14.843Z"
   },
   {
    "duration": 36,
    "start_time": "2023-05-04T09:07:14.872Z"
   },
   {
    "duration": 23,
    "start_time": "2023-05-04T09:07:14.913Z"
   },
   {
    "duration": 18,
    "start_time": "2023-05-04T09:07:14.938Z"
   },
   {
    "duration": 38,
    "start_time": "2023-05-04T09:07:14.958Z"
   },
   {
    "duration": 169,
    "start_time": "2023-05-04T09:07:14.998Z"
   },
   {
    "duration": 133,
    "start_time": "2023-05-04T09:07:15.170Z"
   },
   {
    "duration": 15,
    "start_time": "2023-05-04T09:07:15.313Z"
   },
   {
    "duration": 27,
    "start_time": "2023-05-04T09:07:15.330Z"
   },
   {
    "duration": 31,
    "start_time": "2023-05-04T09:07:15.360Z"
   },
   {
    "duration": 21,
    "start_time": "2023-05-04T09:07:15.393Z"
   },
   {
    "duration": 25,
    "start_time": "2023-05-04T09:07:15.416Z"
   },
   {
    "duration": 26,
    "start_time": "2023-05-04T09:07:15.443Z"
   },
   {
    "duration": 40,
    "start_time": "2023-05-04T09:07:15.471Z"
   },
   {
    "duration": 9,
    "start_time": "2023-05-04T09:07:15.513Z"
   },
   {
    "duration": 18,
    "start_time": "2023-05-04T09:07:15.525Z"
   },
   {
    "duration": 56,
    "start_time": "2023-05-04T09:07:15.545Z"
   },
   {
    "duration": 8,
    "start_time": "2023-05-04T09:07:15.609Z"
   },
   {
    "duration": 39,
    "start_time": "2023-05-04T09:07:15.619Z"
   },
   {
    "duration": 69,
    "start_time": "2023-05-04T09:07:15.661Z"
   },
   {
    "duration": 207,
    "start_time": "2023-05-04T09:07:15.733Z"
   },
   {
    "duration": 7,
    "start_time": "2023-05-04T09:07:15.942Z"
   },
   {
    "duration": 34,
    "start_time": "2023-05-04T09:07:15.951Z"
   },
   {
    "duration": 32,
    "start_time": "2023-05-04T09:07:15.987Z"
   },
   {
    "duration": 9,
    "start_time": "2023-05-04T09:07:16.022Z"
   },
   {
    "duration": 22,
    "start_time": "2023-05-04T09:07:16.033Z"
   },
   {
    "duration": 7,
    "start_time": "2023-05-04T09:07:16.058Z"
   },
   {
    "duration": 33,
    "start_time": "2023-05-04T09:07:16.068Z"
   },
   {
    "duration": 24,
    "start_time": "2023-05-04T09:07:16.105Z"
   },
   {
    "duration": 9,
    "start_time": "2023-05-04T09:19:32.806Z"
   },
   {
    "duration": 814,
    "start_time": "2023-05-04T09:20:58.472Z"
   },
   {
    "duration": 14,
    "start_time": "2023-05-04T09:41:23.458Z"
   },
   {
    "duration": 202,
    "start_time": "2023-05-04T09:41:49.965Z"
   },
   {
    "duration": 22,
    "start_time": "2023-05-04T09:41:54.752Z"
   },
   {
    "duration": 22,
    "start_time": "2023-05-04T09:44:17.321Z"
   },
   {
    "duration": 229,
    "start_time": "2023-05-04T09:44:19.505Z"
   },
   {
    "duration": 24,
    "start_time": "2023-05-04T09:44:19.818Z"
   },
   {
    "duration": 223,
    "start_time": "2023-05-04T09:45:10.859Z"
   },
   {
    "duration": 75,
    "start_time": "2023-05-04T09:45:14.616Z"
   },
   {
    "duration": 209,
    "start_time": "2023-05-04T09:45:45.082Z"
   },
   {
    "duration": 218,
    "start_time": "2023-05-04T09:46:06.875Z"
   },
   {
    "duration": 25,
    "start_time": "2023-05-04T09:46:07.275Z"
   },
   {
    "duration": 299,
    "start_time": "2023-05-04T09:46:46.990Z"
   },
   {
    "duration": 22,
    "start_time": "2023-05-04T09:46:47.759Z"
   },
   {
    "duration": 272,
    "start_time": "2023-05-04T09:47:15.120Z"
   },
   {
    "duration": 20,
    "start_time": "2023-05-04T09:47:15.622Z"
   },
   {
    "duration": 23,
    "start_time": "2023-05-04T09:47:58.360Z"
   },
   {
    "duration": 288,
    "start_time": "2023-05-04T09:48:24.383Z"
   },
   {
    "duration": 25,
    "start_time": "2023-05-04T09:48:27.922Z"
   },
   {
    "duration": 16,
    "start_time": "2023-05-04T09:48:43.120Z"
   },
   {
    "duration": 311,
    "start_time": "2023-05-04T09:49:22.582Z"
   },
   {
    "duration": 25,
    "start_time": "2023-05-04T09:49:23.108Z"
   },
   {
    "duration": 426,
    "start_time": "2023-05-04T09:49:36.190Z"
   },
   {
    "duration": 21,
    "start_time": "2023-05-04T09:49:37.028Z"
   },
   {
    "duration": 386,
    "start_time": "2023-05-04T09:52:49.736Z"
   },
   {
    "duration": 21,
    "start_time": "2023-05-04T09:52:50.218Z"
   },
   {
    "duration": 66,
    "start_time": "2023-05-04T09:55:08.949Z"
   },
   {
    "duration": 77,
    "start_time": "2023-05-04T09:55:12.323Z"
   },
   {
    "duration": 12,
    "start_time": "2023-05-04T10:11:44.308Z"
   },
   {
    "duration": 91,
    "start_time": "2023-05-04T10:15:18.374Z"
   },
   {
    "duration": 70,
    "start_time": "2023-05-04T10:15:33.119Z"
   },
   {
    "duration": 12,
    "start_time": "2023-05-04T10:17:18.236Z"
   },
   {
    "duration": 9,
    "start_time": "2023-05-04T10:17:26.828Z"
   },
   {
    "duration": 8,
    "start_time": "2023-05-04T10:17:33.351Z"
   },
   {
    "duration": 10,
    "start_time": "2023-05-04T10:17:43.274Z"
   },
   {
    "duration": 16,
    "start_time": "2023-05-04T10:17:48.315Z"
   },
   {
    "duration": 12,
    "start_time": "2023-05-04T10:17:51.117Z"
   },
   {
    "duration": 14,
    "start_time": "2023-05-04T10:18:13.618Z"
   },
   {
    "duration": 16,
    "start_time": "2023-05-04T10:18:33.871Z"
   },
   {
    "duration": 11,
    "start_time": "2023-05-04T10:18:42.241Z"
   },
   {
    "duration": 12,
    "start_time": "2023-05-04T10:19:02.521Z"
   },
   {
    "duration": 14,
    "start_time": "2023-05-04T10:20:08.875Z"
   },
   {
    "duration": 22,
    "start_time": "2023-05-04T10:20:13.784Z"
   },
   {
    "duration": 20,
    "start_time": "2023-05-04T10:20:30.304Z"
   },
   {
    "duration": 11,
    "start_time": "2023-05-04T10:20:34.045Z"
   },
   {
    "duration": 539,
    "start_time": "2023-05-04T10:28:54.340Z"
   },
   {
    "duration": 13,
    "start_time": "2023-05-04T10:32:29.069Z"
   },
   {
    "duration": 69,
    "start_time": "2023-05-04T10:33:22.390Z"
   },
   {
    "duration": 61,
    "start_time": "2023-05-04T10:33:53.871Z"
   },
   {
    "duration": 22,
    "start_time": "2023-05-04T10:33:59.522Z"
   },
   {
    "duration": 12,
    "start_time": "2023-05-04T10:36:07.048Z"
   },
   {
    "duration": 237,
    "start_time": "2023-05-04T10:36:55.090Z"
   },
   {
    "duration": 11,
    "start_time": "2023-05-04T10:37:05.320Z"
   },
   {
    "duration": 329,
    "start_time": "2023-05-04T10:37:42.770Z"
   },
   {
    "duration": 331,
    "start_time": "2023-05-04T10:38:00.204Z"
   },
   {
    "duration": 405,
    "start_time": "2023-05-04T10:38:30.777Z"
   },
   {
    "duration": 303,
    "start_time": "2023-05-04T10:38:34.640Z"
   },
   {
    "duration": 302,
    "start_time": "2023-05-04T10:39:21.722Z"
   },
   {
    "duration": 25,
    "start_time": "2023-05-04T11:09:34.820Z"
   },
   {
    "duration": 634,
    "start_time": "2023-05-04T11:09:54.137Z"
   },
   {
    "duration": 10,
    "start_time": "2023-05-04T11:10:02.775Z"
   },
   {
    "duration": 20,
    "start_time": "2023-05-04T11:10:05.301Z"
   },
   {
    "duration": 5,
    "start_time": "2023-05-04T11:10:08.137Z"
   },
   {
    "duration": 6,
    "start_time": "2023-05-04T11:10:11.625Z"
   },
   {
    "duration": 7,
    "start_time": "2023-05-04T11:10:13.636Z"
   },
   {
    "duration": 8,
    "start_time": "2023-05-04T11:10:29.530Z"
   },
   {
    "duration": 14,
    "start_time": "2023-05-04T11:10:32.114Z"
   },
   {
    "duration": 183,
    "start_time": "2023-05-04T11:12:04.872Z"
   },
   {
    "duration": 211,
    "start_time": "2023-05-04T11:12:08.723Z"
   },
   {
    "duration": 233,
    "start_time": "2023-05-04T11:12:27.870Z"
   },
   {
    "duration": 160,
    "start_time": "2023-05-04T11:14:04.725Z"
   },
   {
    "duration": 209,
    "start_time": "2023-05-04T11:14:13.074Z"
   },
   {
    "duration": 15,
    "start_time": "2023-05-04T11:14:32.721Z"
   },
   {
    "duration": 33,
    "start_time": "2023-05-04T11:14:36.518Z"
   },
   {
    "duration": 127,
    "start_time": "2023-05-04T11:14:51.121Z"
   },
   {
    "duration": 325,
    "start_time": "2023-05-04T11:15:15.721Z"
   },
   {
    "duration": 139,
    "start_time": "2023-05-04T11:16:07.928Z"
   },
   {
    "duration": 302,
    "start_time": "2023-05-04T11:16:25.838Z"
   },
   {
    "duration": 36,
    "start_time": "2023-05-04T11:21:22.054Z"
   },
   {
    "duration": 436,
    "start_time": "2023-05-04T11:21:27.916Z"
   },
   {
    "duration": 5,
    "start_time": "2023-05-04T11:21:39.662Z"
   },
   {
    "duration": 627,
    "start_time": "2023-05-04T11:21:39.671Z"
   },
   {
    "duration": 15,
    "start_time": "2023-05-04T11:21:40.302Z"
   },
   {
    "duration": 16,
    "start_time": "2023-05-04T11:21:40.319Z"
   },
   {
    "duration": 5,
    "start_time": "2023-05-04T11:21:40.337Z"
   },
   {
    "duration": 14,
    "start_time": "2023-05-04T11:21:40.344Z"
   },
   {
    "duration": 21,
    "start_time": "2023-05-04T11:21:40.359Z"
   },
   {
    "duration": 30,
    "start_time": "2023-05-04T11:21:40.382Z"
   },
   {
    "duration": 33,
    "start_time": "2023-05-04T11:21:40.414Z"
   },
   {
    "duration": 14,
    "start_time": "2023-05-04T11:21:40.450Z"
   },
   {
    "duration": 40,
    "start_time": "2023-05-04T11:21:40.467Z"
   },
   {
    "duration": 60,
    "start_time": "2023-05-04T11:21:40.511Z"
   },
   {
    "duration": 100,
    "start_time": "2023-05-04T11:21:40.573Z"
   },
   {
    "duration": 31,
    "start_time": "2023-05-04T11:21:40.674Z"
   },
   {
    "duration": 26,
    "start_time": "2023-05-04T11:21:40.708Z"
   },
   {
    "duration": 9,
    "start_time": "2023-05-04T11:21:40.736Z"
   },
   {
    "duration": 11,
    "start_time": "2023-05-04T11:21:40.747Z"
   },
   {
    "duration": 11,
    "start_time": "2023-05-04T11:21:40.759Z"
   },
   {
    "duration": 6,
    "start_time": "2023-05-04T11:21:40.772Z"
   },
   {
    "duration": 9,
    "start_time": "2023-05-04T11:21:40.780Z"
   },
   {
    "duration": 29,
    "start_time": "2023-05-04T11:21:40.793Z"
   },
   {
    "duration": 28,
    "start_time": "2023-05-04T11:21:40.823Z"
   },
   {
    "duration": 5,
    "start_time": "2023-05-04T11:21:40.853Z"
   },
   {
    "duration": 65,
    "start_time": "2023-05-04T11:21:40.859Z"
   },
   {
    "duration": 39,
    "start_time": "2023-05-04T11:21:40.926Z"
   },
   {
    "duration": 191,
    "start_time": "2023-05-04T11:21:40.966Z"
   },
   {
    "duration": 8,
    "start_time": "2023-05-04T11:21:41.158Z"
   },
   {
    "duration": 29,
    "start_time": "2023-05-04T11:21:41.168Z"
   },
   {
    "duration": 9,
    "start_time": "2023-05-04T11:21:41.201Z"
   },
   {
    "duration": 20,
    "start_time": "2023-05-04T11:21:41.212Z"
   },
   {
    "duration": 13,
    "start_time": "2023-05-04T11:21:41.233Z"
   },
   {
    "duration": 12,
    "start_time": "2023-05-04T11:21:41.248Z"
   },
   {
    "duration": 23,
    "start_time": "2023-05-04T11:21:41.262Z"
   },
   {
    "duration": 292,
    "start_time": "2023-05-04T11:21:41.287Z"
   },
   {
    "duration": 36,
    "start_time": "2023-05-04T11:21:41.581Z"
   },
   {
    "duration": 17,
    "start_time": "2023-05-04T11:21:41.619Z"
   },
   {
    "duration": 34,
    "start_time": "2023-05-04T11:21:41.637Z"
   },
   {
    "duration": 294,
    "start_time": "2023-05-04T11:21:41.673Z"
   },
   {
    "duration": 96,
    "start_time": "2023-05-04T11:21:41.969Z"
   },
   {
    "duration": 31,
    "start_time": "2023-05-04T11:21:42.067Z"
   },
   {
    "duration": 312,
    "start_time": "2023-05-04T11:21:42.100Z"
   },
   {
    "duration": 6,
    "start_time": "2023-05-04T11:22:16.722Z"
   },
   {
    "duration": 607,
    "start_time": "2023-05-04T11:22:16.730Z"
   },
   {
    "duration": 16,
    "start_time": "2023-05-04T11:22:17.339Z"
   },
   {
    "duration": 18,
    "start_time": "2023-05-04T11:22:17.357Z"
   },
   {
    "duration": 6,
    "start_time": "2023-05-04T11:22:17.378Z"
   },
   {
    "duration": 34,
    "start_time": "2023-05-04T11:22:17.386Z"
   },
   {
    "duration": 22,
    "start_time": "2023-05-04T11:22:17.424Z"
   },
   {
    "duration": 12,
    "start_time": "2023-05-04T11:22:17.448Z"
   },
   {
    "duration": 33,
    "start_time": "2023-05-04T11:22:17.462Z"
   },
   {
    "duration": 20,
    "start_time": "2023-05-04T11:22:17.496Z"
   },
   {
    "duration": 19,
    "start_time": "2023-05-04T11:22:17.518Z"
   },
   {
    "duration": 110,
    "start_time": "2023-05-04T11:22:17.540Z"
   },
   {
    "duration": 114,
    "start_time": "2023-05-04T11:22:17.652Z"
   },
   {
    "duration": 17,
    "start_time": "2023-05-04T11:22:17.770Z"
   },
   {
    "duration": 47,
    "start_time": "2023-05-04T11:22:17.792Z"
   },
   {
    "duration": 22,
    "start_time": "2023-05-04T11:22:17.841Z"
   },
   {
    "duration": 26,
    "start_time": "2023-05-04T11:22:17.865Z"
   },
   {
    "duration": 30,
    "start_time": "2023-05-04T11:22:17.894Z"
   },
   {
    "duration": 18,
    "start_time": "2023-05-04T11:22:17.927Z"
   },
   {
    "duration": 27,
    "start_time": "2023-05-04T11:22:17.947Z"
   },
   {
    "duration": 20,
    "start_time": "2023-05-04T11:22:17.975Z"
   },
   {
    "duration": 44,
    "start_time": "2023-05-04T11:22:18.004Z"
   },
   {
    "duration": 6,
    "start_time": "2023-05-04T11:22:18.050Z"
   },
   {
    "duration": 40,
    "start_time": "2023-05-04T11:22:18.058Z"
   },
   {
    "duration": 47,
    "start_time": "2023-05-04T11:22:18.099Z"
   },
   {
    "duration": 223,
    "start_time": "2023-05-04T11:22:18.147Z"
   },
   {
    "duration": 8,
    "start_time": "2023-05-04T11:22:18.372Z"
   },
   {
    "duration": 31,
    "start_time": "2023-05-04T11:22:18.392Z"
   },
   {
    "duration": 18,
    "start_time": "2023-05-04T11:22:18.425Z"
   },
   {
    "duration": 9,
    "start_time": "2023-05-04T11:22:18.450Z"
   },
   {
    "duration": 13,
    "start_time": "2023-05-04T11:22:18.461Z"
   },
   {
    "duration": 25,
    "start_time": "2023-05-04T11:22:18.476Z"
   },
   {
    "duration": 23,
    "start_time": "2023-05-04T11:22:18.514Z"
   },
   {
    "duration": 407,
    "start_time": "2023-05-04T11:22:18.539Z"
   },
   {
    "duration": 19,
    "start_time": "2023-05-04T11:22:18.948Z"
   },
   {
    "duration": 32,
    "start_time": "2023-05-04T11:22:18.969Z"
   },
   {
    "duration": 73,
    "start_time": "2023-05-04T11:22:19.002Z"
   },
   {
    "duration": 431,
    "start_time": "2023-05-04T11:22:19.077Z"
   },
   {
    "duration": 152,
    "start_time": "2023-05-04T11:22:19.510Z"
   },
   {
    "duration": 38,
    "start_time": "2023-05-04T11:22:19.664Z"
   },
   {
    "duration": 338,
    "start_time": "2023-05-04T11:22:19.709Z"
   },
   {
    "duration": 26,
    "start_time": "2023-05-04T11:23:24.716Z"
   },
   {
    "duration": 315,
    "start_time": "2023-05-04T11:23:25.285Z"
   },
   {
    "duration": 186,
    "start_time": "2023-05-04T11:24:31.772Z"
   },
   {
    "duration": 165,
    "start_time": "2023-05-04T11:24:37.422Z"
   },
   {
    "duration": 19,
    "start_time": "2023-05-04T11:27:08.325Z"
   },
   {
    "duration": 10,
    "start_time": "2023-05-04T11:27:21.135Z"
   },
   {
    "duration": 12,
    "start_time": "2023-05-04T11:27:53.118Z"
   },
   {
    "duration": 121,
    "start_time": "2023-05-04T11:36:42.189Z"
   },
   {
    "duration": 9,
    "start_time": "2023-05-04T11:36:48.841Z"
   },
   {
    "duration": 10,
    "start_time": "2023-05-04T11:37:13.317Z"
   },
   {
    "duration": 21,
    "start_time": "2023-05-04T11:37:23.188Z"
   },
   {
    "duration": 8,
    "start_time": "2023-05-04T11:37:29.452Z"
   },
   {
    "duration": 8,
    "start_time": "2023-05-04T11:38:49.526Z"
   },
   {
    "duration": 14,
    "start_time": "2023-05-04T11:39:02.123Z"
   },
   {
    "duration": 36,
    "start_time": "2023-05-04T11:44:30.180Z"
   },
   {
    "duration": 32,
    "start_time": "2023-05-04T11:44:57.654Z"
   },
   {
    "duration": 12,
    "start_time": "2023-05-04T11:45:12.625Z"
   },
   {
    "duration": 9,
    "start_time": "2023-05-04T11:45:21.544Z"
   },
   {
    "duration": 130,
    "start_time": "2023-05-04T11:47:11.010Z"
   },
   {
    "duration": 14,
    "start_time": "2023-05-04T11:48:19.220Z"
   },
   {
    "duration": 12,
    "start_time": "2023-05-04T11:48:31.086Z"
   },
   {
    "duration": 367,
    "start_time": "2023-05-04T11:52:10.816Z"
   },
   {
    "duration": 25,
    "start_time": "2023-05-04T11:58:13.815Z"
   },
   {
    "duration": 18,
    "start_time": "2023-05-04T11:58:20.754Z"
   },
   {
    "duration": 19,
    "start_time": "2023-05-04T12:00:10.942Z"
   },
   {
    "duration": 18,
    "start_time": "2023-05-04T12:02:11.148Z"
   },
   {
    "duration": 68,
    "start_time": "2023-05-04T12:02:58.584Z"
   },
   {
    "duration": 31,
    "start_time": "2023-05-04T12:04:44.334Z"
   },
   {
    "duration": 87,
    "start_time": "2023-05-04T12:04:44.836Z"
   },
   {
    "duration": 80,
    "start_time": "2023-05-04T12:04:54.254Z"
   },
   {
    "duration": 26,
    "start_time": "2023-05-04T12:05:55.406Z"
   },
   {
    "duration": 22,
    "start_time": "2023-05-04T12:05:55.813Z"
   },
   {
    "duration": 16,
    "start_time": "2023-05-04T12:35:56.743Z"
   },
   {
    "duration": 5,
    "start_time": "2023-05-04T12:46:47.870Z"
   },
   {
    "duration": 9,
    "start_time": "2023-05-04T12:46:50.876Z"
   },
   {
    "duration": 13,
    "start_time": "2023-05-04T12:47:52.198Z"
   },
   {
    "duration": 38,
    "start_time": "2023-05-04T12:49:55.391Z"
   },
   {
    "duration": 18,
    "start_time": "2023-05-04T12:50:27.739Z"
   },
   {
    "duration": 16,
    "start_time": "2023-05-04T13:03:02.356Z"
   },
   {
    "duration": 261,
    "start_time": "2023-05-04T13:04:04.866Z"
   },
   {
    "duration": 304,
    "start_time": "2023-05-04T13:04:13.648Z"
   },
   {
    "duration": 321,
    "start_time": "2023-05-04T13:05:23.774Z"
   },
   {
    "duration": 6,
    "start_time": "2023-05-04T13:05:45.312Z"
   },
   {
    "duration": 338,
    "start_time": "2023-05-04T13:05:50.243Z"
   },
   {
    "duration": 521,
    "start_time": "2023-05-04T13:06:04.121Z"
   },
   {
    "duration": 371,
    "start_time": "2023-05-04T13:06:25.778Z"
   },
   {
    "duration": 301,
    "start_time": "2023-05-04T13:07:04.630Z"
   },
   {
    "duration": 379,
    "start_time": "2023-05-04T13:07:57.634Z"
   },
   {
    "duration": 13,
    "start_time": "2023-05-04T13:11:05.482Z"
   },
   {
    "duration": 12,
    "start_time": "2023-05-04T13:11:16.920Z"
   },
   {
    "duration": 8,
    "start_time": "2023-05-04T13:11:30.764Z"
   },
   {
    "duration": 361,
    "start_time": "2023-05-04T13:11:54.960Z"
   },
   {
    "duration": 9,
    "start_time": "2023-05-04T13:28:09.725Z"
   },
   {
    "duration": 8,
    "start_time": "2023-05-04T13:28:24.423Z"
   },
   {
    "duration": 5,
    "start_time": "2023-05-04T13:28:29.176Z"
   },
   {
    "duration": 36,
    "start_time": "2023-05-04T13:40:44.618Z"
   },
   {
    "duration": 16,
    "start_time": "2023-05-04T13:41:42.813Z"
   },
   {
    "duration": 21,
    "start_time": "2023-05-04T13:41:47.781Z"
   },
   {
    "duration": 29,
    "start_time": "2023-05-04T13:42:19.189Z"
   },
   {
    "duration": 17,
    "start_time": "2023-05-04T13:42:35.813Z"
   },
   {
    "duration": 19,
    "start_time": "2023-05-04T13:42:46.036Z"
   },
   {
    "duration": 31,
    "start_time": "2023-05-04T13:52:37.213Z"
   },
   {
    "duration": 28,
    "start_time": "2023-05-04T13:52:45.813Z"
   },
   {
    "duration": 16,
    "start_time": "2023-05-04T13:53:09.353Z"
   },
   {
    "duration": 28,
    "start_time": "2023-05-04T13:53:17.160Z"
   },
   {
    "duration": 23,
    "start_time": "2023-05-04T13:53:45.312Z"
   },
   {
    "duration": 5,
    "start_time": "2023-05-04T13:53:49.222Z"
   },
   {
    "duration": 210,
    "start_time": "2023-05-04T13:54:18.308Z"
   },
   {
    "duration": 45,
    "start_time": "2023-05-04T13:54:58.358Z"
   },
   {
    "duration": 66,
    "start_time": "2023-05-04T13:55:11.082Z"
   },
   {
    "duration": 23,
    "start_time": "2023-05-04T13:55:22.306Z"
   },
   {
    "duration": 16,
    "start_time": "2023-05-04T13:55:26.740Z"
   },
   {
    "duration": 27,
    "start_time": "2023-05-04T13:55:30.788Z"
   },
   {
    "duration": 13,
    "start_time": "2023-05-04T13:55:45.465Z"
   },
   {
    "duration": 18,
    "start_time": "2023-05-04T13:56:01.783Z"
   },
   {
    "duration": 17,
    "start_time": "2023-05-04T13:56:07.237Z"
   },
   {
    "duration": 11,
    "start_time": "2023-05-04T13:56:13.049Z"
   },
   {
    "duration": 23,
    "start_time": "2023-05-04T13:59:16.888Z"
   },
   {
    "duration": 39,
    "start_time": "2023-05-04T13:59:47.867Z"
   },
   {
    "duration": 30,
    "start_time": "2023-05-04T13:59:56.089Z"
   },
   {
    "duration": 18,
    "start_time": "2023-05-04T14:00:15.185Z"
   },
   {
    "duration": 79,
    "start_time": "2023-05-04T14:01:55.200Z"
   },
   {
    "duration": 17,
    "start_time": "2023-05-04T14:07:25.454Z"
   },
   {
    "duration": 23,
    "start_time": "2023-05-04T14:08:51.010Z"
   },
   {
    "duration": 100,
    "start_time": "2023-05-04T14:09:09.562Z"
   },
   {
    "duration": 93,
    "start_time": "2023-05-04T14:09:12.644Z"
   },
   {
    "duration": 13,
    "start_time": "2023-05-04T14:09:36.574Z"
   },
   {
    "duration": 20,
    "start_time": "2023-05-04T14:11:31.743Z"
   },
   {
    "duration": 17,
    "start_time": "2023-05-04T14:12:00.046Z"
   },
   {
    "duration": 24,
    "start_time": "2023-05-04T14:12:35.079Z"
   },
   {
    "duration": 20,
    "start_time": "2023-05-04T14:12:54.803Z"
   },
   {
    "duration": 24,
    "start_time": "2023-05-04T14:17:45.537Z"
   },
   {
    "duration": 21,
    "start_time": "2023-05-04T14:18:13.008Z"
   },
   {
    "duration": 23,
    "start_time": "2023-05-04T14:18:47.931Z"
   },
   {
    "duration": 20,
    "start_time": "2023-05-04T14:18:53.444Z"
   },
   {
    "duration": 10,
    "start_time": "2023-05-04T14:19:52.524Z"
   },
   {
    "duration": 16,
    "start_time": "2023-05-04T14:19:59.113Z"
   },
   {
    "duration": 6,
    "start_time": "2023-05-04T14:21:19.631Z"
   },
   {
    "duration": 23,
    "start_time": "2023-05-04T14:21:30.336Z"
   },
   {
    "duration": 128,
    "start_time": "2023-05-04T14:23:46.448Z"
   },
   {
    "duration": 129,
    "start_time": "2023-05-04T14:23:52.981Z"
   },
   {
    "duration": 33,
    "start_time": "2023-05-04T14:26:31.786Z"
   },
   {
    "duration": 75,
    "start_time": "2023-05-04T14:28:35.120Z"
   },
   {
    "duration": 112,
    "start_time": "2023-05-04T14:29:18.409Z"
   },
   {
    "duration": 111,
    "start_time": "2023-05-04T14:29:27.564Z"
   },
   {
    "duration": 116,
    "start_time": "2023-05-04T14:31:53.520Z"
   },
   {
    "duration": 8,
    "start_time": "2023-05-04T15:41:56.693Z"
   },
   {
    "duration": 584,
    "start_time": "2023-05-04T15:41:56.703Z"
   },
   {
    "duration": 10,
    "start_time": "2023-05-04T15:41:57.289Z"
   },
   {
    "duration": 13,
    "start_time": "2023-05-04T15:41:57.301Z"
   },
   {
    "duration": 9,
    "start_time": "2023-05-04T15:41:57.317Z"
   },
   {
    "duration": 14,
    "start_time": "2023-05-04T15:41:57.329Z"
   },
   {
    "duration": 51,
    "start_time": "2023-05-04T15:41:57.345Z"
   },
   {
    "duration": 170,
    "start_time": "2023-05-04T15:41:57.399Z"
   },
   {
    "duration": 23,
    "start_time": "2023-05-04T15:41:57.571Z"
   },
   {
    "duration": 12,
    "start_time": "2023-05-04T15:41:57.598Z"
   },
   {
    "duration": 19,
    "start_time": "2023-05-04T15:41:57.613Z"
   },
   {
    "duration": 93,
    "start_time": "2023-05-04T15:41:57.634Z"
   },
   {
    "duration": 137,
    "start_time": "2023-05-04T15:41:57.729Z"
   },
   {
    "duration": 23,
    "start_time": "2023-05-04T15:41:57.872Z"
   },
   {
    "duration": 19,
    "start_time": "2023-05-04T15:41:57.898Z"
   },
   {
    "duration": 9,
    "start_time": "2023-05-04T15:41:57.920Z"
   },
   {
    "duration": 20,
    "start_time": "2023-05-04T15:41:57.931Z"
   },
   {
    "duration": 16,
    "start_time": "2023-05-04T15:41:57.954Z"
   },
   {
    "duration": 24,
    "start_time": "2023-05-04T15:41:57.972Z"
   },
   {
    "duration": 17,
    "start_time": "2023-05-04T15:41:57.998Z"
   },
   {
    "duration": 20,
    "start_time": "2023-05-04T15:41:58.018Z"
   },
   {
    "duration": 59,
    "start_time": "2023-05-04T15:41:58.041Z"
   },
   {
    "duration": 7,
    "start_time": "2023-05-04T15:41:58.103Z"
   },
   {
    "duration": 52,
    "start_time": "2023-05-04T15:41:58.112Z"
   },
   {
    "duration": 65,
    "start_time": "2023-05-04T15:41:58.165Z"
   },
   {
    "duration": 222,
    "start_time": "2023-05-04T15:41:58.232Z"
   },
   {
    "duration": 16,
    "start_time": "2023-05-04T15:41:58.456Z"
   },
   {
    "duration": 20,
    "start_time": "2023-05-04T15:41:58.477Z"
   },
   {
    "duration": 5,
    "start_time": "2023-05-04T15:41:58.499Z"
   },
   {
    "duration": 23,
    "start_time": "2023-05-04T15:41:58.506Z"
   },
   {
    "duration": 19,
    "start_time": "2023-05-04T15:41:58.531Z"
   },
   {
    "duration": 433,
    "start_time": "2023-05-04T15:41:58.552Z"
   },
   {
    "duration": 26,
    "start_time": "2023-05-04T15:41:58.991Z"
   },
   {
    "duration": 15,
    "start_time": "2023-05-04T15:41:59.019Z"
   },
   {
    "duration": 76,
    "start_time": "2023-05-04T15:41:59.036Z"
   },
   {
    "duration": 423,
    "start_time": "2023-05-04T15:41:59.114Z"
   },
   {
    "duration": 220,
    "start_time": "2023-05-04T15:41:59.539Z"
   },
   {
    "duration": 31,
    "start_time": "2023-05-04T15:41:59.761Z"
   },
   {
    "duration": 301,
    "start_time": "2023-05-04T15:41:59.794Z"
   },
   {
    "duration": 15,
    "start_time": "2023-05-04T15:42:00.097Z"
   },
   {
    "duration": 20,
    "start_time": "2023-05-04T15:42:00.115Z"
   },
   {
    "duration": 8,
    "start_time": "2023-05-04T15:42:00.137Z"
   },
   {
    "duration": 37,
    "start_time": "2023-05-04T15:42:00.147Z"
   },
   {
    "duration": 27,
    "start_time": "2023-05-04T15:42:00.192Z"
   },
   {
    "duration": 72,
    "start_time": "2023-05-04T15:42:00.221Z"
   },
   {
    "duration": 12,
    "start_time": "2023-05-04T15:42:00.296Z"
   },
   {
    "duration": 21,
    "start_time": "2023-05-04T15:42:00.310Z"
   },
   {
    "duration": 10,
    "start_time": "2023-05-04T15:42:00.333Z"
   },
   {
    "duration": 7,
    "start_time": "2023-05-04T15:42:00.345Z"
   },
   {
    "duration": 368,
    "start_time": "2023-05-04T15:42:00.354Z"
   },
   {
    "duration": 28,
    "start_time": "2023-05-04T15:42:00.725Z"
   },
   {
    "duration": 38,
    "start_time": "2023-05-04T15:42:00.755Z"
   },
   {
    "duration": 78,
    "start_time": "2023-05-04T15:42:00.795Z"
   },
   {
    "duration": 0,
    "start_time": "2023-05-04T15:42:00.875Z"
   },
   {
    "duration": 0,
    "start_time": "2023-05-04T15:42:00.877Z"
   },
   {
    "duration": 0,
    "start_time": "2023-05-04T15:42:00.878Z"
   },
   {
    "duration": 0,
    "start_time": "2023-05-04T15:42:00.880Z"
   },
   {
    "duration": 26,
    "start_time": "2023-05-04T15:44:44.898Z"
   },
   {
    "duration": 18,
    "start_time": "2023-05-04T15:45:06.252Z"
   },
   {
    "duration": 25,
    "start_time": "2023-05-04T15:45:11.314Z"
   },
   {
    "duration": 24,
    "start_time": "2023-05-04T15:46:04.188Z"
   },
   {
    "duration": 19,
    "start_time": "2023-05-04T15:46:11.680Z"
   },
   {
    "duration": 29,
    "start_time": "2023-05-04T15:46:27.178Z"
   },
   {
    "duration": 24,
    "start_time": "2023-05-04T15:46:30.666Z"
   },
   {
    "duration": 25,
    "start_time": "2023-05-04T15:46:42.335Z"
   },
   {
    "duration": 24,
    "start_time": "2023-05-04T15:48:01.004Z"
   },
   {
    "duration": 9,
    "start_time": "2023-05-04T15:48:07.391Z"
   },
   {
    "duration": 995,
    "start_time": "2023-05-04T15:48:07.403Z"
   },
   {
    "duration": 14,
    "start_time": "2023-05-04T15:48:08.401Z"
   },
   {
    "duration": 30,
    "start_time": "2023-05-04T15:48:08.422Z"
   },
   {
    "duration": 23,
    "start_time": "2023-05-04T15:48:08.459Z"
   },
   {
    "duration": 34,
    "start_time": "2023-05-04T15:48:08.487Z"
   },
   {
    "duration": 29,
    "start_time": "2023-05-04T15:48:08.523Z"
   },
   {
    "duration": 20,
    "start_time": "2023-05-04T15:48:08.555Z"
   },
   {
    "duration": 65,
    "start_time": "2023-05-04T15:48:08.577Z"
   },
   {
    "duration": 19,
    "start_time": "2023-05-04T15:48:08.647Z"
   },
   {
    "duration": 36,
    "start_time": "2023-05-04T15:48:08.669Z"
   },
   {
    "duration": 106,
    "start_time": "2023-05-04T15:48:08.708Z"
   },
   {
    "duration": 146,
    "start_time": "2023-05-04T15:48:08.816Z"
   },
   {
    "duration": 18,
    "start_time": "2023-05-04T15:48:08.964Z"
   },
   {
    "duration": 20,
    "start_time": "2023-05-04T15:48:08.993Z"
   },
   {
    "duration": 35,
    "start_time": "2023-05-04T15:48:09.015Z"
   },
   {
    "duration": 23,
    "start_time": "2023-05-04T15:48:09.053Z"
   },
   {
    "duration": 30,
    "start_time": "2023-05-04T15:48:09.078Z"
   },
   {
    "duration": 30,
    "start_time": "2023-05-04T15:48:09.110Z"
   },
   {
    "duration": 12,
    "start_time": "2023-05-04T15:48:09.142Z"
   },
   {
    "duration": 30,
    "start_time": "2023-05-04T15:48:09.156Z"
   },
   {
    "duration": 52,
    "start_time": "2023-05-04T15:48:09.188Z"
   },
   {
    "duration": 6,
    "start_time": "2023-05-04T15:48:09.242Z"
   },
   {
    "duration": 65,
    "start_time": "2023-05-04T15:48:09.251Z"
   },
   {
    "duration": 80,
    "start_time": "2023-05-04T15:48:09.318Z"
   },
   {
    "duration": 269,
    "start_time": "2023-05-04T15:48:09.400Z"
   },
   {
    "duration": 9,
    "start_time": "2023-05-04T15:48:09.671Z"
   },
   {
    "duration": 17,
    "start_time": "2023-05-04T15:48:09.695Z"
   },
   {
    "duration": 21,
    "start_time": "2023-05-04T15:48:09.714Z"
   },
   {
    "duration": 11,
    "start_time": "2023-05-04T15:48:09.738Z"
   },
   {
    "duration": 10,
    "start_time": "2023-05-04T15:48:09.752Z"
   },
   {
    "duration": 612,
    "start_time": "2023-05-04T15:48:09.765Z"
   },
   {
    "duration": 36,
    "start_time": "2023-05-04T15:48:10.379Z"
   },
   {
    "duration": 26,
    "start_time": "2023-05-04T15:48:10.419Z"
   },
   {
    "duration": 57,
    "start_time": "2023-05-04T15:48:10.448Z"
   },
   {
    "duration": 387,
    "start_time": "2023-05-04T15:48:10.507Z"
   },
   {
    "duration": 165,
    "start_time": "2023-05-04T15:48:10.896Z"
   },
   {
    "duration": 36,
    "start_time": "2023-05-04T15:48:11.064Z"
   },
   {
    "duration": 372,
    "start_time": "2023-05-04T15:48:11.102Z"
   },
   {
    "duration": 31,
    "start_time": "2023-05-04T15:48:11.476Z"
   },
   {
    "duration": 25,
    "start_time": "2023-05-04T15:48:11.509Z"
   },
   {
    "duration": 13,
    "start_time": "2023-05-04T15:48:11.537Z"
   },
   {
    "duration": 52,
    "start_time": "2023-05-04T15:48:11.553Z"
   },
   {
    "duration": 29,
    "start_time": "2023-05-04T15:48:11.608Z"
   },
   {
    "duration": 96,
    "start_time": "2023-05-04T15:48:11.640Z"
   },
   {
    "duration": 14,
    "start_time": "2023-05-04T15:48:11.739Z"
   },
   {
    "duration": 18,
    "start_time": "2023-05-04T15:48:11.756Z"
   },
   {
    "duration": 23,
    "start_time": "2023-05-04T15:48:11.776Z"
   },
   {
    "duration": 14,
    "start_time": "2023-05-04T15:48:11.801Z"
   },
   {
    "duration": 360,
    "start_time": "2023-05-04T15:48:11.819Z"
   },
   {
    "duration": 45,
    "start_time": "2023-05-04T15:48:12.181Z"
   },
   {
    "duration": 21,
    "start_time": "2023-05-04T15:48:12.231Z"
   },
   {
    "duration": 21,
    "start_time": "2023-05-04T15:48:12.254Z"
   },
   {
    "duration": 29,
    "start_time": "2023-05-04T15:48:12.293Z"
   },
   {
    "duration": 28,
    "start_time": "2023-05-04T15:48:12.325Z"
   },
   {
    "duration": 43,
    "start_time": "2023-05-04T15:48:12.356Z"
   },
   {
    "duration": 20,
    "start_time": "2023-05-04T15:48:12.401Z"
   },
   {
    "duration": 22,
    "start_time": "2023-05-04T15:50:49.641Z"
   },
   {
    "duration": 17,
    "start_time": "2023-05-04T15:50:50.324Z"
   },
   {
    "duration": 1388,
    "start_time": "2023-05-04T15:52:46.874Z"
   },
   {
    "duration": 744,
    "start_time": "2023-05-04T15:52:48.264Z"
   },
   {
    "duration": 15,
    "start_time": "2023-05-04T15:52:49.010Z"
   },
   {
    "duration": 29,
    "start_time": "2023-05-04T15:52:49.027Z"
   },
   {
    "duration": 26,
    "start_time": "2023-05-04T15:52:49.060Z"
   },
   {
    "duration": 38,
    "start_time": "2023-05-04T15:52:49.088Z"
   },
   {
    "duration": 45,
    "start_time": "2023-05-04T15:52:49.128Z"
   },
   {
    "duration": 19,
    "start_time": "2023-05-04T15:52:49.176Z"
   },
   {
    "duration": 47,
    "start_time": "2023-05-04T15:52:49.197Z"
   },
   {
    "duration": 14,
    "start_time": "2023-05-04T15:52:49.246Z"
   },
   {
    "duration": 23,
    "start_time": "2023-05-04T15:52:49.261Z"
   },
   {
    "duration": 106,
    "start_time": "2023-05-04T15:52:49.286Z"
   },
   {
    "duration": 125,
    "start_time": "2023-05-04T15:52:49.394Z"
   },
   {
    "duration": 13,
    "start_time": "2023-05-04T15:52:49.522Z"
   },
   {
    "duration": 19,
    "start_time": "2023-05-04T15:52:49.536Z"
   },
   {
    "duration": 25,
    "start_time": "2023-05-04T15:52:49.558Z"
   },
   {
    "duration": 40,
    "start_time": "2023-05-04T15:52:49.592Z"
   },
   {
    "duration": 24,
    "start_time": "2023-05-04T15:52:49.635Z"
   },
   {
    "duration": 37,
    "start_time": "2023-05-04T15:52:49.661Z"
   },
   {
    "duration": 22,
    "start_time": "2023-05-04T15:52:49.701Z"
   },
   {
    "duration": 41,
    "start_time": "2023-05-04T15:52:49.725Z"
   },
   {
    "duration": 37,
    "start_time": "2023-05-04T15:52:49.768Z"
   },
   {
    "duration": 6,
    "start_time": "2023-05-04T15:52:49.806Z"
   },
   {
    "duration": 73,
    "start_time": "2023-05-04T15:52:49.815Z"
   },
   {
    "duration": 71,
    "start_time": "2023-05-04T15:52:49.890Z"
   },
   {
    "duration": 263,
    "start_time": "2023-05-04T15:52:49.963Z"
   },
   {
    "duration": 10,
    "start_time": "2023-05-04T15:52:50.228Z"
   },
   {
    "duration": 17,
    "start_time": "2023-05-04T15:52:50.240Z"
   },
   {
    "duration": 33,
    "start_time": "2023-05-04T15:52:50.259Z"
   },
   {
    "duration": 11,
    "start_time": "2023-05-04T15:52:50.294Z"
   },
   {
    "duration": 19,
    "start_time": "2023-05-04T15:52:50.307Z"
   },
   {
    "duration": 545,
    "start_time": "2023-05-04T15:52:50.329Z"
   },
   {
    "duration": 29,
    "start_time": "2023-05-04T15:52:50.876Z"
   },
   {
    "duration": 29,
    "start_time": "2023-05-04T15:52:50.907Z"
   },
   {
    "duration": 69,
    "start_time": "2023-05-04T15:52:50.938Z"
   },
   {
    "duration": 338,
    "start_time": "2023-05-04T15:52:51.009Z"
   },
   {
    "duration": 164,
    "start_time": "2023-05-04T15:52:51.349Z"
   },
   {
    "duration": 20,
    "start_time": "2023-05-04T15:52:51.515Z"
   },
   {
    "duration": 393,
    "start_time": "2023-05-04T15:52:51.537Z"
   },
   {
    "duration": 17,
    "start_time": "2023-05-04T15:52:51.932Z"
   },
   {
    "duration": 42,
    "start_time": "2023-05-04T15:52:51.955Z"
   },
   {
    "duration": 12,
    "start_time": "2023-05-04T15:52:52.000Z"
   },
   {
    "duration": 21,
    "start_time": "2023-05-04T15:52:52.014Z"
   },
   {
    "duration": 20,
    "start_time": "2023-05-04T15:52:52.039Z"
   },
   {
    "duration": 76,
    "start_time": "2023-05-04T15:52:52.061Z"
   },
   {
    "duration": 9,
    "start_time": "2023-05-04T15:52:52.139Z"
   },
   {
    "duration": 54,
    "start_time": "2023-05-04T15:52:52.150Z"
   },
   {
    "duration": 12,
    "start_time": "2023-05-04T15:52:52.207Z"
   },
   {
    "duration": 23,
    "start_time": "2023-05-04T15:52:52.221Z"
   },
   {
    "duration": 364,
    "start_time": "2023-05-04T15:52:52.246Z"
   },
   {
    "duration": 24,
    "start_time": "2023-05-04T15:52:52.612Z"
   },
   {
    "duration": 22,
    "start_time": "2023-05-04T15:52:52.638Z"
   },
   {
    "duration": 220,
    "start_time": "2023-05-04T15:52:52.662Z"
   },
   {
    "duration": 21,
    "start_time": "2023-05-04T15:52:52.884Z"
   },
   {
    "duration": 15,
    "start_time": "2023-05-04T15:52:52.907Z"
   },
   {
    "duration": 27,
    "start_time": "2023-05-04T15:55:09.650Z"
   },
   {
    "duration": 19,
    "start_time": "2023-05-04T15:55:11.600Z"
   },
   {
    "duration": 16,
    "start_time": "2023-05-04T15:55:12.181Z"
   },
   {
    "duration": 173,
    "start_time": "2023-05-04T16:03:21.448Z"
   },
   {
    "duration": 491,
    "start_time": "2023-05-04T16:04:07.744Z"
   },
   {
    "duration": 405,
    "start_time": "2023-05-04T16:04:14.510Z"
   },
   {
    "duration": 18,
    "start_time": "2023-05-04T16:04:15.310Z"
   },
   {
    "duration": 158,
    "start_time": "2023-05-04T16:04:19.559Z"
   },
   {
    "duration": 168,
    "start_time": "2023-05-04T16:04:32.809Z"
   },
   {
    "duration": 185,
    "start_time": "2023-05-04T16:04:40.791Z"
   },
   {
    "duration": 450,
    "start_time": "2023-05-04T16:16:28.675Z"
   },
   {
    "duration": 9,
    "start_time": "2023-05-04T16:17:03.304Z"
   },
   {
    "duration": 672,
    "start_time": "2023-05-04T16:17:03.315Z"
   },
   {
    "duration": 13,
    "start_time": "2023-05-04T16:17:03.989Z"
   },
   {
    "duration": 18,
    "start_time": "2023-05-04T16:17:04.004Z"
   },
   {
    "duration": 10,
    "start_time": "2023-05-04T16:17:04.023Z"
   },
   {
    "duration": 12,
    "start_time": "2023-05-04T16:17:04.035Z"
   },
   {
    "duration": 127,
    "start_time": "2023-05-04T16:17:04.049Z"
   },
   {
    "duration": 30,
    "start_time": "2023-05-04T16:17:04.178Z"
   },
   {
    "duration": 23,
    "start_time": "2023-05-04T16:17:04.213Z"
   },
   {
    "duration": 12,
    "start_time": "2023-05-04T16:17:04.237Z"
   },
   {
    "duration": 12,
    "start_time": "2023-05-04T16:17:04.251Z"
   },
   {
    "duration": 86,
    "start_time": "2023-05-04T16:17:04.265Z"
   },
   {
    "duration": 107,
    "start_time": "2023-05-04T16:17:04.353Z"
   },
   {
    "duration": 9,
    "start_time": "2023-05-04T16:17:04.463Z"
   },
   {
    "duration": 28,
    "start_time": "2023-05-04T16:17:04.474Z"
   },
   {
    "duration": 22,
    "start_time": "2023-05-04T16:17:04.504Z"
   },
   {
    "duration": 20,
    "start_time": "2023-05-04T16:17:04.528Z"
   },
   {
    "duration": 8,
    "start_time": "2023-05-04T16:17:04.549Z"
   },
   {
    "duration": 8,
    "start_time": "2023-05-04T16:17:04.559Z"
   },
   {
    "duration": 9,
    "start_time": "2023-05-04T16:17:04.569Z"
   },
   {
    "duration": 23,
    "start_time": "2023-05-04T16:17:04.579Z"
   },
   {
    "duration": 35,
    "start_time": "2023-05-04T16:17:04.604Z"
   },
   {
    "duration": 6,
    "start_time": "2023-05-04T16:17:04.641Z"
   },
   {
    "duration": 91,
    "start_time": "2023-05-04T16:17:04.650Z"
   },
   {
    "duration": 65,
    "start_time": "2023-05-04T16:17:04.743Z"
   },
   {
    "duration": 194,
    "start_time": "2023-05-04T16:17:04.814Z"
   },
   {
    "duration": 8,
    "start_time": "2023-05-04T16:17:05.010Z"
   },
   {
    "duration": 10,
    "start_time": "2023-05-04T16:17:05.020Z"
   },
   {
    "duration": 12,
    "start_time": "2023-05-04T16:17:05.032Z"
   },
   {
    "duration": 12,
    "start_time": "2023-05-04T16:17:05.046Z"
   },
   {
    "duration": 8,
    "start_time": "2023-05-04T16:17:05.060Z"
   },
   {
    "duration": 386,
    "start_time": "2023-05-04T16:17:05.099Z"
   },
   {
    "duration": 1434,
    "start_time": "2023-05-04T16:17:05.487Z"
   },
   {
    "duration": 0,
    "start_time": "2023-05-04T16:17:06.923Z"
   },
   {
    "duration": 0,
    "start_time": "2023-05-04T16:17:06.924Z"
   },
   {
    "duration": 0,
    "start_time": "2023-05-04T16:17:06.925Z"
   },
   {
    "duration": 0,
    "start_time": "2023-05-04T16:17:06.926Z"
   },
   {
    "duration": 0,
    "start_time": "2023-05-04T16:17:06.928Z"
   },
   {
    "duration": 0,
    "start_time": "2023-05-04T16:17:06.929Z"
   },
   {
    "duration": 0,
    "start_time": "2023-05-04T16:17:06.931Z"
   },
   {
    "duration": 0,
    "start_time": "2023-05-04T16:17:06.932Z"
   },
   {
    "duration": 0,
    "start_time": "2023-05-04T16:17:06.934Z"
   },
   {
    "duration": 0,
    "start_time": "2023-05-04T16:17:06.935Z"
   },
   {
    "duration": 0,
    "start_time": "2023-05-04T16:17:06.936Z"
   },
   {
    "duration": 0,
    "start_time": "2023-05-04T16:17:06.937Z"
   },
   {
    "duration": 0,
    "start_time": "2023-05-04T16:17:06.938Z"
   },
   {
    "duration": 0,
    "start_time": "2023-05-04T16:17:06.940Z"
   },
   {
    "duration": 0,
    "start_time": "2023-05-04T16:17:06.941Z"
   },
   {
    "duration": 0,
    "start_time": "2023-05-04T16:17:06.942Z"
   },
   {
    "duration": 0,
    "start_time": "2023-05-04T16:17:06.943Z"
   },
   {
    "duration": 0,
    "start_time": "2023-05-04T16:17:06.944Z"
   },
   {
    "duration": 0,
    "start_time": "2023-05-04T16:17:06.945Z"
   },
   {
    "duration": 0,
    "start_time": "2023-05-04T16:17:06.945Z"
   },
   {
    "duration": 0,
    "start_time": "2023-05-04T16:17:06.947Z"
   },
   {
    "duration": 0,
    "start_time": "2023-05-04T16:17:06.949Z"
   },
   {
    "duration": 0,
    "start_time": "2023-05-04T16:17:06.950Z"
   },
   {
    "duration": 1,
    "start_time": "2023-05-04T16:17:06.951Z"
   },
   {
    "duration": 0,
    "start_time": "2023-05-04T16:17:06.953Z"
   },
   {
    "duration": 7,
    "start_time": "2023-05-04T16:17:33.576Z"
   },
   {
    "duration": 641,
    "start_time": "2023-05-04T16:17:33.585Z"
   },
   {
    "duration": 10,
    "start_time": "2023-05-04T16:17:34.228Z"
   },
   {
    "duration": 10,
    "start_time": "2023-05-04T16:17:34.240Z"
   },
   {
    "duration": 7,
    "start_time": "2023-05-04T16:17:34.253Z"
   },
   {
    "duration": 13,
    "start_time": "2023-05-04T16:17:34.261Z"
   },
   {
    "duration": 36,
    "start_time": "2023-05-04T16:17:34.276Z"
   },
   {
    "duration": 16,
    "start_time": "2023-05-04T16:17:34.314Z"
   },
   {
    "duration": 28,
    "start_time": "2023-05-04T16:17:34.332Z"
   },
   {
    "duration": 44,
    "start_time": "2023-05-04T16:17:34.362Z"
   },
   {
    "duration": 10,
    "start_time": "2023-05-04T16:17:34.412Z"
   },
   {
    "duration": 105,
    "start_time": "2023-05-04T16:17:34.424Z"
   },
   {
    "duration": 112,
    "start_time": "2023-05-04T16:17:34.531Z"
   },
   {
    "duration": 11,
    "start_time": "2023-05-04T16:17:34.647Z"
   },
   {
    "duration": 43,
    "start_time": "2023-05-04T16:17:34.660Z"
   },
   {
    "duration": 8,
    "start_time": "2023-05-04T16:17:34.712Z"
   },
   {
    "duration": 8,
    "start_time": "2023-05-04T16:17:34.722Z"
   },
   {
    "duration": 10,
    "start_time": "2023-05-04T16:17:34.733Z"
   },
   {
    "duration": 9,
    "start_time": "2023-05-04T16:17:34.745Z"
   },
   {
    "duration": 13,
    "start_time": "2023-05-04T16:17:34.756Z"
   },
   {
    "duration": 38,
    "start_time": "2023-05-04T16:17:34.771Z"
   },
   {
    "duration": 45,
    "start_time": "2023-05-04T16:17:34.812Z"
   },
   {
    "duration": 6,
    "start_time": "2023-05-04T16:17:34.859Z"
   },
   {
    "duration": 79,
    "start_time": "2023-05-04T16:17:34.867Z"
   },
   {
    "duration": 149,
    "start_time": "2023-05-04T16:17:34.948Z"
   },
   {
    "duration": 427,
    "start_time": "2023-05-04T16:17:35.099Z"
   },
   {
    "duration": 74,
    "start_time": "2023-05-04T16:17:35.528Z"
   },
   {
    "duration": 13,
    "start_time": "2023-05-04T16:17:35.604Z"
   },
   {
    "duration": 5,
    "start_time": "2023-05-04T16:17:35.619Z"
   },
   {
    "duration": 73,
    "start_time": "2023-05-04T16:17:35.626Z"
   },
   {
    "duration": 8,
    "start_time": "2023-05-04T16:17:35.701Z"
   },
   {
    "duration": 988,
    "start_time": "2023-05-04T16:17:35.710Z"
   },
   {
    "duration": 115,
    "start_time": "2023-05-04T16:17:36.701Z"
   },
   {
    "duration": 2,
    "start_time": "2023-05-04T16:17:36.819Z"
   },
   {
    "duration": 102,
    "start_time": "2023-05-04T16:17:36.823Z"
   },
   {
    "duration": 478,
    "start_time": "2023-05-04T16:17:36.927Z"
   },
   {
    "duration": 34,
    "start_time": "2023-05-04T16:17:37.407Z"
   },
   {
    "duration": 427,
    "start_time": "2023-05-04T16:17:37.444Z"
   },
   {
    "duration": 188,
    "start_time": "2023-05-04T16:17:37.873Z"
   },
   {
    "duration": 41,
    "start_time": "2023-05-04T16:17:38.063Z"
   },
   {
    "duration": 362,
    "start_time": "2023-05-04T16:17:38.114Z"
   },
   {
    "duration": 27,
    "start_time": "2023-05-04T16:17:38.478Z"
   },
   {
    "duration": 36,
    "start_time": "2023-05-04T16:17:38.510Z"
   },
   {
    "duration": 13,
    "start_time": "2023-05-04T16:17:38.548Z"
   },
   {
    "duration": 24,
    "start_time": "2023-05-04T16:17:38.563Z"
   },
   {
    "duration": 45,
    "start_time": "2023-05-04T16:17:38.588Z"
   },
   {
    "duration": 73,
    "start_time": "2023-05-04T16:17:38.635Z"
   },
   {
    "duration": 12,
    "start_time": "2023-05-04T16:17:38.713Z"
   },
   {
    "duration": 17,
    "start_time": "2023-05-04T16:17:38.727Z"
   },
   {
    "duration": 9,
    "start_time": "2023-05-04T16:17:38.746Z"
   },
   {
    "duration": 13,
    "start_time": "2023-05-04T16:17:38.757Z"
   },
   {
    "duration": 373,
    "start_time": "2023-05-04T16:17:38.772Z"
   },
   {
    "duration": 26,
    "start_time": "2023-05-04T16:17:39.147Z"
   },
   {
    "duration": 38,
    "start_time": "2023-05-04T16:17:39.175Z"
   },
   {
    "duration": 22,
    "start_time": "2023-05-04T16:17:39.215Z"
   },
   {
    "duration": 18,
    "start_time": "2023-05-04T16:17:39.239Z"
   },
   {
    "duration": 43,
    "start_time": "2023-05-04T16:17:39.258Z"
   },
   {
    "duration": 237,
    "start_time": "2023-05-04T16:18:01.543Z"
   },
   {
    "duration": 286,
    "start_time": "2023-05-04T16:18:46.651Z"
   },
   {
    "duration": 58,
    "start_time": "2023-05-04T16:18:47.081Z"
   },
   {
    "duration": 329,
    "start_time": "2023-05-04T16:18:47.724Z"
   },
   {
    "duration": 27,
    "start_time": "2023-05-04T16:20:13.852Z"
   },
   {
    "duration": 365,
    "start_time": "2023-05-04T16:21:44.833Z"
   },
   {
    "duration": 20,
    "start_time": "2023-05-04T16:21:45.262Z"
   },
   {
    "duration": 39,
    "start_time": "2023-05-04T16:21:45.717Z"
   },
   {
    "duration": 223,
    "start_time": "2023-05-04T16:21:46.282Z"
   },
   {
    "duration": 294,
    "start_time": "2023-05-04T16:23:03.914Z"
   },
   {
    "duration": 29,
    "start_time": "2023-05-04T16:23:04.212Z"
   },
   {
    "duration": 57,
    "start_time": "2023-05-04T16:23:04.345Z"
   },
   {
    "duration": 275,
    "start_time": "2023-05-04T16:23:09.028Z"
   },
   {
    "duration": 240,
    "start_time": "2023-05-04T16:24:25.827Z"
   },
   {
    "duration": 33,
    "start_time": "2023-05-04T16:24:26.374Z"
   },
   {
    "duration": 3,
    "start_time": "2023-05-04T16:24:44.314Z"
   },
   {
    "duration": 8,
    "start_time": "2023-05-04T16:31:32.000Z"
   },
   {
    "duration": 626,
    "start_time": "2023-05-04T16:31:32.011Z"
   },
   {
    "duration": 9,
    "start_time": "2023-05-04T16:31:32.639Z"
   },
   {
    "duration": 18,
    "start_time": "2023-05-04T16:31:32.651Z"
   },
   {
    "duration": 6,
    "start_time": "2023-05-04T16:31:32.672Z"
   },
   {
    "duration": 19,
    "start_time": "2023-05-04T16:31:32.691Z"
   },
   {
    "duration": 31,
    "start_time": "2023-05-04T16:31:32.712Z"
   },
   {
    "duration": 15,
    "start_time": "2023-05-04T16:31:32.745Z"
   },
   {
    "duration": 50,
    "start_time": "2023-05-04T16:31:32.762Z"
   },
   {
    "duration": 18,
    "start_time": "2023-05-04T16:31:32.815Z"
   },
   {
    "duration": 11,
    "start_time": "2023-05-04T16:31:32.836Z"
   },
   {
    "duration": 125,
    "start_time": "2023-05-04T16:31:32.851Z"
   },
   {
    "duration": 138,
    "start_time": "2023-05-04T16:31:32.978Z"
   },
   {
    "duration": 9,
    "start_time": "2023-05-04T16:31:33.118Z"
   },
   {
    "duration": 15,
    "start_time": "2023-05-04T16:31:33.129Z"
   },
   {
    "duration": 5,
    "start_time": "2023-05-04T16:31:33.146Z"
   },
   {
    "duration": 45,
    "start_time": "2023-05-04T16:31:33.153Z"
   },
   {
    "duration": 8,
    "start_time": "2023-05-04T16:31:33.200Z"
   },
   {
    "duration": 7,
    "start_time": "2023-05-04T16:31:33.210Z"
   },
   {
    "duration": 6,
    "start_time": "2023-05-04T16:31:33.219Z"
   },
   {
    "duration": 17,
    "start_time": "2023-05-04T16:31:33.227Z"
   },
   {
    "duration": 81,
    "start_time": "2023-05-04T16:31:33.246Z"
   },
   {
    "duration": 6,
    "start_time": "2023-05-04T16:31:33.328Z"
   },
   {
    "duration": 74,
    "start_time": "2023-05-04T16:31:33.335Z"
   },
   {
    "duration": 51,
    "start_time": "2023-05-04T16:31:33.413Z"
   },
   {
    "duration": 207,
    "start_time": "2023-05-04T16:31:33.466Z"
   },
   {
    "duration": 16,
    "start_time": "2023-05-04T16:31:33.675Z"
   },
   {
    "duration": 14,
    "start_time": "2023-05-04T16:31:33.697Z"
   },
   {
    "duration": 6,
    "start_time": "2023-05-04T16:31:33.713Z"
   },
   {
    "duration": 12,
    "start_time": "2023-05-04T16:31:33.720Z"
   },
   {
    "duration": 9,
    "start_time": "2023-05-04T16:31:33.734Z"
   },
   {
    "duration": 347,
    "start_time": "2023-05-04T16:31:33.745Z"
   },
   {
    "duration": 25,
    "start_time": "2023-05-04T16:31:34.094Z"
   },
   {
    "duration": 48,
    "start_time": "2023-05-04T16:31:34.121Z"
   },
   {
    "duration": 356,
    "start_time": "2023-05-04T16:31:34.171Z"
   },
   {
    "duration": 16,
    "start_time": "2023-05-04T16:31:34.529Z"
   },
   {
    "duration": 371,
    "start_time": "2023-05-04T16:31:34.547Z"
   },
   {
    "duration": 224,
    "start_time": "2023-05-04T16:31:34.920Z"
   },
   {
    "duration": 28,
    "start_time": "2023-05-04T16:31:35.147Z"
   },
   {
    "duration": 374,
    "start_time": "2023-05-04T16:31:35.177Z"
   },
   {
    "duration": 14,
    "start_time": "2023-05-04T16:31:35.553Z"
   },
   {
    "duration": 36,
    "start_time": "2023-05-04T16:31:35.569Z"
   },
   {
    "duration": 12,
    "start_time": "2023-05-04T16:31:35.607Z"
   },
   {
    "duration": 16,
    "start_time": "2023-05-04T16:31:35.622Z"
   },
   {
    "duration": 18,
    "start_time": "2023-05-04T16:31:35.640Z"
   },
   {
    "duration": 109,
    "start_time": "2023-05-04T16:31:35.661Z"
   },
   {
    "duration": 23,
    "start_time": "2023-05-04T16:31:35.772Z"
   },
   {
    "duration": 21,
    "start_time": "2023-05-04T16:31:35.797Z"
   },
   {
    "duration": 9,
    "start_time": "2023-05-04T16:31:35.820Z"
   },
   {
    "duration": 14,
    "start_time": "2023-05-04T16:31:35.831Z"
   },
   {
    "duration": 325,
    "start_time": "2023-05-04T16:31:35.847Z"
   },
   {
    "duration": 46,
    "start_time": "2023-05-04T16:31:36.173Z"
   },
   {
    "duration": 19,
    "start_time": "2023-05-04T16:31:36.220Z"
   },
   {
    "duration": 24,
    "start_time": "2023-05-04T16:31:36.240Z"
   },
   {
    "duration": 35,
    "start_time": "2023-05-04T16:31:36.267Z"
   },
   {
    "duration": 14,
    "start_time": "2023-05-04T16:31:36.304Z"
   },
   {
    "duration": 362,
    "start_time": "2023-05-04T16:32:18.118Z"
   },
   {
    "duration": 29,
    "start_time": "2023-05-04T16:32:18.613Z"
   },
   {
    "duration": 44,
    "start_time": "2023-05-04T16:32:18.913Z"
   },
   {
    "duration": 186,
    "start_time": "2023-05-04T16:32:19.146Z"
   },
   {
    "duration": 14,
    "start_time": "2023-05-04T16:32:20.080Z"
   },
   {
    "duration": 501,
    "start_time": "2023-05-04T16:32:20.309Z"
   },
   {
    "duration": 172,
    "start_time": "2023-05-04T16:32:20.812Z"
   },
   {
    "duration": 29,
    "start_time": "2023-05-04T16:32:20.986Z"
   },
   {
    "duration": 348,
    "start_time": "2023-05-04T16:32:21.196Z"
   },
   {
    "duration": 27,
    "start_time": "2023-05-04T16:32:22.188Z"
   },
   {
    "duration": 20,
    "start_time": "2023-05-04T16:32:23.110Z"
   },
   {
    "duration": 10,
    "start_time": "2023-05-04T16:32:23.353Z"
   },
   {
    "duration": 25,
    "start_time": "2023-05-04T16:32:26.286Z"
   },
   {
    "duration": 5,
    "start_time": "2023-05-04T16:32:32.840Z"
   },
   {
    "duration": 672,
    "start_time": "2023-05-04T16:32:32.847Z"
   },
   {
    "duration": 9,
    "start_time": "2023-05-04T16:32:33.521Z"
   },
   {
    "duration": 38,
    "start_time": "2023-05-04T16:32:33.532Z"
   },
   {
    "duration": 11,
    "start_time": "2023-05-04T16:32:33.572Z"
   },
   {
    "duration": 31,
    "start_time": "2023-05-04T16:32:33.585Z"
   },
   {
    "duration": 28,
    "start_time": "2023-05-04T16:32:33.618Z"
   },
   {
    "duration": 27,
    "start_time": "2023-05-04T16:32:33.647Z"
   },
   {
    "duration": 50,
    "start_time": "2023-05-04T16:32:33.676Z"
   },
   {
    "duration": 13,
    "start_time": "2023-05-04T16:32:33.729Z"
   },
   {
    "duration": 15,
    "start_time": "2023-05-04T16:32:33.743Z"
   },
   {
    "duration": 85,
    "start_time": "2023-05-04T16:32:33.760Z"
   },
   {
    "duration": 101,
    "start_time": "2023-05-04T16:32:33.847Z"
   },
   {
    "duration": 10,
    "start_time": "2023-05-04T16:32:33.951Z"
   },
   {
    "duration": 43,
    "start_time": "2023-05-04T16:32:33.963Z"
   },
   {
    "duration": 6,
    "start_time": "2023-05-04T16:32:34.009Z"
   },
   {
    "duration": 15,
    "start_time": "2023-05-04T16:32:34.017Z"
   },
   {
    "duration": 24,
    "start_time": "2023-05-04T16:32:34.035Z"
   },
   {
    "duration": 7,
    "start_time": "2023-05-04T16:32:34.062Z"
   },
   {
    "duration": 25,
    "start_time": "2023-05-04T16:32:34.071Z"
   },
   {
    "duration": 30,
    "start_time": "2023-05-04T16:32:34.098Z"
   },
   {
    "duration": 46,
    "start_time": "2023-05-04T16:32:34.130Z"
   },
   {
    "duration": 5,
    "start_time": "2023-05-04T16:32:34.178Z"
   },
   {
    "duration": 54,
    "start_time": "2023-05-04T16:32:34.184Z"
   },
   {
    "duration": 59,
    "start_time": "2023-05-04T16:32:34.240Z"
   },
   {
    "duration": 194,
    "start_time": "2023-05-04T16:32:34.301Z"
   },
   {
    "duration": 12,
    "start_time": "2023-05-04T16:32:34.497Z"
   },
   {
    "duration": 15,
    "start_time": "2023-05-04T16:32:34.517Z"
   },
   {
    "duration": 6,
    "start_time": "2023-05-04T16:32:34.534Z"
   },
   {
    "duration": 10,
    "start_time": "2023-05-04T16:32:34.541Z"
   },
   {
    "duration": 6,
    "start_time": "2023-05-04T16:32:34.552Z"
   },
   {
    "duration": 875,
    "start_time": "2023-05-04T16:32:34.560Z"
   },
   {
    "duration": 78,
    "start_time": "2023-05-04T16:32:35.437Z"
   },
   {
    "duration": 86,
    "start_time": "2023-05-04T16:32:35.517Z"
   },
   {
    "duration": 425,
    "start_time": "2023-05-04T16:32:35.605Z"
   },
   {
    "duration": 64,
    "start_time": "2023-05-04T16:32:36.032Z"
   },
   {
    "duration": 703,
    "start_time": "2023-05-04T16:32:36.100Z"
   },
   {
    "duration": 317,
    "start_time": "2023-05-04T16:32:36.805Z"
   },
   {
    "duration": 27,
    "start_time": "2023-05-04T16:32:37.125Z"
   },
   {
    "duration": 405,
    "start_time": "2023-05-04T16:32:37.155Z"
   },
   {
    "duration": 38,
    "start_time": "2023-05-04T16:32:37.562Z"
   },
   {
    "duration": 24,
    "start_time": "2023-05-04T16:32:37.603Z"
   },
   {
    "duration": 13,
    "start_time": "2023-05-04T16:32:37.630Z"
   },
   {
    "duration": 23,
    "start_time": "2023-05-04T16:32:37.647Z"
   },
   {
    "duration": 50,
    "start_time": "2023-05-04T16:32:37.672Z"
   },
   {
    "duration": 77,
    "start_time": "2023-05-04T16:32:37.724Z"
   },
   {
    "duration": 22,
    "start_time": "2023-05-04T16:32:37.803Z"
   },
   {
    "duration": 23,
    "start_time": "2023-05-04T16:32:37.829Z"
   },
   {
    "duration": 9,
    "start_time": "2023-05-04T16:32:37.854Z"
   },
   {
    "duration": 8,
    "start_time": "2023-05-04T16:32:37.865Z"
   },
   {
    "duration": 379,
    "start_time": "2023-05-04T16:32:37.874Z"
   },
   {
    "duration": 37,
    "start_time": "2023-05-04T16:32:38.256Z"
   },
   {
    "duration": 32,
    "start_time": "2023-05-04T16:32:38.296Z"
   },
   {
    "duration": 44,
    "start_time": "2023-05-04T16:32:38.331Z"
   },
   {
    "duration": 31,
    "start_time": "2023-05-04T16:32:38.377Z"
   },
   {
    "duration": 20,
    "start_time": "2023-05-04T16:32:38.410Z"
   },
   {
    "duration": 3,
    "start_time": "2023-05-04T16:33:34.321Z"
   },
   {
    "duration": 30,
    "start_time": "2023-05-04T16:34:21.912Z"
   },
   {
    "duration": 4,
    "start_time": "2023-05-04T16:35:01.480Z"
   },
   {
    "duration": 25,
    "start_time": "2023-05-04T16:35:15.175Z"
   },
   {
    "duration": 25,
    "start_time": "2023-05-04T16:44:26.629Z"
   },
   {
    "duration": 27,
    "start_time": "2023-05-04T16:44:33.418Z"
   },
   {
    "duration": 47,
    "start_time": "2023-05-04T16:44:37.891Z"
   },
   {
    "duration": 27,
    "start_time": "2023-05-04T16:45:03.572Z"
   },
   {
    "duration": 35,
    "start_time": "2023-05-04T16:45:21.937Z"
   },
   {
    "duration": 34,
    "start_time": "2023-05-04T16:45:25.269Z"
   },
   {
    "duration": 43,
    "start_time": "2023-05-04T16:45:57.704Z"
   },
   {
    "duration": 95,
    "start_time": "2023-05-04T16:46:18.879Z"
   },
   {
    "duration": 38,
    "start_time": "2023-05-04T16:46:22.991Z"
   },
   {
    "duration": 29,
    "start_time": "2023-05-04T16:47:22.448Z"
   },
   {
    "duration": 40,
    "start_time": "2023-05-04T16:49:48.581Z"
   },
   {
    "duration": 36,
    "start_time": "2023-05-04T16:50:01.682Z"
   },
   {
    "duration": 50,
    "start_time": "2023-05-04T16:50:06.480Z"
   },
   {
    "duration": 34,
    "start_time": "2023-05-04T16:50:19.655Z"
   },
   {
    "duration": 31,
    "start_time": "2023-05-04T16:51:04.905Z"
   },
   {
    "duration": 44,
    "start_time": "2023-05-04T16:51:09.382Z"
   },
   {
    "duration": 32,
    "start_time": "2023-05-04T16:51:15.053Z"
   },
   {
    "duration": 34,
    "start_time": "2023-05-04T16:51:17.226Z"
   },
   {
    "duration": 34,
    "start_time": "2023-05-04T16:52:06.946Z"
   },
   {
    "duration": 46,
    "start_time": "2023-05-04T16:52:18.617Z"
   },
   {
    "duration": 39,
    "start_time": "2023-05-04T16:52:24.505Z"
   },
   {
    "duration": 38,
    "start_time": "2023-05-04T16:52:57.627Z"
   },
   {
    "duration": 32,
    "start_time": "2023-05-04T16:53:39.952Z"
   },
   {
    "duration": 37,
    "start_time": "2023-05-04T16:53:46.212Z"
   },
   {
    "duration": 28,
    "start_time": "2023-05-04T16:53:56.639Z"
   },
   {
    "duration": 33,
    "start_time": "2023-05-04T16:54:59.724Z"
   },
   {
    "duration": 32,
    "start_time": "2023-05-04T16:55:20.488Z"
   },
   {
    "duration": 16,
    "start_time": "2023-05-04T16:55:26.419Z"
   },
   {
    "duration": 36,
    "start_time": "2023-05-04T16:55:36.322Z"
   },
   {
    "duration": 32,
    "start_time": "2023-05-04T16:58:22.713Z"
   },
   {
    "duration": 29,
    "start_time": "2023-05-04T16:58:38.926Z"
   },
   {
    "duration": 34,
    "start_time": "2023-05-04T16:58:43.322Z"
   },
   {
    "duration": 28,
    "start_time": "2023-05-04T16:58:55.041Z"
   },
   {
    "duration": 1177,
    "start_time": "2023-05-04T17:02:14.551Z"
   },
   {
    "duration": 43,
    "start_time": "2023-05-04T17:03:37.034Z"
   },
   {
    "duration": 29,
    "start_time": "2023-05-04T17:03:59.327Z"
   },
   {
    "duration": 18,
    "start_time": "2023-05-04T17:05:09.781Z"
   },
   {
    "duration": 9,
    "start_time": "2023-05-04T17:05:29.219Z"
   },
   {
    "duration": 15,
    "start_time": "2023-05-04T17:05:38.424Z"
   },
   {
    "duration": 9,
    "start_time": "2023-05-04T17:05:38.755Z"
   },
   {
    "duration": 6,
    "start_time": "2023-05-04T17:14:36.939Z"
   },
   {
    "duration": 14,
    "start_time": "2023-05-04T17:15:24.578Z"
   },
   {
    "duration": 13,
    "start_time": "2023-05-04T17:15:31.034Z"
   },
   {
    "duration": 33,
    "start_time": "2023-05-04T17:15:43.157Z"
   },
   {
    "duration": 10,
    "start_time": "2023-05-04T17:16:26.618Z"
   },
   {
    "duration": 52,
    "start_time": "2023-05-04T17:16:27.512Z"
   },
   {
    "duration": 61,
    "start_time": "2023-05-04T17:16:38.482Z"
   },
   {
    "duration": 45,
    "start_time": "2023-05-04T17:16:42.573Z"
   },
   {
    "duration": 42,
    "start_time": "2023-05-04T17:17:01.264Z"
   },
   {
    "duration": 23,
    "start_time": "2023-05-04T17:17:11.324Z"
   },
   {
    "duration": 29,
    "start_time": "2023-05-04T17:17:14.725Z"
   },
   {
    "duration": 36,
    "start_time": "2023-05-04T17:17:57.844Z"
   },
   {
    "duration": 57,
    "start_time": "2023-05-04T17:18:17.065Z"
   },
   {
    "duration": 48,
    "start_time": "2023-05-04T17:18:22.665Z"
   },
   {
    "duration": 48,
    "start_time": "2023-05-04T17:18:31.578Z"
   },
   {
    "duration": 36,
    "start_time": "2023-05-04T17:19:03.488Z"
   },
   {
    "duration": 47,
    "start_time": "2023-05-04T17:19:12.279Z"
   },
   {
    "duration": 43,
    "start_time": "2023-05-04T17:19:17.483Z"
   },
   {
    "duration": 39,
    "start_time": "2023-05-04T17:19:28.134Z"
   },
   {
    "duration": 36,
    "start_time": "2023-05-04T17:19:31.813Z"
   },
   {
    "duration": 37,
    "start_time": "2023-05-04T17:19:36.385Z"
   },
   {
    "duration": 29,
    "start_time": "2023-05-04T17:19:51.223Z"
   },
   {
    "duration": 28,
    "start_time": "2023-05-04T17:21:35.560Z"
   },
   {
    "duration": 43,
    "start_time": "2023-05-04T17:21:39.387Z"
   },
   {
    "duration": 32,
    "start_time": "2023-05-04T17:21:44.932Z"
   },
   {
    "duration": 37,
    "start_time": "2023-05-04T17:21:56.563Z"
   },
   {
    "duration": 1436,
    "start_time": "2023-05-04T17:22:14.726Z"
   },
   {
    "duration": 52,
    "start_time": "2023-05-04T17:22:23.170Z"
   },
   {
    "duration": 1058,
    "start_time": "2023-05-04T17:22:34.145Z"
   },
   {
    "duration": 32,
    "start_time": "2023-05-04T17:23:56.425Z"
   },
   {
    "duration": 26,
    "start_time": "2023-05-04T17:23:59.419Z"
   },
   {
    "duration": 8,
    "start_time": "2023-05-04T17:24:00.521Z"
   },
   {
    "duration": 54,
    "start_time": "2023-05-04T17:24:01.159Z"
   },
   {
    "duration": 1438,
    "start_time": "2023-05-04T17:24:02.881Z"
   },
   {
    "duration": 8,
    "start_time": "2023-05-04T17:24:38.540Z"
   },
   {
    "duration": 55,
    "start_time": "2023-05-04T17:24:39.179Z"
   },
   {
    "duration": 6,
    "start_time": "2023-05-04T17:24:49.324Z"
   },
   {
    "duration": 57,
    "start_time": "2023-05-04T17:24:50.529Z"
   },
   {
    "duration": 10,
    "start_time": "2023-05-04T17:25:00.592Z"
   },
   {
    "duration": 45,
    "start_time": "2023-05-04T17:25:01.134Z"
   },
   {
    "duration": 90,
    "start_time": "2023-05-04T17:25:24.574Z"
   },
   {
    "duration": 54,
    "start_time": "2023-05-04T17:25:25.473Z"
   },
   {
    "duration": 80,
    "start_time": "2023-05-04T17:25:43.973Z"
   },
   {
    "duration": 47,
    "start_time": "2023-05-04T17:25:44.788Z"
   },
   {
    "duration": 74,
    "start_time": "2023-05-04T17:26:06.221Z"
   },
   {
    "duration": 49,
    "start_time": "2023-05-04T17:26:07.061Z"
   },
   {
    "duration": 6,
    "start_time": "2023-05-04T17:26:12.465Z"
   },
   {
    "duration": 26,
    "start_time": "2023-05-04T17:26:13.432Z"
   },
   {
    "duration": 6,
    "start_time": "2023-05-04T17:26:20.052Z"
   },
   {
    "duration": 27,
    "start_time": "2023-05-04T17:26:20.554Z"
   },
   {
    "duration": 8,
    "start_time": "2023-05-04T17:26:36.422Z"
   },
   {
    "duration": 39,
    "start_time": "2023-05-04T17:26:36.917Z"
   },
   {
    "duration": 9,
    "start_time": "2023-05-04T17:26:44.521Z"
   },
   {
    "duration": 40,
    "start_time": "2023-05-04T17:26:45.019Z"
   },
   {
    "duration": 6,
    "start_time": "2023-05-04T17:26:50.126Z"
   },
   {
    "duration": 47,
    "start_time": "2023-05-04T17:26:50.433Z"
   },
   {
    "duration": 9,
    "start_time": "2023-05-04T17:26:59.114Z"
   },
   {
    "duration": 42,
    "start_time": "2023-05-04T17:26:59.423Z"
   },
   {
    "duration": 6,
    "start_time": "2023-05-04T17:28:20.724Z"
   },
   {
    "duration": 43,
    "start_time": "2023-05-04T17:28:21.217Z"
   },
   {
    "duration": 9,
    "start_time": "2023-05-04T17:30:38.447Z"
   },
   {
    "duration": 6,
    "start_time": "2023-05-04T17:31:15.080Z"
   },
   {
    "duration": 49,
    "start_time": "2023-05-04T17:31:15.589Z"
   },
   {
    "duration": 143,
    "start_time": "2023-05-04T17:34:58.452Z"
   },
   {
    "duration": 6,
    "start_time": "2023-05-04T17:35:38.727Z"
   },
   {
    "duration": 40,
    "start_time": "2023-05-04T17:35:39.130Z"
   },
   {
    "duration": 11,
    "start_time": "2023-05-04T17:37:23.917Z"
   },
   {
    "duration": 29,
    "start_time": "2023-05-04T17:37:24.333Z"
   },
   {
    "duration": 54,
    "start_time": "2023-05-04T17:38:06.788Z"
   },
   {
    "duration": 92,
    "start_time": "2023-05-04T17:41:40.580Z"
   },
   {
    "duration": 319,
    "start_time": "2023-05-04T17:43:00.877Z"
   },
   {
    "duration": 99,
    "start_time": "2023-05-04T17:52:31.630Z"
   },
   {
    "duration": 23,
    "start_time": "2023-05-04T18:11:18.866Z"
   },
   {
    "duration": 13,
    "start_time": "2023-05-04T18:12:01.545Z"
   },
   {
    "duration": 31,
    "start_time": "2023-05-04T18:12:32.899Z"
   },
   {
    "duration": 14,
    "start_time": "2023-05-04T18:12:46.331Z"
   },
   {
    "duration": 12,
    "start_time": "2023-05-04T18:13:25.481Z"
   },
   {
    "duration": 33,
    "start_time": "2023-05-04T18:13:30.897Z"
   },
   {
    "duration": 21,
    "start_time": "2023-05-04T18:14:22.748Z"
   },
   {
    "duration": 16,
    "start_time": "2023-05-04T18:14:46.742Z"
   },
   {
    "duration": 199,
    "start_time": "2023-05-04T18:15:02.925Z"
   },
   {
    "duration": 22,
    "start_time": "2023-05-04T18:15:09.419Z"
   },
   {
    "duration": 24,
    "start_time": "2023-05-04T18:16:16.251Z"
   },
   {
    "duration": 17,
    "start_time": "2023-05-04T18:16:23.026Z"
   },
   {
    "duration": 16,
    "start_time": "2023-05-04T18:16:27.142Z"
   },
   {
    "duration": 20,
    "start_time": "2023-05-04T18:16:44.652Z"
   },
   {
    "duration": 20,
    "start_time": "2023-05-04T18:17:33.245Z"
   },
   {
    "duration": 17,
    "start_time": "2023-05-04T18:17:39.547Z"
   },
   {
    "duration": 30,
    "start_time": "2023-05-04T18:17:48.988Z"
   },
   {
    "duration": 23,
    "start_time": "2023-05-04T18:17:58.486Z"
   },
   {
    "duration": 29,
    "start_time": "2023-05-04T18:18:10.042Z"
   },
   {
    "duration": 17,
    "start_time": "2023-05-04T18:18:15.981Z"
   },
   {
    "duration": 23,
    "start_time": "2023-05-04T18:18:20.950Z"
   },
   {
    "duration": 18,
    "start_time": "2023-05-04T18:18:49.860Z"
   },
   {
    "duration": 28,
    "start_time": "2023-05-04T18:19:04.444Z"
   },
   {
    "duration": 18,
    "start_time": "2023-05-04T18:19:14.768Z"
   },
   {
    "duration": 10,
    "start_time": "2023-05-04T18:19:19.561Z"
   },
   {
    "duration": 1475,
    "start_time": "2023-05-04T18:19:31.382Z"
   },
   {
    "duration": 764,
    "start_time": "2023-05-04T18:19:32.860Z"
   },
   {
    "duration": 20,
    "start_time": "2023-05-04T18:19:33.635Z"
   },
   {
    "duration": 13,
    "start_time": "2023-05-04T18:19:33.659Z"
   },
   {
    "duration": 6,
    "start_time": "2023-05-04T18:19:33.674Z"
   },
   {
    "duration": 22,
    "start_time": "2023-05-04T18:19:33.682Z"
   },
   {
    "duration": 30,
    "start_time": "2023-05-04T18:19:33.706Z"
   },
   {
    "duration": 25,
    "start_time": "2023-05-04T18:19:33.738Z"
   },
   {
    "duration": 37,
    "start_time": "2023-05-04T18:19:33.766Z"
   },
   {
    "duration": 39,
    "start_time": "2023-05-04T18:19:33.813Z"
   },
   {
    "duration": 10,
    "start_time": "2023-05-04T18:19:33.854Z"
   },
   {
    "duration": 93,
    "start_time": "2023-05-04T18:19:33.866Z"
   },
   {
    "duration": 128,
    "start_time": "2023-05-04T18:19:33.960Z"
   },
   {
    "duration": 17,
    "start_time": "2023-05-04T18:19:34.094Z"
   },
   {
    "duration": 14,
    "start_time": "2023-05-04T18:19:34.114Z"
   },
   {
    "duration": 6,
    "start_time": "2023-05-04T18:19:34.130Z"
   },
   {
    "duration": 9,
    "start_time": "2023-05-04T18:19:34.138Z"
   },
   {
    "duration": 9,
    "start_time": "2023-05-04T18:19:34.148Z"
   },
   {
    "duration": 7,
    "start_time": "2023-05-04T18:19:34.160Z"
   },
   {
    "duration": 14,
    "start_time": "2023-05-04T18:19:34.193Z"
   },
   {
    "duration": 22,
    "start_time": "2023-05-04T18:19:34.214Z"
   },
   {
    "duration": 44,
    "start_time": "2023-05-04T18:19:34.238Z"
   },
   {
    "duration": 5,
    "start_time": "2023-05-04T18:19:34.284Z"
   },
   {
    "duration": 78,
    "start_time": "2023-05-04T18:19:34.297Z"
   },
   {
    "duration": 71,
    "start_time": "2023-05-04T18:19:34.377Z"
   },
   {
    "duration": 236,
    "start_time": "2023-05-04T18:19:34.452Z"
   },
   {
    "duration": 9,
    "start_time": "2023-05-04T18:19:34.693Z"
   },
   {
    "duration": 31,
    "start_time": "2023-05-04T18:19:34.707Z"
   },
   {
    "duration": 19,
    "start_time": "2023-05-04T18:19:34.740Z"
   },
   {
    "duration": 9,
    "start_time": "2023-05-04T18:19:34.760Z"
   },
   {
    "duration": 8,
    "start_time": "2023-05-04T18:19:34.771Z"
   },
   {
    "duration": 485,
    "start_time": "2023-05-04T18:19:34.782Z"
   },
   {
    "duration": 62,
    "start_time": "2023-05-04T18:19:35.269Z"
   },
   {
    "duration": 67,
    "start_time": "2023-05-04T18:19:35.341Z"
   },
   {
    "duration": 8,
    "start_time": "2023-05-04T18:19:35.417Z"
   },
   {
    "duration": 25,
    "start_time": "2023-05-04T18:19:35.428Z"
   },
   {
    "duration": 469,
    "start_time": "2023-05-04T18:19:35.454Z"
   },
   {
    "duration": 509,
    "start_time": "2023-05-04T18:19:35.925Z"
   },
   {
    "duration": 74,
    "start_time": "2023-05-04T18:19:36.451Z"
   },
   {
    "duration": 827,
    "start_time": "2023-05-04T18:19:36.527Z"
   },
   {
    "duration": 74,
    "start_time": "2023-05-04T18:19:37.397Z"
   },
   {
    "duration": 41,
    "start_time": "2023-05-04T18:19:37.473Z"
   },
   {
    "duration": 11,
    "start_time": "2023-05-04T18:19:37.517Z"
   },
   {
    "duration": 68,
    "start_time": "2023-05-04T18:19:37.531Z"
   },
   {
    "duration": 47,
    "start_time": "2023-05-04T18:19:37.601Z"
   },
   {
    "duration": 162,
    "start_time": "2023-05-04T18:19:37.650Z"
   },
   {
    "duration": 13,
    "start_time": "2023-05-04T18:19:37.814Z"
   },
   {
    "duration": 69,
    "start_time": "2023-05-04T18:19:37.830Z"
   },
   {
    "duration": 15,
    "start_time": "2023-05-04T18:19:37.901Z"
   },
   {
    "duration": 10,
    "start_time": "2023-05-04T18:19:37.919Z"
   },
   {
    "duration": 693,
    "start_time": "2023-05-04T18:19:37.931Z"
   },
   {
    "duration": 19,
    "start_time": "2023-05-04T18:19:38.640Z"
   },
   {
    "duration": 193,
    "start_time": "2023-05-04T18:19:38.662Z"
   },
   {
    "duration": 53,
    "start_time": "2023-05-04T18:19:38.857Z"
   },
   {
    "duration": 23,
    "start_time": "2023-05-04T18:19:38.919Z"
   },
   {
    "duration": 73,
    "start_time": "2023-05-04T18:19:38.944Z"
   },
   {
    "duration": 29,
    "start_time": "2023-05-04T18:19:39.027Z"
   },
   {
    "duration": 59,
    "start_time": "2023-05-04T18:19:39.058Z"
   },
   {
    "duration": 19,
    "start_time": "2023-05-04T18:19:39.125Z"
   },
   {
    "duration": 13,
    "start_time": "2023-05-04T18:19:39.149Z"
   },
   {
    "duration": 24,
    "start_time": "2023-05-04T18:19:39.164Z"
   },
   {
    "duration": 194,
    "start_time": "2023-05-04T18:19:39.190Z"
   },
   {
    "duration": 9,
    "start_time": "2023-05-04T18:19:39.385Z"
   },
   {
    "duration": 67,
    "start_time": "2023-05-04T18:19:39.397Z"
   },
   {
    "duration": 22,
    "start_time": "2023-05-04T18:20:37.143Z"
   },
   {
    "duration": 13,
    "start_time": "2023-05-04T18:20:39.375Z"
   },
   {
    "duration": 55,
    "start_time": "2023-05-04T18:20:54.476Z"
   },
   {
    "duration": 32,
    "start_time": "2023-05-04T18:20:55.310Z"
   },
   {
    "duration": 1393,
    "start_time": "2023-05-04T18:21:05.179Z"
   },
   {
    "duration": 810,
    "start_time": "2023-05-04T18:21:06.575Z"
   },
   {
    "duration": 22,
    "start_time": "2023-05-04T18:21:07.387Z"
   },
   {
    "duration": 23,
    "start_time": "2023-05-04T18:21:07.412Z"
   },
   {
    "duration": 17,
    "start_time": "2023-05-04T18:21:07.447Z"
   },
   {
    "duration": 14,
    "start_time": "2023-05-04T18:21:07.466Z"
   },
   {
    "duration": 37,
    "start_time": "2023-05-04T18:21:07.482Z"
   },
   {
    "duration": 20,
    "start_time": "2023-05-04T18:21:07.521Z"
   },
   {
    "duration": 32,
    "start_time": "2023-05-04T18:21:07.543Z"
   },
   {
    "duration": 36,
    "start_time": "2023-05-04T18:21:07.579Z"
   },
   {
    "duration": 15,
    "start_time": "2023-05-04T18:21:07.626Z"
   },
   {
    "duration": 87,
    "start_time": "2023-05-04T18:21:07.644Z"
   },
   {
    "duration": 168,
    "start_time": "2023-05-04T18:21:07.735Z"
   },
   {
    "duration": 30,
    "start_time": "2023-05-04T18:21:07.913Z"
   },
   {
    "duration": 19,
    "start_time": "2023-05-04T18:21:07.954Z"
   },
   {
    "duration": 8,
    "start_time": "2023-05-04T18:21:07.976Z"
   },
   {
    "duration": 11,
    "start_time": "2023-05-04T18:21:07.987Z"
   },
   {
    "duration": 16,
    "start_time": "2023-05-04T18:21:08.010Z"
   },
   {
    "duration": 16,
    "start_time": "2023-05-04T18:21:08.030Z"
   },
   {
    "duration": 9,
    "start_time": "2023-05-04T18:21:08.052Z"
   },
   {
    "duration": 17,
    "start_time": "2023-05-04T18:21:08.065Z"
   },
   {
    "duration": 57,
    "start_time": "2023-05-04T18:21:08.085Z"
   },
   {
    "duration": 8,
    "start_time": "2023-05-04T18:21:08.144Z"
   },
   {
    "duration": 72,
    "start_time": "2023-05-04T18:21:08.153Z"
   },
   {
    "duration": 100,
    "start_time": "2023-05-04T18:21:08.227Z"
   },
   {
    "duration": 518,
    "start_time": "2023-05-04T18:21:08.329Z"
   },
   {
    "duration": 17,
    "start_time": "2023-05-04T18:21:08.892Z"
   },
   {
    "duration": 13,
    "start_time": "2023-05-04T18:21:08.922Z"
   },
   {
    "duration": 6,
    "start_time": "2023-05-04T18:21:08.944Z"
   },
   {
    "duration": 56,
    "start_time": "2023-05-04T18:21:08.956Z"
   },
   {
    "duration": 15,
    "start_time": "2023-05-04T18:21:09.014Z"
   },
   {
    "duration": 987,
    "start_time": "2023-05-04T18:21:09.047Z"
   },
   {
    "duration": 77,
    "start_time": "2023-05-04T18:21:10.036Z"
   },
   {
    "duration": 120,
    "start_time": "2023-05-04T18:21:10.120Z"
   },
   {
    "duration": 4,
    "start_time": "2023-05-04T18:21:10.243Z"
   },
   {
    "duration": 59,
    "start_time": "2023-05-04T18:21:10.248Z"
   },
   {
    "duration": 725,
    "start_time": "2023-05-04T18:21:10.309Z"
   },
   {
    "duration": 209,
    "start_time": "2023-05-04T18:21:11.041Z"
   },
   {
    "duration": 17,
    "start_time": "2023-05-04T18:21:11.252Z"
   },
   {
    "duration": 418,
    "start_time": "2023-05-04T18:21:11.271Z"
   },
   {
    "duration": 18,
    "start_time": "2023-05-04T18:21:11.700Z"
   },
   {
    "duration": 30,
    "start_time": "2023-05-04T18:21:11.724Z"
   },
   {
    "duration": 11,
    "start_time": "2023-05-04T18:21:11.756Z"
   },
   {
    "duration": 26,
    "start_time": "2023-05-04T18:21:11.769Z"
   },
   {
    "duration": 29,
    "start_time": "2023-05-04T18:21:11.799Z"
   },
   {
    "duration": 56,
    "start_time": "2023-05-04T18:21:11.831Z"
   },
   {
    "duration": 13,
    "start_time": "2023-05-04T18:21:11.888Z"
   },
   {
    "duration": 21,
    "start_time": "2023-05-04T18:21:11.903Z"
   },
   {
    "duration": 25,
    "start_time": "2023-05-04T18:21:11.926Z"
   },
   {
    "duration": 11,
    "start_time": "2023-05-04T18:21:11.953Z"
   },
   {
    "duration": 363,
    "start_time": "2023-05-04T18:21:11.966Z"
   },
   {
    "duration": 21,
    "start_time": "2023-05-04T18:21:12.332Z"
   },
   {
    "duration": 195,
    "start_time": "2023-05-04T18:21:12.356Z"
   },
   {
    "duration": 15,
    "start_time": "2023-05-04T18:21:12.554Z"
   },
   {
    "duration": 43,
    "start_time": "2023-05-04T18:21:12.571Z"
   },
   {
    "duration": 32,
    "start_time": "2023-05-04T18:21:12.616Z"
   },
   {
    "duration": 63,
    "start_time": "2023-05-04T18:21:12.650Z"
   },
   {
    "duration": 28,
    "start_time": "2023-05-04T18:21:12.723Z"
   },
   {
    "duration": 10,
    "start_time": "2023-05-04T18:21:12.755Z"
   },
   {
    "duration": 28,
    "start_time": "2023-05-04T18:21:12.799Z"
   },
   {
    "duration": 22,
    "start_time": "2023-05-04T18:21:12.829Z"
   },
   {
    "duration": 50,
    "start_time": "2023-05-04T18:21:12.853Z"
   },
   {
    "duration": 19,
    "start_time": "2023-05-04T18:21:12.905Z"
   },
   {
    "duration": 53,
    "start_time": "2023-05-04T18:21:12.926Z"
   },
   {
    "duration": 26,
    "start_time": "2023-05-04T18:22:51.533Z"
   },
   {
    "duration": 12,
    "start_time": "2023-05-04T18:22:52.362Z"
   },
   {
    "duration": 1478,
    "start_time": "2023-05-04T18:23:03.981Z"
   },
   {
    "duration": 831,
    "start_time": "2023-05-04T18:23:05.466Z"
   },
   {
    "duration": 42,
    "start_time": "2023-05-04T18:23:06.304Z"
   },
   {
    "duration": 26,
    "start_time": "2023-05-04T18:23:06.352Z"
   },
   {
    "duration": 10,
    "start_time": "2023-05-04T18:23:06.382Z"
   },
   {
    "duration": 43,
    "start_time": "2023-05-04T18:23:06.394Z"
   },
   {
    "duration": 40,
    "start_time": "2023-05-04T18:23:06.440Z"
   },
   {
    "duration": 62,
    "start_time": "2023-05-04T18:23:06.482Z"
   },
   {
    "duration": 65,
    "start_time": "2023-05-04T18:23:06.546Z"
   },
   {
    "duration": 22,
    "start_time": "2023-05-04T18:23:06.618Z"
   },
   {
    "duration": 14,
    "start_time": "2023-05-04T18:23:06.652Z"
   },
   {
    "duration": 101,
    "start_time": "2023-05-04T18:23:06.669Z"
   },
   {
    "duration": 170,
    "start_time": "2023-05-04T18:23:06.773Z"
   },
   {
    "duration": 10,
    "start_time": "2023-05-04T18:23:06.961Z"
   },
   {
    "duration": 14,
    "start_time": "2023-05-04T18:23:06.973Z"
   },
   {
    "duration": 74,
    "start_time": "2023-05-04T18:23:06.988Z"
   },
   {
    "duration": 10,
    "start_time": "2023-05-04T18:23:07.068Z"
   },
   {
    "duration": 8,
    "start_time": "2023-05-04T18:23:07.080Z"
   },
   {
    "duration": 23,
    "start_time": "2023-05-04T18:23:07.090Z"
   },
   {
    "duration": 26,
    "start_time": "2023-05-04T18:23:07.123Z"
   },
   {
    "duration": 22,
    "start_time": "2023-05-04T18:23:07.154Z"
   },
   {
    "duration": 68,
    "start_time": "2023-05-04T18:23:07.178Z"
   },
   {
    "duration": 9,
    "start_time": "2023-05-04T18:23:07.249Z"
   },
   {
    "duration": 75,
    "start_time": "2023-05-04T18:23:07.267Z"
   },
   {
    "duration": 83,
    "start_time": "2023-05-04T18:23:07.344Z"
   },
   {
    "duration": 267,
    "start_time": "2023-05-04T18:23:07.432Z"
   },
   {
    "duration": 13,
    "start_time": "2023-05-04T18:23:07.705Z"
   },
   {
    "duration": 26,
    "start_time": "2023-05-04T18:23:07.724Z"
   },
   {
    "duration": 17,
    "start_time": "2023-05-04T18:23:07.752Z"
   },
   {
    "duration": 27,
    "start_time": "2023-05-04T18:23:07.771Z"
   },
   {
    "duration": 36,
    "start_time": "2023-05-04T18:23:07.806Z"
   },
   {
    "duration": 621,
    "start_time": "2023-05-04T18:23:07.844Z"
   },
   {
    "duration": 31,
    "start_time": "2023-05-04T18:23:08.467Z"
   },
   {
    "duration": 113,
    "start_time": "2023-05-04T18:23:08.509Z"
   },
   {
    "duration": 3,
    "start_time": "2023-05-04T18:23:08.624Z"
   },
   {
    "duration": 69,
    "start_time": "2023-05-04T18:23:08.628Z"
   },
   {
    "duration": 479,
    "start_time": "2023-05-04T18:23:08.699Z"
   },
   {
    "duration": 216,
    "start_time": "2023-05-04T18:23:09.182Z"
   },
   {
    "duration": 36,
    "start_time": "2023-05-04T18:23:09.400Z"
   },
   {
    "duration": 480,
    "start_time": "2023-05-04T18:23:09.441Z"
   },
   {
    "duration": 32,
    "start_time": "2023-05-04T18:23:09.927Z"
   },
   {
    "duration": 41,
    "start_time": "2023-05-04T18:23:09.964Z"
   },
   {
    "duration": 34,
    "start_time": "2023-05-04T18:23:10.013Z"
   },
   {
    "duration": 23,
    "start_time": "2023-05-04T18:23:10.057Z"
   },
   {
    "duration": 64,
    "start_time": "2023-05-04T18:23:10.082Z"
   },
   {
    "duration": 70,
    "start_time": "2023-05-04T18:23:10.149Z"
   },
   {
    "duration": 18,
    "start_time": "2023-05-04T18:23:10.221Z"
   },
   {
    "duration": 34,
    "start_time": "2023-05-04T18:23:10.240Z"
   },
   {
    "duration": 23,
    "start_time": "2023-05-04T18:23:10.277Z"
   },
   {
    "duration": 28,
    "start_time": "2023-05-04T18:23:10.306Z"
   },
   {
    "duration": 711,
    "start_time": "2023-05-04T18:23:10.339Z"
   },
   {
    "duration": 50,
    "start_time": "2023-05-04T18:23:11.092Z"
   },
   {
    "duration": 364,
    "start_time": "2023-05-04T18:23:11.149Z"
   },
   {
    "duration": 87,
    "start_time": "2023-05-04T18:23:11.515Z"
   },
   {
    "duration": 40,
    "start_time": "2023-05-04T18:23:11.612Z"
   },
   {
    "duration": 62,
    "start_time": "2023-05-04T18:23:11.655Z"
   },
   {
    "duration": 74,
    "start_time": "2023-05-04T18:23:11.720Z"
   },
   {
    "duration": 42,
    "start_time": "2023-05-04T18:23:11.797Z"
   },
   {
    "duration": 23,
    "start_time": "2023-05-04T18:23:11.841Z"
   },
   {
    "duration": 54,
    "start_time": "2023-05-04T18:23:11.867Z"
   },
   {
    "duration": 20,
    "start_time": "2023-05-04T18:23:11.922Z"
   },
   {
    "duration": 80,
    "start_time": "2023-05-04T18:23:11.943Z"
   },
   {
    "duration": 10,
    "start_time": "2023-05-04T18:23:12.026Z"
   },
   {
    "duration": 105,
    "start_time": "2023-05-04T18:23:12.038Z"
   },
   {
    "duration": 44,
    "start_time": "2023-05-04T18:25:44.700Z"
   },
   {
    "duration": 9,
    "start_time": "2023-05-04T18:25:45.337Z"
   },
   {
    "duration": 39,
    "start_time": "2023-05-04T18:28:31.410Z"
   },
   {
    "duration": 14,
    "start_time": "2023-05-04T18:28:31.839Z"
   },
   {
    "duration": 19,
    "start_time": "2023-05-04T18:28:55.542Z"
   },
   {
    "duration": 24,
    "start_time": "2023-05-04T18:29:17.816Z"
   },
   {
    "duration": 33,
    "start_time": "2023-05-04T18:29:51.416Z"
   },
   {
    "duration": 30,
    "start_time": "2023-05-04T18:29:56.465Z"
   },
   {
    "duration": 1659,
    "start_time": "2023-05-04T18:30:12.390Z"
   },
   {
    "duration": 1778,
    "start_time": "2023-05-04T18:30:29.984Z"
   },
   {
    "duration": 26,
    "start_time": "2023-05-04T18:30:59.039Z"
   },
   {
    "duration": 37,
    "start_time": "2023-05-04T18:31:14.010Z"
   },
   {
    "duration": 42,
    "start_time": "2023-05-04T18:32:57.580Z"
   },
   {
    "duration": 23,
    "start_time": "2023-05-04T18:33:11.327Z"
   },
   {
    "duration": 9,
    "start_time": "2023-05-04T18:33:13.675Z"
   },
   {
    "duration": 35,
    "start_time": "2023-05-04T18:33:28.180Z"
   },
   {
    "duration": 10,
    "start_time": "2023-05-04T18:33:31.230Z"
   },
   {
    "duration": 31,
    "start_time": "2023-05-04T18:33:35.171Z"
   },
   {
    "duration": 41,
    "start_time": "2023-05-04T18:41:04.707Z"
   },
   {
    "duration": 1398,
    "start_time": "2023-05-04T19:14:24.610Z"
   },
   {
    "duration": 790,
    "start_time": "2023-05-04T19:14:26.022Z"
   },
   {
    "duration": 23,
    "start_time": "2023-05-04T19:14:26.820Z"
   },
   {
    "duration": 17,
    "start_time": "2023-05-04T19:14:26.847Z"
   },
   {
    "duration": 36,
    "start_time": "2023-05-04T19:14:26.865Z"
   },
   {
    "duration": 37,
    "start_time": "2023-05-04T19:14:26.909Z"
   },
   {
    "duration": 65,
    "start_time": "2023-05-04T19:14:26.949Z"
   },
   {
    "duration": 33,
    "start_time": "2023-05-04T19:14:27.017Z"
   },
   {
    "duration": 66,
    "start_time": "2023-05-04T19:14:27.052Z"
   },
   {
    "duration": 23,
    "start_time": "2023-05-04T19:14:27.127Z"
   },
   {
    "duration": 27,
    "start_time": "2023-05-04T19:14:27.152Z"
   },
   {
    "duration": 132,
    "start_time": "2023-05-04T19:14:27.182Z"
   },
   {
    "duration": 192,
    "start_time": "2023-05-04T19:14:27.322Z"
   },
   {
    "duration": 26,
    "start_time": "2023-05-04T19:14:27.522Z"
   },
   {
    "duration": 18,
    "start_time": "2023-05-04T19:14:27.554Z"
   },
   {
    "duration": 12,
    "start_time": "2023-05-04T19:14:27.574Z"
   },
   {
    "duration": 19,
    "start_time": "2023-05-04T19:14:27.587Z"
   },
   {
    "duration": 41,
    "start_time": "2023-05-04T19:14:27.609Z"
   },
   {
    "duration": 34,
    "start_time": "2023-05-04T19:14:27.653Z"
   },
   {
    "duration": 44,
    "start_time": "2023-05-04T19:14:27.689Z"
   },
   {
    "duration": 36,
    "start_time": "2023-05-04T19:14:27.736Z"
   },
   {
    "duration": 56,
    "start_time": "2023-05-04T19:14:27.775Z"
   },
   {
    "duration": 6,
    "start_time": "2023-05-04T19:14:27.833Z"
   },
   {
    "duration": 65,
    "start_time": "2023-05-04T19:14:27.849Z"
   },
   {
    "duration": 65,
    "start_time": "2023-05-04T19:14:27.920Z"
   },
   {
    "duration": 266,
    "start_time": "2023-05-04T19:14:27.987Z"
   },
   {
    "duration": 12,
    "start_time": "2023-05-04T19:14:28.255Z"
   },
   {
    "duration": 39,
    "start_time": "2023-05-04T19:14:28.273Z"
   },
   {
    "duration": 10,
    "start_time": "2023-05-04T19:14:28.314Z"
   },
   {
    "duration": 26,
    "start_time": "2023-05-04T19:14:28.327Z"
   },
   {
    "duration": 26,
    "start_time": "2023-05-04T19:14:28.355Z"
   },
   {
    "duration": 532,
    "start_time": "2023-05-04T19:14:28.383Z"
   },
   {
    "duration": 43,
    "start_time": "2023-05-04T19:14:28.920Z"
   },
   {
    "duration": 56,
    "start_time": "2023-05-04T19:14:28.966Z"
   },
   {
    "duration": 4,
    "start_time": "2023-05-04T19:14:29.027Z"
   },
   {
    "duration": 17,
    "start_time": "2023-05-04T19:14:29.033Z"
   },
   {
    "duration": 426,
    "start_time": "2023-05-04T19:14:29.053Z"
   },
   {
    "duration": 221,
    "start_time": "2023-05-04T19:14:29.481Z"
   },
   {
    "duration": 24,
    "start_time": "2023-05-04T19:14:29.704Z"
   },
   {
    "duration": 419,
    "start_time": "2023-05-04T19:14:29.731Z"
   },
   {
    "duration": 17,
    "start_time": "2023-05-04T19:14:30.152Z"
   },
   {
    "duration": 40,
    "start_time": "2023-05-04T19:14:30.171Z"
   },
   {
    "duration": 13,
    "start_time": "2023-05-04T19:14:30.213Z"
   },
   {
    "duration": 29,
    "start_time": "2023-05-04T19:14:30.228Z"
   },
   {
    "duration": 29,
    "start_time": "2023-05-04T19:14:30.259Z"
   },
   {
    "duration": 67,
    "start_time": "2023-05-04T19:14:30.297Z"
   },
   {
    "duration": 10,
    "start_time": "2023-05-04T19:14:30.366Z"
   },
   {
    "duration": 49,
    "start_time": "2023-05-04T19:14:30.378Z"
   },
   {
    "duration": 58,
    "start_time": "2023-05-04T19:14:30.428Z"
   },
   {
    "duration": 39,
    "start_time": "2023-05-04T19:14:30.489Z"
   },
   {
    "duration": 479,
    "start_time": "2023-05-04T19:14:30.538Z"
   },
   {
    "duration": 30,
    "start_time": "2023-05-04T19:14:31.019Z"
   },
   {
    "duration": 318,
    "start_time": "2023-05-04T19:14:31.052Z"
   },
   {
    "duration": 40,
    "start_time": "2023-05-04T19:14:31.372Z"
   },
   {
    "duration": 125,
    "start_time": "2023-05-04T19:14:31.414Z"
   },
   {
    "duration": 30,
    "start_time": "2023-05-04T19:14:31.540Z"
   },
   {
    "duration": 78,
    "start_time": "2023-05-04T19:14:31.573Z"
   },
   {
    "duration": 82,
    "start_time": "2023-05-04T19:14:31.653Z"
   },
   {
    "duration": 23,
    "start_time": "2023-05-04T19:14:31.737Z"
   },
   {
    "duration": 13,
    "start_time": "2023-05-04T19:14:31.762Z"
   },
   {
    "duration": 175,
    "start_time": "2023-05-04T19:14:31.778Z"
   },
   {
    "duration": 8,
    "start_time": "2023-05-04T19:14:31.955Z"
   },
   {
    "duration": 95,
    "start_time": "2023-05-04T19:14:31.965Z"
   },
   {
    "duration": 1169,
    "start_time": "2023-05-04T20:29:23.076Z"
   },
   {
    "duration": 665,
    "start_time": "2023-05-04T20:29:24.247Z"
   },
   {
    "duration": 14,
    "start_time": "2023-05-04T20:29:24.914Z"
   },
   {
    "duration": 13,
    "start_time": "2023-05-04T20:29:24.930Z"
   },
   {
    "duration": 6,
    "start_time": "2023-05-04T20:29:24.946Z"
   },
   {
    "duration": 13,
    "start_time": "2023-05-04T20:29:24.954Z"
   },
   {
    "duration": 30,
    "start_time": "2023-05-04T20:29:24.968Z"
   },
   {
    "duration": 35,
    "start_time": "2023-05-04T20:29:25.000Z"
   },
   {
    "duration": 26,
    "start_time": "2023-05-04T20:29:25.037Z"
   },
   {
    "duration": 13,
    "start_time": "2023-05-04T20:29:25.065Z"
   },
   {
    "duration": 9,
    "start_time": "2023-05-04T20:29:25.080Z"
   },
   {
    "duration": 98,
    "start_time": "2023-05-04T20:29:25.091Z"
   },
   {
    "duration": 102,
    "start_time": "2023-05-04T20:29:25.191Z"
   },
   {
    "duration": 11,
    "start_time": "2023-05-04T20:29:25.298Z"
   },
   {
    "duration": 26,
    "start_time": "2023-05-04T20:29:25.311Z"
   },
   {
    "duration": 16,
    "start_time": "2023-05-04T20:29:25.339Z"
   },
   {
    "duration": 16,
    "start_time": "2023-05-04T20:29:25.357Z"
   },
   {
    "duration": 12,
    "start_time": "2023-05-04T20:29:25.375Z"
   },
   {
    "duration": 10,
    "start_time": "2023-05-04T20:29:25.389Z"
   },
   {
    "duration": 8,
    "start_time": "2023-05-04T20:29:25.401Z"
   },
   {
    "duration": 27,
    "start_time": "2023-05-04T20:29:25.411Z"
   },
   {
    "duration": 50,
    "start_time": "2023-05-04T20:29:25.442Z"
   },
   {
    "duration": 6,
    "start_time": "2023-05-04T20:29:25.493Z"
   },
   {
    "duration": 51,
    "start_time": "2023-05-04T20:29:25.500Z"
   },
   {
    "duration": 51,
    "start_time": "2023-05-04T20:29:25.553Z"
   },
   {
    "duration": 188,
    "start_time": "2023-05-04T20:29:25.605Z"
   },
   {
    "duration": 8,
    "start_time": "2023-05-04T20:29:25.794Z"
   },
   {
    "duration": 16,
    "start_time": "2023-05-04T20:29:25.803Z"
   },
   {
    "duration": 17,
    "start_time": "2023-05-04T20:29:25.820Z"
   },
   {
    "duration": 17,
    "start_time": "2023-05-04T20:29:25.838Z"
   },
   {
    "duration": 6,
    "start_time": "2023-05-04T20:29:25.857Z"
   },
   {
    "duration": 370,
    "start_time": "2023-05-04T20:29:25.864Z"
   },
   {
    "duration": 20,
    "start_time": "2023-05-04T20:29:26.236Z"
   },
   {
    "duration": 38,
    "start_time": "2023-05-04T20:29:26.258Z"
   },
   {
    "duration": 2,
    "start_time": "2023-05-04T20:29:26.298Z"
   },
   {
    "duration": 34,
    "start_time": "2023-05-04T20:29:26.302Z"
   },
   {
    "duration": 307,
    "start_time": "2023-05-04T20:29:26.338Z"
   },
   {
    "duration": 142,
    "start_time": "2023-05-04T20:29:26.647Z"
   },
   {
    "duration": 18,
    "start_time": "2023-05-04T20:29:26.791Z"
   },
   {
    "duration": 303,
    "start_time": "2023-05-04T20:29:26.811Z"
   },
   {
    "duration": 27,
    "start_time": "2023-05-04T20:29:27.119Z"
   },
   {
    "duration": 50,
    "start_time": "2023-05-04T20:29:27.148Z"
   },
   {
    "duration": 8,
    "start_time": "2023-05-04T20:29:27.200Z"
   },
   {
    "duration": 13,
    "start_time": "2023-05-04T20:29:27.210Z"
   },
   {
    "duration": 18,
    "start_time": "2023-05-04T20:29:27.225Z"
   },
   {
    "duration": 50,
    "start_time": "2023-05-04T20:29:27.244Z"
   },
   {
    "duration": 9,
    "start_time": "2023-05-04T20:29:27.295Z"
   },
   {
    "duration": 37,
    "start_time": "2023-05-04T20:29:27.305Z"
   },
   {
    "duration": 7,
    "start_time": "2023-05-04T20:29:27.344Z"
   },
   {
    "duration": 12,
    "start_time": "2023-05-04T20:29:27.352Z"
   },
   {
    "duration": 287,
    "start_time": "2023-05-04T20:29:27.365Z"
   },
   {
    "duration": 17,
    "start_time": "2023-05-04T20:29:27.655Z"
   },
   {
    "duration": 613,
    "start_time": "2023-05-04T20:29:27.674Z"
   },
   {
    "duration": 15,
    "start_time": "2023-05-04T20:29:28.288Z"
   },
   {
    "duration": 46,
    "start_time": "2023-05-04T20:29:28.305Z"
   },
   {
    "duration": 21,
    "start_time": "2023-05-04T20:29:28.352Z"
   },
   {
    "duration": 63,
    "start_time": "2023-05-04T20:29:28.374Z"
   },
   {
    "duration": 30,
    "start_time": "2023-05-04T20:29:28.439Z"
   },
   {
    "duration": 67,
    "start_time": "2023-05-04T20:29:28.471Z"
   },
   {
    "duration": 8,
    "start_time": "2023-05-04T20:29:28.540Z"
   },
   {
    "duration": 105,
    "start_time": "2023-05-04T20:29:28.550Z"
   },
   {
    "duration": 6,
    "start_time": "2023-05-04T20:29:28.657Z"
   },
   {
    "duration": 49,
    "start_time": "2023-05-04T20:29:28.665Z"
   },
   {
    "duration": 99,
    "start_time": "2023-05-04T20:31:38.222Z"
   },
   {
    "duration": 16,
    "start_time": "2023-05-04T20:31:40.741Z"
   },
   {
    "duration": 17,
    "start_time": "2023-05-04T20:31:41.720Z"
   },
   {
    "duration": 22,
    "start_time": "2023-05-04T20:32:15.740Z"
   },
   {
    "duration": 6,
    "start_time": "2023-05-04T20:33:31.682Z"
   },
   {
    "duration": 37,
    "start_time": "2023-05-04T20:33:33.163Z"
   },
   {
    "duration": 1577,
    "start_time": "2023-05-05T09:35:10.127Z"
   },
   {
    "duration": 2381,
    "start_time": "2023-05-05T09:35:11.706Z"
   },
   {
    "duration": 14,
    "start_time": "2023-05-05T09:35:14.088Z"
   },
   {
    "duration": 25,
    "start_time": "2023-05-05T09:35:14.105Z"
   },
   {
    "duration": 32,
    "start_time": "2023-05-05T09:35:14.132Z"
   },
   {
    "duration": 28,
    "start_time": "2023-05-05T09:35:14.166Z"
   },
   {
    "duration": 32,
    "start_time": "2023-05-05T09:35:14.195Z"
   },
   {
    "duration": 47,
    "start_time": "2023-05-05T09:35:14.229Z"
   },
   {
    "duration": 30,
    "start_time": "2023-05-05T09:35:14.278Z"
   },
   {
    "duration": 13,
    "start_time": "2023-05-05T09:35:14.311Z"
   },
   {
    "duration": 11,
    "start_time": "2023-05-05T09:35:14.326Z"
   },
   {
    "duration": 91,
    "start_time": "2023-05-05T09:35:14.339Z"
   },
   {
    "duration": 102,
    "start_time": "2023-05-05T09:35:14.432Z"
   },
   {
    "duration": 14,
    "start_time": "2023-05-05T09:35:14.536Z"
   },
   {
    "duration": 31,
    "start_time": "2023-05-05T09:35:14.552Z"
   },
   {
    "duration": 8,
    "start_time": "2023-05-05T09:35:14.585Z"
   },
   {
    "duration": 9,
    "start_time": "2023-05-05T09:35:14.595Z"
   },
   {
    "duration": 7,
    "start_time": "2023-05-05T09:35:14.606Z"
   },
   {
    "duration": 39,
    "start_time": "2023-05-05T09:35:14.615Z"
   },
   {
    "duration": 9,
    "start_time": "2023-05-05T09:35:14.656Z"
   },
   {
    "duration": 18,
    "start_time": "2023-05-05T09:35:14.666Z"
   },
   {
    "duration": 68,
    "start_time": "2023-05-05T09:35:14.686Z"
   },
   {
    "duration": 9,
    "start_time": "2023-05-05T09:35:14.758Z"
   },
   {
    "duration": 58,
    "start_time": "2023-05-05T09:35:14.769Z"
   },
   {
    "duration": 57,
    "start_time": "2023-05-05T09:35:14.829Z"
   },
   {
    "duration": 252,
    "start_time": "2023-05-05T09:35:14.888Z"
   },
   {
    "duration": 14,
    "start_time": "2023-05-05T09:35:15.147Z"
   },
   {
    "duration": 13,
    "start_time": "2023-05-05T09:35:15.167Z"
   },
   {
    "duration": 13,
    "start_time": "2023-05-05T09:35:15.182Z"
   },
   {
    "duration": 29,
    "start_time": "2023-05-05T09:35:15.198Z"
   },
   {
    "duration": 39,
    "start_time": "2023-05-05T09:35:15.229Z"
   },
   {
    "duration": 454,
    "start_time": "2023-05-05T09:35:15.270Z"
   },
   {
    "duration": 29,
    "start_time": "2023-05-05T09:35:15.726Z"
   },
   {
    "duration": 44,
    "start_time": "2023-05-05T09:35:15.757Z"
   },
   {
    "duration": 3,
    "start_time": "2023-05-05T09:35:15.803Z"
   },
   {
    "duration": 49,
    "start_time": "2023-05-05T09:35:15.808Z"
   },
   {
    "duration": 332,
    "start_time": "2023-05-05T09:35:15.861Z"
   },
   {
    "duration": 228,
    "start_time": "2023-05-05T09:35:16.195Z"
   },
   {
    "duration": 36,
    "start_time": "2023-05-05T09:35:16.425Z"
   },
   {
    "duration": 362,
    "start_time": "2023-05-05T09:35:16.463Z"
   },
   {
    "duration": 31,
    "start_time": "2023-05-05T09:35:16.828Z"
   },
   {
    "duration": 34,
    "start_time": "2023-05-05T09:35:16.861Z"
   },
   {
    "duration": 13,
    "start_time": "2023-05-05T09:35:16.898Z"
   },
   {
    "duration": 156,
    "start_time": "2023-05-05T09:35:16.912Z"
   },
   {
    "duration": 19,
    "start_time": "2023-05-05T09:35:17.070Z"
   },
   {
    "duration": 64,
    "start_time": "2023-05-05T09:35:17.091Z"
   },
   {
    "duration": 8,
    "start_time": "2023-05-05T09:35:17.158Z"
   },
   {
    "duration": 15,
    "start_time": "2023-05-05T09:35:17.168Z"
   },
   {
    "duration": 10,
    "start_time": "2023-05-05T09:35:17.185Z"
   },
   {
    "duration": 18,
    "start_time": "2023-05-05T09:35:17.197Z"
   },
   {
    "duration": 347,
    "start_time": "2023-05-05T09:35:17.217Z"
   },
   {
    "duration": 17,
    "start_time": "2023-05-05T09:35:17.567Z"
   },
   {
    "duration": 218,
    "start_time": "2023-05-05T09:35:17.586Z"
   },
   {
    "duration": 16,
    "start_time": "2023-05-05T09:35:17.807Z"
   },
   {
    "duration": 76,
    "start_time": "2023-05-05T09:35:17.825Z"
   },
   {
    "duration": 33,
    "start_time": "2023-05-05T09:35:17.903Z"
   },
   {
    "duration": 40,
    "start_time": "2023-05-05T09:35:17.939Z"
   },
   {
    "duration": 43,
    "start_time": "2023-05-05T09:35:17.981Z"
   },
   {
    "duration": 12,
    "start_time": "2023-05-05T09:35:18.026Z"
   },
   {
    "duration": 244,
    "start_time": "2023-05-05T09:35:18.044Z"
   },
   {
    "duration": 255,
    "start_time": "2023-05-05T09:35:18.290Z"
   },
   {
    "duration": 11,
    "start_time": "2023-05-05T09:35:18.547Z"
   },
   {
    "duration": 182,
    "start_time": "2023-05-05T09:35:18.560Z"
   },
   {
    "duration": 30,
    "start_time": "2023-05-05T09:40:32.669Z"
   },
   {
    "duration": 38,
    "start_time": "2023-05-05T09:40:51.859Z"
   },
   {
    "duration": 59,
    "start_time": "2023-05-05T09:41:21.517Z"
   },
   {
    "duration": 34,
    "start_time": "2023-05-05T09:41:27.423Z"
   },
   {
    "duration": 34,
    "start_time": "2023-05-05T09:41:27.793Z"
   },
   {
    "duration": 53,
    "start_time": "2023-05-05T09:45:49.631Z"
   },
   {
    "duration": 49,
    "start_time": "2023-05-05T09:45:56.083Z"
   },
   {
    "duration": 30,
    "start_time": "2023-05-05T09:46:08.004Z"
   },
   {
    "duration": 36,
    "start_time": "2023-05-05T09:49:59.813Z"
   },
   {
    "duration": 37,
    "start_time": "2023-05-05T09:50:21.891Z"
   },
   {
    "duration": 45,
    "start_time": "2023-05-05T09:51:11.726Z"
   },
   {
    "duration": 178,
    "start_time": "2023-05-05T09:52:10.293Z"
   },
   {
    "duration": 42,
    "start_time": "2023-05-05T09:52:13.123Z"
   },
   {
    "duration": 32,
    "start_time": "2023-05-05T09:53:14.799Z"
   },
   {
    "duration": 32,
    "start_time": "2023-05-05T09:53:16.690Z"
   },
   {
    "duration": 35,
    "start_time": "2023-05-05T09:53:17.089Z"
   },
   {
    "duration": 50,
    "start_time": "2023-05-05T09:53:17.629Z"
   },
   {
    "duration": 44,
    "start_time": "2023-05-05T09:53:18.562Z"
   },
   {
    "duration": 39,
    "start_time": "2023-05-05T10:02:03.929Z"
   },
   {
    "duration": 31,
    "start_time": "2023-05-05T10:02:56.290Z"
   },
   {
    "duration": 46,
    "start_time": "2023-05-05T10:07:58.480Z"
   },
   {
    "duration": 3,
    "start_time": "2023-05-05T10:17:43.664Z"
   },
   {
    "duration": 11,
    "start_time": "2023-05-05T10:18:00.268Z"
   },
   {
    "duration": 485,
    "start_time": "2023-05-05T10:18:49.675Z"
   },
   {
    "duration": 1349,
    "start_time": "2023-05-05T10:19:22.207Z"
   },
   {
    "duration": 933,
    "start_time": "2023-05-05T10:19:23.560Z"
   },
   {
    "duration": 70,
    "start_time": "2023-05-05T10:19:24.495Z"
   },
   {
    "duration": 23,
    "start_time": "2023-05-05T10:19:24.568Z"
   },
   {
    "duration": 8,
    "start_time": "2023-05-05T10:19:24.593Z"
   },
   {
    "duration": 17,
    "start_time": "2023-05-05T10:19:24.644Z"
   },
   {
    "duration": 80,
    "start_time": "2023-05-05T10:19:24.666Z"
   },
   {
    "duration": 33,
    "start_time": "2023-05-05T10:19:24.747Z"
   },
   {
    "duration": 77,
    "start_time": "2023-05-05T10:19:24.782Z"
   },
   {
    "duration": 22,
    "start_time": "2023-05-05T10:19:24.864Z"
   },
   {
    "duration": 72,
    "start_time": "2023-05-05T10:19:24.888Z"
   },
   {
    "duration": 200,
    "start_time": "2023-05-05T10:19:24.964Z"
   },
   {
    "duration": 304,
    "start_time": "2023-05-05T10:19:25.174Z"
   },
   {
    "duration": 87,
    "start_time": "2023-05-05T10:19:25.480Z"
   },
   {
    "duration": 28,
    "start_time": "2023-05-05T10:19:25.569Z"
   },
   {
    "duration": 47,
    "start_time": "2023-05-05T10:19:25.599Z"
   },
   {
    "duration": 55,
    "start_time": "2023-05-05T10:19:25.650Z"
   },
   {
    "duration": 47,
    "start_time": "2023-05-05T10:19:25.707Z"
   },
   {
    "duration": 55,
    "start_time": "2023-05-05T10:19:25.758Z"
   },
   {
    "duration": 43,
    "start_time": "2023-05-05T10:19:25.848Z"
   },
   {
    "duration": 51,
    "start_time": "2023-05-05T10:19:25.894Z"
   },
   {
    "duration": 138,
    "start_time": "2023-05-05T10:19:25.947Z"
   },
   {
    "duration": 6,
    "start_time": "2023-05-05T10:19:26.087Z"
   },
   {
    "duration": 127,
    "start_time": "2023-05-05T10:19:26.147Z"
   },
   {
    "duration": 172,
    "start_time": "2023-05-05T10:19:26.276Z"
   },
   {
    "duration": 529,
    "start_time": "2023-05-05T10:19:26.450Z"
   },
   {
    "duration": 9,
    "start_time": "2023-05-05T10:19:26.981Z"
   },
   {
    "duration": 104,
    "start_time": "2023-05-05T10:19:26.995Z"
   },
   {
    "duration": 41,
    "start_time": "2023-05-05T10:19:27.101Z"
   },
   {
    "duration": 15,
    "start_time": "2023-05-05T10:19:27.144Z"
   },
   {
    "duration": 85,
    "start_time": "2023-05-05T10:19:27.161Z"
   },
   {
    "duration": 1139,
    "start_time": "2023-05-05T10:19:27.248Z"
   },
   {
    "duration": 88,
    "start_time": "2023-05-05T10:19:28.389Z"
   },
   {
    "duration": 108,
    "start_time": "2023-05-05T10:19:28.479Z"
   },
   {
    "duration": 59,
    "start_time": "2023-05-05T10:19:28.589Z"
   },
   {
    "duration": 51,
    "start_time": "2023-05-05T10:19:28.650Z"
   },
   {
    "duration": 618,
    "start_time": "2023-05-05T10:19:28.704Z"
   },
   {
    "duration": 206,
    "start_time": "2023-05-05T10:19:29.325Z"
   },
   {
    "duration": 31,
    "start_time": "2023-05-05T10:19:29.533Z"
   },
   {
    "duration": 367,
    "start_time": "2023-05-05T10:19:29.567Z"
   },
   {
    "duration": 23,
    "start_time": "2023-05-05T10:19:29.937Z"
   },
   {
    "duration": 50,
    "start_time": "2023-05-05T10:19:29.962Z"
   },
   {
    "duration": 10,
    "start_time": "2023-05-05T10:19:30.014Z"
   },
   {
    "duration": 57,
    "start_time": "2023-05-05T10:19:30.026Z"
   },
   {
    "duration": 45,
    "start_time": "2023-05-05T10:19:30.085Z"
   },
   {
    "duration": 103,
    "start_time": "2023-05-05T10:19:30.132Z"
   },
   {
    "duration": 73,
    "start_time": "2023-05-05T10:19:30.237Z"
   },
   {
    "duration": 82,
    "start_time": "2023-05-05T10:19:30.312Z"
   },
   {
    "duration": 39,
    "start_time": "2023-05-05T10:19:30.396Z"
   },
   {
    "duration": 58,
    "start_time": "2023-05-05T10:19:30.437Z"
   },
   {
    "duration": 76,
    "start_time": "2023-05-05T10:19:30.497Z"
   },
   {
    "duration": 469,
    "start_time": "2023-05-05T10:19:30.575Z"
   },
   {
    "duration": 31,
    "start_time": "2023-05-05T10:19:31.048Z"
   },
   {
    "duration": 229,
    "start_time": "2023-05-05T10:19:31.082Z"
   },
   {
    "duration": 32,
    "start_time": "2023-05-05T10:19:31.313Z"
   },
   {
    "duration": 42,
    "start_time": "2023-05-05T10:19:31.349Z"
   },
   {
    "duration": 78,
    "start_time": "2023-05-05T10:19:31.394Z"
   },
   {
    "duration": 46,
    "start_time": "2023-05-05T10:19:31.476Z"
   },
   {
    "duration": 56,
    "start_time": "2023-05-05T10:19:31.524Z"
   },
   {
    "duration": 33,
    "start_time": "2023-05-05T10:19:31.582Z"
   },
   {
    "duration": 58,
    "start_time": "2023-05-05T10:19:31.617Z"
   },
   {
    "duration": 152,
    "start_time": "2023-05-05T10:19:31.677Z"
   },
   {
    "duration": 5,
    "start_time": "2023-05-05T10:19:31.832Z"
   },
   {
    "duration": 116,
    "start_time": "2023-05-05T10:19:31.839Z"
   },
   {
    "duration": 6,
    "start_time": "2023-05-05T10:22:30.445Z"
   },
   {
    "duration": 99,
    "start_time": "2023-05-05T10:23:48.368Z"
   },
   {
    "duration": 8,
    "start_time": "2023-05-05T10:25:30.368Z"
   },
   {
    "duration": 9,
    "start_time": "2023-05-05T10:25:55.072Z"
   },
   {
    "duration": 31,
    "start_time": "2023-05-05T10:27:25.317Z"
   },
   {
    "duration": 10,
    "start_time": "2023-05-05T10:28:01.018Z"
   },
   {
    "duration": 314,
    "start_time": "2023-05-05T10:28:30.442Z"
   },
   {
    "duration": 289,
    "start_time": "2023-05-05T10:28:51.094Z"
   },
   {
    "duration": 296,
    "start_time": "2023-05-05T10:28:59.602Z"
   },
   {
    "duration": 309,
    "start_time": "2023-05-05T10:30:59.164Z"
   },
   {
    "duration": 9,
    "start_time": "2023-05-05T10:35:15.001Z"
   },
   {
    "duration": 468,
    "start_time": "2023-05-05T10:35:20.414Z"
   },
   {
    "duration": 155,
    "start_time": "2023-05-05T11:09:05.536Z"
   },
   {
    "duration": 14,
    "start_time": "2023-05-05T11:09:19.112Z"
   },
   {
    "duration": 36,
    "start_time": "2023-05-05T11:10:01.282Z"
   },
   {
    "duration": 21,
    "start_time": "2023-05-05T11:10:27.502Z"
   },
   {
    "duration": 28,
    "start_time": "2023-05-05T11:10:31.705Z"
   },
   {
    "duration": 20,
    "start_time": "2023-05-05T11:10:58.790Z"
   },
   {
    "duration": 21,
    "start_time": "2023-05-05T11:11:05.681Z"
   },
   {
    "duration": 34,
    "start_time": "2023-05-05T11:12:22.552Z"
   },
   {
    "duration": 66,
    "start_time": "2023-05-05T11:14:02.313Z"
   },
   {
    "duration": 36,
    "start_time": "2023-05-05T11:14:08.926Z"
   },
   {
    "duration": 30,
    "start_time": "2023-05-05T11:14:22.778Z"
   },
   {
    "duration": 23,
    "start_time": "2023-05-05T11:14:51.678Z"
   },
   {
    "duration": 1328,
    "start_time": "2023-05-05T16:05:12.900Z"
   },
   {
    "duration": 1895,
    "start_time": "2023-05-05T16:05:14.230Z"
   },
   {
    "duration": 16,
    "start_time": "2023-05-05T16:05:16.128Z"
   },
   {
    "duration": 11,
    "start_time": "2023-05-05T16:05:16.147Z"
   },
   {
    "duration": 9,
    "start_time": "2023-05-05T16:05:16.160Z"
   },
   {
    "duration": 18,
    "start_time": "2023-05-05T16:05:16.170Z"
   },
   {
    "duration": 34,
    "start_time": "2023-05-05T16:05:16.190Z"
   },
   {
    "duration": 13,
    "start_time": "2023-05-05T16:05:16.227Z"
   },
   {
    "duration": 35,
    "start_time": "2023-05-05T16:05:16.242Z"
   },
   {
    "duration": 10,
    "start_time": "2023-05-05T16:05:16.280Z"
   },
   {
    "duration": 8,
    "start_time": "2023-05-05T16:05:16.292Z"
   },
   {
    "duration": 50,
    "start_time": "2023-05-05T16:05:16.302Z"
   },
   {
    "duration": 78,
    "start_time": "2023-05-05T16:05:16.371Z"
   },
   {
    "duration": 7,
    "start_time": "2023-05-05T16:05:16.450Z"
   },
   {
    "duration": 11,
    "start_time": "2023-05-05T16:05:16.472Z"
   },
   {
    "duration": 6,
    "start_time": "2023-05-05T16:05:16.484Z"
   },
   {
    "duration": 10,
    "start_time": "2023-05-05T16:05:16.491Z"
   },
   {
    "duration": 12,
    "start_time": "2023-05-05T16:05:16.503Z"
   },
   {
    "duration": 6,
    "start_time": "2023-05-05T16:05:16.516Z"
   },
   {
    "duration": 6,
    "start_time": "2023-05-05T16:05:16.524Z"
   },
   {
    "duration": 11,
    "start_time": "2023-05-05T16:05:16.532Z"
   },
   {
    "duration": 54,
    "start_time": "2023-05-05T16:05:16.545Z"
   },
   {
    "duration": 4,
    "start_time": "2023-05-05T16:05:16.601Z"
   },
   {
    "duration": 45,
    "start_time": "2023-05-05T16:05:16.606Z"
   },
   {
    "duration": 48,
    "start_time": "2023-05-05T16:05:16.652Z"
   },
   {
    "duration": 144,
    "start_time": "2023-05-05T16:05:16.702Z"
   },
   {
    "duration": 7,
    "start_time": "2023-05-05T16:05:16.848Z"
   },
   {
    "duration": 20,
    "start_time": "2023-05-05T16:05:16.858Z"
   },
   {
    "duration": 5,
    "start_time": "2023-05-05T16:05:16.879Z"
   },
   {
    "duration": 19,
    "start_time": "2023-05-05T16:05:16.885Z"
   },
   {
    "duration": 6,
    "start_time": "2023-05-05T16:05:16.906Z"
   },
   {
    "duration": 314,
    "start_time": "2023-05-05T16:05:16.913Z"
   },
   {
    "duration": 17,
    "start_time": "2023-05-05T16:05:17.228Z"
   },
   {
    "duration": 37,
    "start_time": "2023-05-05T16:05:17.247Z"
   },
   {
    "duration": 3,
    "start_time": "2023-05-05T16:05:17.285Z"
   },
   {
    "duration": 13,
    "start_time": "2023-05-05T16:05:17.289Z"
   },
   {
    "duration": 259,
    "start_time": "2023-05-05T16:05:17.304Z"
   },
   {
    "duration": 93,
    "start_time": "2023-05-05T16:05:17.565Z"
   },
   {
    "duration": 21,
    "start_time": "2023-05-05T16:05:17.660Z"
   },
   {
    "duration": 246,
    "start_time": "2023-05-05T16:05:17.683Z"
   },
   {
    "duration": 13,
    "start_time": "2023-05-05T16:05:17.931Z"
   },
   {
    "duration": 36,
    "start_time": "2023-05-05T16:05:17.945Z"
   },
   {
    "duration": 7,
    "start_time": "2023-05-05T16:05:17.982Z"
   },
   {
    "duration": 29,
    "start_time": "2023-05-05T16:05:17.990Z"
   },
   {
    "duration": 15,
    "start_time": "2023-05-05T16:05:18.020Z"
   },
   {
    "duration": 36,
    "start_time": "2023-05-05T16:05:18.036Z"
   },
   {
    "duration": 25,
    "start_time": "2023-05-05T16:05:18.074Z"
   },
   {
    "duration": 8,
    "start_time": "2023-05-05T16:05:18.100Z"
   },
   {
    "duration": 18,
    "start_time": "2023-05-05T16:05:18.109Z"
   },
   {
    "duration": 8,
    "start_time": "2023-05-05T16:05:18.129Z"
   },
   {
    "duration": 6,
    "start_time": "2023-05-05T16:05:18.138Z"
   },
   {
    "duration": 263,
    "start_time": "2023-05-05T16:05:18.145Z"
   },
   {
    "duration": 203,
    "start_time": "2023-05-05T16:05:18.410Z"
   },
   {
    "duration": 14,
    "start_time": "2023-05-05T16:05:18.614Z"
   },
   {
    "duration": 235,
    "start_time": "2023-05-05T16:05:18.630Z"
   },
   {
    "duration": 156,
    "start_time": "2023-05-05T16:05:18.867Z"
   },
   {
    "duration": 0,
    "start_time": "2023-05-05T16:05:19.024Z"
   },
   {
    "duration": 0,
    "start_time": "2023-05-05T16:05:19.026Z"
   },
   {
    "duration": 0,
    "start_time": "2023-05-05T16:05:19.027Z"
   },
   {
    "duration": 0,
    "start_time": "2023-05-05T16:05:19.028Z"
   },
   {
    "duration": 0,
    "start_time": "2023-05-05T16:05:19.029Z"
   },
   {
    "duration": 0,
    "start_time": "2023-05-05T16:05:19.030Z"
   },
   {
    "duration": 0,
    "start_time": "2023-05-05T16:05:19.031Z"
   },
   {
    "duration": 0,
    "start_time": "2023-05-05T16:05:19.032Z"
   },
   {
    "duration": 0,
    "start_time": "2023-05-05T16:05:19.073Z"
   },
   {
    "duration": 26,
    "start_time": "2023-05-05T16:06:09.223Z"
   },
   {
    "duration": 16,
    "start_time": "2023-05-05T16:06:39.354Z"
   },
   {
    "duration": 18,
    "start_time": "2023-05-05T16:06:44.695Z"
   },
   {
    "duration": 14,
    "start_time": "2023-05-05T16:07:03.293Z"
   },
   {
    "duration": 17,
    "start_time": "2023-05-05T16:07:12.135Z"
   },
   {
    "duration": 20,
    "start_time": "2023-05-05T16:08:24.584Z"
   },
   {
    "duration": 17,
    "start_time": "2023-05-05T16:09:02.783Z"
   },
   {
    "duration": 18,
    "start_time": "2023-05-05T16:09:09.594Z"
   },
   {
    "duration": 10,
    "start_time": "2023-05-05T16:09:10.484Z"
   },
   {
    "duration": 10,
    "start_time": "2023-05-05T16:09:11.086Z"
   },
   {
    "duration": 19,
    "start_time": "2023-05-05T16:09:20.758Z"
   },
   {
    "duration": 13,
    "start_time": "2023-05-05T16:09:30.395Z"
   },
   {
    "duration": 13,
    "start_time": "2023-05-05T16:09:33.111Z"
   },
   {
    "duration": 16,
    "start_time": "2023-05-05T16:09:42.234Z"
   },
   {
    "duration": 1502,
    "start_time": "2023-05-05T17:50:38.497Z"
   },
   {
    "duration": 1104,
    "start_time": "2023-05-05T17:50:40.001Z"
   },
   {
    "duration": 12,
    "start_time": "2023-05-05T17:50:41.107Z"
   },
   {
    "duration": 11,
    "start_time": "2023-05-05T17:50:41.121Z"
   },
   {
    "duration": 10,
    "start_time": "2023-05-05T17:50:41.133Z"
   },
   {
    "duration": 15,
    "start_time": "2023-05-05T17:50:41.144Z"
   },
   {
    "duration": 20,
    "start_time": "2023-05-05T17:50:41.160Z"
   },
   {
    "duration": 33,
    "start_time": "2023-05-05T17:50:41.182Z"
   },
   {
    "duration": 22,
    "start_time": "2023-05-05T17:50:41.217Z"
   },
   {
    "duration": 12,
    "start_time": "2023-05-05T17:50:41.242Z"
   },
   {
    "duration": 9,
    "start_time": "2023-05-05T17:50:41.256Z"
   },
   {
    "duration": 99,
    "start_time": "2023-05-05T17:50:41.267Z"
   },
   {
    "duration": 94,
    "start_time": "2023-05-05T17:50:41.368Z"
   },
   {
    "duration": 11,
    "start_time": "2023-05-05T17:50:41.464Z"
   },
   {
    "duration": 14,
    "start_time": "2023-05-05T17:50:41.476Z"
   },
   {
    "duration": 22,
    "start_time": "2023-05-05T17:50:41.492Z"
   },
   {
    "duration": 10,
    "start_time": "2023-05-05T17:50:41.517Z"
   },
   {
    "duration": 9,
    "start_time": "2023-05-05T17:50:41.529Z"
   },
   {
    "duration": 9,
    "start_time": "2023-05-05T17:50:41.540Z"
   },
   {
    "duration": 7,
    "start_time": "2023-05-05T17:50:41.551Z"
   },
   {
    "duration": 53,
    "start_time": "2023-05-05T17:50:41.560Z"
   },
   {
    "duration": 44,
    "start_time": "2023-05-05T17:50:41.614Z"
   },
   {
    "duration": 7,
    "start_time": "2023-05-05T17:50:41.660Z"
   },
   {
    "duration": 86,
    "start_time": "2023-05-05T17:50:41.669Z"
   },
   {
    "duration": 57,
    "start_time": "2023-05-05T17:50:41.757Z"
   },
   {
    "duration": 209,
    "start_time": "2023-05-05T17:50:41.816Z"
   },
   {
    "duration": 8,
    "start_time": "2023-05-05T17:50:42.027Z"
   },
   {
    "duration": 25,
    "start_time": "2023-05-05T17:50:42.040Z"
   },
   {
    "duration": 6,
    "start_time": "2023-05-05T17:50:42.066Z"
   },
   {
    "duration": 15,
    "start_time": "2023-05-05T17:50:42.074Z"
   },
   {
    "duration": 21,
    "start_time": "2023-05-05T17:50:42.091Z"
   },
   {
    "duration": 396,
    "start_time": "2023-05-05T17:50:42.115Z"
   },
   {
    "duration": 22,
    "start_time": "2023-05-05T17:50:42.513Z"
   },
   {
    "duration": 43,
    "start_time": "2023-05-05T17:50:42.536Z"
   },
   {
    "duration": 3,
    "start_time": "2023-05-05T17:50:42.580Z"
   },
   {
    "duration": 35,
    "start_time": "2023-05-05T17:50:42.584Z"
   },
   {
    "duration": 368,
    "start_time": "2023-05-05T17:50:42.621Z"
   },
   {
    "duration": 151,
    "start_time": "2023-05-05T17:50:42.991Z"
   },
   {
    "duration": 21,
    "start_time": "2023-05-05T17:50:43.145Z"
   },
   {
    "duration": 325,
    "start_time": "2023-05-05T17:50:43.168Z"
   },
   {
    "duration": 25,
    "start_time": "2023-05-05T17:50:43.495Z"
   },
   {
    "duration": 25,
    "start_time": "2023-05-05T17:50:43.522Z"
   },
   {
    "duration": 11,
    "start_time": "2023-05-05T17:50:43.549Z"
   },
   {
    "duration": 14,
    "start_time": "2023-05-05T17:50:43.563Z"
   },
   {
    "duration": 48,
    "start_time": "2023-05-05T17:50:43.579Z"
   },
   {
    "duration": 42,
    "start_time": "2023-05-05T17:50:43.628Z"
   },
   {
    "duration": 56,
    "start_time": "2023-05-05T17:50:43.672Z"
   },
   {
    "duration": 10,
    "start_time": "2023-05-05T17:50:43.729Z"
   },
   {
    "duration": 11,
    "start_time": "2023-05-05T17:50:43.741Z"
   },
   {
    "duration": 9,
    "start_time": "2023-05-05T17:50:43.753Z"
   },
   {
    "duration": 6,
    "start_time": "2023-05-05T17:50:43.764Z"
   },
   {
    "duration": 331,
    "start_time": "2023-05-05T17:50:43.771Z"
   },
   {
    "duration": 246,
    "start_time": "2023-05-05T17:50:44.112Z"
   },
   {
    "duration": 16,
    "start_time": "2023-05-05T17:50:44.360Z"
   },
   {
    "duration": 296,
    "start_time": "2023-05-05T17:50:44.378Z"
   },
   {
    "duration": 20,
    "start_time": "2023-05-05T17:50:44.677Z"
   },
   {
    "duration": 20,
    "start_time": "2023-05-05T17:50:44.700Z"
   },
   {
    "duration": 26,
    "start_time": "2023-05-05T17:50:44.722Z"
   },
   {
    "duration": 67,
    "start_time": "2023-05-05T17:50:44.750Z"
   },
   {
    "duration": 34,
    "start_time": "2023-05-05T17:50:44.820Z"
   },
   {
    "duration": 68,
    "start_time": "2023-05-05T17:50:44.855Z"
   },
   {
    "duration": 11,
    "start_time": "2023-05-05T17:50:44.925Z"
   },
   {
    "duration": 38,
    "start_time": "2023-05-05T17:50:44.938Z"
   },
   {
    "duration": 34,
    "start_time": "2023-05-05T17:50:44.978Z"
   },
   {
    "duration": 61,
    "start_time": "2023-05-05T17:50:45.015Z"
   },
   {
    "duration": 32,
    "start_time": "2023-05-05T17:50:58.279Z"
   },
   {
    "duration": 13,
    "start_time": "2023-05-05T17:51:29.962Z"
   },
   {
    "duration": 10,
    "start_time": "2023-05-05T17:51:52.991Z"
   },
   {
    "duration": 14,
    "start_time": "2023-05-05T17:52:11.818Z"
   },
   {
    "duration": 8,
    "start_time": "2023-05-05T17:52:29.271Z"
   },
   {
    "duration": 13,
    "start_time": "2023-05-05T17:54:47.374Z"
   },
   {
    "duration": 20,
    "start_time": "2023-05-05T17:54:52.444Z"
   },
   {
    "duration": 19,
    "start_time": "2023-05-05T17:54:57.470Z"
   },
   {
    "duration": 22,
    "start_time": "2023-05-05T17:58:19.164Z"
   },
   {
    "duration": 20,
    "start_time": "2023-05-05T18:00:56.082Z"
   },
   {
    "duration": 33,
    "start_time": "2023-05-05T18:04:34.807Z"
   },
   {
    "duration": 9,
    "start_time": "2023-05-05T18:05:14.284Z"
   },
   {
    "duration": 21,
    "start_time": "2023-05-05T18:05:18.975Z"
   },
   {
    "duration": 12,
    "start_time": "2023-05-05T18:06:09.406Z"
   },
   {
    "duration": 13,
    "start_time": "2023-05-05T18:07:05.374Z"
   },
   {
    "duration": 289,
    "start_time": "2023-05-05T18:07:53.674Z"
   },
   {
    "duration": 167,
    "start_time": "2023-05-05T18:08:19.149Z"
   },
   {
    "duration": 10,
    "start_time": "2023-05-05T18:09:02.978Z"
   },
   {
    "duration": 36623,
    "start_time": "2023-05-05T18:09:37.337Z"
   },
   {
    "duration": 10,
    "start_time": "2023-05-05T18:13:26.832Z"
   },
   {
    "duration": 7,
    "start_time": "2023-05-05T18:14:07.428Z"
   },
   {
    "duration": 98,
    "start_time": "2023-05-05T18:15:40.609Z"
   },
   {
    "duration": 7,
    "start_time": "2023-05-05T18:16:53.675Z"
   },
   {
    "duration": 11,
    "start_time": "2023-05-05T18:18:33.796Z"
   },
   {
    "duration": 10,
    "start_time": "2023-05-05T18:18:40.329Z"
   },
   {
    "duration": 15,
    "start_time": "2023-05-05T18:20:16.302Z"
   },
   {
    "duration": 9,
    "start_time": "2023-05-05T18:20:16.784Z"
   },
   {
    "duration": 6,
    "start_time": "2023-05-05T18:20:17.639Z"
   },
   {
    "duration": 7,
    "start_time": "2023-05-05T18:20:26.215Z"
   },
   {
    "duration": 7,
    "start_time": "2023-05-05T18:29:45.049Z"
   },
   {
    "duration": 6,
    "start_time": "2023-05-05T18:29:51.082Z"
   },
   {
    "duration": 20,
    "start_time": "2023-05-05T18:36:13.116Z"
   },
   {
    "duration": 17,
    "start_time": "2023-05-05T18:36:16.502Z"
   },
   {
    "duration": 18,
    "start_time": "2023-05-05T18:36:17.337Z"
   },
   {
    "duration": 10,
    "start_time": "2023-05-05T18:37:32.176Z"
   },
   {
    "duration": 298,
    "start_time": "2023-05-05T18:56:32.181Z"
   },
   {
    "duration": 14,
    "start_time": "2023-05-05T19:14:30.203Z"
   },
   {
    "duration": 24,
    "start_time": "2023-05-05T19:16:10.586Z"
   },
   {
    "duration": 27,
    "start_time": "2023-05-05T19:16:48.998Z"
   },
   {
    "duration": 14,
    "start_time": "2023-05-05T19:17:14.318Z"
   },
   {
    "duration": 12,
    "start_time": "2023-05-05T19:17:19.545Z"
   },
   {
    "duration": 11,
    "start_time": "2023-05-05T19:18:05.499Z"
   },
   {
    "duration": 12,
    "start_time": "2023-05-05T19:18:16.517Z"
   },
   {
    "duration": 18,
    "start_time": "2023-05-05T19:18:27.705Z"
   },
   {
    "duration": 86,
    "start_time": "2023-05-05T19:19:24.897Z"
   },
   {
    "duration": 25,
    "start_time": "2023-05-05T19:19:51.598Z"
   },
   {
    "duration": 108,
    "start_time": "2023-05-05T19:20:01.113Z"
   },
   {
    "duration": 34,
    "start_time": "2023-05-05T19:20:06.741Z"
   },
   {
    "duration": 29,
    "start_time": "2023-05-05T19:20:15.293Z"
   },
   {
    "duration": 26,
    "start_time": "2023-05-05T19:20:37.246Z"
   },
   {
    "duration": 27,
    "start_time": "2023-05-05T19:21:58.408Z"
   },
   {
    "duration": 10,
    "start_time": "2023-05-05T19:23:10.213Z"
   },
   {
    "duration": 13,
    "start_time": "2023-05-05T19:23:23.951Z"
   },
   {
    "duration": 16,
    "start_time": "2023-05-05T19:24:36.102Z"
   },
   {
    "duration": 19,
    "start_time": "2023-05-05T19:24:40.037Z"
   },
   {
    "duration": 20,
    "start_time": "2023-05-05T19:24:50.895Z"
   },
   {
    "duration": 21,
    "start_time": "2023-05-05T19:25:25.501Z"
   },
   {
    "duration": 20,
    "start_time": "2023-05-05T19:25:31.349Z"
   },
   {
    "duration": 26,
    "start_time": "2023-05-05T19:25:40.503Z"
   },
   {
    "duration": 25,
    "start_time": "2023-05-05T19:25:45.413Z"
   },
   {
    "duration": 42,
    "start_time": "2023-05-05T19:29:31.910Z"
   },
   {
    "duration": 29,
    "start_time": "2023-05-05T19:33:27.605Z"
   },
   {
    "duration": 6,
    "start_time": "2023-05-05T19:33:32.878Z"
   },
   {
    "duration": 156,
    "start_time": "2023-05-05T19:33:43.012Z"
   },
   {
    "duration": 35,
    "start_time": "2023-05-05T19:33:58.487Z"
   },
   {
    "duration": 30,
    "start_time": "2023-05-05T19:34:19.999Z"
   },
   {
    "duration": 35,
    "start_time": "2023-05-05T19:34:25.031Z"
   },
   {
    "duration": 26,
    "start_time": "2023-05-05T19:34:35.195Z"
   },
   {
    "duration": 38,
    "start_time": "2023-05-05T19:35:13.101Z"
   },
   {
    "duration": 27,
    "start_time": "2023-05-05T19:35:21.638Z"
   },
   {
    "duration": 9,
    "start_time": "2023-05-05T19:41:11.352Z"
   },
   {
    "duration": 34,
    "start_time": "2023-05-05T19:41:23.053Z"
   },
   {
    "duration": 9,
    "start_time": "2023-05-05T19:41:51.626Z"
   },
   {
    "duration": 30,
    "start_time": "2023-05-05T19:43:16.193Z"
   },
   {
    "duration": 8,
    "start_time": "2023-05-05T19:43:16.607Z"
   },
   {
    "duration": 10,
    "start_time": "2023-05-05T19:44:15.025Z"
   },
   {
    "duration": 9,
    "start_time": "2023-05-05T19:44:15.441Z"
   },
   {
    "duration": 9,
    "start_time": "2023-05-05T19:45:55.138Z"
   },
   {
    "duration": 10,
    "start_time": "2023-05-05T19:45:57.283Z"
   },
   {
    "duration": 9,
    "start_time": "2023-05-05T19:45:57.655Z"
   },
   {
    "duration": 16,
    "start_time": "2023-05-05T19:45:59.257Z"
   },
   {
    "duration": 1241,
    "start_time": "2023-05-05T20:17:15.435Z"
   },
   {
    "duration": 641,
    "start_time": "2023-05-05T20:17:16.679Z"
   },
   {
    "duration": 13,
    "start_time": "2023-05-05T20:17:17.321Z"
   },
   {
    "duration": 10,
    "start_time": "2023-05-05T20:17:17.336Z"
   },
   {
    "duration": 20,
    "start_time": "2023-05-05T20:17:17.348Z"
   },
   {
    "duration": 17,
    "start_time": "2023-05-05T20:17:17.370Z"
   },
   {
    "duration": 34,
    "start_time": "2023-05-05T20:17:17.388Z"
   },
   {
    "duration": 14,
    "start_time": "2023-05-05T20:17:17.425Z"
   },
   {
    "duration": 33,
    "start_time": "2023-05-05T20:17:17.440Z"
   },
   {
    "duration": 13,
    "start_time": "2023-05-05T20:17:17.475Z"
   },
   {
    "duration": 31,
    "start_time": "2023-05-05T20:17:17.489Z"
   },
   {
    "duration": 81,
    "start_time": "2023-05-05T20:17:17.522Z"
   },
   {
    "duration": 111,
    "start_time": "2023-05-05T20:17:17.605Z"
   },
   {
    "duration": 8,
    "start_time": "2023-05-05T20:17:17.718Z"
   },
   {
    "duration": 24,
    "start_time": "2023-05-05T20:17:17.727Z"
   },
   {
    "duration": 18,
    "start_time": "2023-05-05T20:17:17.752Z"
   },
   {
    "duration": 9,
    "start_time": "2023-05-05T20:17:17.772Z"
   },
   {
    "duration": 6,
    "start_time": "2023-05-05T20:17:17.783Z"
   },
   {
    "duration": 21,
    "start_time": "2023-05-05T20:17:17.791Z"
   },
   {
    "duration": 29,
    "start_time": "2023-05-05T20:17:17.814Z"
   },
   {
    "duration": 17,
    "start_time": "2023-05-05T20:17:17.844Z"
   },
   {
    "duration": 36,
    "start_time": "2023-05-05T20:17:17.863Z"
   },
   {
    "duration": 5,
    "start_time": "2023-05-05T20:17:17.901Z"
   },
   {
    "duration": 46,
    "start_time": "2023-05-05T20:17:17.911Z"
   },
   {
    "duration": 57,
    "start_time": "2023-05-05T20:17:17.959Z"
   },
   {
    "duration": 208,
    "start_time": "2023-05-05T20:17:18.018Z"
   },
   {
    "duration": 7,
    "start_time": "2023-05-05T20:17:18.228Z"
   },
   {
    "duration": 10,
    "start_time": "2023-05-05T20:17:18.240Z"
   },
   {
    "duration": 6,
    "start_time": "2023-05-05T20:17:18.252Z"
   },
   {
    "duration": 11,
    "start_time": "2023-05-05T20:17:18.260Z"
   },
   {
    "duration": 43,
    "start_time": "2023-05-05T20:17:18.273Z"
   },
   {
    "duration": 302,
    "start_time": "2023-05-05T20:17:18.318Z"
   },
   {
    "duration": 119,
    "start_time": "2023-05-05T20:17:18.621Z"
   },
   {
    "duration": 19,
    "start_time": "2023-05-05T20:17:18.741Z"
   },
   {
    "duration": 56,
    "start_time": "2023-05-05T20:17:18.762Z"
   },
   {
    "duration": 3,
    "start_time": "2023-05-05T20:17:18.820Z"
   },
   {
    "duration": 16,
    "start_time": "2023-05-05T20:17:18.825Z"
   },
   {
    "duration": 399,
    "start_time": "2023-05-05T20:17:18.843Z"
   },
   {
    "duration": 145,
    "start_time": "2023-05-05T20:17:19.244Z"
   },
   {
    "duration": 27,
    "start_time": "2023-05-05T20:17:19.391Z"
   },
   {
    "duration": 295,
    "start_time": "2023-05-05T20:17:19.420Z"
   },
   {
    "duration": 15,
    "start_time": "2023-05-05T20:17:19.716Z"
   },
   {
    "duration": 28,
    "start_time": "2023-05-05T20:17:19.733Z"
   },
   {
    "duration": 8,
    "start_time": "2023-05-05T20:17:19.763Z"
   },
   {
    "duration": 40,
    "start_time": "2023-05-05T20:17:19.773Z"
   },
   {
    "duration": 19,
    "start_time": "2023-05-05T20:17:19.814Z"
   },
   {
    "duration": 41,
    "start_time": "2023-05-05T20:17:19.835Z"
   },
   {
    "duration": 51,
    "start_time": "2023-05-05T20:17:19.877Z"
   },
   {
    "duration": 27,
    "start_time": "2023-05-05T20:17:19.930Z"
   },
   {
    "duration": 32,
    "start_time": "2023-05-05T20:17:19.959Z"
   },
   {
    "duration": 9,
    "start_time": "2023-05-05T20:17:20.012Z"
   },
   {
    "duration": 27,
    "start_time": "2023-05-05T20:17:20.023Z"
   },
   {
    "duration": 18,
    "start_time": "2023-05-05T20:17:20.052Z"
   },
   {
    "duration": 8,
    "start_time": "2023-05-05T20:17:20.072Z"
   },
   {
    "duration": 38,
    "start_time": "2023-05-05T20:17:20.082Z"
   },
   {
    "duration": 8,
    "start_time": "2023-05-05T20:17:20.122Z"
   },
   {
    "duration": 11,
    "start_time": "2023-05-05T20:17:20.131Z"
   },
   {
    "duration": 14,
    "start_time": "2023-05-05T20:17:20.144Z"
   },
   {
    "duration": 6,
    "start_time": "2023-05-05T20:17:20.160Z"
   },
   {
    "duration": 317,
    "start_time": "2023-05-05T20:17:20.168Z"
   },
   {
    "duration": 260,
    "start_time": "2023-05-05T20:17:20.487Z"
   },
   {
    "duration": 16,
    "start_time": "2023-05-05T20:17:20.749Z"
   },
   {
    "duration": 268,
    "start_time": "2023-05-05T20:17:20.767Z"
   },
   {
    "duration": 17,
    "start_time": "2023-05-05T20:17:21.037Z"
   },
   {
    "duration": 56,
    "start_time": "2023-05-05T20:17:21.056Z"
   },
   {
    "duration": 28,
    "start_time": "2023-05-05T20:17:21.114Z"
   },
   {
    "duration": 11,
    "start_time": "2023-05-05T20:17:21.144Z"
   },
   {
    "duration": 76,
    "start_time": "2023-05-05T20:17:21.157Z"
   },
   {
    "duration": 11,
    "start_time": "2023-05-05T20:17:21.235Z"
   },
   {
    "duration": 15,
    "start_time": "2023-05-05T20:17:21.248Z"
   },
   {
    "duration": 49,
    "start_time": "2023-05-05T20:17:21.264Z"
   },
   {
    "duration": 6,
    "start_time": "2023-05-05T20:17:21.315Z"
   },
   {
    "duration": 47,
    "start_time": "2023-05-05T20:17:21.323Z"
   },
   {
    "duration": 1269,
    "start_time": "2023-05-05T20:21:45.509Z"
   },
   {
    "duration": 629,
    "start_time": "2023-05-05T20:21:46.780Z"
   },
   {
    "duration": 13,
    "start_time": "2023-05-05T20:21:47.411Z"
   },
   {
    "duration": 12,
    "start_time": "2023-05-05T20:21:47.426Z"
   },
   {
    "duration": 5,
    "start_time": "2023-05-05T20:21:47.440Z"
   },
   {
    "duration": 10,
    "start_time": "2023-05-05T20:21:47.447Z"
   },
   {
    "duration": 20,
    "start_time": "2023-05-05T20:21:47.458Z"
   },
   {
    "duration": 42,
    "start_time": "2023-05-05T20:21:47.479Z"
   },
   {
    "duration": 26,
    "start_time": "2023-05-05T20:21:47.523Z"
   },
   {
    "duration": 12,
    "start_time": "2023-05-05T20:21:47.551Z"
   },
   {
    "duration": 9,
    "start_time": "2023-05-05T20:21:47.564Z"
   },
   {
    "duration": 95,
    "start_time": "2023-05-05T20:21:47.575Z"
   },
   {
    "duration": 94,
    "start_time": "2023-05-05T20:21:47.672Z"
   },
   {
    "duration": 9,
    "start_time": "2023-05-05T20:21:47.769Z"
   },
   {
    "duration": 33,
    "start_time": "2023-05-05T20:21:47.780Z"
   },
   {
    "duration": 6,
    "start_time": "2023-05-05T20:21:47.815Z"
   },
   {
    "duration": 10,
    "start_time": "2023-05-05T20:21:47.823Z"
   },
   {
    "duration": 7,
    "start_time": "2023-05-05T20:21:47.835Z"
   },
   {
    "duration": 8,
    "start_time": "2023-05-05T20:21:47.843Z"
   },
   {
    "duration": 11,
    "start_time": "2023-05-05T20:21:47.852Z"
   },
   {
    "duration": 26,
    "start_time": "2023-05-05T20:21:47.865Z"
   },
   {
    "duration": 39,
    "start_time": "2023-05-05T20:21:47.912Z"
   },
   {
    "duration": 4,
    "start_time": "2023-05-05T20:21:47.953Z"
   },
   {
    "duration": 63,
    "start_time": "2023-05-05T20:21:47.959Z"
   },
   {
    "duration": 49,
    "start_time": "2023-05-05T20:21:48.024Z"
   },
   {
    "duration": 208,
    "start_time": "2023-05-05T20:21:48.075Z"
   },
   {
    "duration": 8,
    "start_time": "2023-05-05T20:21:48.285Z"
   },
   {
    "duration": 24,
    "start_time": "2023-05-05T20:21:48.295Z"
   },
   {
    "duration": 5,
    "start_time": "2023-05-05T20:21:48.320Z"
   },
   {
    "duration": 9,
    "start_time": "2023-05-05T20:21:48.327Z"
   },
   {
    "duration": 7,
    "start_time": "2023-05-05T20:21:48.338Z"
   },
   {
    "duration": 307,
    "start_time": "2023-05-05T20:21:48.347Z"
   },
   {
    "duration": 121,
    "start_time": "2023-05-05T20:21:48.657Z"
   },
   {
    "duration": 24,
    "start_time": "2023-05-05T20:21:48.779Z"
   },
   {
    "duration": 44,
    "start_time": "2023-05-05T20:21:48.813Z"
   },
   {
    "duration": 3,
    "start_time": "2023-05-05T20:21:48.859Z"
   },
   {
    "duration": 17,
    "start_time": "2023-05-05T20:21:48.864Z"
   },
   {
    "duration": 378,
    "start_time": "2023-05-05T20:21:48.882Z"
   },
   {
    "duration": 143,
    "start_time": "2023-05-05T20:21:49.261Z"
   },
   {
    "duration": 19,
    "start_time": "2023-05-05T20:21:49.411Z"
   },
   {
    "duration": 298,
    "start_time": "2023-05-05T20:21:49.435Z"
   },
   {
    "duration": 14,
    "start_time": "2023-05-05T20:21:49.735Z"
   },
   {
    "duration": 24,
    "start_time": "2023-05-05T20:21:49.751Z"
   },
   {
    "duration": 9,
    "start_time": "2023-05-05T20:21:49.777Z"
   },
   {
    "duration": 13,
    "start_time": "2023-05-05T20:21:49.812Z"
   },
   {
    "duration": 23,
    "start_time": "2023-05-05T20:21:49.827Z"
   },
   {
    "duration": 61,
    "start_time": "2023-05-05T20:21:49.851Z"
   },
   {
    "duration": 30,
    "start_time": "2023-05-05T20:21:49.914Z"
   },
   {
    "duration": 31,
    "start_time": "2023-05-05T20:21:49.946Z"
   },
   {
    "duration": 55,
    "start_time": "2023-05-05T20:21:49.978Z"
   },
   {
    "duration": 7,
    "start_time": "2023-05-05T20:21:50.035Z"
   },
   {
    "duration": 30,
    "start_time": "2023-05-05T20:21:50.044Z"
   },
   {
    "duration": 37,
    "start_time": "2023-05-05T20:21:50.076Z"
   },
   {
    "duration": 8,
    "start_time": "2023-05-05T20:21:50.114Z"
   },
   {
    "duration": 29,
    "start_time": "2023-05-05T20:21:50.123Z"
   },
   {
    "duration": 7,
    "start_time": "2023-05-05T20:21:50.154Z"
   },
   {
    "duration": 10,
    "start_time": "2023-05-05T20:21:50.163Z"
   },
   {
    "duration": 25,
    "start_time": "2023-05-05T20:21:50.175Z"
   },
   {
    "duration": 6,
    "start_time": "2023-05-05T20:21:50.202Z"
   },
   {
    "duration": 293,
    "start_time": "2023-05-05T20:21:50.211Z"
   },
   {
    "duration": 251,
    "start_time": "2023-05-05T20:21:50.505Z"
   },
   {
    "duration": 15,
    "start_time": "2023-05-05T20:21:50.757Z"
   },
   {
    "duration": 250,
    "start_time": "2023-05-05T20:21:50.774Z"
   },
   {
    "duration": 16,
    "start_time": "2023-05-05T20:21:51.026Z"
   },
   {
    "duration": 18,
    "start_time": "2023-05-05T20:21:51.044Z"
   },
   {
    "duration": 66,
    "start_time": "2023-05-05T20:21:51.064Z"
   },
   {
    "duration": 11,
    "start_time": "2023-05-05T20:21:51.133Z"
   },
   {
    "duration": 84,
    "start_time": "2023-05-05T20:21:51.146Z"
   },
   {
    "duration": 15,
    "start_time": "2023-05-05T20:21:51.232Z"
   },
   {
    "duration": 65,
    "start_time": "2023-05-05T20:21:51.249Z"
   },
   {
    "duration": 38,
    "start_time": "2023-05-05T20:21:51.316Z"
   },
   {
    "duration": 58,
    "start_time": "2023-05-05T20:21:51.356Z"
   },
   {
    "duration": 98,
    "start_time": "2023-05-05T20:21:51.416Z"
   },
   {
    "duration": 230,
    "start_time": "2023-05-05T20:27:16.359Z"
   },
   {
    "duration": 1176,
    "start_time": "2023-05-05T21:09:48.372Z"
   },
   {
    "duration": 514,
    "start_time": "2023-05-05T21:09:49.550Z"
   },
   {
    "duration": 13,
    "start_time": "2023-05-05T21:09:50.065Z"
   },
   {
    "duration": 21,
    "start_time": "2023-05-05T21:09:50.081Z"
   },
   {
    "duration": 21,
    "start_time": "2023-05-05T21:09:50.104Z"
   },
   {
    "duration": 19,
    "start_time": "2023-05-05T21:09:50.127Z"
   },
   {
    "duration": 19,
    "start_time": "2023-05-05T21:09:50.148Z"
   },
   {
    "duration": 23,
    "start_time": "2023-05-05T21:09:50.169Z"
   },
   {
    "duration": 27,
    "start_time": "2023-05-05T21:09:50.194Z"
   },
   {
    "duration": 18,
    "start_time": "2023-05-05T21:09:50.225Z"
   },
   {
    "duration": 28,
    "start_time": "2023-05-05T21:09:50.245Z"
   },
   {
    "duration": 66,
    "start_time": "2023-05-05T21:09:50.275Z"
   },
   {
    "duration": 91,
    "start_time": "2023-05-05T21:09:50.343Z"
   },
   {
    "duration": 9,
    "start_time": "2023-05-05T21:09:50.436Z"
   },
   {
    "duration": 31,
    "start_time": "2023-05-05T21:09:50.447Z"
   },
   {
    "duration": 5,
    "start_time": "2023-05-05T21:09:50.479Z"
   },
   {
    "duration": 19,
    "start_time": "2023-05-05T21:09:50.487Z"
   },
   {
    "duration": 8,
    "start_time": "2023-05-05T21:09:50.508Z"
   },
   {
    "duration": 32,
    "start_time": "2023-05-05T21:09:50.517Z"
   },
   {
    "duration": 10,
    "start_time": "2023-05-05T21:09:50.551Z"
   },
   {
    "duration": 26,
    "start_time": "2023-05-05T21:09:50.563Z"
   },
   {
    "duration": 33,
    "start_time": "2023-05-05T21:09:50.591Z"
   },
   {
    "duration": 6,
    "start_time": "2023-05-05T21:09:50.626Z"
   },
   {
    "duration": 78,
    "start_time": "2023-05-05T21:09:50.634Z"
   },
   {
    "duration": 44,
    "start_time": "2023-05-05T21:09:50.714Z"
   },
   {
    "duration": 176,
    "start_time": "2023-05-05T21:09:50.760Z"
   },
   {
    "duration": 10,
    "start_time": "2023-05-05T21:09:50.938Z"
   },
   {
    "duration": 24,
    "start_time": "2023-05-05T21:09:50.954Z"
   },
   {
    "duration": 5,
    "start_time": "2023-05-05T21:09:50.980Z"
   },
   {
    "duration": 39,
    "start_time": "2023-05-05T21:09:50.987Z"
   },
   {
    "duration": 21,
    "start_time": "2023-05-05T21:09:51.028Z"
   },
   {
    "duration": 403,
    "start_time": "2023-05-05T21:09:51.051Z"
   },
   {
    "duration": 101,
    "start_time": "2023-05-05T21:09:51.455Z"
   },
   {
    "duration": 30,
    "start_time": "2023-05-05T21:09:51.559Z"
   },
   {
    "duration": 36,
    "start_time": "2023-05-05T21:09:51.592Z"
   },
   {
    "duration": 2,
    "start_time": "2023-05-05T21:09:51.630Z"
   },
   {
    "duration": 22,
    "start_time": "2023-05-05T21:09:51.633Z"
   },
   {
    "duration": 291,
    "start_time": "2023-05-05T21:09:51.657Z"
   },
   {
    "duration": 131,
    "start_time": "2023-05-05T21:09:51.950Z"
   },
   {
    "duration": 25,
    "start_time": "2023-05-05T21:09:52.083Z"
   },
   {
    "duration": 321,
    "start_time": "2023-05-05T21:09:52.110Z"
   },
   {
    "duration": 16,
    "start_time": "2023-05-05T21:09:52.433Z"
   },
   {
    "duration": 36,
    "start_time": "2023-05-05T21:09:52.451Z"
   },
   {
    "duration": 11,
    "start_time": "2023-05-05T21:09:52.490Z"
   },
   {
    "duration": 25,
    "start_time": "2023-05-05T21:09:52.503Z"
   },
   {
    "duration": 25,
    "start_time": "2023-05-05T21:09:52.530Z"
   },
   {
    "duration": 47,
    "start_time": "2023-05-05T21:09:52.571Z"
   },
   {
    "duration": 27,
    "start_time": "2023-05-05T21:09:52.621Z"
   },
   {
    "duration": 46,
    "start_time": "2023-05-05T21:09:52.650Z"
   },
   {
    "duration": 50,
    "start_time": "2023-05-05T21:09:52.698Z"
   },
   {
    "duration": 25,
    "start_time": "2023-05-05T21:09:52.750Z"
   },
   {
    "duration": 33,
    "start_time": "2023-05-05T21:09:52.778Z"
   },
   {
    "duration": 26,
    "start_time": "2023-05-05T21:09:52.813Z"
   },
   {
    "duration": 7,
    "start_time": "2023-05-05T21:09:52.841Z"
   },
   {
    "duration": 16,
    "start_time": "2023-05-05T21:09:52.872Z"
   },
   {
    "duration": 32,
    "start_time": "2023-05-05T21:09:52.890Z"
   },
   {
    "duration": 16,
    "start_time": "2023-05-05T21:09:52.924Z"
   },
   {
    "duration": 25,
    "start_time": "2023-05-05T21:09:52.941Z"
   },
   {
    "duration": 33,
    "start_time": "2023-05-05T21:09:52.969Z"
   },
   {
    "duration": 362,
    "start_time": "2023-05-05T21:09:53.004Z"
   },
   {
    "duration": 323,
    "start_time": "2023-05-05T21:09:53.368Z"
   },
   {
    "duration": 21,
    "start_time": "2023-05-05T21:09:53.693Z"
   },
   {
    "duration": 654,
    "start_time": "2023-05-05T21:09:53.716Z"
   },
   {
    "duration": 21,
    "start_time": "2023-05-05T21:09:54.372Z"
   },
   {
    "duration": 17,
    "start_time": "2023-05-05T21:09:54.395Z"
   },
   {
    "duration": 77,
    "start_time": "2023-05-05T21:09:54.413Z"
   },
   {
    "duration": 13,
    "start_time": "2023-05-05T21:09:54.491Z"
   },
   {
    "duration": 97,
    "start_time": "2023-05-05T21:09:54.506Z"
   },
   {
    "duration": 10,
    "start_time": "2023-05-05T21:09:54.605Z"
   },
   {
    "duration": 12,
    "start_time": "2023-05-05T21:09:54.617Z"
   },
   {
    "duration": 40,
    "start_time": "2023-05-05T21:09:54.630Z"
   },
   {
    "duration": 7,
    "start_time": "2023-05-05T21:09:54.674Z"
   },
   {
    "duration": 39,
    "start_time": "2023-05-05T21:09:54.683Z"
   },
   {
    "duration": 130,
    "start_time": "2023-05-05T21:10:43.799Z"
   },
   {
    "duration": 16,
    "start_time": "2023-05-05T21:12:17.488Z"
   },
   {
    "duration": 65,
    "start_time": "2023-05-06T08:15:12.314Z"
   },
   {
    "duration": 1465,
    "start_time": "2023-05-06T08:15:23.100Z"
   },
   {
    "duration": 1009,
    "start_time": "2023-05-06T08:15:24.566Z"
   },
   {
    "duration": 11,
    "start_time": "2023-05-06T08:15:25.576Z"
   },
   {
    "duration": 18,
    "start_time": "2023-05-06T08:15:25.588Z"
   },
   {
    "duration": 20,
    "start_time": "2023-05-06T08:15:25.608Z"
   },
   {
    "duration": 23,
    "start_time": "2023-05-06T08:15:25.629Z"
   },
   {
    "duration": 41,
    "start_time": "2023-05-06T08:15:25.654Z"
   },
   {
    "duration": 14,
    "start_time": "2023-05-06T08:15:25.697Z"
   },
   {
    "duration": 21,
    "start_time": "2023-05-06T08:15:25.713Z"
   },
   {
    "duration": 9,
    "start_time": "2023-05-06T08:15:25.737Z"
   },
   {
    "duration": 8,
    "start_time": "2023-05-06T08:15:25.748Z"
   },
   {
    "duration": 108,
    "start_time": "2023-05-06T08:15:25.758Z"
   },
   {
    "duration": 102,
    "start_time": "2023-05-06T08:15:25.868Z"
   },
   {
    "duration": 8,
    "start_time": "2023-05-06T08:15:25.972Z"
   },
   {
    "duration": 25,
    "start_time": "2023-05-06T08:15:25.982Z"
   },
   {
    "duration": 7,
    "start_time": "2023-05-06T08:15:26.008Z"
   },
   {
    "duration": 10,
    "start_time": "2023-05-06T08:15:26.017Z"
   },
   {
    "duration": 7,
    "start_time": "2023-05-06T08:15:26.029Z"
   },
   {
    "duration": 6,
    "start_time": "2023-05-06T08:15:26.037Z"
   },
   {
    "duration": 19,
    "start_time": "2023-05-06T08:15:26.044Z"
   },
   {
    "duration": 46,
    "start_time": "2023-05-06T08:15:26.064Z"
   },
   {
    "duration": 39,
    "start_time": "2023-05-06T08:15:26.112Z"
   },
   {
    "duration": 4,
    "start_time": "2023-05-06T08:15:26.153Z"
   },
   {
    "duration": 67,
    "start_time": "2023-05-06T08:15:26.158Z"
   },
   {
    "duration": 48,
    "start_time": "2023-05-06T08:15:26.226Z"
   },
   {
    "duration": 199,
    "start_time": "2023-05-06T08:15:26.276Z"
   },
   {
    "duration": 8,
    "start_time": "2023-05-06T08:15:26.477Z"
   },
   {
    "duration": 20,
    "start_time": "2023-05-06T08:15:26.488Z"
   },
   {
    "duration": 7,
    "start_time": "2023-05-06T08:15:26.510Z"
   },
   {
    "duration": 127,
    "start_time": "2023-05-06T08:15:26.519Z"
   },
   {
    "duration": 6,
    "start_time": "2023-05-06T08:15:26.647Z"
   },
   {
    "duration": 32,
    "start_time": "2023-05-06T08:15:26.655Z"
   },
   {
    "duration": 272,
    "start_time": "2023-05-06T08:15:26.689Z"
   },
   {
    "duration": 114,
    "start_time": "2023-05-06T08:15:26.963Z"
   },
   {
    "duration": 30,
    "start_time": "2023-05-06T08:15:27.079Z"
   },
   {
    "duration": 67,
    "start_time": "2023-05-06T08:15:27.111Z"
   },
   {
    "duration": 3,
    "start_time": "2023-05-06T08:15:27.180Z"
   },
   {
    "duration": 21,
    "start_time": "2023-05-06T08:15:27.185Z"
   },
   {
    "duration": 310,
    "start_time": "2023-05-06T08:15:27.208Z"
   },
   {
    "duration": 181,
    "start_time": "2023-05-06T08:15:27.520Z"
   },
   {
    "duration": 26,
    "start_time": "2023-05-06T08:15:27.703Z"
   },
   {
    "duration": 305,
    "start_time": "2023-05-06T08:15:27.732Z"
   },
   {
    "duration": 71,
    "start_time": "2023-05-06T08:15:28.038Z"
   },
   {
    "duration": 29,
    "start_time": "2023-05-06T08:15:28.112Z"
   },
   {
    "duration": 56,
    "start_time": "2023-05-06T08:15:28.143Z"
   },
   {
    "duration": 17,
    "start_time": "2023-05-06T08:15:28.201Z"
   },
   {
    "duration": 89,
    "start_time": "2023-05-06T08:15:28.220Z"
   },
   {
    "duration": 114,
    "start_time": "2023-05-06T08:15:28.312Z"
   },
   {
    "duration": 77,
    "start_time": "2023-05-06T08:15:28.428Z"
   },
   {
    "duration": 36,
    "start_time": "2023-05-06T08:15:28.506Z"
   },
   {
    "duration": 87,
    "start_time": "2023-05-06T08:15:28.544Z"
   },
   {
    "duration": 7,
    "start_time": "2023-05-06T08:15:28.632Z"
   },
   {
    "duration": 92,
    "start_time": "2023-05-06T08:15:28.641Z"
   },
   {
    "duration": 61,
    "start_time": "2023-05-06T08:15:28.735Z"
   },
   {
    "duration": 27,
    "start_time": "2023-05-06T08:15:28.799Z"
   },
   {
    "duration": 8,
    "start_time": "2023-05-06T08:15:28.828Z"
   },
   {
    "duration": 72,
    "start_time": "2023-05-06T08:15:28.838Z"
   },
   {
    "duration": 12,
    "start_time": "2023-05-06T08:15:28.913Z"
   },
   {
    "duration": 10,
    "start_time": "2023-05-06T08:15:28.927Z"
   },
   {
    "duration": 79,
    "start_time": "2023-05-06T08:15:28.939Z"
   },
   {
    "duration": 7,
    "start_time": "2023-05-06T08:15:29.029Z"
   },
   {
    "duration": 766,
    "start_time": "2023-05-06T08:15:29.038Z"
   },
   {
    "duration": 638,
    "start_time": "2023-05-06T08:15:29.807Z"
   },
   {
    "duration": 64,
    "start_time": "2023-05-06T08:15:30.447Z"
   },
   {
    "duration": 311,
    "start_time": "2023-05-06T08:15:30.513Z"
   },
   {
    "duration": 22,
    "start_time": "2023-05-06T08:15:30.826Z"
   },
   {
    "duration": 86,
    "start_time": "2023-05-06T08:15:30.851Z"
   },
   {
    "duration": 131,
    "start_time": "2023-05-06T08:15:30.939Z"
   },
   {
    "duration": 0,
    "start_time": "2023-05-06T08:15:31.072Z"
   },
   {
    "duration": 0,
    "start_time": "2023-05-06T08:15:31.073Z"
   },
   {
    "duration": 0,
    "start_time": "2023-05-06T08:15:31.074Z"
   },
   {
    "duration": 0,
    "start_time": "2023-05-06T08:15:31.076Z"
   },
   {
    "duration": 0,
    "start_time": "2023-05-06T08:15:31.096Z"
   },
   {
    "duration": 0,
    "start_time": "2023-05-06T08:15:31.099Z"
   },
   {
    "duration": 0,
    "start_time": "2023-05-06T08:15:31.100Z"
   },
   {
    "duration": 26,
    "start_time": "2023-05-06T08:15:53.606Z"
   },
   {
    "duration": 27,
    "start_time": "2023-05-06T08:16:10.076Z"
   },
   {
    "duration": 8,
    "start_time": "2023-05-06T08:16:13.884Z"
   },
   {
    "duration": 28,
    "start_time": "2023-05-06T08:16:33.229Z"
   },
   {
    "duration": 31,
    "start_time": "2023-05-06T08:17:07.781Z"
   },
   {
    "duration": 10,
    "start_time": "2023-05-06T08:17:09.251Z"
   },
   {
    "duration": 9,
    "start_time": "2023-05-06T08:17:09.412Z"
   },
   {
    "duration": 24,
    "start_time": "2023-05-06T08:17:09.594Z"
   },
   {
    "duration": 5,
    "start_time": "2023-05-06T08:17:10.884Z"
   },
   {
    "duration": 30,
    "start_time": "2023-05-06T08:17:11.492Z"
   }
  ],
  "kernelspec": {
   "display_name": "Python 3 (ipykernel)",
   "language": "python",
   "name": "python3"
  },
  "language_info": {
   "codemirror_mode": {
    "name": "ipython",
    "version": 3
   },
   "file_extension": ".py",
   "mimetype": "text/x-python",
   "name": "python",
   "nbconvert_exporter": "python",
   "pygments_lexer": "ipython3",
   "version": "3.9.12"
  },
  "toc": {
   "base_numbering": 1,
   "nav_menu": {},
   "number_sections": true,
   "sideBar": true,
   "skip_h1_title": true,
   "title_cell": "Table of Contents",
   "title_sidebar": "Contents",
   "toc_cell": false,
   "toc_position": {
    "height": "calc(100% - 180px)",
    "left": "10px",
    "top": "150px",
    "width": "229px"
   },
   "toc_section_display": true,
   "toc_window_display": true
  }
 },
 "nbformat": 4,
 "nbformat_minor": 2
}
